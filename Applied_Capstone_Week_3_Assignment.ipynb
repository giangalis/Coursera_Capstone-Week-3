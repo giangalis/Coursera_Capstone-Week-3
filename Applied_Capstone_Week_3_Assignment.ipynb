{
 "cells": [
  {
   "cell_type": "markdown",
   "metadata": {
    "colab_type": "text",
    "id": "ERAABR6Dgsy5"
   },
   "source": [
    "\n",
    "<h1 align=\"center\"> Battle of the Neighbourhoods - Toronto </h1>"
   ]
  },
  {
   "cell_type": "markdown",
   "metadata": {
    "colab_type": "text",
    "id": "cJ8cA9KwhpsE"
   },
   "source": [
    "\n",
    "\n",
    "\n"
   ]
  },
  {
   "cell_type": "code",
   "execution_count": 1,
   "metadata": {
    "colab": {},
    "colab_type": "code",
    "executionInfo": {
     "elapsed": 2845,
     "status": "ok",
     "timestamp": 1597498793433,
     "user": {
      "displayName": "Thomas George Thomas",
      "photoUrl": "https://lh3.googleusercontent.com/a-/AOh14GhRjmtno5yCmJOUjYiFNGHi_xP5YZBJ1ZpWGKsZ=s64",
      "userId": "09561174857978505545"
     },
     "user_tz": -330
    },
    "id": "SzEnblblBbGH"
   },
   "outputs": [],
   "source": [
    "import pandas as pd"
   ]
  },
  {
   "cell_type": "markdown",
   "metadata": {
    "colab_type": "text",
    "id": "63jnhDEbh4qG"
   },
   "source": [
    "# Question 1"
   ]
  },
  {
   "cell_type": "markdown",
   "metadata": {
    "colab_type": "text",
    "id": "TAPsquAkbt4Y"
   },
   "source": [
    "## Importing Data"
   ]
  },
  {
   "cell_type": "code",
   "execution_count": 2,
   "metadata": {
    "colab": {},
    "colab_type": "code",
    "executionInfo": {
     "elapsed": 4516,
     "status": "ok",
     "timestamp": 1597498795112,
     "user": {
      "displayName": "Thomas George Thomas",
      "photoUrl": "https://lh3.googleusercontent.com/a-/AOh14GhRjmtno5yCmJOUjYiFNGHi_xP5YZBJ1ZpWGKsZ=s64",
      "userId": "09561174857978505545"
     },
     "user_tz": -330
    },
    "id": "7O3Tv3Dkh_Ql"
   },
   "outputs": [],
   "source": [
    "import requests"
   ]
  },
  {
   "cell_type": "code",
   "execution_count": 3,
   "metadata": {
    "colab": {
     "base_uri": "https://localhost:8080/",
     "height": 34
    },
    "colab_type": "code",
    "executionInfo": {
     "elapsed": 4495,
     "status": "ok",
     "timestamp": 1597498795114,
     "user": {
      "displayName": "Thomas George Thomas",
      "photoUrl": "https://lh3.googleusercontent.com/a-/AOh14GhRjmtno5yCmJOUjYiFNGHi_xP5YZBJ1ZpWGKsZ=s64",
      "userId": "09561174857978505545"
     },
     "user_tz": -330
    },
    "id": "BiZ4h9i3Y1Yf",
    "outputId": "898a2fe2-b09f-4c48-af45-b0a6eed26a5a"
   },
   "outputs": [
    {
     "data": {
      "text/plain": [
       "<Response [200]>"
      ]
     },
     "execution_count": 3,
     "metadata": {},
     "output_type": "execute_result"
    }
   ],
   "source": [
    "url = \"https://en.wikipedia.org/wiki/List_of_postal_codes_of_Canada:_M\"\n",
    "wiki_url = requests.get(url)\n",
    "wiki_url"
   ]
  },
  {
   "cell_type": "markdown",
   "metadata": {
    "colab_type": "text",
    "id": "CJ5VXaghaqf-"
   },
   "source": [
    "Response 200 means that we are able to make the connection to the page"
   ]
  },
  {
   "cell_type": "code",
   "execution_count": 5,
   "metadata": {
    "colab": {
     "base_uri": "https://localhost:8080/",
     "height": 425
    },
    "colab_type": "code",
    "executionInfo": {
     "elapsed": 4823,
     "status": "ok",
     "timestamp": 1597498795463,
     "user": {
      "displayName": "Thomas George Thomas",
      "photoUrl": "https://lh3.googleusercontent.com/a-/AOh14GhRjmtno5yCmJOUjYiFNGHi_xP5YZBJ1ZpWGKsZ=s64",
      "userId": "09561174857978505545"
     },
     "user_tz": -330
    },
    "id": "BgbEBIE8Y_EB",
    "outputId": "5b2524e5-6c43-462b-87b5-d9e71d3d406f"
   },
   "outputs": [
    {
     "data": {
      "text/plain": [
       "[    Postal Code           Borough  \\\n",
       " 0           M1A      Not assigned   \n",
       " 1           M2A      Not assigned   \n",
       " 2           M3A        North York   \n",
       " 3           M4A        North York   \n",
       " 4           M5A  Downtown Toronto   \n",
       " ..          ...               ...   \n",
       " 175         M5Z      Not assigned   \n",
       " 176         M6Z      Not assigned   \n",
       " 177         M7Z      Not assigned   \n",
       " 178         M8Z         Etobicoke   \n",
       " 179         M9Z      Not assigned   \n",
       " \n",
       "                                          Neighbourhood  \n",
       " 0                                         Not assigned  \n",
       " 1                                         Not assigned  \n",
       " 2                                            Parkwoods  \n",
       " 3                                     Victoria Village  \n",
       " 4                            Regent Park, Harbourfront  \n",
       " ..                                                 ...  \n",
       " 175                                       Not assigned  \n",
       " 176                                       Not assigned  \n",
       " 177                                       Not assigned  \n",
       " 178  Mimico NW, The Queensway West, South of Bloor,...  \n",
       " 179                                       Not assigned  \n",
       " \n",
       " [180 rows x 3 columns],\n",
       "                                                   0   \\\n",
       " 0                                                NaN   \n",
       " 1  NL NS PE NB QC ON MB SK AB BC NU/NT YT A B C E...   \n",
       " 2                                                 NL   \n",
       " 3                                                  A   \n",
       " \n",
       "                                                   1   \\\n",
       " 0                              Canadian postal codes   \n",
       " 1  NL NS PE NB QC ON MB SK AB BC NU/NT YT A B C E...   \n",
       " 2                                                 NS   \n",
       " 3                                                  B   \n",
       " \n",
       "                                                   2    3    4    5    6    7   \\\n",
       " 0                                                NaN  NaN  NaN  NaN  NaN  NaN   \n",
       " 1  NL NS PE NB QC ON MB SK AB BC NU/NT YT A B C E...  NaN  NaN  NaN  NaN  NaN   \n",
       " 2                                                 PE   NB   QC   QC   QC   ON   \n",
       " 3                                                  C    E    G    H    J    K   \n",
       " \n",
       "     8    9    10   11   12   13   14   15     16   17  \n",
       " 0  NaN  NaN  NaN  NaN  NaN  NaN  NaN  NaN    NaN  NaN  \n",
       " 1  NaN  NaN  NaN  NaN  NaN  NaN  NaN  NaN    NaN  NaN  \n",
       " 2   ON   ON   ON   ON   MB   SK   AB   BC  NU/NT   YT  \n",
       " 3    L    M    N    P    R    S    T    V      X    Y  ,\n",
       "    0   1   2   3   4   5   6   7   8   9   10  11  12  13  14  15     16  17\n",
       " 0  NL  NS  PE  NB  QC  QC  QC  ON  ON  ON  ON  ON  MB  SK  AB  BC  NU/NT  YT\n",
       " 1   A   B   C   E   G   H   J   K   L   M   N   P   R   S   T   V      X   Y]"
      ]
     },
     "execution_count": 5,
     "metadata": {},
     "output_type": "execute_result"
    }
   ],
   "source": [
    "wiki_data = pd.read_html(wiki_url.text)\n",
    "wiki_data"
   ]
  },
  {
   "cell_type": "code",
   "execution_count": 6,
   "metadata": {
    "colab": {
     "base_uri": "https://localhost:8080/",
     "height": 34
    },
    "colab_type": "code",
    "executionInfo": {
     "elapsed": 4806,
     "status": "ok",
     "timestamp": 1597498795464,
     "user": {
      "displayName": "Thomas George Thomas",
      "photoUrl": "https://lh3.googleusercontent.com/a-/AOh14GhRjmtno5yCmJOUjYiFNGHi_xP5YZBJ1ZpWGKsZ=s64",
      "userId": "09561174857978505545"
     },
     "user_tz": -330
    },
    "id": "5_3a2ECSZWtB",
    "outputId": "ffdbeceb-3be2-4342-9c31-099e6c0ae71c"
   },
   "outputs": [
    {
     "data": {
      "text/plain": [
       "(3, list)"
      ]
     },
     "execution_count": 6,
     "metadata": {},
     "output_type": "execute_result"
    }
   ],
   "source": [
    "len(wiki_data), type(wiki_data)"
   ]
  },
  {
   "cell_type": "markdown",
   "metadata": {
    "colab_type": "text",
    "id": "4GZ-ANo5alhG"
   },
   "source": [
    "We need the first table alone, so dropping the other tables"
   ]
  },
  {
   "cell_type": "code",
   "execution_count": 7,
   "metadata": {
    "colab": {
     "base_uri": "https://localhost:8080/",
     "height": 419
    },
    "colab_type": "code",
    "executionInfo": {
     "elapsed": 4789,
     "status": "ok",
     "timestamp": 1597498795466,
     "user": {
      "displayName": "Thomas George Thomas",
      "photoUrl": "https://lh3.googleusercontent.com/a-/AOh14GhRjmtno5yCmJOUjYiFNGHi_xP5YZBJ1ZpWGKsZ=s64",
      "userId": "09561174857978505545"
     },
     "user_tz": -330
    },
    "id": "Ko8OTOxZaDN4",
    "outputId": "83982870-1a9f-4c3c-9328-3760a4a4bb37"
   },
   "outputs": [
    {
     "data": {
      "text/html": [
       "<div>\n",
       "<style scoped>\n",
       "    .dataframe tbody tr th:only-of-type {\n",
       "        vertical-align: middle;\n",
       "    }\n",
       "\n",
       "    .dataframe tbody tr th {\n",
       "        vertical-align: top;\n",
       "    }\n",
       "\n",
       "    .dataframe thead th {\n",
       "        text-align: right;\n",
       "    }\n",
       "</style>\n",
       "<table border=\"1\" class=\"dataframe\">\n",
       "  <thead>\n",
       "    <tr style=\"text-align: right;\">\n",
       "      <th></th>\n",
       "      <th>Postal Code</th>\n",
       "      <th>Borough</th>\n",
       "      <th>Neighbourhood</th>\n",
       "    </tr>\n",
       "  </thead>\n",
       "  <tbody>\n",
       "    <tr>\n",
       "      <th>0</th>\n",
       "      <td>M1A</td>\n",
       "      <td>Not assigned</td>\n",
       "      <td>Not assigned</td>\n",
       "    </tr>\n",
       "    <tr>\n",
       "      <th>1</th>\n",
       "      <td>M2A</td>\n",
       "      <td>Not assigned</td>\n",
       "      <td>Not assigned</td>\n",
       "    </tr>\n",
       "    <tr>\n",
       "      <th>2</th>\n",
       "      <td>M3A</td>\n",
       "      <td>North York</td>\n",
       "      <td>Parkwoods</td>\n",
       "    </tr>\n",
       "    <tr>\n",
       "      <th>3</th>\n",
       "      <td>M4A</td>\n",
       "      <td>North York</td>\n",
       "      <td>Victoria Village</td>\n",
       "    </tr>\n",
       "    <tr>\n",
       "      <th>4</th>\n",
       "      <td>M5A</td>\n",
       "      <td>Downtown Toronto</td>\n",
       "      <td>Regent Park, Harbourfront</td>\n",
       "    </tr>\n",
       "    <tr>\n",
       "      <th>...</th>\n",
       "      <td>...</td>\n",
       "      <td>...</td>\n",
       "      <td>...</td>\n",
       "    </tr>\n",
       "    <tr>\n",
       "      <th>175</th>\n",
       "      <td>M5Z</td>\n",
       "      <td>Not assigned</td>\n",
       "      <td>Not assigned</td>\n",
       "    </tr>\n",
       "    <tr>\n",
       "      <th>176</th>\n",
       "      <td>M6Z</td>\n",
       "      <td>Not assigned</td>\n",
       "      <td>Not assigned</td>\n",
       "    </tr>\n",
       "    <tr>\n",
       "      <th>177</th>\n",
       "      <td>M7Z</td>\n",
       "      <td>Not assigned</td>\n",
       "      <td>Not assigned</td>\n",
       "    </tr>\n",
       "    <tr>\n",
       "      <th>178</th>\n",
       "      <td>M8Z</td>\n",
       "      <td>Etobicoke</td>\n",
       "      <td>Mimico NW, The Queensway West, South of Bloor,...</td>\n",
       "    </tr>\n",
       "    <tr>\n",
       "      <th>179</th>\n",
       "      <td>M9Z</td>\n",
       "      <td>Not assigned</td>\n",
       "      <td>Not assigned</td>\n",
       "    </tr>\n",
       "  </tbody>\n",
       "</table>\n",
       "<p>180 rows × 3 columns</p>\n",
       "</div>"
      ],
      "text/plain": [
       "    Postal Code           Borough  \\\n",
       "0           M1A      Not assigned   \n",
       "1           M2A      Not assigned   \n",
       "2           M3A        North York   \n",
       "3           M4A        North York   \n",
       "4           M5A  Downtown Toronto   \n",
       "..          ...               ...   \n",
       "175         M5Z      Not assigned   \n",
       "176         M6Z      Not assigned   \n",
       "177         M7Z      Not assigned   \n",
       "178         M8Z         Etobicoke   \n",
       "179         M9Z      Not assigned   \n",
       "\n",
       "                                         Neighbourhood  \n",
       "0                                         Not assigned  \n",
       "1                                         Not assigned  \n",
       "2                                            Parkwoods  \n",
       "3                                     Victoria Village  \n",
       "4                            Regent Park, Harbourfront  \n",
       "..                                                 ...  \n",
       "175                                       Not assigned  \n",
       "176                                       Not assigned  \n",
       "177                                       Not assigned  \n",
       "178  Mimico NW, The Queensway West, South of Bloor,...  \n",
       "179                                       Not assigned  \n",
       "\n",
       "[180 rows x 3 columns]"
      ]
     },
     "execution_count": 7,
     "metadata": {},
     "output_type": "execute_result"
    }
   ],
   "source": [
    "wiki_data = wiki_data[0]\n",
    "wiki_data"
   ]
  },
  {
   "cell_type": "markdown",
   "metadata": {
    "colab_type": "text",
    "id": "Q27aWC8pSZqM"
   },
   "source": [
    "Dropping Borough which are not assigned"
   ]
  },
  {
   "cell_type": "code",
   "execution_count": 8,
   "metadata": {
    "colab": {
     "base_uri": "https://localhost:8080/",
     "height": 419
    },
    "colab_type": "code",
    "executionInfo": {
     "elapsed": 4770,
     "status": "ok",
     "timestamp": 1597498795467,
     "user": {
      "displayName": "Thomas George Thomas",
      "photoUrl": "https://lh3.googleusercontent.com/a-/AOh14GhRjmtno5yCmJOUjYiFNGHi_xP5YZBJ1ZpWGKsZ=s64",
      "userId": "09561174857978505545"
     },
     "user_tz": -330
    },
    "id": "U4KhqTidal_H",
    "outputId": "f99d1f44-9d38-4fff-a796-ee80acf1c860"
   },
   "outputs": [
    {
     "data": {
      "text/html": [
       "<div>\n",
       "<style scoped>\n",
       "    .dataframe tbody tr th:only-of-type {\n",
       "        vertical-align: middle;\n",
       "    }\n",
       "\n",
       "    .dataframe tbody tr th {\n",
       "        vertical-align: top;\n",
       "    }\n",
       "\n",
       "    .dataframe thead th {\n",
       "        text-align: right;\n",
       "    }\n",
       "</style>\n",
       "<table border=\"1\" class=\"dataframe\">\n",
       "  <thead>\n",
       "    <tr style=\"text-align: right;\">\n",
       "      <th></th>\n",
       "      <th>Postal Code</th>\n",
       "      <th>Borough</th>\n",
       "      <th>Neighbourhood</th>\n",
       "    </tr>\n",
       "  </thead>\n",
       "  <tbody>\n",
       "    <tr>\n",
       "      <th>2</th>\n",
       "      <td>M3A</td>\n",
       "      <td>North York</td>\n",
       "      <td>Parkwoods</td>\n",
       "    </tr>\n",
       "    <tr>\n",
       "      <th>3</th>\n",
       "      <td>M4A</td>\n",
       "      <td>North York</td>\n",
       "      <td>Victoria Village</td>\n",
       "    </tr>\n",
       "    <tr>\n",
       "      <th>4</th>\n",
       "      <td>M5A</td>\n",
       "      <td>Downtown Toronto</td>\n",
       "      <td>Regent Park, Harbourfront</td>\n",
       "    </tr>\n",
       "    <tr>\n",
       "      <th>5</th>\n",
       "      <td>M6A</td>\n",
       "      <td>North York</td>\n",
       "      <td>Lawrence Manor, Lawrence Heights</td>\n",
       "    </tr>\n",
       "    <tr>\n",
       "      <th>6</th>\n",
       "      <td>M7A</td>\n",
       "      <td>Downtown Toronto</td>\n",
       "      <td>Queen's Park, Ontario Provincial Government</td>\n",
       "    </tr>\n",
       "    <tr>\n",
       "      <th>...</th>\n",
       "      <td>...</td>\n",
       "      <td>...</td>\n",
       "      <td>...</td>\n",
       "    </tr>\n",
       "    <tr>\n",
       "      <th>160</th>\n",
       "      <td>M8X</td>\n",
       "      <td>Etobicoke</td>\n",
       "      <td>The Kingsway, Montgomery Road, Old Mill North</td>\n",
       "    </tr>\n",
       "    <tr>\n",
       "      <th>165</th>\n",
       "      <td>M4Y</td>\n",
       "      <td>Downtown Toronto</td>\n",
       "      <td>Church and Wellesley</td>\n",
       "    </tr>\n",
       "    <tr>\n",
       "      <th>168</th>\n",
       "      <td>M7Y</td>\n",
       "      <td>East Toronto</td>\n",
       "      <td>Business reply mail Processing Centre, South C...</td>\n",
       "    </tr>\n",
       "    <tr>\n",
       "      <th>169</th>\n",
       "      <td>M8Y</td>\n",
       "      <td>Etobicoke</td>\n",
       "      <td>Old Mill South, King's Mill Park, Sunnylea, Hu...</td>\n",
       "    </tr>\n",
       "    <tr>\n",
       "      <th>178</th>\n",
       "      <td>M8Z</td>\n",
       "      <td>Etobicoke</td>\n",
       "      <td>Mimico NW, The Queensway West, South of Bloor,...</td>\n",
       "    </tr>\n",
       "  </tbody>\n",
       "</table>\n",
       "<p>103 rows × 3 columns</p>\n",
       "</div>"
      ],
      "text/plain": [
       "    Postal Code           Borough  \\\n",
       "2           M3A        North York   \n",
       "3           M4A        North York   \n",
       "4           M5A  Downtown Toronto   \n",
       "5           M6A        North York   \n",
       "6           M7A  Downtown Toronto   \n",
       "..          ...               ...   \n",
       "160         M8X         Etobicoke   \n",
       "165         M4Y  Downtown Toronto   \n",
       "168         M7Y      East Toronto   \n",
       "169         M8Y         Etobicoke   \n",
       "178         M8Z         Etobicoke   \n",
       "\n",
       "                                         Neighbourhood  \n",
       "2                                            Parkwoods  \n",
       "3                                     Victoria Village  \n",
       "4                            Regent Park, Harbourfront  \n",
       "5                     Lawrence Manor, Lawrence Heights  \n",
       "6          Queen's Park, Ontario Provincial Government  \n",
       "..                                                 ...  \n",
       "160      The Kingsway, Montgomery Road, Old Mill North  \n",
       "165                               Church and Wellesley  \n",
       "168  Business reply mail Processing Centre, South C...  \n",
       "169  Old Mill South, King's Mill Park, Sunnylea, Hu...  \n",
       "178  Mimico NW, The Queensway West, South of Bloor,...  \n",
       "\n",
       "[103 rows x 3 columns]"
      ]
     },
     "execution_count": 8,
     "metadata": {},
     "output_type": "execute_result"
    }
   ],
   "source": [
    "df = wiki_data[wiki_data[\"Borough\"] != \"Not assigned\"]\n",
    "df"
   ]
  },
  {
   "cell_type": "markdown",
   "metadata": {
    "colab_type": "text",
    "id": "66auYBzTR0J-"
   },
   "source": [
    "Grouping the records based on Postal Code"
   ]
  },
  {
   "cell_type": "code",
   "execution_count": 9,
   "metadata": {
    "colab": {
     "base_uri": "https://localhost:8080/",
     "height": 419
    },
    "colab_type": "code",
    "executionInfo": {
     "elapsed": 4751,
     "status": "ok",
     "timestamp": 1597498795468,
     "user": {
      "displayName": "Thomas George Thomas",
      "photoUrl": "https://lh3.googleusercontent.com/a-/AOh14GhRjmtno5yCmJOUjYiFNGHi_xP5YZBJ1ZpWGKsZ=s64",
      "userId": "09561174857978505545"
     },
     "user_tz": -330
    },
    "id": "p91x1k6BOjSX",
    "outputId": "aa29b776-134e-4875-aacb-f43bbdfd46c5"
   },
   "outputs": [
    {
     "data": {
      "text/html": [
       "<div>\n",
       "<style scoped>\n",
       "    .dataframe tbody tr th:only-of-type {\n",
       "        vertical-align: middle;\n",
       "    }\n",
       "\n",
       "    .dataframe tbody tr th {\n",
       "        vertical-align: top;\n",
       "    }\n",
       "\n",
       "    .dataframe thead th {\n",
       "        text-align: right;\n",
       "    }\n",
       "</style>\n",
       "<table border=\"1\" class=\"dataframe\">\n",
       "  <thead>\n",
       "    <tr style=\"text-align: right;\">\n",
       "      <th></th>\n",
       "      <th>Postal Code</th>\n",
       "      <th>Borough</th>\n",
       "      <th>Neighbourhood</th>\n",
       "    </tr>\n",
       "  </thead>\n",
       "  <tbody>\n",
       "    <tr>\n",
       "      <th>2</th>\n",
       "      <td>M3A</td>\n",
       "      <td>North York</td>\n",
       "      <td>Parkwoods</td>\n",
       "    </tr>\n",
       "    <tr>\n",
       "      <th>3</th>\n",
       "      <td>M4A</td>\n",
       "      <td>North York</td>\n",
       "      <td>Victoria Village</td>\n",
       "    </tr>\n",
       "    <tr>\n",
       "      <th>4</th>\n",
       "      <td>M5A</td>\n",
       "      <td>Downtown Toronto</td>\n",
       "      <td>Regent Park, Harbourfront</td>\n",
       "    </tr>\n",
       "    <tr>\n",
       "      <th>5</th>\n",
       "      <td>M6A</td>\n",
       "      <td>North York</td>\n",
       "      <td>Lawrence Manor, Lawrence Heights</td>\n",
       "    </tr>\n",
       "    <tr>\n",
       "      <th>6</th>\n",
       "      <td>M7A</td>\n",
       "      <td>Downtown Toronto</td>\n",
       "      <td>Queen's Park, Ontario Provincial Government</td>\n",
       "    </tr>\n",
       "    <tr>\n",
       "      <th>...</th>\n",
       "      <td>...</td>\n",
       "      <td>...</td>\n",
       "      <td>...</td>\n",
       "    </tr>\n",
       "    <tr>\n",
       "      <th>160</th>\n",
       "      <td>M8X</td>\n",
       "      <td>Etobicoke</td>\n",
       "      <td>The Kingsway, Montgomery Road, Old Mill North</td>\n",
       "    </tr>\n",
       "    <tr>\n",
       "      <th>165</th>\n",
       "      <td>M4Y</td>\n",
       "      <td>Downtown Toronto</td>\n",
       "      <td>Church and Wellesley</td>\n",
       "    </tr>\n",
       "    <tr>\n",
       "      <th>168</th>\n",
       "      <td>M7Y</td>\n",
       "      <td>East Toronto</td>\n",
       "      <td>Business reply mail Processing Centre, South C...</td>\n",
       "    </tr>\n",
       "    <tr>\n",
       "      <th>169</th>\n",
       "      <td>M8Y</td>\n",
       "      <td>Etobicoke</td>\n",
       "      <td>Old Mill South, King's Mill Park, Sunnylea, Hu...</td>\n",
       "    </tr>\n",
       "    <tr>\n",
       "      <th>178</th>\n",
       "      <td>M8Z</td>\n",
       "      <td>Etobicoke</td>\n",
       "      <td>Mimico NW, The Queensway West, South of Bloor,...</td>\n",
       "    </tr>\n",
       "  </tbody>\n",
       "</table>\n",
       "<p>103 rows × 3 columns</p>\n",
       "</div>"
      ],
      "text/plain": [
       "    Postal Code           Borough  \\\n",
       "2           M3A        North York   \n",
       "3           M4A        North York   \n",
       "4           M5A  Downtown Toronto   \n",
       "5           M6A        North York   \n",
       "6           M7A  Downtown Toronto   \n",
       "..          ...               ...   \n",
       "160         M8X         Etobicoke   \n",
       "165         M4Y  Downtown Toronto   \n",
       "168         M7Y      East Toronto   \n",
       "169         M8Y         Etobicoke   \n",
       "178         M8Z         Etobicoke   \n",
       "\n",
       "                                         Neighbourhood  \n",
       "2                                            Parkwoods  \n",
       "3                                     Victoria Village  \n",
       "4                            Regent Park, Harbourfront  \n",
       "5                     Lawrence Manor, Lawrence Heights  \n",
       "6          Queen's Park, Ontario Provincial Government  \n",
       "..                                                 ...  \n",
       "160      The Kingsway, Montgomery Road, Old Mill North  \n",
       "165                               Church and Wellesley  \n",
       "168  Business reply mail Processing Centre, South C...  \n",
       "169  Old Mill South, King's Mill Park, Sunnylea, Hu...  \n",
       "178  Mimico NW, The Queensway West, South of Bloor,...  \n",
       "\n",
       "[103 rows x 3 columns]"
      ]
     },
     "execution_count": 9,
     "metadata": {},
     "output_type": "execute_result"
    }
   ],
   "source": [
    "df = df.groupby(['Postal Code']).head()\n",
    "df"
   ]
  },
  {
   "cell_type": "markdown",
   "metadata": {
    "colab_type": "text",
    "id": "7jcvFsdnRm23"
   },
   "source": [
    "Checking for number of records where Neighbourhood is \"Not assigned\""
   ]
  },
  {
   "cell_type": "code",
   "execution_count": 10,
   "metadata": {
    "colab": {
     "base_uri": "https://localhost:8080/",
     "height": 34
    },
    "colab_type": "code",
    "executionInfo": {
     "elapsed": 4730,
     "status": "ok",
     "timestamp": 1597498795469,
     "user": {
      "displayName": "Thomas George Thomas",
      "photoUrl": "https://lh3.googleusercontent.com/a-/AOh14GhRjmtno5yCmJOUjYiFNGHi_xP5YZBJ1ZpWGKsZ=s64",
      "userId": "09561174857978505545"
     },
     "user_tz": -330
    },
    "id": "sW49ObdTP_pY",
    "outputId": "a909c871-ef57-464b-ff5c-7d97594e72a7"
   },
   "outputs": [
    {
     "data": {
      "text/plain": [
       "0"
      ]
     },
     "execution_count": 10,
     "metadata": {},
     "output_type": "execute_result"
    }
   ],
   "source": [
    "df.Neighbourhood.str.count(\"Not assigned\").sum()"
   ]
  },
  {
   "cell_type": "code",
   "execution_count": 11,
   "metadata": {
    "colab": {
     "base_uri": "https://localhost:8080/",
     "height": 419
    },
    "colab_type": "code",
    "executionInfo": {
     "elapsed": 4710,
     "status": "ok",
     "timestamp": 1597498795470,
     "user": {
      "displayName": "Thomas George Thomas",
      "photoUrl": "https://lh3.googleusercontent.com/a-/AOh14GhRjmtno5yCmJOUjYiFNGHi_xP5YZBJ1ZpWGKsZ=s64",
      "userId": "09561174857978505545"
     },
     "user_tz": -330
    },
    "id": "niS0yU6VqAU4",
    "outputId": "72ca53ec-55df-49fa-b346-3efb4a1c6ac5"
   },
   "outputs": [
    {
     "data": {
      "text/html": [
       "<div>\n",
       "<style scoped>\n",
       "    .dataframe tbody tr th:only-of-type {\n",
       "        vertical-align: middle;\n",
       "    }\n",
       "\n",
       "    .dataframe tbody tr th {\n",
       "        vertical-align: top;\n",
       "    }\n",
       "\n",
       "    .dataframe thead th {\n",
       "        text-align: right;\n",
       "    }\n",
       "</style>\n",
       "<table border=\"1\" class=\"dataframe\">\n",
       "  <thead>\n",
       "    <tr style=\"text-align: right;\">\n",
       "      <th></th>\n",
       "      <th>index</th>\n",
       "      <th>Postal Code</th>\n",
       "      <th>Borough</th>\n",
       "      <th>Neighbourhood</th>\n",
       "    </tr>\n",
       "  </thead>\n",
       "  <tbody>\n",
       "    <tr>\n",
       "      <th>0</th>\n",
       "      <td>2</td>\n",
       "      <td>M3A</td>\n",
       "      <td>North York</td>\n",
       "      <td>Parkwoods</td>\n",
       "    </tr>\n",
       "    <tr>\n",
       "      <th>1</th>\n",
       "      <td>3</td>\n",
       "      <td>M4A</td>\n",
       "      <td>North York</td>\n",
       "      <td>Victoria Village</td>\n",
       "    </tr>\n",
       "    <tr>\n",
       "      <th>2</th>\n",
       "      <td>4</td>\n",
       "      <td>M5A</td>\n",
       "      <td>Downtown Toronto</td>\n",
       "      <td>Regent Park, Harbourfront</td>\n",
       "    </tr>\n",
       "    <tr>\n",
       "      <th>3</th>\n",
       "      <td>5</td>\n",
       "      <td>M6A</td>\n",
       "      <td>North York</td>\n",
       "      <td>Lawrence Manor, Lawrence Heights</td>\n",
       "    </tr>\n",
       "    <tr>\n",
       "      <th>4</th>\n",
       "      <td>6</td>\n",
       "      <td>M7A</td>\n",
       "      <td>Downtown Toronto</td>\n",
       "      <td>Queen's Park, Ontario Provincial Government</td>\n",
       "    </tr>\n",
       "    <tr>\n",
       "      <th>...</th>\n",
       "      <td>...</td>\n",
       "      <td>...</td>\n",
       "      <td>...</td>\n",
       "      <td>...</td>\n",
       "    </tr>\n",
       "    <tr>\n",
       "      <th>98</th>\n",
       "      <td>160</td>\n",
       "      <td>M8X</td>\n",
       "      <td>Etobicoke</td>\n",
       "      <td>The Kingsway, Montgomery Road, Old Mill North</td>\n",
       "    </tr>\n",
       "    <tr>\n",
       "      <th>99</th>\n",
       "      <td>165</td>\n",
       "      <td>M4Y</td>\n",
       "      <td>Downtown Toronto</td>\n",
       "      <td>Church and Wellesley</td>\n",
       "    </tr>\n",
       "    <tr>\n",
       "      <th>100</th>\n",
       "      <td>168</td>\n",
       "      <td>M7Y</td>\n",
       "      <td>East Toronto</td>\n",
       "      <td>Business reply mail Processing Centre, South C...</td>\n",
       "    </tr>\n",
       "    <tr>\n",
       "      <th>101</th>\n",
       "      <td>169</td>\n",
       "      <td>M8Y</td>\n",
       "      <td>Etobicoke</td>\n",
       "      <td>Old Mill South, King's Mill Park, Sunnylea, Hu...</td>\n",
       "    </tr>\n",
       "    <tr>\n",
       "      <th>102</th>\n",
       "      <td>178</td>\n",
       "      <td>M8Z</td>\n",
       "      <td>Etobicoke</td>\n",
       "      <td>Mimico NW, The Queensway West, South of Bloor,...</td>\n",
       "    </tr>\n",
       "  </tbody>\n",
       "</table>\n",
       "<p>103 rows × 4 columns</p>\n",
       "</div>"
      ],
      "text/plain": [
       "     index Postal Code           Borough  \\\n",
       "0        2         M3A        North York   \n",
       "1        3         M4A        North York   \n",
       "2        4         M5A  Downtown Toronto   \n",
       "3        5         M6A        North York   \n",
       "4        6         M7A  Downtown Toronto   \n",
       "..     ...         ...               ...   \n",
       "98     160         M8X         Etobicoke   \n",
       "99     165         M4Y  Downtown Toronto   \n",
       "100    168         M7Y      East Toronto   \n",
       "101    169         M8Y         Etobicoke   \n",
       "102    178         M8Z         Etobicoke   \n",
       "\n",
       "                                         Neighbourhood  \n",
       "0                                            Parkwoods  \n",
       "1                                     Victoria Village  \n",
       "2                            Regent Park, Harbourfront  \n",
       "3                     Lawrence Manor, Lawrence Heights  \n",
       "4          Queen's Park, Ontario Provincial Government  \n",
       "..                                                 ...  \n",
       "98       The Kingsway, Montgomery Road, Old Mill North  \n",
       "99                                Church and Wellesley  \n",
       "100  Business reply mail Processing Centre, South C...  \n",
       "101  Old Mill South, King's Mill Park, Sunnylea, Hu...  \n",
       "102  Mimico NW, The Queensway West, South of Bloor,...  \n",
       "\n",
       "[103 rows x 4 columns]"
      ]
     },
     "execution_count": 11,
     "metadata": {},
     "output_type": "execute_result"
    }
   ],
   "source": [
    "df = df.reset_index()\n",
    "df"
   ]
  },
  {
   "cell_type": "code",
   "execution_count": 12,
   "metadata": {
    "colab": {
     "base_uri": "https://localhost:8080/",
     "height": 419
    },
    "colab_type": "code",
    "executionInfo": {
     "elapsed": 4693,
     "status": "ok",
     "timestamp": 1597498795471,
     "user": {
      "displayName": "Thomas George Thomas",
      "photoUrl": "https://lh3.googleusercontent.com/a-/AOh14GhRjmtno5yCmJOUjYiFNGHi_xP5YZBJ1ZpWGKsZ=s64",
      "userId": "09561174857978505545"
     },
     "user_tz": -330
    },
    "id": "zzyawIchoy3b",
    "outputId": "e16213bc-21d1-4ce8-d78b-81e2ef470c16"
   },
   "outputs": [
    {
     "data": {
      "text/html": [
       "<div>\n",
       "<style scoped>\n",
       "    .dataframe tbody tr th:only-of-type {\n",
       "        vertical-align: middle;\n",
       "    }\n",
       "\n",
       "    .dataframe tbody tr th {\n",
       "        vertical-align: top;\n",
       "    }\n",
       "\n",
       "    .dataframe thead th {\n",
       "        text-align: right;\n",
       "    }\n",
       "</style>\n",
       "<table border=\"1\" class=\"dataframe\">\n",
       "  <thead>\n",
       "    <tr style=\"text-align: right;\">\n",
       "      <th></th>\n",
       "      <th>Postal Code</th>\n",
       "      <th>Borough</th>\n",
       "      <th>Neighbourhood</th>\n",
       "    </tr>\n",
       "  </thead>\n",
       "  <tbody>\n",
       "    <tr>\n",
       "      <th>0</th>\n",
       "      <td>M3A</td>\n",
       "      <td>North York</td>\n",
       "      <td>Parkwoods</td>\n",
       "    </tr>\n",
       "    <tr>\n",
       "      <th>1</th>\n",
       "      <td>M4A</td>\n",
       "      <td>North York</td>\n",
       "      <td>Victoria Village</td>\n",
       "    </tr>\n",
       "    <tr>\n",
       "      <th>2</th>\n",
       "      <td>M5A</td>\n",
       "      <td>Downtown Toronto</td>\n",
       "      <td>Regent Park, Harbourfront</td>\n",
       "    </tr>\n",
       "    <tr>\n",
       "      <th>3</th>\n",
       "      <td>M6A</td>\n",
       "      <td>North York</td>\n",
       "      <td>Lawrence Manor, Lawrence Heights</td>\n",
       "    </tr>\n",
       "    <tr>\n",
       "      <th>4</th>\n",
       "      <td>M7A</td>\n",
       "      <td>Downtown Toronto</td>\n",
       "      <td>Queen's Park, Ontario Provincial Government</td>\n",
       "    </tr>\n",
       "    <tr>\n",
       "      <th>...</th>\n",
       "      <td>...</td>\n",
       "      <td>...</td>\n",
       "      <td>...</td>\n",
       "    </tr>\n",
       "    <tr>\n",
       "      <th>98</th>\n",
       "      <td>M8X</td>\n",
       "      <td>Etobicoke</td>\n",
       "      <td>The Kingsway, Montgomery Road, Old Mill North</td>\n",
       "    </tr>\n",
       "    <tr>\n",
       "      <th>99</th>\n",
       "      <td>M4Y</td>\n",
       "      <td>Downtown Toronto</td>\n",
       "      <td>Church and Wellesley</td>\n",
       "    </tr>\n",
       "    <tr>\n",
       "      <th>100</th>\n",
       "      <td>M7Y</td>\n",
       "      <td>East Toronto</td>\n",
       "      <td>Business reply mail Processing Centre, South C...</td>\n",
       "    </tr>\n",
       "    <tr>\n",
       "      <th>101</th>\n",
       "      <td>M8Y</td>\n",
       "      <td>Etobicoke</td>\n",
       "      <td>Old Mill South, King's Mill Park, Sunnylea, Hu...</td>\n",
       "    </tr>\n",
       "    <tr>\n",
       "      <th>102</th>\n",
       "      <td>M8Z</td>\n",
       "      <td>Etobicoke</td>\n",
       "      <td>Mimico NW, The Queensway West, South of Bloor,...</td>\n",
       "    </tr>\n",
       "  </tbody>\n",
       "</table>\n",
       "<p>103 rows × 3 columns</p>\n",
       "</div>"
      ],
      "text/plain": [
       "    Postal Code           Borough  \\\n",
       "0           M3A        North York   \n",
       "1           M4A        North York   \n",
       "2           M5A  Downtown Toronto   \n",
       "3           M6A        North York   \n",
       "4           M7A  Downtown Toronto   \n",
       "..          ...               ...   \n",
       "98          M8X         Etobicoke   \n",
       "99          M4Y  Downtown Toronto   \n",
       "100         M7Y      East Toronto   \n",
       "101         M8Y         Etobicoke   \n",
       "102         M8Z         Etobicoke   \n",
       "\n",
       "                                         Neighbourhood  \n",
       "0                                            Parkwoods  \n",
       "1                                     Victoria Village  \n",
       "2                            Regent Park, Harbourfront  \n",
       "3                     Lawrence Manor, Lawrence Heights  \n",
       "4          Queen's Park, Ontario Provincial Government  \n",
       "..                                                 ...  \n",
       "98       The Kingsway, Montgomery Road, Old Mill North  \n",
       "99                                Church and Wellesley  \n",
       "100  Business reply mail Processing Centre, South C...  \n",
       "101  Old Mill South, King's Mill Park, Sunnylea, Hu...  \n",
       "102  Mimico NW, The Queensway West, South of Bloor,...  \n",
       "\n",
       "[103 rows x 3 columns]"
      ]
     },
     "execution_count": 12,
     "metadata": {},
     "output_type": "execute_result"
    }
   ],
   "source": [
    "df.drop(['index'], axis = 'columns', inplace = True)\n",
    "df"
   ]
  },
  {
   "cell_type": "code",
   "execution_count": 13,
   "metadata": {
    "colab": {
     "base_uri": "https://localhost:8080/",
     "height": 34
    },
    "colab_type": "code",
    "executionInfo": {
     "elapsed": 4673,
     "status": "ok",
     "timestamp": 1597498795473,
     "user": {
      "displayName": "Thomas George Thomas",
      "photoUrl": "https://lh3.googleusercontent.com/a-/AOh14GhRjmtno5yCmJOUjYiFNGHi_xP5YZBJ1ZpWGKsZ=s64",
      "userId": "09561174857978505545"
     },
     "user_tz": -330
    },
    "id": "yKdTF6XxQ1pE",
    "outputId": "269feb92-f56c-462d-a265-304008976403"
   },
   "outputs": [
    {
     "data": {
      "text/plain": [
       "(103, 3)"
      ]
     },
     "execution_count": 13,
     "metadata": {},
     "output_type": "execute_result"
    }
   ],
   "source": [
    "df.shape"
   ]
  },
  {
   "cell_type": "markdown",
   "metadata": {
    "colab_type": "text",
    "id": "tPHDtWwrSNIE"
   },
   "source": [
    "Answer to Question 1: We have 103 rows and 3 columns"
   ]
  },
  {
   "cell_type": "markdown",
   "metadata": {
    "colab_type": "text",
    "id": "aTiOeOBHLLKX"
   },
   "source": [
    "# Question 2"
   ]
  },
  {
   "cell_type": "markdown",
   "metadata": {
    "colab_type": "text",
    "id": "QSomDqH3L8b-"
   },
   "source": [
    "Installing geocoder"
   ]
  },
  {
   "cell_type": "code",
   "execution_count": 14,
   "metadata": {
    "colab": {
     "base_uri": "https://localhost:8080/",
     "height": 309
    },
    "colab_type": "code",
    "executionInfo": {
     "elapsed": 12891,
     "status": "ok",
     "timestamp": 1597498803711,
     "user": {
      "displayName": "Thomas George Thomas",
      "photoUrl": "https://lh3.googleusercontent.com/a-/AOh14GhRjmtno5yCmJOUjYiFNGHi_xP5YZBJ1ZpWGKsZ=s64",
      "userId": "09561174857978505545"
     },
     "user_tz": -330
    },
    "id": "vQ8ebSL9Lldl",
    "outputId": "452a7aaa-2cc2-4aa2-89af-672c2725e33a"
   },
   "outputs": [
    {
     "name": "stdout",
     "output_type": "stream",
     "text": [
      "Collecting geocoder\n",
      "  Downloading geocoder-1.38.1-py2.py3-none-any.whl (98 kB)\n",
      "Requirement already satisfied: six in c:\\users\\user\\anaconda3\\lib\\site-packages (from geocoder) (1.15.0)\n",
      "Collecting ratelimNote: you may need to restart the kernel to use updated packages.\n",
      "  Downloading ratelim-0.1.6-py2.py3-none-any.whl (4.0 kB)\n",
      "Requirement already satisfied: click in c:\\users\\user\\anaconda3\\lib\\site-packages (from geocoder) (7.1.2)\n",
      "Requirement already satisfied: future in c:\\users\\user\\anaconda3\\lib\\site-packages (from geocoder) (0.18.2)\n",
      "Requirement already satisfied: requests in c:\\users\\user\\anaconda3\\lib\\site-packages (from geocoder) (2.24.0)\n",
      "Requirement already satisfied: decorator in c:\\users\\user\\anaconda3\\lib\\site-packages (from ratelim->geocoder) (4.4.2)\n",
      "Requirement already satisfied: certifi>=2017.4.17 in c:\\users\\user\\anaconda3\\lib\\site-packages (from requests->geocoder) (2020.6.20)\n",
      "Requirement already satisfied: idna<3,>=2.5 in c:\\users\\user\\anaconda3\\lib\\site-packages (from requests->geocoder) (2.10)\n",
      "Requirement already satisfied: urllib3!=1.25.0,!=1.25.1,<1.26,>=1.21.1 in c:\\users\\user\\anaconda3\\lib\\site-packages (from requests->geocoder) (1.25.11)\n",
      "Requirement already satisfied: chardet<4,>=3.0.2 in c:\\users\\user\\anaconda3\\lib\\site-packages (from requests->geocoder) (3.0.4)\n",
      "Installing collected packages: ratelim, geocoder\n",
      "Successfully installed geocoder-1.38.1 ratelim-0.1.6\n",
      "\n"
     ]
    }
   ],
   "source": [
    "pip install geocoder"
   ]
  },
  {
   "cell_type": "code",
   "execution_count": 15,
   "metadata": {
    "colab": {},
    "colab_type": "code",
    "executionInfo": {
     "elapsed": 12888,
     "status": "ok",
     "timestamp": 1597498803714,
     "user": {
      "displayName": "Thomas George Thomas",
      "photoUrl": "https://lh3.googleusercontent.com/a-/AOh14GhRjmtno5yCmJOUjYiFNGHi_xP5YZBJ1ZpWGKsZ=s64",
      "userId": "09561174857978505545"
     },
     "user_tz": -330
    },
    "id": "Dld7wI-tSRjJ"
   },
   "outputs": [],
   "source": [
    "import geocoder # import geocoder"
   ]
  },
  {
   "cell_type": "markdown",
   "metadata": {
    "colab_type": "text",
    "id": "OenP44rziGa8"
   },
   "source": [
    "Tried the below approach, ran for 20 mins, then killed it. Changing the code cell to Text for now so that the run all execution doesn't stop."
   ]
  },
  {
   "cell_type": "markdown",
   "metadata": {
    "colab_type": "text",
    "id": "cFhbaO9vC6C_"
   },
   "source": [
    "```python\n",
    "# initialize your variable to None\n",
    "lat_lng_coords = None\n",
    "\n",
    "postal_code = 'M3A'\n",
    "\n",
    "# loop until you get the coordinates\n",
    "while(lat_lng_coords is None):\n",
    "  g = geocoder.google('{}, Toronto, Ontario'.format(postal_code))\n",
    "  lat_lng_coords = g.latlng\n",
    "\n",
    "latitude = lat_lng_coords[0]\n",
    "longitude = lat_lng_coords[1]\n",
    "```"
   ]
  },
  {
   "cell_type": "markdown",
   "metadata": {
    "colab_type": "text",
    "id": "rzL3kiRCNSzv"
   },
   "source": [
    "Alternatively, as suggested in the assignment, Importing the CSV file from the URL"
   ]
  },
  {
   "cell_type": "code",
   "execution_count": 16,
   "metadata": {
    "colab": {
     "base_uri": "https://localhost:8080/",
     "height": 419
    },
    "colab_type": "code",
    "executionInfo": {
     "elapsed": 14333,
     "status": "ok",
     "timestamp": 1597498805177,
     "user": {
      "displayName": "Thomas George Thomas",
      "photoUrl": "https://lh3.googleusercontent.com/a-/AOh14GhRjmtno5yCmJOUjYiFNGHi_xP5YZBJ1ZpWGKsZ=s64",
      "userId": "09561174857978505545"
     },
     "user_tz": -330
    },
    "id": "zC81rWFBNe_p",
    "outputId": "23faad24-966a-4419-b07f-3f22bf500b54"
   },
   "outputs": [
    {
     "data": {
      "text/html": [
       "<div>\n",
       "<style scoped>\n",
       "    .dataframe tbody tr th:only-of-type {\n",
       "        vertical-align: middle;\n",
       "    }\n",
       "\n",
       "    .dataframe tbody tr th {\n",
       "        vertical-align: top;\n",
       "    }\n",
       "\n",
       "    .dataframe thead th {\n",
       "        text-align: right;\n",
       "    }\n",
       "</style>\n",
       "<table border=\"1\" class=\"dataframe\">\n",
       "  <thead>\n",
       "    <tr style=\"text-align: right;\">\n",
       "      <th></th>\n",
       "      <th>Postal Code</th>\n",
       "      <th>Latitude</th>\n",
       "      <th>Longitude</th>\n",
       "    </tr>\n",
       "  </thead>\n",
       "  <tbody>\n",
       "    <tr>\n",
       "      <th>0</th>\n",
       "      <td>M1B</td>\n",
       "      <td>43.806686</td>\n",
       "      <td>-79.194353</td>\n",
       "    </tr>\n",
       "    <tr>\n",
       "      <th>1</th>\n",
       "      <td>M1C</td>\n",
       "      <td>43.784535</td>\n",
       "      <td>-79.160497</td>\n",
       "    </tr>\n",
       "    <tr>\n",
       "      <th>2</th>\n",
       "      <td>M1E</td>\n",
       "      <td>43.763573</td>\n",
       "      <td>-79.188711</td>\n",
       "    </tr>\n",
       "    <tr>\n",
       "      <th>3</th>\n",
       "      <td>M1G</td>\n",
       "      <td>43.770992</td>\n",
       "      <td>-79.216917</td>\n",
       "    </tr>\n",
       "    <tr>\n",
       "      <th>4</th>\n",
       "      <td>M1H</td>\n",
       "      <td>43.773136</td>\n",
       "      <td>-79.239476</td>\n",
       "    </tr>\n",
       "    <tr>\n",
       "      <th>...</th>\n",
       "      <td>...</td>\n",
       "      <td>...</td>\n",
       "      <td>...</td>\n",
       "    </tr>\n",
       "    <tr>\n",
       "      <th>98</th>\n",
       "      <td>M9N</td>\n",
       "      <td>43.706876</td>\n",
       "      <td>-79.518188</td>\n",
       "    </tr>\n",
       "    <tr>\n",
       "      <th>99</th>\n",
       "      <td>M9P</td>\n",
       "      <td>43.696319</td>\n",
       "      <td>-79.532242</td>\n",
       "    </tr>\n",
       "    <tr>\n",
       "      <th>100</th>\n",
       "      <td>M9R</td>\n",
       "      <td>43.688905</td>\n",
       "      <td>-79.554724</td>\n",
       "    </tr>\n",
       "    <tr>\n",
       "      <th>101</th>\n",
       "      <td>M9V</td>\n",
       "      <td>43.739416</td>\n",
       "      <td>-79.588437</td>\n",
       "    </tr>\n",
       "    <tr>\n",
       "      <th>102</th>\n",
       "      <td>M9W</td>\n",
       "      <td>43.706748</td>\n",
       "      <td>-79.594054</td>\n",
       "    </tr>\n",
       "  </tbody>\n",
       "</table>\n",
       "<p>103 rows × 3 columns</p>\n",
       "</div>"
      ],
      "text/plain": [
       "    Postal Code   Latitude  Longitude\n",
       "0           M1B  43.806686 -79.194353\n",
       "1           M1C  43.784535 -79.160497\n",
       "2           M1E  43.763573 -79.188711\n",
       "3           M1G  43.770992 -79.216917\n",
       "4           M1H  43.773136 -79.239476\n",
       "..          ...        ...        ...\n",
       "98          M9N  43.706876 -79.518188\n",
       "99          M9P  43.696319 -79.532242\n",
       "100         M9R  43.688905 -79.554724\n",
       "101         M9V  43.739416 -79.588437\n",
       "102         M9W  43.706748 -79.594054\n",
       "\n",
       "[103 rows x 3 columns]"
      ]
     },
     "execution_count": 16,
     "metadata": {},
     "output_type": "execute_result"
    }
   ],
   "source": [
    "data = pd.read_csv(\"https://cocl.us/Geospatial_data\")\n",
    "data"
   ]
  },
  {
   "cell_type": "code",
   "execution_count": 17,
   "metadata": {
    "colab": {
     "base_uri": "https://localhost:8080/",
     "height": 51
    },
    "colab_type": "code",
    "executionInfo": {
     "elapsed": 14316,
     "status": "ok",
     "timestamp": 1597498805181,
     "user": {
      "displayName": "Thomas George Thomas",
      "photoUrl": "https://lh3.googleusercontent.com/a-/AOh14GhRjmtno5yCmJOUjYiFNGHi_xP5YZBJ1ZpWGKsZ=s64",
      "userId": "09561174857978505545"
     },
     "user_tz": -330
    },
    "id": "WzkEQNKPiQSm",
    "outputId": "98e7cce4-e128-46c1-ae10-592ede600b3d"
   },
   "outputs": [
    {
     "name": "stdout",
     "output_type": "stream",
     "text": [
      "The shape of our wiki data is:  (103, 3)\n",
      "the shape of our csv data is:  (103, 3)\n"
     ]
    }
   ],
   "source": [
    "print(\"The shape of our wiki data is: \", df.shape)\n",
    "print(\"the shape of our csv data is: \", data.shape)"
   ]
  },
  {
   "cell_type": "markdown",
   "metadata": {
    "colab_type": "text",
    "id": "e5Q48TEgi3mP"
   },
   "source": [
    "Since the dimensions are the same, we can try to join on the postal codes to get the required data.\n",
    "\n",
    "Checking the column types of both the dataframes, especially Postal Code column since we are trying to join on it"
   ]
  },
  {
   "cell_type": "code",
   "execution_count": 18,
   "metadata": {
    "colab": {
     "base_uri": "https://localhost:8080/",
     "height": 85
    },
    "colab_type": "code",
    "executionInfo": {
     "elapsed": 14297,
     "status": "ok",
     "timestamp": 1597498805183,
     "user": {
      "displayName": "Thomas George Thomas",
      "photoUrl": "https://lh3.googleusercontent.com/a-/AOh14GhRjmtno5yCmJOUjYiFNGHi_xP5YZBJ1ZpWGKsZ=s64",
      "userId": "09561174857978505545"
     },
     "user_tz": -330
    },
    "id": "ph6GYJmzkAtl",
    "outputId": "d82661b0-13d1-419a-d36b-8a6eb6248d22"
   },
   "outputs": [
    {
     "data": {
      "text/plain": [
       "Postal Code      object\n",
       "Borough          object\n",
       "Neighbourhood    object\n",
       "dtype: object"
      ]
     },
     "execution_count": 18,
     "metadata": {},
     "output_type": "execute_result"
    }
   ],
   "source": [
    "df.dtypes"
   ]
  },
  {
   "cell_type": "code",
   "execution_count": 19,
   "metadata": {
    "colab": {
     "base_uri": "https://localhost:8080/",
     "height": 85
    },
    "colab_type": "code",
    "executionInfo": {
     "elapsed": 14277,
     "status": "ok",
     "timestamp": 1597498805184,
     "user": {
      "displayName": "Thomas George Thomas",
      "photoUrl": "https://lh3.googleusercontent.com/a-/AOh14GhRjmtno5yCmJOUjYiFNGHi_xP5YZBJ1ZpWGKsZ=s64",
      "userId": "09561174857978505545"
     },
     "user_tz": -330
    },
    "id": "Hpn4-9KHkNVS",
    "outputId": "cc98807b-a34c-4424-a57f-308f5f48e14f"
   },
   "outputs": [
    {
     "data": {
      "text/plain": [
       "Postal Code     object\n",
       "Latitude       float64\n",
       "Longitude      float64\n",
       "dtype: object"
      ]
     },
     "execution_count": 19,
     "metadata": {},
     "output_type": "execute_result"
    }
   ],
   "source": [
    "data.dtypes"
   ]
  },
  {
   "cell_type": "code",
   "execution_count": 20,
   "metadata": {
    "colab": {
     "base_uri": "https://localhost:8080/",
     "height": 419
    },
    "colab_type": "code",
    "executionInfo": {
     "elapsed": 14257,
     "status": "ok",
     "timestamp": 1597498805185,
     "user": {
      "displayName": "Thomas George Thomas",
      "photoUrl": "https://lh3.googleusercontent.com/a-/AOh14GhRjmtno5yCmJOUjYiFNGHi_xP5YZBJ1ZpWGKsZ=s64",
      "userId": "09561174857978505545"
     },
     "user_tz": -330
    },
    "id": "fGxy6t20kPky",
    "outputId": "4ced58a1-cd8f-4d3d-fb62-2e4e741586ae"
   },
   "outputs": [
    {
     "data": {
      "text/html": [
       "<div>\n",
       "<style scoped>\n",
       "    .dataframe tbody tr th:only-of-type {\n",
       "        vertical-align: middle;\n",
       "    }\n",
       "\n",
       "    .dataframe tbody tr th {\n",
       "        vertical-align: top;\n",
       "    }\n",
       "\n",
       "    .dataframe thead th {\n",
       "        text-align: right;\n",
       "    }\n",
       "</style>\n",
       "<table border=\"1\" class=\"dataframe\">\n",
       "  <thead>\n",
       "    <tr style=\"text-align: right;\">\n",
       "      <th></th>\n",
       "      <th>Postal Code</th>\n",
       "      <th>Borough</th>\n",
       "      <th>Neighbourhood</th>\n",
       "      <th>Latitude</th>\n",
       "      <th>Longitude</th>\n",
       "    </tr>\n",
       "  </thead>\n",
       "  <tbody>\n",
       "    <tr>\n",
       "      <th>0</th>\n",
       "      <td>M3A</td>\n",
       "      <td>North York</td>\n",
       "      <td>Parkwoods</td>\n",
       "      <td>43.753259</td>\n",
       "      <td>-79.329656</td>\n",
       "    </tr>\n",
       "    <tr>\n",
       "      <th>1</th>\n",
       "      <td>M4A</td>\n",
       "      <td>North York</td>\n",
       "      <td>Victoria Village</td>\n",
       "      <td>43.725882</td>\n",
       "      <td>-79.315572</td>\n",
       "    </tr>\n",
       "    <tr>\n",
       "      <th>2</th>\n",
       "      <td>M5A</td>\n",
       "      <td>Downtown Toronto</td>\n",
       "      <td>Regent Park, Harbourfront</td>\n",
       "      <td>43.654260</td>\n",
       "      <td>-79.360636</td>\n",
       "    </tr>\n",
       "    <tr>\n",
       "      <th>3</th>\n",
       "      <td>M6A</td>\n",
       "      <td>North York</td>\n",
       "      <td>Lawrence Manor, Lawrence Heights</td>\n",
       "      <td>43.718518</td>\n",
       "      <td>-79.464763</td>\n",
       "    </tr>\n",
       "    <tr>\n",
       "      <th>4</th>\n",
       "      <td>M7A</td>\n",
       "      <td>Downtown Toronto</td>\n",
       "      <td>Queen's Park, Ontario Provincial Government</td>\n",
       "      <td>43.662301</td>\n",
       "      <td>-79.389494</td>\n",
       "    </tr>\n",
       "    <tr>\n",
       "      <th>...</th>\n",
       "      <td>...</td>\n",
       "      <td>...</td>\n",
       "      <td>...</td>\n",
       "      <td>...</td>\n",
       "      <td>...</td>\n",
       "    </tr>\n",
       "    <tr>\n",
       "      <th>98</th>\n",
       "      <td>M8X</td>\n",
       "      <td>Etobicoke</td>\n",
       "      <td>The Kingsway, Montgomery Road, Old Mill North</td>\n",
       "      <td>43.653654</td>\n",
       "      <td>-79.506944</td>\n",
       "    </tr>\n",
       "    <tr>\n",
       "      <th>99</th>\n",
       "      <td>M4Y</td>\n",
       "      <td>Downtown Toronto</td>\n",
       "      <td>Church and Wellesley</td>\n",
       "      <td>43.665860</td>\n",
       "      <td>-79.383160</td>\n",
       "    </tr>\n",
       "    <tr>\n",
       "      <th>100</th>\n",
       "      <td>M7Y</td>\n",
       "      <td>East Toronto</td>\n",
       "      <td>Business reply mail Processing Centre, South C...</td>\n",
       "      <td>43.662744</td>\n",
       "      <td>-79.321558</td>\n",
       "    </tr>\n",
       "    <tr>\n",
       "      <th>101</th>\n",
       "      <td>M8Y</td>\n",
       "      <td>Etobicoke</td>\n",
       "      <td>Old Mill South, King's Mill Park, Sunnylea, Hu...</td>\n",
       "      <td>43.636258</td>\n",
       "      <td>-79.498509</td>\n",
       "    </tr>\n",
       "    <tr>\n",
       "      <th>102</th>\n",
       "      <td>M8Z</td>\n",
       "      <td>Etobicoke</td>\n",
       "      <td>Mimico NW, The Queensway West, South of Bloor,...</td>\n",
       "      <td>43.628841</td>\n",
       "      <td>-79.520999</td>\n",
       "    </tr>\n",
       "  </tbody>\n",
       "</table>\n",
       "<p>103 rows × 5 columns</p>\n",
       "</div>"
      ],
      "text/plain": [
       "    Postal Code           Borough  \\\n",
       "0           M3A        North York   \n",
       "1           M4A        North York   \n",
       "2           M5A  Downtown Toronto   \n",
       "3           M6A        North York   \n",
       "4           M7A  Downtown Toronto   \n",
       "..          ...               ...   \n",
       "98          M8X         Etobicoke   \n",
       "99          M4Y  Downtown Toronto   \n",
       "100         M7Y      East Toronto   \n",
       "101         M8Y         Etobicoke   \n",
       "102         M8Z         Etobicoke   \n",
       "\n",
       "                                         Neighbourhood   Latitude  Longitude  \n",
       "0                                            Parkwoods  43.753259 -79.329656  \n",
       "1                                     Victoria Village  43.725882 -79.315572  \n",
       "2                            Regent Park, Harbourfront  43.654260 -79.360636  \n",
       "3                     Lawrence Manor, Lawrence Heights  43.718518 -79.464763  \n",
       "4          Queen's Park, Ontario Provincial Government  43.662301 -79.389494  \n",
       "..                                                 ...        ...        ...  \n",
       "98       The Kingsway, Montgomery Road, Old Mill North  43.653654 -79.506944  \n",
       "99                                Church and Wellesley  43.665860 -79.383160  \n",
       "100  Business reply mail Processing Centre, South C...  43.662744 -79.321558  \n",
       "101  Old Mill South, King's Mill Park, Sunnylea, Hu...  43.636258 -79.498509  \n",
       "102  Mimico NW, The Queensway West, South of Bloor,...  43.628841 -79.520999  \n",
       "\n",
       "[103 rows x 5 columns]"
      ]
     },
     "execution_count": 20,
     "metadata": {},
     "output_type": "execute_result"
    }
   ],
   "source": [
    "combined_data = df.join(data.set_index('Postal Code'), on='Postal Code', how='inner')\n",
    "combined_data"
   ]
  },
  {
   "cell_type": "code",
   "execution_count": 21,
   "metadata": {
    "colab": {
     "base_uri": "https://localhost:8080/",
     "height": 34
    },
    "colab_type": "code",
    "executionInfo": {
     "elapsed": 14239,
     "status": "ok",
     "timestamp": 1597498805187,
     "user": {
      "displayName": "Thomas George Thomas",
      "photoUrl": "https://lh3.googleusercontent.com/a-/AOh14GhRjmtno5yCmJOUjYiFNGHi_xP5YZBJ1ZpWGKsZ=s64",
      "userId": "09561174857978505545"
     },
     "user_tz": -330
    },
    "id": "yZggQ2wukqrb",
    "outputId": "e0968b0d-8490-482a-ced3-139ed04671db"
   },
   "outputs": [
    {
     "data": {
      "text/plain": [
       "(103, 5)"
      ]
     },
     "execution_count": 21,
     "metadata": {},
     "output_type": "execute_result"
    }
   ],
   "source": [
    "combined_data.shape"
   ]
  },
  {
   "cell_type": "markdown",
   "metadata": {
    "colab_type": "text",
    "id": "iGkVgUeGlmDL"
   },
   "source": [
    "**Solution:** We get 103 rows as expected when we do a inner join, so we have good data."
   ]
  },
  {
   "cell_type": "markdown",
   "metadata": {
    "colab_type": "text",
    "id": "VD4pf99BtHi2"
   },
   "source": [
    "# Question 3"
   ]
  },
  {
   "cell_type": "markdown",
   "metadata": {
    "colab_type": "text",
    "id": "4IeqtDxzRxUV"
   },
   "source": [
    "Drawing inspiration from the previous lab where we cluster the neighbourhood of NYC, We cluster Toronto based on the similarities of the venues categories using Kmeans clustering and Foursquare API."
   ]
  },
  {
   "cell_type": "code",
   "execution_count": 27,
   "metadata": {},
   "outputs": [
    {
     "name": "stdout",
     "output_type": "stream",
     "text": [
      "Collecting geopy\n",
      "  Downloading geopy-2.1.0-py3-none-any.whl (112 kB)\n",
      "Collecting geographiclib<2,>=1.49\n",
      "  Downloading geographiclib-1.50-py3-none-any.whl (38 kB)\n",
      "Installing collected packages: geographiclib, geopy\n",
      "Successfully installed geographiclib-1.50 geopy-2.1.0\n",
      "Note: you may need to restart the kernel to use updated packages.\n"
     ]
    }
   ],
   "source": [
    "pip install geopy"
   ]
  },
  {
   "cell_type": "code",
   "execution_count": 28,
   "metadata": {
    "colab": {},
    "colab_type": "code",
    "executionInfo": {
     "elapsed": 14234,
     "status": "ok",
     "timestamp": 1597498805188,
     "user": {
      "displayName": "Thomas George Thomas",
      "photoUrl": "https://lh3.googleusercontent.com/a-/AOh14GhRjmtno5yCmJOUjYiFNGHi_xP5YZBJ1ZpWGKsZ=s64",
      "userId": "09561174857978505545"
     },
     "user_tz": -330
    },
    "id": "wTVVWScqtKKh"
   },
   "outputs": [],
   "source": [
    "from geopy.geocoders import Nominatim "
   ]
  },
  {
   "cell_type": "code",
   "execution_count": 29,
   "metadata": {
    "colab": {
     "base_uri": "https://localhost:8080/",
     "height": 34
    },
    "colab_type": "code",
    "executionInfo": {
     "elapsed": 15543,
     "status": "ok",
     "timestamp": 1597498806514,
     "user": {
      "displayName": "Thomas George Thomas",
      "photoUrl": "https://lh3.googleusercontent.com/a-/AOh14GhRjmtno5yCmJOUjYiFNGHi_xP5YZBJ1ZpWGKsZ=s64",
      "userId": "09561174857978505545"
     },
     "user_tz": -330
    },
    "id": "9u5kNj_LTC5z",
    "outputId": "52eea32c-eb50-41d7-c163-71f0286c4954"
   },
   "outputs": [
    {
     "name": "stdout",
     "output_type": "stream",
     "text": [
      "The coordinates of Toronto are 43.6534817, -79.3839347.\n"
     ]
    }
   ],
   "source": [
    "address = 'Toronto, Ontario'\n",
    "\n",
    "geolocator = Nominatim(user_agent=\"toronto_explorer\")\n",
    "location = geolocator.geocode(address)\n",
    "latitude = location.latitude\n",
    "longitude = location.longitude\n",
    "print('The coordinates of Toronto are {}, {}.'.format(latitude, longitude))"
   ]
  },
  {
   "cell_type": "markdown",
   "metadata": {
    "colab_type": "text",
    "id": "seiKLd-3Tfpm"
   },
   "source": [
    "Let's visualize the map of Toronto"
   ]
  },
  {
   "cell_type": "code",
   "execution_count": 32,
   "metadata": {},
   "outputs": [
    {
     "name": "stdout",
     "output_type": "stream",
     "text": [
      "Collecting folium\n",
      "  Downloading folium-0.12.1-py2.py3-none-any.whl (94 kB)\n",
      "Requirement already satisfied: jinja2>=2.9 in c:\\users\\user\\anaconda3\\lib\\site-packages (from folium) (2.11.2)\n",
      "Requirement already satisfied: numpy in c:\\users\\user\\anaconda3\\lib\\site-packages (from folium) (1.19.2)\n",
      "Collecting branca>=0.3.0\n",
      "  Downloading branca-0.4.2-py3-none-any.whl (24 kB)\n",
      "Requirement already satisfied: requests in c:\\users\\user\\anaconda3\\lib\\site-packages (from folium) (2.24.0)\n",
      "Requirement already satisfied: MarkupSafe>=0.23 in c:\\users\\user\\anaconda3\\lib\\site-packages (from jinja2>=2.9->folium) (1.1.1)\n",
      "Requirement already satisfied: urllib3!=1.25.0,!=1.25.1,<1.26,>=1.21.1 in c:\\users\\user\\anaconda3\\lib\\site-packages (from requests->folium) (1.25.11)\n",
      "Requirement already satisfied: certifi>=2017.4.17 in c:\\users\\user\\anaconda3\\lib\\site-packages (from requests->folium) (2020.6.20)\n",
      "Requirement already satisfied: idna<3,>=2.5 in c:\\users\\user\\anaconda3\\lib\\site-packages (from requests->folium) (2.10)\n",
      "Requirement already satisfied: chardet<4,>=3.0.2 in c:\\users\\user\\anaconda3\\lib\\site-packages (from requests->folium) (3.0.4)\n",
      "Installing collected packages: branca, folium\n",
      "Successfully installed branca-0.4.2 folium-0.12.1\n",
      "Note: you may need to restart the kernel to use updated packages.\n"
     ]
    }
   ],
   "source": [
    "pip install folium"
   ]
  },
  {
   "cell_type": "code",
   "execution_count": 33,
   "metadata": {
    "colab": {},
    "colab_type": "code",
    "executionInfo": {
     "elapsed": 15538,
     "status": "ok",
     "timestamp": 1597498806516,
     "user": {
      "displayName": "Thomas George Thomas",
      "photoUrl": "https://lh3.googleusercontent.com/a-/AOh14GhRjmtno5yCmJOUjYiFNGHi_xP5YZBJ1ZpWGKsZ=s64",
      "userId": "09561174857978505545"
     },
     "user_tz": -330
    },
    "id": "PbEx0_rATl2P"
   },
   "outputs": [],
   "source": [
    "import folium"
   ]
  },
  {
   "cell_type": "code",
   "execution_count": 60,
   "metadata": {
    "colab": {
     "base_uri": "https://localhost:8080/",
     "height": 743
    },
    "colab_type": "code",
    "executionInfo": {
     "elapsed": 1101,
     "status": "ok",
     "timestamp": 1597499445471,
     "user": {
      "displayName": "Thomas George Thomas",
      "photoUrl": "https://lh3.googleusercontent.com/a-/AOh14GhRjmtno5yCmJOUjYiFNGHi_xP5YZBJ1ZpWGKsZ=s64",
      "userId": "09561174857978505545"
     },
     "user_tz": -330
    },
    "id": "jD5bfsKvTbP0",
    "outputId": "fd95bb29-2e56-4111-8881-0b9a3094b627"
   },
   "outputs": [
    {
     "data": {
      "text/html": [
       "<div style=\"width:100%;\"><div style=\"position:relative;width:100%;height:0;padding-bottom:60%;\"><span style=\"color:#565656\">Make this Notebook Trusted to load map: File -> Trust Notebook</span><iframe src=\"about:blank\" style=\"position:absolute;width:100%;height:100%;left:0;top:0;border:none !important;\" data-html=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 onload=\"this.contentDocument.open();this.contentDocument.write(atob(this.getAttribute('data-html')));this.contentDocument.close();\" allowfullscreen webkitallowfullscreen mozallowfullscreen></iframe></div></div>"
      ],
      "text/plain": [
       "<folium.folium.Map at 0x7f61ca0cd048>"
      ]
     },
     "execution_count": 60,
     "metadata": {
      "tags": []
     },
     "output_type": "execute_result"
    }
   ],
   "source": [
    "# Creating the map of Toronto\n",
    "map_Toronto = folium.Map(location=[latitude, longitude], zoom_start=11)\n",
    "\n",
    "# adding markers to map\n",
    "for latitude, longitude, borough, neighbourhood in zip(combined_data['Latitude'], combined_data['Longitude'], combined_data['Borough'], combined_data['Neighbourhood']):\n",
    "    label = '{}, {}'.format(neighbourhood, borough)\n",
    "    label = folium.Popup(label, parse_html=True)\n",
    "    folium.CircleMarker(\n",
    "        [latitude, longitude],\n",
    "        radius=5,\n",
    "        popup=label,\n",
    "        color='red',\n",
    "        fill=True\n",
    "        ).add_to(map_Toronto)  \n",
    "    \n",
    "map_Toronto"
   ]
  },
  {
   "cell_type": "markdown",
   "metadata": {
    "colab_type": "text",
    "id": "t33pXwdTV-1O"
   },
   "source": [
    "Initializing Foursquare API credentials"
   ]
  },
  {
   "cell_type": "code",
   "execution_count": 34,
   "metadata": {
    "colab": {
     "base_uri": "https://localhost:8080/",
     "height": 68
    },
    "colab_type": "code",
    "executionInfo": {
     "elapsed": 1055,
     "status": "ok",
     "timestamp": 1597498859413,
     "user": {
      "displayName": "Thomas George Thomas",
      "photoUrl": "https://lh3.googleusercontent.com/a-/AOh14GhRjmtno5yCmJOUjYiFNGHi_xP5YZBJ1ZpWGKsZ=s64",
      "userId": "09561174857978505545"
     },
     "user_tz": -330
    },
    "id": "h_3CK9wRT3rs",
    "outputId": "b761e330-40cd-44b6-e0e5-71248cba98fe"
   },
   "outputs": [
    {
     "name": "stdout",
     "output_type": "stream",
     "text": [
      "Your credentails:\n",
      "CLIENT_ID: J1I3PSJEAIC0AC3JFTDXG1OFYFHDQ4M534IIY0VLBNUNRLQQ\n",
      "CLIENT_SECRET:3EYA5HIN2XX5O3IOQHW2J2B2UHAJU3VLJMJB22A4ZKZSAFHI\n"
     ]
    }
   ],
   "source": [
    "CLIENT_ID = 'J1I3PSJEAIC0AC3JFTDXG1OFYFHDQ4M534IIY0VLBNUNRLQQ' \n",
    "CLIENT_SECRET = '3EYA5HIN2XX5O3IOQHW2J2B2UHAJU3VLJMJB22A4ZKZSAFHI'\n",
    "VERSION = '20180605' # Foursquare API version\n",
    "\n",
    "print('Your credentails:')\n",
    "print('CLIENT_ID: ' + CLIENT_ID)\n",
    "print('CLIENT_SECRET:' + CLIENT_SECRET)"
   ]
  },
  {
   "cell_type": "markdown",
   "metadata": {
    "colab_type": "text",
    "id": "hqjYx2M1WW-c"
   },
   "source": [
    "Next, we create a function to get all the venue categories in Toronto"
   ]
  },
  {
   "cell_type": "code",
   "execution_count": 35,
   "metadata": {
    "colab": {},
    "colab_type": "code",
    "executionInfo": {
     "elapsed": 1182,
     "status": "ok",
     "timestamp": 1597498863148,
     "user": {
      "displayName": "Thomas George Thomas",
      "photoUrl": "https://lh3.googleusercontent.com/a-/AOh14GhRjmtno5yCmJOUjYiFNGHi_xP5YZBJ1ZpWGKsZ=s64",
      "userId": "09561174857978505545"
     },
     "user_tz": -330
    },
    "id": "eEzXOTWNWLi0"
   },
   "outputs": [],
   "source": [
    "def getNearbyVenues(names, latitudes, longitudes, radius=500):\n",
    "    \n",
    "    venues_list=[]\n",
    "    for name, lat, lng in zip(names, latitudes, longitudes):\n",
    "        print(name)\n",
    "            \n",
    "        # create the API request URL\n",
    "        url = 'https://api.foursquare.com/v2/venues/explore?&client_id={}&client_secret={}&v={}&ll={},{}&radius={}'.format(\n",
    "            CLIENT_ID, \n",
    "            CLIENT_SECRET, \n",
    "            VERSION, \n",
    "            lat, \n",
    "            lng, \n",
    "            radius\n",
    "            )\n",
    "            \n",
    "        # make the GET request\n",
    "        results = requests.get(url).json()[\"response\"]['groups'][0]['items']\n",
    "        \n",
    "        # return only relevant information for each nearby venue\n",
    "        venues_list.append([(\n",
    "            name, \n",
    "            lat, \n",
    "            lng, \n",
    "            v['venue']['name'], \n",
    "            v['venue']['categories'][0]['name']) for v in results])\n",
    "\n",
    "    nearby_venues = pd.DataFrame([item for venue_list in venues_list for item in venue_list])\n",
    "    nearby_venues.columns = ['Neighbourhood', \n",
    "                  'Neighbourhood Latitude', \n",
    "                  'Neighbourhood Longitude', \n",
    "                  'Venue', \n",
    "                  'Venue Category']\n",
    "    \n",
    "    return(nearby_venues)"
   ]
  },
  {
   "cell_type": "markdown",
   "metadata": {
    "colab_type": "text",
    "id": "r3C3JQ6XW7Uk"
   },
   "source": [
    "Collecting the venues in Toronto for each Neighbourhood"
   ]
  },
  {
   "cell_type": "code",
   "execution_count": 36,
   "metadata": {
    "colab": {
     "base_uri": "https://localhost:8080/",
     "height": 1000
    },
    "colab_type": "code",
    "executionInfo": {
     "elapsed": 85413,
     "status": "ok",
     "timestamp": 1597498951143,
     "user": {
      "displayName": "Thomas George Thomas",
      "photoUrl": "https://lh3.googleusercontent.com/a-/AOh14GhRjmtno5yCmJOUjYiFNGHi_xP5YZBJ1ZpWGKsZ=s64",
      "userId": "09561174857978505545"
     },
     "user_tz": -330
    },
    "id": "sNSD-GGpW5Ak",
    "outputId": "57d4cd08-5fae-4d3d-a095-995683e6d34d"
   },
   "outputs": [
    {
     "name": "stdout",
     "output_type": "stream",
     "text": [
      "Parkwoods\n",
      "Victoria Village\n",
      "Regent Park, Harbourfront\n",
      "Lawrence Manor, Lawrence Heights\n",
      "Queen's Park, Ontario Provincial Government\n",
      "Islington Avenue, Humber Valley Village\n",
      "Malvern, Rouge\n",
      "Don Mills\n",
      "Parkview Hill, Woodbine Gardens\n",
      "Garden District, Ryerson\n",
      "Glencairn\n",
      "West Deane Park, Princess Gardens, Martin Grove, Islington, Cloverdale\n",
      "Rouge Hill, Port Union, Highland Creek\n",
      "Don Mills\n",
      "Woodbine Heights\n",
      "St. James Town\n",
      "Humewood-Cedarvale\n",
      "Eringate, Bloordale Gardens, Old Burnhamthorpe, Markland Wood\n",
      "Guildwood, Morningside, West Hill\n",
      "The Beaches\n",
      "Berczy Park\n",
      "Caledonia-Fairbanks\n",
      "Woburn\n",
      "Leaside\n",
      "Central Bay Street\n",
      "Christie\n",
      "Cedarbrae\n",
      "Hillcrest Village\n",
      "Bathurst Manor, Wilson Heights, Downsview North\n",
      "Thorncliffe Park\n",
      "Richmond, Adelaide, King\n",
      "Dufferin, Dovercourt Village\n",
      "Scarborough Village\n",
      "Fairview, Henry Farm, Oriole\n",
      "Northwood Park, York University\n",
      "East Toronto, Broadview North (Old East York)\n",
      "Harbourfront East, Union Station, Toronto Islands\n",
      "Little Portugal, Trinity\n",
      "Kennedy Park, Ionview, East Birchmount Park\n",
      "Bayview Village\n",
      "Downsview\n",
      "The Danforth West, Riverdale\n",
      "Toronto Dominion Centre, Design Exchange\n",
      "Brockton, Parkdale Village, Exhibition Place\n",
      "Golden Mile, Clairlea, Oakridge\n",
      "York Mills, Silver Hills\n",
      "Downsview\n",
      "India Bazaar, The Beaches West\n",
      "Commerce Court, Victoria Hotel\n",
      "North Park, Maple Leaf Park, Upwood Park\n",
      "Humber Summit\n",
      "Cliffside, Cliffcrest, Scarborough Village West\n",
      "Willowdale, Newtonbrook\n",
      "Downsview\n",
      "Studio District\n",
      "Bedford Park, Lawrence Manor East\n",
      "Del Ray, Mount Dennis, Keelsdale and Silverthorn\n",
      "Humberlea, Emery\n",
      "Birch Cliff, Cliffside West\n",
      "Willowdale, Willowdale East\n",
      "Downsview\n",
      "Lawrence Park\n",
      "Roselawn\n",
      "Runnymede, The Junction North\n",
      "Weston\n",
      "Dorset Park, Wexford Heights, Scarborough Town Centre\n",
      "York Mills West\n",
      "Davisville North\n",
      "Forest Hill North & West, Forest Hill Road Park\n",
      "High Park, The Junction South\n",
      "Westmount\n",
      "Wexford, Maryvale\n",
      "Willowdale, Willowdale West\n",
      "North Toronto West, Lawrence Park\n",
      "The Annex, North Midtown, Yorkville\n",
      "Parkdale, Roncesvalles\n",
      "Canada Post Gateway Processing Centre\n",
      "Kingsview Village, St. Phillips, Martin Grove Gardens, Richview Gardens\n",
      "Agincourt\n",
      "Davisville\n",
      "University of Toronto, Harbord\n",
      "Runnymede, Swansea\n",
      "Clarks Corners, Tam O'Shanter, Sullivan\n",
      "Moore Park, Summerhill East\n",
      "Kensington Market, Chinatown, Grange Park\n",
      "Milliken, Agincourt North, Steeles East, L'Amoreaux East\n",
      "Summerhill West, Rathnelly, South Hill, Forest Hill SE, Deer Park\n",
      "CN Tower, King and Spadina, Railway Lands, Harbourfront West, Bathurst Quay, South Niagara, Island airport\n",
      "New Toronto, Mimico South, Humber Bay Shores\n",
      "South Steeles, Silverstone, Humbergate, Jamestown, Mount Olive, Beaumond Heights, Thistletown, Albion Gardens\n",
      "Steeles West, L'Amoreaux West\n",
      "Rosedale\n",
      "Stn A PO Boxes\n",
      "Alderwood, Long Branch\n",
      "Northwest, West Humber - Clairville\n",
      "Upper Rouge\n",
      "St. James Town, Cabbagetown\n",
      "First Canadian Place, Underground city\n",
      "The Kingsway, Montgomery Road, Old Mill North\n",
      "Church and Wellesley\n",
      "Business reply mail Processing Centre, South Central Letter Processing Plant Toronto\n",
      "Old Mill South, King's Mill Park, Sunnylea, Humber Bay, Mimico NE, The Queensway East, Royal York South East, Kingsway Park South East\n",
      "Mimico NW, The Queensway West, South of Bloor, Kingsway Park South West, Royal York South West\n"
     ]
    }
   ],
   "source": [
    "venues_in_toronto = getNearbyVenues(combined_data['Neighbourhood'], combined_data['Latitude'], combined_data['Longitude'])"
   ]
  },
  {
   "cell_type": "code",
   "execution_count": 37,
   "metadata": {
    "colab": {
     "base_uri": "https://localhost:8080/",
     "height": 34
    },
    "colab_type": "code",
    "executionInfo": {
     "elapsed": 1056,
     "status": "ok",
     "timestamp": 1597498952236,
     "user": {
      "displayName": "Thomas George Thomas",
      "photoUrl": "https://lh3.googleusercontent.com/a-/AOh14GhRjmtno5yCmJOUjYiFNGHi_xP5YZBJ1ZpWGKsZ=s64",
      "userId": "09561174857978505545"
     },
     "user_tz": -330
    },
    "id": "mWajIR41XbzY",
    "outputId": "e339c559-9c27-420b-9302-4566cb61e181"
   },
   "outputs": [
    {
     "data": {
      "text/plain": [
       "(1321, 5)"
      ]
     },
     "execution_count": 37,
     "metadata": {},
     "output_type": "execute_result"
    }
   ],
   "source": [
    "venues_in_toronto.shape"
   ]
  },
  {
   "cell_type": "markdown",
   "metadata": {
    "colab_type": "text",
    "id": "MYazJWn5Z02L"
   },
   "source": [
    "So we have 1317 records and 5 columns. Checking sample data\n"
   ]
  },
  {
   "cell_type": "code",
   "execution_count": 38,
   "metadata": {
    "colab": {
     "base_uri": "https://localhost:8080/",
     "height": 204
    },
    "colab_type": "code",
    "executionInfo": {
     "elapsed": 1037,
     "status": "ok",
     "timestamp": 1597498952237,
     "user": {
      "displayName": "Thomas George Thomas",
      "photoUrl": "https://lh3.googleusercontent.com/a-/AOh14GhRjmtno5yCmJOUjYiFNGHi_xP5YZBJ1ZpWGKsZ=s64",
      "userId": "09561174857978505545"
     },
     "user_tz": -330
    },
    "id": "y87jJksZZvE9",
    "outputId": "fb1d0e7f-6651-4b5c-bd4f-b0465d33fe46"
   },
   "outputs": [
    {
     "data": {
      "text/html": [
       "<div>\n",
       "<style scoped>\n",
       "    .dataframe tbody tr th:only-of-type {\n",
       "        vertical-align: middle;\n",
       "    }\n",
       "\n",
       "    .dataframe tbody tr th {\n",
       "        vertical-align: top;\n",
       "    }\n",
       "\n",
       "    .dataframe thead th {\n",
       "        text-align: right;\n",
       "    }\n",
       "</style>\n",
       "<table border=\"1\" class=\"dataframe\">\n",
       "  <thead>\n",
       "    <tr style=\"text-align: right;\">\n",
       "      <th></th>\n",
       "      <th>Neighbourhood</th>\n",
       "      <th>Neighbourhood Latitude</th>\n",
       "      <th>Neighbourhood Longitude</th>\n",
       "      <th>Venue</th>\n",
       "      <th>Venue Category</th>\n",
       "    </tr>\n",
       "  </thead>\n",
       "  <tbody>\n",
       "    <tr>\n",
       "      <th>0</th>\n",
       "      <td>Parkwoods</td>\n",
       "      <td>43.753259</td>\n",
       "      <td>-79.329656</td>\n",
       "      <td>Brookbanks Park</td>\n",
       "      <td>Park</td>\n",
       "    </tr>\n",
       "    <tr>\n",
       "      <th>1</th>\n",
       "      <td>Parkwoods</td>\n",
       "      <td>43.753259</td>\n",
       "      <td>-79.329656</td>\n",
       "      <td>Variety Store</td>\n",
       "      <td>Food &amp; Drink Shop</td>\n",
       "    </tr>\n",
       "    <tr>\n",
       "      <th>2</th>\n",
       "      <td>Victoria Village</td>\n",
       "      <td>43.725882</td>\n",
       "      <td>-79.315572</td>\n",
       "      <td>Victoria Village Arena</td>\n",
       "      <td>Hockey Arena</td>\n",
       "    </tr>\n",
       "    <tr>\n",
       "      <th>3</th>\n",
       "      <td>Victoria Village</td>\n",
       "      <td>43.725882</td>\n",
       "      <td>-79.315572</td>\n",
       "      <td>Portugril</td>\n",
       "      <td>Portuguese Restaurant</td>\n",
       "    </tr>\n",
       "    <tr>\n",
       "      <th>4</th>\n",
       "      <td>Victoria Village</td>\n",
       "      <td>43.725882</td>\n",
       "      <td>-79.315572</td>\n",
       "      <td>Tim Hortons</td>\n",
       "      <td>Coffee Shop</td>\n",
       "    </tr>\n",
       "  </tbody>\n",
       "</table>\n",
       "</div>"
      ],
      "text/plain": [
       "      Neighbourhood  Neighbourhood Latitude  Neighbourhood Longitude  \\\n",
       "0         Parkwoods               43.753259               -79.329656   \n",
       "1         Parkwoods               43.753259               -79.329656   \n",
       "2  Victoria Village               43.725882               -79.315572   \n",
       "3  Victoria Village               43.725882               -79.315572   \n",
       "4  Victoria Village               43.725882               -79.315572   \n",
       "\n",
       "                    Venue         Venue Category  \n",
       "0         Brookbanks Park                   Park  \n",
       "1           Variety Store      Food & Drink Shop  \n",
       "2  Victoria Village Arena           Hockey Arena  \n",
       "3               Portugril  Portuguese Restaurant  \n",
       "4             Tim Hortons            Coffee Shop  "
      ]
     },
     "execution_count": 38,
     "metadata": {},
     "output_type": "execute_result"
    }
   ],
   "source": [
    "venues_in_toronto.head()"
   ]
  },
  {
   "cell_type": "markdown",
   "metadata": {
    "colab_type": "text",
    "id": "p3TmnMe1edmz"
   },
   "source": [
    "Checking the Venues based on Neighbourhood"
   ]
  },
  {
   "cell_type": "code",
   "execution_count": 39,
   "metadata": {
    "colab": {
     "base_uri": "https://localhost:8080/",
     "height": 419
    },
    "colab_type": "code",
    "executionInfo": {
     "elapsed": 1022,
     "status": "ok",
     "timestamp": 1597498952239,
     "user": {
      "displayName": "Thomas George Thomas",
      "photoUrl": "https://lh3.googleusercontent.com/a-/AOh14GhRjmtno5yCmJOUjYiFNGHi_xP5YZBJ1ZpWGKsZ=s64",
      "userId": "09561174857978505545"
     },
     "user_tz": -330
    },
    "id": "_EYXBqxkZ7E3",
    "outputId": "94e45678-836b-4e10-d7ef-e47dcc6ebf4c"
   },
   "outputs": [
    {
     "data": {
      "text/html": [
       "<div>\n",
       "<style scoped>\n",
       "    .dataframe tbody tr th:only-of-type {\n",
       "        vertical-align: middle;\n",
       "    }\n",
       "\n",
       "    .dataframe tbody tr th {\n",
       "        vertical-align: top;\n",
       "    }\n",
       "\n",
       "    .dataframe thead th {\n",
       "        text-align: right;\n",
       "    }\n",
       "</style>\n",
       "<table border=\"1\" class=\"dataframe\">\n",
       "  <thead>\n",
       "    <tr style=\"text-align: right;\">\n",
       "      <th></th>\n",
       "      <th>Neighbourhood</th>\n",
       "      <th>Neighbourhood Latitude</th>\n",
       "      <th>Neighbourhood Longitude</th>\n",
       "      <th>Venue</th>\n",
       "      <th>Venue Category</th>\n",
       "    </tr>\n",
       "  </thead>\n",
       "  <tbody>\n",
       "    <tr>\n",
       "      <th>0</th>\n",
       "      <td>Parkwoods</td>\n",
       "      <td>43.753259</td>\n",
       "      <td>-79.329656</td>\n",
       "      <td>Brookbanks Park</td>\n",
       "      <td>Park</td>\n",
       "    </tr>\n",
       "    <tr>\n",
       "      <th>1</th>\n",
       "      <td>Parkwoods</td>\n",
       "      <td>43.753259</td>\n",
       "      <td>-79.329656</td>\n",
       "      <td>Variety Store</td>\n",
       "      <td>Food &amp; Drink Shop</td>\n",
       "    </tr>\n",
       "    <tr>\n",
       "      <th>2</th>\n",
       "      <td>Victoria Village</td>\n",
       "      <td>43.725882</td>\n",
       "      <td>-79.315572</td>\n",
       "      <td>Victoria Village Arena</td>\n",
       "      <td>Hockey Arena</td>\n",
       "    </tr>\n",
       "    <tr>\n",
       "      <th>3</th>\n",
       "      <td>Victoria Village</td>\n",
       "      <td>43.725882</td>\n",
       "      <td>-79.315572</td>\n",
       "      <td>Portugril</td>\n",
       "      <td>Portuguese Restaurant</td>\n",
       "    </tr>\n",
       "    <tr>\n",
       "      <th>4</th>\n",
       "      <td>Victoria Village</td>\n",
       "      <td>43.725882</td>\n",
       "      <td>-79.315572</td>\n",
       "      <td>Tim Hortons</td>\n",
       "      <td>Coffee Shop</td>\n",
       "    </tr>\n",
       "    <tr>\n",
       "      <th>...</th>\n",
       "      <td>...</td>\n",
       "      <td>...</td>\n",
       "      <td>...</td>\n",
       "      <td>...</td>\n",
       "      <td>...</td>\n",
       "    </tr>\n",
       "    <tr>\n",
       "      <th>1307</th>\n",
       "      <td>Mimico NW, The Queensway West, South of Bloor,...</td>\n",
       "      <td>43.628841</td>\n",
       "      <td>-79.520999</td>\n",
       "      <td>South St. Burger</td>\n",
       "      <td>Burger Joint</td>\n",
       "    </tr>\n",
       "    <tr>\n",
       "      <th>1308</th>\n",
       "      <td>Mimico NW, The Queensway West, South of Bloor,...</td>\n",
       "      <td>43.628841</td>\n",
       "      <td>-79.520999</td>\n",
       "      <td>Wingporium</td>\n",
       "      <td>Wings Joint</td>\n",
       "    </tr>\n",
       "    <tr>\n",
       "      <th>1309</th>\n",
       "      <td>Mimico NW, The Queensway West, South of Bloor,...</td>\n",
       "      <td>43.628841</td>\n",
       "      <td>-79.520999</td>\n",
       "      <td>Dollarama</td>\n",
       "      <td>Discount Store</td>\n",
       "    </tr>\n",
       "    <tr>\n",
       "      <th>1310</th>\n",
       "      <td>Mimico NW, The Queensway West, South of Bloor,...</td>\n",
       "      <td>43.628841</td>\n",
       "      <td>-79.520999</td>\n",
       "      <td>Healthy Planet</td>\n",
       "      <td>Supplement Shop</td>\n",
       "    </tr>\n",
       "    <tr>\n",
       "      <th>1311</th>\n",
       "      <td>Mimico NW, The Queensway West, South of Bloor,...</td>\n",
       "      <td>43.628841</td>\n",
       "      <td>-79.520999</td>\n",
       "      <td>7-Eleven</td>\n",
       "      <td>Convenience Store</td>\n",
       "    </tr>\n",
       "  </tbody>\n",
       "</table>\n",
       "<p>412 rows × 5 columns</p>\n",
       "</div>"
      ],
      "text/plain": [
       "                                          Neighbourhood  \\\n",
       "0                                             Parkwoods   \n",
       "1                                             Parkwoods   \n",
       "2                                      Victoria Village   \n",
       "3                                      Victoria Village   \n",
       "4                                      Victoria Village   \n",
       "...                                                 ...   \n",
       "1307  Mimico NW, The Queensway West, South of Bloor,...   \n",
       "1308  Mimico NW, The Queensway West, South of Bloor,...   \n",
       "1309  Mimico NW, The Queensway West, South of Bloor,...   \n",
       "1310  Mimico NW, The Queensway West, South of Bloor,...   \n",
       "1311  Mimico NW, The Queensway West, South of Bloor,...   \n",
       "\n",
       "      Neighbourhood Latitude  Neighbourhood Longitude                   Venue  \\\n",
       "0                  43.753259               -79.329656         Brookbanks Park   \n",
       "1                  43.753259               -79.329656           Variety Store   \n",
       "2                  43.725882               -79.315572  Victoria Village Arena   \n",
       "3                  43.725882               -79.315572               Portugril   \n",
       "4                  43.725882               -79.315572             Tim Hortons   \n",
       "...                      ...                      ...                     ...   \n",
       "1307               43.628841               -79.520999        South St. Burger   \n",
       "1308               43.628841               -79.520999              Wingporium   \n",
       "1309               43.628841               -79.520999               Dollarama   \n",
       "1310               43.628841               -79.520999          Healthy Planet   \n",
       "1311               43.628841               -79.520999                7-Eleven   \n",
       "\n",
       "             Venue Category  \n",
       "0                      Park  \n",
       "1         Food & Drink Shop  \n",
       "2              Hockey Arena  \n",
       "3     Portuguese Restaurant  \n",
       "4               Coffee Shop  \n",
       "...                     ...  \n",
       "1307           Burger Joint  \n",
       "1308            Wings Joint  \n",
       "1309         Discount Store  \n",
       "1310        Supplement Shop  \n",
       "1311      Convenience Store  \n",
       "\n",
       "[412 rows x 5 columns]"
      ]
     },
     "execution_count": 39,
     "metadata": {},
     "output_type": "execute_result"
    }
   ],
   "source": [
    "venues_in_toronto.groupby('Neighbourhood').head()"
   ]
  },
  {
   "cell_type": "markdown",
   "metadata": {
    "colab_type": "text",
    "id": "uVLIXh3HepjM"
   },
   "source": [
    "So there are 405 records for each neighbourhood.\n",
    "\n",
    "Checking for the maximum venue categories"
   ]
  },
  {
   "cell_type": "code",
   "execution_count": 40,
   "metadata": {
    "colab": {
     "base_uri": "https://localhost:8080/",
     "height": 450
    },
    "colab_type": "code",
    "executionInfo": {
     "elapsed": 1339,
     "status": "ok",
     "timestamp": 1597498952571,
     "user": {
      "displayName": "Thomas George Thomas",
      "photoUrl": "https://lh3.googleusercontent.com/a-/AOh14GhRjmtno5yCmJOUjYiFNGHi_xP5YZBJ1ZpWGKsZ=s64",
      "userId": "09561174857978505545"
     },
     "user_tz": -330
    },
    "id": "OelLBmpbc-0a",
    "outputId": "d40cbf01-0c93-421d-892e-808752e4555a"
   },
   "outputs": [
    {
     "data": {
      "text/html": [
       "<div>\n",
       "<style scoped>\n",
       "    .dataframe tbody tr th:only-of-type {\n",
       "        vertical-align: middle;\n",
       "    }\n",
       "\n",
       "    .dataframe tbody tr th {\n",
       "        vertical-align: top;\n",
       "    }\n",
       "\n",
       "    .dataframe thead th {\n",
       "        text-align: right;\n",
       "    }\n",
       "</style>\n",
       "<table border=\"1\" class=\"dataframe\">\n",
       "  <thead>\n",
       "    <tr style=\"text-align: right;\">\n",
       "      <th></th>\n",
       "      <th>Neighbourhood</th>\n",
       "      <th>Neighbourhood Latitude</th>\n",
       "      <th>Neighbourhood Longitude</th>\n",
       "      <th>Venue</th>\n",
       "    </tr>\n",
       "    <tr>\n",
       "      <th>Venue Category</th>\n",
       "      <th></th>\n",
       "      <th></th>\n",
       "      <th></th>\n",
       "      <th></th>\n",
       "    </tr>\n",
       "  </thead>\n",
       "  <tbody>\n",
       "    <tr>\n",
       "      <th>Accessories Store</th>\n",
       "      <td>Lawrence Manor, Lawrence Heights</td>\n",
       "      <td>43.718518</td>\n",
       "      <td>-79.464763</td>\n",
       "      <td>Ardene Shoes Outlet</td>\n",
       "    </tr>\n",
       "    <tr>\n",
       "      <th>Airport</th>\n",
       "      <td>Downsview</td>\n",
       "      <td>43.737473</td>\n",
       "      <td>-79.394420</td>\n",
       "      <td>Toronto Downsview Airport (YZD)</td>\n",
       "    </tr>\n",
       "    <tr>\n",
       "      <th>Airport Food Court</th>\n",
       "      <td>CN Tower, King and Spadina, Railway Lands, Har...</td>\n",
       "      <td>43.628947</td>\n",
       "      <td>-79.394420</td>\n",
       "      <td>Billy Bishop Café</td>\n",
       "    </tr>\n",
       "    <tr>\n",
       "      <th>Airport Lounge</th>\n",
       "      <td>CN Tower, King and Spadina, Railway Lands, Har...</td>\n",
       "      <td>43.628947</td>\n",
       "      <td>-79.394420</td>\n",
       "      <td>Porter Lounge</td>\n",
       "    </tr>\n",
       "    <tr>\n",
       "      <th>Airport Service</th>\n",
       "      <td>CN Tower, King and Spadina, Railway Lands, Har...</td>\n",
       "      <td>43.628947</td>\n",
       "      <td>-79.394420</td>\n",
       "      <td>Porter Airlines Check-In Counter</td>\n",
       "    </tr>\n",
       "    <tr>\n",
       "      <th>...</th>\n",
       "      <td>...</td>\n",
       "      <td>...</td>\n",
       "      <td>...</td>\n",
       "      <td>...</td>\n",
       "    </tr>\n",
       "    <tr>\n",
       "      <th>Warehouse Store</th>\n",
       "      <td>Thorncliffe Park</td>\n",
       "      <td>43.705369</td>\n",
       "      <td>-79.349372</td>\n",
       "      <td>Costco</td>\n",
       "    </tr>\n",
       "    <tr>\n",
       "      <th>Wine Bar</th>\n",
       "      <td>Little Portugal, Trinity</td>\n",
       "      <td>43.653206</td>\n",
       "      <td>-79.400049</td>\n",
       "      <td>Paris Paris Bar</td>\n",
       "    </tr>\n",
       "    <tr>\n",
       "      <th>Wings Joint</th>\n",
       "      <td>Mimico NW, The Queensway West, South of Bloor,...</td>\n",
       "      <td>43.628841</td>\n",
       "      <td>-79.520999</td>\n",
       "      <td>Wingporium</td>\n",
       "    </tr>\n",
       "    <tr>\n",
       "      <th>Women's Store</th>\n",
       "      <td>Caledonia-Fairbanks</td>\n",
       "      <td>43.689026</td>\n",
       "      <td>-79.453512</td>\n",
       "      <td>Maximum Woman</td>\n",
       "    </tr>\n",
       "    <tr>\n",
       "      <th>Yoga Studio</th>\n",
       "      <td>University of Toronto, Harbord</td>\n",
       "      <td>43.715383</td>\n",
       "      <td>-79.321558</td>\n",
       "      <td>YogaSpace</td>\n",
       "    </tr>\n",
       "  </tbody>\n",
       "</table>\n",
       "<p>230 rows × 4 columns</p>\n",
       "</div>"
      ],
      "text/plain": [
       "                                                        Neighbourhood  \\\n",
       "Venue Category                                                          \n",
       "Accessories Store                    Lawrence Manor, Lawrence Heights   \n",
       "Airport                                                     Downsview   \n",
       "Airport Food Court  CN Tower, King and Spadina, Railway Lands, Har...   \n",
       "Airport Lounge      CN Tower, King and Spadina, Railway Lands, Har...   \n",
       "Airport Service     CN Tower, King and Spadina, Railway Lands, Har...   \n",
       "...                                                               ...   \n",
       "Warehouse Store                                      Thorncliffe Park   \n",
       "Wine Bar                                     Little Portugal, Trinity   \n",
       "Wings Joint         Mimico NW, The Queensway West, South of Bloor,...   \n",
       "Women's Store                                     Caledonia-Fairbanks   \n",
       "Yoga Studio                            University of Toronto, Harbord   \n",
       "\n",
       "                    Neighbourhood Latitude  Neighbourhood Longitude  \\\n",
       "Venue Category                                                        \n",
       "Accessories Store                43.718518               -79.464763   \n",
       "Airport                          43.737473               -79.394420   \n",
       "Airport Food Court               43.628947               -79.394420   \n",
       "Airport Lounge                   43.628947               -79.394420   \n",
       "Airport Service                  43.628947               -79.394420   \n",
       "...                                    ...                      ...   \n",
       "Warehouse Store                  43.705369               -79.349372   \n",
       "Wine Bar                         43.653206               -79.400049   \n",
       "Wings Joint                      43.628841               -79.520999   \n",
       "Women's Store                    43.689026               -79.453512   \n",
       "Yoga Studio                      43.715383               -79.321558   \n",
       "\n",
       "                                               Venue  \n",
       "Venue Category                                        \n",
       "Accessories Store                Ardene Shoes Outlet  \n",
       "Airport              Toronto Downsview Airport (YZD)  \n",
       "Airport Food Court                 Billy Bishop Café  \n",
       "Airport Lounge                         Porter Lounge  \n",
       "Airport Service     Porter Airlines Check-In Counter  \n",
       "...                                              ...  \n",
       "Warehouse Store                               Costco  \n",
       "Wine Bar                             Paris Paris Bar  \n",
       "Wings Joint                               Wingporium  \n",
       "Women's Store                          Maximum Woman  \n",
       "Yoga Studio                                YogaSpace  \n",
       "\n",
       "[230 rows x 4 columns]"
      ]
     },
     "execution_count": 40,
     "metadata": {},
     "output_type": "execute_result"
    }
   ],
   "source": [
    "venues_in_toronto.groupby('Venue Category').max()"
   ]
  },
  {
   "cell_type": "markdown",
   "metadata": {
    "colab_type": "text",
    "id": "8Zz5ulsMfDOK"
   },
   "source": [
    "There are around 232 different types of Venue Categories. Interesting!"
   ]
  },
  {
   "cell_type": "markdown",
   "metadata": {
    "colab_type": "text",
    "id": "jm_UpNpLf7CL"
   },
   "source": [
    "## One Hot encoding the venue Categories"
   ]
  },
  {
   "cell_type": "code",
   "execution_count": 41,
   "metadata": {
    "colab": {
     "base_uri": "https://localhost:8080/",
     "height": 473
    },
    "colab_type": "code",
    "executionInfo": {
     "elapsed": 1325,
     "status": "ok",
     "timestamp": 1597498952572,
     "user": {
      "displayName": "Thomas George Thomas",
      "photoUrl": "https://lh3.googleusercontent.com/a-/AOh14GhRjmtno5yCmJOUjYiFNGHi_xP5YZBJ1ZpWGKsZ=s64",
      "userId": "09561174857978505545"
     },
     "user_tz": -330
    },
    "id": "JfBRo4eqe3Pt",
    "outputId": "513e4630-dfb0-4fc6-b8e6-0e03409208a6"
   },
   "outputs": [
    {
     "data": {
      "text/html": [
       "<div>\n",
       "<style scoped>\n",
       "    .dataframe tbody tr th:only-of-type {\n",
       "        vertical-align: middle;\n",
       "    }\n",
       "\n",
       "    .dataframe tbody tr th {\n",
       "        vertical-align: top;\n",
       "    }\n",
       "\n",
       "    .dataframe thead th {\n",
       "        text-align: right;\n",
       "    }\n",
       "</style>\n",
       "<table border=\"1\" class=\"dataframe\">\n",
       "  <thead>\n",
       "    <tr style=\"text-align: right;\">\n",
       "      <th></th>\n",
       "      <th>Accessories Store</th>\n",
       "      <th>Airport</th>\n",
       "      <th>Airport Food Court</th>\n",
       "      <th>Airport Lounge</th>\n",
       "      <th>Airport Service</th>\n",
       "      <th>Airport Terminal</th>\n",
       "      <th>American Restaurant</th>\n",
       "      <th>Antique Shop</th>\n",
       "      <th>Aquarium</th>\n",
       "      <th>Art Gallery</th>\n",
       "      <th>...</th>\n",
       "      <th>Trail</th>\n",
       "      <th>Train Station</th>\n",
       "      <th>Vegetarian / Vegan Restaurant</th>\n",
       "      <th>Video Game Store</th>\n",
       "      <th>Vietnamese Restaurant</th>\n",
       "      <th>Warehouse Store</th>\n",
       "      <th>Wine Bar</th>\n",
       "      <th>Wings Joint</th>\n",
       "      <th>Women's Store</th>\n",
       "      <th>Yoga Studio</th>\n",
       "    </tr>\n",
       "  </thead>\n",
       "  <tbody>\n",
       "    <tr>\n",
       "      <th>0</th>\n",
       "      <td>0</td>\n",
       "      <td>0</td>\n",
       "      <td>0</td>\n",
       "      <td>0</td>\n",
       "      <td>0</td>\n",
       "      <td>0</td>\n",
       "      <td>0</td>\n",
       "      <td>0</td>\n",
       "      <td>0</td>\n",
       "      <td>0</td>\n",
       "      <td>...</td>\n",
       "      <td>0</td>\n",
       "      <td>0</td>\n",
       "      <td>0</td>\n",
       "      <td>0</td>\n",
       "      <td>0</td>\n",
       "      <td>0</td>\n",
       "      <td>0</td>\n",
       "      <td>0</td>\n",
       "      <td>0</td>\n",
       "      <td>0</td>\n",
       "    </tr>\n",
       "    <tr>\n",
       "      <th>1</th>\n",
       "      <td>0</td>\n",
       "      <td>0</td>\n",
       "      <td>0</td>\n",
       "      <td>0</td>\n",
       "      <td>0</td>\n",
       "      <td>0</td>\n",
       "      <td>0</td>\n",
       "      <td>0</td>\n",
       "      <td>0</td>\n",
       "      <td>0</td>\n",
       "      <td>...</td>\n",
       "      <td>0</td>\n",
       "      <td>0</td>\n",
       "      <td>0</td>\n",
       "      <td>0</td>\n",
       "      <td>0</td>\n",
       "      <td>0</td>\n",
       "      <td>0</td>\n",
       "      <td>0</td>\n",
       "      <td>0</td>\n",
       "      <td>0</td>\n",
       "    </tr>\n",
       "    <tr>\n",
       "      <th>2</th>\n",
       "      <td>0</td>\n",
       "      <td>0</td>\n",
       "      <td>0</td>\n",
       "      <td>0</td>\n",
       "      <td>0</td>\n",
       "      <td>0</td>\n",
       "      <td>0</td>\n",
       "      <td>0</td>\n",
       "      <td>0</td>\n",
       "      <td>0</td>\n",
       "      <td>...</td>\n",
       "      <td>0</td>\n",
       "      <td>0</td>\n",
       "      <td>0</td>\n",
       "      <td>0</td>\n",
       "      <td>0</td>\n",
       "      <td>0</td>\n",
       "      <td>0</td>\n",
       "      <td>0</td>\n",
       "      <td>0</td>\n",
       "      <td>0</td>\n",
       "    </tr>\n",
       "    <tr>\n",
       "      <th>3</th>\n",
       "      <td>0</td>\n",
       "      <td>0</td>\n",
       "      <td>0</td>\n",
       "      <td>0</td>\n",
       "      <td>0</td>\n",
       "      <td>0</td>\n",
       "      <td>0</td>\n",
       "      <td>0</td>\n",
       "      <td>0</td>\n",
       "      <td>0</td>\n",
       "      <td>...</td>\n",
       "      <td>0</td>\n",
       "      <td>0</td>\n",
       "      <td>0</td>\n",
       "      <td>0</td>\n",
       "      <td>0</td>\n",
       "      <td>0</td>\n",
       "      <td>0</td>\n",
       "      <td>0</td>\n",
       "      <td>0</td>\n",
       "      <td>0</td>\n",
       "    </tr>\n",
       "    <tr>\n",
       "      <th>4</th>\n",
       "      <td>0</td>\n",
       "      <td>0</td>\n",
       "      <td>0</td>\n",
       "      <td>0</td>\n",
       "      <td>0</td>\n",
       "      <td>0</td>\n",
       "      <td>0</td>\n",
       "      <td>0</td>\n",
       "      <td>0</td>\n",
       "      <td>0</td>\n",
       "      <td>...</td>\n",
       "      <td>0</td>\n",
       "      <td>0</td>\n",
       "      <td>0</td>\n",
       "      <td>0</td>\n",
       "      <td>0</td>\n",
       "      <td>0</td>\n",
       "      <td>0</td>\n",
       "      <td>0</td>\n",
       "      <td>0</td>\n",
       "      <td>0</td>\n",
       "    </tr>\n",
       "    <tr>\n",
       "      <th>...</th>\n",
       "      <td>...</td>\n",
       "      <td>...</td>\n",
       "      <td>...</td>\n",
       "      <td>...</td>\n",
       "      <td>...</td>\n",
       "      <td>...</td>\n",
       "      <td>...</td>\n",
       "      <td>...</td>\n",
       "      <td>...</td>\n",
       "      <td>...</td>\n",
       "      <td>...</td>\n",
       "      <td>...</td>\n",
       "      <td>...</td>\n",
       "      <td>...</td>\n",
       "      <td>...</td>\n",
       "      <td>...</td>\n",
       "      <td>...</td>\n",
       "      <td>...</td>\n",
       "      <td>...</td>\n",
       "      <td>...</td>\n",
       "      <td>...</td>\n",
       "    </tr>\n",
       "    <tr>\n",
       "      <th>1316</th>\n",
       "      <td>0</td>\n",
       "      <td>0</td>\n",
       "      <td>0</td>\n",
       "      <td>0</td>\n",
       "      <td>0</td>\n",
       "      <td>0</td>\n",
       "      <td>0</td>\n",
       "      <td>0</td>\n",
       "      <td>0</td>\n",
       "      <td>0</td>\n",
       "      <td>...</td>\n",
       "      <td>0</td>\n",
       "      <td>0</td>\n",
       "      <td>0</td>\n",
       "      <td>0</td>\n",
       "      <td>0</td>\n",
       "      <td>0</td>\n",
       "      <td>0</td>\n",
       "      <td>0</td>\n",
       "      <td>0</td>\n",
       "      <td>0</td>\n",
       "    </tr>\n",
       "    <tr>\n",
       "      <th>1317</th>\n",
       "      <td>0</td>\n",
       "      <td>0</td>\n",
       "      <td>0</td>\n",
       "      <td>0</td>\n",
       "      <td>0</td>\n",
       "      <td>0</td>\n",
       "      <td>0</td>\n",
       "      <td>0</td>\n",
       "      <td>0</td>\n",
       "      <td>0</td>\n",
       "      <td>...</td>\n",
       "      <td>0</td>\n",
       "      <td>0</td>\n",
       "      <td>0</td>\n",
       "      <td>0</td>\n",
       "      <td>0</td>\n",
       "      <td>0</td>\n",
       "      <td>0</td>\n",
       "      <td>0</td>\n",
       "      <td>0</td>\n",
       "      <td>0</td>\n",
       "    </tr>\n",
       "    <tr>\n",
       "      <th>1318</th>\n",
       "      <td>0</td>\n",
       "      <td>0</td>\n",
       "      <td>0</td>\n",
       "      <td>0</td>\n",
       "      <td>0</td>\n",
       "      <td>0</td>\n",
       "      <td>0</td>\n",
       "      <td>0</td>\n",
       "      <td>0</td>\n",
       "      <td>0</td>\n",
       "      <td>...</td>\n",
       "      <td>0</td>\n",
       "      <td>0</td>\n",
       "      <td>0</td>\n",
       "      <td>0</td>\n",
       "      <td>0</td>\n",
       "      <td>0</td>\n",
       "      <td>0</td>\n",
       "      <td>0</td>\n",
       "      <td>0</td>\n",
       "      <td>0</td>\n",
       "    </tr>\n",
       "    <tr>\n",
       "      <th>1319</th>\n",
       "      <td>0</td>\n",
       "      <td>0</td>\n",
       "      <td>0</td>\n",
       "      <td>0</td>\n",
       "      <td>0</td>\n",
       "      <td>0</td>\n",
       "      <td>0</td>\n",
       "      <td>0</td>\n",
       "      <td>0</td>\n",
       "      <td>0</td>\n",
       "      <td>...</td>\n",
       "      <td>0</td>\n",
       "      <td>0</td>\n",
       "      <td>0</td>\n",
       "      <td>0</td>\n",
       "      <td>0</td>\n",
       "      <td>0</td>\n",
       "      <td>0</td>\n",
       "      <td>0</td>\n",
       "      <td>0</td>\n",
       "      <td>0</td>\n",
       "    </tr>\n",
       "    <tr>\n",
       "      <th>1320</th>\n",
       "      <td>0</td>\n",
       "      <td>0</td>\n",
       "      <td>0</td>\n",
       "      <td>0</td>\n",
       "      <td>0</td>\n",
       "      <td>0</td>\n",
       "      <td>0</td>\n",
       "      <td>0</td>\n",
       "      <td>0</td>\n",
       "      <td>0</td>\n",
       "      <td>...</td>\n",
       "      <td>0</td>\n",
       "      <td>0</td>\n",
       "      <td>0</td>\n",
       "      <td>0</td>\n",
       "      <td>0</td>\n",
       "      <td>0</td>\n",
       "      <td>0</td>\n",
       "      <td>0</td>\n",
       "      <td>0</td>\n",
       "      <td>0</td>\n",
       "    </tr>\n",
       "  </tbody>\n",
       "</table>\n",
       "<p>1321 rows × 230 columns</p>\n",
       "</div>"
      ],
      "text/plain": [
       "      Accessories Store  Airport  Airport Food Court  Airport Lounge  \\\n",
       "0                     0        0                   0               0   \n",
       "1                     0        0                   0               0   \n",
       "2                     0        0                   0               0   \n",
       "3                     0        0                   0               0   \n",
       "4                     0        0                   0               0   \n",
       "...                 ...      ...                 ...             ...   \n",
       "1316                  0        0                   0               0   \n",
       "1317                  0        0                   0               0   \n",
       "1318                  0        0                   0               0   \n",
       "1319                  0        0                   0               0   \n",
       "1320                  0        0                   0               0   \n",
       "\n",
       "      Airport Service  Airport Terminal  American Restaurant  Antique Shop  \\\n",
       "0                   0                 0                    0             0   \n",
       "1                   0                 0                    0             0   \n",
       "2                   0                 0                    0             0   \n",
       "3                   0                 0                    0             0   \n",
       "4                   0                 0                    0             0   \n",
       "...               ...               ...                  ...           ...   \n",
       "1316                0                 0                    0             0   \n",
       "1317                0                 0                    0             0   \n",
       "1318                0                 0                    0             0   \n",
       "1319                0                 0                    0             0   \n",
       "1320                0                 0                    0             0   \n",
       "\n",
       "      Aquarium  Art Gallery  ...  Trail  Train Station  \\\n",
       "0            0            0  ...      0              0   \n",
       "1            0            0  ...      0              0   \n",
       "2            0            0  ...      0              0   \n",
       "3            0            0  ...      0              0   \n",
       "4            0            0  ...      0              0   \n",
       "...        ...          ...  ...    ...            ...   \n",
       "1316         0            0  ...      0              0   \n",
       "1317         0            0  ...      0              0   \n",
       "1318         0            0  ...      0              0   \n",
       "1319         0            0  ...      0              0   \n",
       "1320         0            0  ...      0              0   \n",
       "\n",
       "      Vegetarian / Vegan Restaurant  Video Game Store  Vietnamese Restaurant  \\\n",
       "0                                 0                 0                      0   \n",
       "1                                 0                 0                      0   \n",
       "2                                 0                 0                      0   \n",
       "3                                 0                 0                      0   \n",
       "4                                 0                 0                      0   \n",
       "...                             ...               ...                    ...   \n",
       "1316                              0                 0                      0   \n",
       "1317                              0                 0                      0   \n",
       "1318                              0                 0                      0   \n",
       "1319                              0                 0                      0   \n",
       "1320                              0                 0                      0   \n",
       "\n",
       "      Warehouse Store  Wine Bar  Wings Joint  Women's Store  Yoga Studio  \n",
       "0                   0         0            0              0            0  \n",
       "1                   0         0            0              0            0  \n",
       "2                   0         0            0              0            0  \n",
       "3                   0         0            0              0            0  \n",
       "4                   0         0            0              0            0  \n",
       "...               ...       ...          ...            ...          ...  \n",
       "1316                0         0            0              0            0  \n",
       "1317                0         0            0              0            0  \n",
       "1318                0         0            0              0            0  \n",
       "1319                0         0            0              0            0  \n",
       "1320                0         0            0              0            0  \n",
       "\n",
       "[1321 rows x 230 columns]"
      ]
     },
     "execution_count": 41,
     "metadata": {},
     "output_type": "execute_result"
    }
   ],
   "source": [
    "toronto_venue_cat = pd.get_dummies(venues_in_toronto[['Venue Category']], prefix=\"\", prefix_sep=\"\")\n",
    "toronto_venue_cat"
   ]
  },
  {
   "cell_type": "markdown",
   "metadata": {
    "colab_type": "text",
    "id": "sPcSsdHTgQxY"
   },
   "source": [
    "Adding the neighbourhood to the encoded dataframe"
   ]
  },
  {
   "cell_type": "code",
   "execution_count": 42,
   "metadata": {
    "colab": {
     "base_uri": "https://localhost:8080/",
     "height": 287
    },
    "colab_type": "code",
    "executionInfo": {
     "elapsed": 1310,
     "status": "ok",
     "timestamp": 1597498952574,
     "user": {
      "displayName": "Thomas George Thomas",
      "photoUrl": "https://lh3.googleusercontent.com/a-/AOh14GhRjmtno5yCmJOUjYiFNGHi_xP5YZBJ1ZpWGKsZ=s64",
      "userId": "09561174857978505545"
     },
     "user_tz": -330
    },
    "id": "EAi3ShqvgL5Q",
    "outputId": "7c038ca1-10f1-45ca-c20e-95541328b8cf"
   },
   "outputs": [
    {
     "data": {
      "text/html": [
       "<div>\n",
       "<style scoped>\n",
       "    .dataframe tbody tr th:only-of-type {\n",
       "        vertical-align: middle;\n",
       "    }\n",
       "\n",
       "    .dataframe tbody tr th {\n",
       "        vertical-align: top;\n",
       "    }\n",
       "\n",
       "    .dataframe thead th {\n",
       "        text-align: right;\n",
       "    }\n",
       "</style>\n",
       "<table border=\"1\" class=\"dataframe\">\n",
       "  <thead>\n",
       "    <tr style=\"text-align: right;\">\n",
       "      <th></th>\n",
       "      <th>Neighbourhood</th>\n",
       "      <th>Accessories Store</th>\n",
       "      <th>Airport</th>\n",
       "      <th>Airport Food Court</th>\n",
       "      <th>Airport Lounge</th>\n",
       "      <th>Airport Service</th>\n",
       "      <th>Airport Terminal</th>\n",
       "      <th>American Restaurant</th>\n",
       "      <th>Antique Shop</th>\n",
       "      <th>Aquarium</th>\n",
       "      <th>...</th>\n",
       "      <th>Trail</th>\n",
       "      <th>Train Station</th>\n",
       "      <th>Vegetarian / Vegan Restaurant</th>\n",
       "      <th>Video Game Store</th>\n",
       "      <th>Vietnamese Restaurant</th>\n",
       "      <th>Warehouse Store</th>\n",
       "      <th>Wine Bar</th>\n",
       "      <th>Wings Joint</th>\n",
       "      <th>Women's Store</th>\n",
       "      <th>Yoga Studio</th>\n",
       "    </tr>\n",
       "  </thead>\n",
       "  <tbody>\n",
       "    <tr>\n",
       "      <th>0</th>\n",
       "      <td>Parkwoods</td>\n",
       "      <td>0</td>\n",
       "      <td>0</td>\n",
       "      <td>0</td>\n",
       "      <td>0</td>\n",
       "      <td>0</td>\n",
       "      <td>0</td>\n",
       "      <td>0</td>\n",
       "      <td>0</td>\n",
       "      <td>0</td>\n",
       "      <td>...</td>\n",
       "      <td>0</td>\n",
       "      <td>0</td>\n",
       "      <td>0</td>\n",
       "      <td>0</td>\n",
       "      <td>0</td>\n",
       "      <td>0</td>\n",
       "      <td>0</td>\n",
       "      <td>0</td>\n",
       "      <td>0</td>\n",
       "      <td>0</td>\n",
       "    </tr>\n",
       "    <tr>\n",
       "      <th>1</th>\n",
       "      <td>Parkwoods</td>\n",
       "      <td>0</td>\n",
       "      <td>0</td>\n",
       "      <td>0</td>\n",
       "      <td>0</td>\n",
       "      <td>0</td>\n",
       "      <td>0</td>\n",
       "      <td>0</td>\n",
       "      <td>0</td>\n",
       "      <td>0</td>\n",
       "      <td>...</td>\n",
       "      <td>0</td>\n",
       "      <td>0</td>\n",
       "      <td>0</td>\n",
       "      <td>0</td>\n",
       "      <td>0</td>\n",
       "      <td>0</td>\n",
       "      <td>0</td>\n",
       "      <td>0</td>\n",
       "      <td>0</td>\n",
       "      <td>0</td>\n",
       "    </tr>\n",
       "    <tr>\n",
       "      <th>2</th>\n",
       "      <td>Victoria Village</td>\n",
       "      <td>0</td>\n",
       "      <td>0</td>\n",
       "      <td>0</td>\n",
       "      <td>0</td>\n",
       "      <td>0</td>\n",
       "      <td>0</td>\n",
       "      <td>0</td>\n",
       "      <td>0</td>\n",
       "      <td>0</td>\n",
       "      <td>...</td>\n",
       "      <td>0</td>\n",
       "      <td>0</td>\n",
       "      <td>0</td>\n",
       "      <td>0</td>\n",
       "      <td>0</td>\n",
       "      <td>0</td>\n",
       "      <td>0</td>\n",
       "      <td>0</td>\n",
       "      <td>0</td>\n",
       "      <td>0</td>\n",
       "    </tr>\n",
       "    <tr>\n",
       "      <th>3</th>\n",
       "      <td>Victoria Village</td>\n",
       "      <td>0</td>\n",
       "      <td>0</td>\n",
       "      <td>0</td>\n",
       "      <td>0</td>\n",
       "      <td>0</td>\n",
       "      <td>0</td>\n",
       "      <td>0</td>\n",
       "      <td>0</td>\n",
       "      <td>0</td>\n",
       "      <td>...</td>\n",
       "      <td>0</td>\n",
       "      <td>0</td>\n",
       "      <td>0</td>\n",
       "      <td>0</td>\n",
       "      <td>0</td>\n",
       "      <td>0</td>\n",
       "      <td>0</td>\n",
       "      <td>0</td>\n",
       "      <td>0</td>\n",
       "      <td>0</td>\n",
       "    </tr>\n",
       "    <tr>\n",
       "      <th>4</th>\n",
       "      <td>Victoria Village</td>\n",
       "      <td>0</td>\n",
       "      <td>0</td>\n",
       "      <td>0</td>\n",
       "      <td>0</td>\n",
       "      <td>0</td>\n",
       "      <td>0</td>\n",
       "      <td>0</td>\n",
       "      <td>0</td>\n",
       "      <td>0</td>\n",
       "      <td>...</td>\n",
       "      <td>0</td>\n",
       "      <td>0</td>\n",
       "      <td>0</td>\n",
       "      <td>0</td>\n",
       "      <td>0</td>\n",
       "      <td>0</td>\n",
       "      <td>0</td>\n",
       "      <td>0</td>\n",
       "      <td>0</td>\n",
       "      <td>0</td>\n",
       "    </tr>\n",
       "  </tbody>\n",
       "</table>\n",
       "<p>5 rows × 231 columns</p>\n",
       "</div>"
      ],
      "text/plain": [
       "      Neighbourhood  Accessories Store  Airport  Airport Food Court  \\\n",
       "0         Parkwoods                  0        0                   0   \n",
       "1         Parkwoods                  0        0                   0   \n",
       "2  Victoria Village                  0        0                   0   \n",
       "3  Victoria Village                  0        0                   0   \n",
       "4  Victoria Village                  0        0                   0   \n",
       "\n",
       "   Airport Lounge  Airport Service  Airport Terminal  American Restaurant  \\\n",
       "0               0                0                 0                    0   \n",
       "1               0                0                 0                    0   \n",
       "2               0                0                 0                    0   \n",
       "3               0                0                 0                    0   \n",
       "4               0                0                 0                    0   \n",
       "\n",
       "   Antique Shop  Aquarium  ...  Trail  Train Station  \\\n",
       "0             0         0  ...      0              0   \n",
       "1             0         0  ...      0              0   \n",
       "2             0         0  ...      0              0   \n",
       "3             0         0  ...      0              0   \n",
       "4             0         0  ...      0              0   \n",
       "\n",
       "   Vegetarian / Vegan Restaurant  Video Game Store  Vietnamese Restaurant  \\\n",
       "0                              0                 0                      0   \n",
       "1                              0                 0                      0   \n",
       "2                              0                 0                      0   \n",
       "3                              0                 0                      0   \n",
       "4                              0                 0                      0   \n",
       "\n",
       "   Warehouse Store  Wine Bar  Wings Joint  Women's Store  Yoga Studio  \n",
       "0                0         0            0              0            0  \n",
       "1                0         0            0              0            0  \n",
       "2                0         0            0              0            0  \n",
       "3                0         0            0              0            0  \n",
       "4                0         0            0              0            0  \n",
       "\n",
       "[5 rows x 231 columns]"
      ]
     },
     "execution_count": 42,
     "metadata": {},
     "output_type": "execute_result"
    }
   ],
   "source": [
    "toronto_venue_cat['Neighbourhood'] = venues_in_toronto['Neighbourhood'] \n",
    "\n",
    "# moving neighborhood column to the first column\n",
    "fixed_columns = [toronto_venue_cat.columns[-1]] + list(toronto_venue_cat.columns[:-1])\n",
    "toronto_venue_cat = toronto_venue_cat[fixed_columns]\n",
    "\n",
    "toronto_venue_cat.head()"
   ]
  },
  {
   "cell_type": "markdown",
   "metadata": {
    "colab_type": "text",
    "id": "oawCyCfkg6xv"
   },
   "source": [
    "We will group the Neighbourhoods, calculate the mean venue categories in each Neighbourhood "
   ]
  },
  {
   "cell_type": "code",
   "execution_count": 43,
   "metadata": {
    "colab": {
     "base_uri": "https://localhost:8080/",
     "height": 389
    },
    "colab_type": "code",
    "executionInfo": {
     "elapsed": 1666,
     "status": "ok",
     "timestamp": 1597498952945,
     "user": {
      "displayName": "Thomas George Thomas",
      "photoUrl": "https://lh3.googleusercontent.com/a-/AOh14GhRjmtno5yCmJOUjYiFNGHi_xP5YZBJ1ZpWGKsZ=s64",
      "userId": "09561174857978505545"
     },
     "user_tz": -330
    },
    "id": "a8pce96ggYmz",
    "outputId": "2ae7b125-16b8-4a72-f47f-7825577bb2a0"
   },
   "outputs": [
    {
     "data": {
      "text/html": [
       "<div>\n",
       "<style scoped>\n",
       "    .dataframe tbody tr th:only-of-type {\n",
       "        vertical-align: middle;\n",
       "    }\n",
       "\n",
       "    .dataframe tbody tr th {\n",
       "        vertical-align: top;\n",
       "    }\n",
       "\n",
       "    .dataframe thead th {\n",
       "        text-align: right;\n",
       "    }\n",
       "</style>\n",
       "<table border=\"1\" class=\"dataframe\">\n",
       "  <thead>\n",
       "    <tr style=\"text-align: right;\">\n",
       "      <th></th>\n",
       "      <th>Neighbourhood</th>\n",
       "      <th>Accessories Store</th>\n",
       "      <th>Airport</th>\n",
       "      <th>Airport Food Court</th>\n",
       "      <th>Airport Lounge</th>\n",
       "      <th>Airport Service</th>\n",
       "      <th>Airport Terminal</th>\n",
       "      <th>American Restaurant</th>\n",
       "      <th>Antique Shop</th>\n",
       "      <th>Aquarium</th>\n",
       "      <th>...</th>\n",
       "      <th>Trail</th>\n",
       "      <th>Train Station</th>\n",
       "      <th>Vegetarian / Vegan Restaurant</th>\n",
       "      <th>Video Game Store</th>\n",
       "      <th>Vietnamese Restaurant</th>\n",
       "      <th>Warehouse Store</th>\n",
       "      <th>Wine Bar</th>\n",
       "      <th>Wings Joint</th>\n",
       "      <th>Women's Store</th>\n",
       "      <th>Yoga Studio</th>\n",
       "    </tr>\n",
       "  </thead>\n",
       "  <tbody>\n",
       "    <tr>\n",
       "      <th>0</th>\n",
       "      <td>Agincourt</td>\n",
       "      <td>0.0</td>\n",
       "      <td>0.0</td>\n",
       "      <td>0.0</td>\n",
       "      <td>0.0</td>\n",
       "      <td>0.0</td>\n",
       "      <td>0.0</td>\n",
       "      <td>0.000000</td>\n",
       "      <td>0.0</td>\n",
       "      <td>0.0</td>\n",
       "      <td>...</td>\n",
       "      <td>0.0</td>\n",
       "      <td>0.0</td>\n",
       "      <td>0.0</td>\n",
       "      <td>0.0</td>\n",
       "      <td>0.0</td>\n",
       "      <td>0.0</td>\n",
       "      <td>0.0</td>\n",
       "      <td>0.0</td>\n",
       "      <td>0.0</td>\n",
       "      <td>0.0</td>\n",
       "    </tr>\n",
       "    <tr>\n",
       "      <th>1</th>\n",
       "      <td>Alderwood, Long Branch</td>\n",
       "      <td>0.0</td>\n",
       "      <td>0.0</td>\n",
       "      <td>0.0</td>\n",
       "      <td>0.0</td>\n",
       "      <td>0.0</td>\n",
       "      <td>0.0</td>\n",
       "      <td>0.000000</td>\n",
       "      <td>0.0</td>\n",
       "      <td>0.0</td>\n",
       "      <td>...</td>\n",
       "      <td>0.0</td>\n",
       "      <td>0.0</td>\n",
       "      <td>0.0</td>\n",
       "      <td>0.0</td>\n",
       "      <td>0.0</td>\n",
       "      <td>0.0</td>\n",
       "      <td>0.0</td>\n",
       "      <td>0.0</td>\n",
       "      <td>0.0</td>\n",
       "      <td>0.0</td>\n",
       "    </tr>\n",
       "    <tr>\n",
       "      <th>2</th>\n",
       "      <td>Bathurst Manor, Wilson Heights, Downsview North</td>\n",
       "      <td>0.0</td>\n",
       "      <td>0.0</td>\n",
       "      <td>0.0</td>\n",
       "      <td>0.0</td>\n",
       "      <td>0.0</td>\n",
       "      <td>0.0</td>\n",
       "      <td>0.000000</td>\n",
       "      <td>0.0</td>\n",
       "      <td>0.0</td>\n",
       "      <td>...</td>\n",
       "      <td>0.0</td>\n",
       "      <td>0.0</td>\n",
       "      <td>0.0</td>\n",
       "      <td>0.0</td>\n",
       "      <td>0.0</td>\n",
       "      <td>0.0</td>\n",
       "      <td>0.0</td>\n",
       "      <td>0.0</td>\n",
       "      <td>0.0</td>\n",
       "      <td>0.0</td>\n",
       "    </tr>\n",
       "    <tr>\n",
       "      <th>3</th>\n",
       "      <td>Bayview Village</td>\n",
       "      <td>0.0</td>\n",
       "      <td>0.0</td>\n",
       "      <td>0.0</td>\n",
       "      <td>0.0</td>\n",
       "      <td>0.0</td>\n",
       "      <td>0.0</td>\n",
       "      <td>0.000000</td>\n",
       "      <td>0.0</td>\n",
       "      <td>0.0</td>\n",
       "      <td>...</td>\n",
       "      <td>0.0</td>\n",
       "      <td>0.0</td>\n",
       "      <td>0.0</td>\n",
       "      <td>0.0</td>\n",
       "      <td>0.0</td>\n",
       "      <td>0.0</td>\n",
       "      <td>0.0</td>\n",
       "      <td>0.0</td>\n",
       "      <td>0.0</td>\n",
       "      <td>0.0</td>\n",
       "    </tr>\n",
       "    <tr>\n",
       "      <th>4</th>\n",
       "      <td>Bedford Park, Lawrence Manor East</td>\n",
       "      <td>0.0</td>\n",
       "      <td>0.0</td>\n",
       "      <td>0.0</td>\n",
       "      <td>0.0</td>\n",
       "      <td>0.0</td>\n",
       "      <td>0.0</td>\n",
       "      <td>0.041667</td>\n",
       "      <td>0.0</td>\n",
       "      <td>0.0</td>\n",
       "      <td>...</td>\n",
       "      <td>0.0</td>\n",
       "      <td>0.0</td>\n",
       "      <td>0.0</td>\n",
       "      <td>0.0</td>\n",
       "      <td>0.0</td>\n",
       "      <td>0.0</td>\n",
       "      <td>0.0</td>\n",
       "      <td>0.0</td>\n",
       "      <td>0.0</td>\n",
       "      <td>0.0</td>\n",
       "    </tr>\n",
       "  </tbody>\n",
       "</table>\n",
       "<p>5 rows × 231 columns</p>\n",
       "</div>"
      ],
      "text/plain": [
       "                                     Neighbourhood  Accessories Store  \\\n",
       "0                                        Agincourt                0.0   \n",
       "1                           Alderwood, Long Branch                0.0   \n",
       "2  Bathurst Manor, Wilson Heights, Downsview North                0.0   \n",
       "3                                  Bayview Village                0.0   \n",
       "4                Bedford Park, Lawrence Manor East                0.0   \n",
       "\n",
       "   Airport  Airport Food Court  Airport Lounge  Airport Service  \\\n",
       "0      0.0                 0.0             0.0              0.0   \n",
       "1      0.0                 0.0             0.0              0.0   \n",
       "2      0.0                 0.0             0.0              0.0   \n",
       "3      0.0                 0.0             0.0              0.0   \n",
       "4      0.0                 0.0             0.0              0.0   \n",
       "\n",
       "   Airport Terminal  American Restaurant  Antique Shop  Aquarium  ...  Trail  \\\n",
       "0               0.0             0.000000           0.0       0.0  ...    0.0   \n",
       "1               0.0             0.000000           0.0       0.0  ...    0.0   \n",
       "2               0.0             0.000000           0.0       0.0  ...    0.0   \n",
       "3               0.0             0.000000           0.0       0.0  ...    0.0   \n",
       "4               0.0             0.041667           0.0       0.0  ...    0.0   \n",
       "\n",
       "   Train Station  Vegetarian / Vegan Restaurant  Video Game Store  \\\n",
       "0            0.0                            0.0               0.0   \n",
       "1            0.0                            0.0               0.0   \n",
       "2            0.0                            0.0               0.0   \n",
       "3            0.0                            0.0               0.0   \n",
       "4            0.0                            0.0               0.0   \n",
       "\n",
       "   Vietnamese Restaurant  Warehouse Store  Wine Bar  Wings Joint  \\\n",
       "0                    0.0              0.0       0.0          0.0   \n",
       "1                    0.0              0.0       0.0          0.0   \n",
       "2                    0.0              0.0       0.0          0.0   \n",
       "3                    0.0              0.0       0.0          0.0   \n",
       "4                    0.0              0.0       0.0          0.0   \n",
       "\n",
       "   Women's Store  Yoga Studio  \n",
       "0            0.0          0.0  \n",
       "1            0.0          0.0  \n",
       "2            0.0          0.0  \n",
       "3            0.0          0.0  \n",
       "4            0.0          0.0  \n",
       "\n",
       "[5 rows x 231 columns]"
      ]
     },
     "execution_count": 43,
     "metadata": {},
     "output_type": "execute_result"
    }
   ],
   "source": [
    "toronto_grouped = toronto_venue_cat.groupby('Neighbourhood').mean().reset_index()\n",
    "toronto_grouped.head()"
   ]
  },
  {
   "cell_type": "markdown",
   "metadata": {
    "colab_type": "text",
    "id": "7zyb9rUCjIW7"
   },
   "source": [
    "Let's make a function to get the top most common venue categories"
   ]
  },
  {
   "cell_type": "code",
   "execution_count": 44,
   "metadata": {
    "colab": {},
    "colab_type": "code",
    "executionInfo": {
     "elapsed": 1653,
     "status": "ok",
     "timestamp": 1597498952947,
     "user": {
      "displayName": "Thomas George Thomas",
      "photoUrl": "https://lh3.googleusercontent.com/a-/AOh14GhRjmtno5yCmJOUjYiFNGHi_xP5YZBJ1ZpWGKsZ=s64",
      "userId": "09561174857978505545"
     },
     "user_tz": -330
    },
    "id": "hd5y_SithLr1"
   },
   "outputs": [],
   "source": [
    "def return_most_common_venues(row, num_top_venues):\n",
    "    row_categories = row.iloc[1:]\n",
    "    row_categories_sorted = row_categories.sort_values(ascending=False)\n",
    "    \n",
    "    return row_categories_sorted.index.values[0:num_top_venues]"
   ]
  },
  {
   "cell_type": "code",
   "execution_count": 45,
   "metadata": {
    "colab": {},
    "colab_type": "code",
    "executionInfo": {
     "elapsed": 1641,
     "status": "ok",
     "timestamp": 1597498952948,
     "user": {
      "displayName": "Thomas George Thomas",
      "photoUrl": "https://lh3.googleusercontent.com/a-/AOh14GhRjmtno5yCmJOUjYiFNGHi_xP5YZBJ1ZpWGKsZ=s64",
      "userId": "09561174857978505545"
     },
     "user_tz": -330
    },
    "id": "66YHle98jbYr"
   },
   "outputs": [],
   "source": [
    "import numpy as np"
   ]
  },
  {
   "cell_type": "markdown",
   "metadata": {
    "colab_type": "text",
    "id": "uj_dGPq_jmUs"
   },
   "source": [
    "There are way too many venue categories, we can take the top 10 to cluster the neighbourhoods"
   ]
  },
  {
   "cell_type": "code",
   "execution_count": 46,
   "metadata": {
    "colab": {
     "base_uri": "https://localhost:8080/",
     "height": 374
    },
    "colab_type": "code",
    "executionInfo": {
     "elapsed": 2014,
     "status": "ok",
     "timestamp": 1597498953334,
     "user": {
      "displayName": "Thomas George Thomas",
      "photoUrl": "https://lh3.googleusercontent.com/a-/AOh14GhRjmtno5yCmJOUjYiFNGHi_xP5YZBJ1ZpWGKsZ=s64",
      "userId": "09561174857978505545"
     },
     "user_tz": -330
    },
    "id": "LvRR_p-tjOk0",
    "outputId": "9f2d0deb-94f9-4be9-9f3c-b7e3f6e1b673"
   },
   "outputs": [
    {
     "data": {
      "text/html": [
       "<div>\n",
       "<style scoped>\n",
       "    .dataframe tbody tr th:only-of-type {\n",
       "        vertical-align: middle;\n",
       "    }\n",
       "\n",
       "    .dataframe tbody tr th {\n",
       "        vertical-align: top;\n",
       "    }\n",
       "\n",
       "    .dataframe thead th {\n",
       "        text-align: right;\n",
       "    }\n",
       "</style>\n",
       "<table border=\"1\" class=\"dataframe\">\n",
       "  <thead>\n",
       "    <tr style=\"text-align: right;\">\n",
       "      <th></th>\n",
       "      <th>Neighbourhood</th>\n",
       "      <th>1st Most Common Venue</th>\n",
       "      <th>2nd Most Common Venue</th>\n",
       "      <th>3rd Most Common Venue</th>\n",
       "      <th>4th Most Common Venue</th>\n",
       "      <th>5th Most Common Venue</th>\n",
       "      <th>6th Most Common Venue</th>\n",
       "      <th>7th Most Common Venue</th>\n",
       "      <th>8th Most Common Venue</th>\n",
       "      <th>9th Most Common Venue</th>\n",
       "      <th>10th Most Common Venue</th>\n",
       "    </tr>\n",
       "  </thead>\n",
       "  <tbody>\n",
       "    <tr>\n",
       "      <th>0</th>\n",
       "      <td>Agincourt</td>\n",
       "      <td>Lounge</td>\n",
       "      <td>Latin American Restaurant</td>\n",
       "      <td>Skating Rink</td>\n",
       "      <td>Breakfast Spot</td>\n",
       "      <td>Yoga Studio</td>\n",
       "      <td>Electronics Store</td>\n",
       "      <td>Eastern European Restaurant</td>\n",
       "      <td>Drugstore</td>\n",
       "      <td>Donut Shop</td>\n",
       "      <td>Dog Run</td>\n",
       "    </tr>\n",
       "    <tr>\n",
       "      <th>1</th>\n",
       "      <td>Alderwood, Long Branch</td>\n",
       "      <td>Pizza Place</td>\n",
       "      <td>Dance Studio</td>\n",
       "      <td>Gym</td>\n",
       "      <td>Pharmacy</td>\n",
       "      <td>Coffee Shop</td>\n",
       "      <td>Pub</td>\n",
       "      <td>Sandwich Place</td>\n",
       "      <td>Dim Sum Restaurant</td>\n",
       "      <td>Deli / Bodega</td>\n",
       "      <td>Department Store</td>\n",
       "    </tr>\n",
       "    <tr>\n",
       "      <th>2</th>\n",
       "      <td>Bathurst Manor, Wilson Heights, Downsview North</td>\n",
       "      <td>Bank</td>\n",
       "      <td>Coffee Shop</td>\n",
       "      <td>Sushi Restaurant</td>\n",
       "      <td>Supermarket</td>\n",
       "      <td>Shopping Mall</td>\n",
       "      <td>Sandwich Place</td>\n",
       "      <td>Bridal Shop</td>\n",
       "      <td>Restaurant</td>\n",
       "      <td>Pizza Place</td>\n",
       "      <td>Pharmacy</td>\n",
       "    </tr>\n",
       "    <tr>\n",
       "      <th>3</th>\n",
       "      <td>Bayview Village</td>\n",
       "      <td>Café</td>\n",
       "      <td>Bank</td>\n",
       "      <td>Chinese Restaurant</td>\n",
       "      <td>Japanese Restaurant</td>\n",
       "      <td>Yoga Studio</td>\n",
       "      <td>Electronics Store</td>\n",
       "      <td>Eastern European Restaurant</td>\n",
       "      <td>Drugstore</td>\n",
       "      <td>Donut Shop</td>\n",
       "      <td>Dog Run</td>\n",
       "    </tr>\n",
       "    <tr>\n",
       "      <th>4</th>\n",
       "      <td>Bedford Park, Lawrence Manor East</td>\n",
       "      <td>Coffee Shop</td>\n",
       "      <td>Italian Restaurant</td>\n",
       "      <td>Sandwich Place</td>\n",
       "      <td>Hobby Shop</td>\n",
       "      <td>Indian Restaurant</td>\n",
       "      <td>Fast Food Restaurant</td>\n",
       "      <td>Greek Restaurant</td>\n",
       "      <td>Juice Bar</td>\n",
       "      <td>Liquor Store</td>\n",
       "      <td>Sushi Restaurant</td>\n",
       "    </tr>\n",
       "  </tbody>\n",
       "</table>\n",
       "</div>"
      ],
      "text/plain": [
       "                                     Neighbourhood 1st Most Common Venue  \\\n",
       "0                                        Agincourt                Lounge   \n",
       "1                           Alderwood, Long Branch           Pizza Place   \n",
       "2  Bathurst Manor, Wilson Heights, Downsview North                  Bank   \n",
       "3                                  Bayview Village                  Café   \n",
       "4                Bedford Park, Lawrence Manor East           Coffee Shop   \n",
       "\n",
       "       2nd Most Common Venue 3rd Most Common Venue 4th Most Common Venue  \\\n",
       "0  Latin American Restaurant          Skating Rink        Breakfast Spot   \n",
       "1               Dance Studio                   Gym              Pharmacy   \n",
       "2                Coffee Shop      Sushi Restaurant           Supermarket   \n",
       "3                       Bank    Chinese Restaurant   Japanese Restaurant   \n",
       "4         Italian Restaurant        Sandwich Place            Hobby Shop   \n",
       "\n",
       "  5th Most Common Venue 6th Most Common Venue        7th Most Common Venue  \\\n",
       "0           Yoga Studio     Electronics Store  Eastern European Restaurant   \n",
       "1           Coffee Shop                   Pub               Sandwich Place   \n",
       "2         Shopping Mall        Sandwich Place                  Bridal Shop   \n",
       "3           Yoga Studio     Electronics Store  Eastern European Restaurant   \n",
       "4     Indian Restaurant  Fast Food Restaurant             Greek Restaurant   \n",
       "\n",
       "  8th Most Common Venue 9th Most Common Venue 10th Most Common Venue  \n",
       "0             Drugstore            Donut Shop                Dog Run  \n",
       "1    Dim Sum Restaurant         Deli / Bodega       Department Store  \n",
       "2            Restaurant           Pizza Place               Pharmacy  \n",
       "3             Drugstore            Donut Shop                Dog Run  \n",
       "4             Juice Bar          Liquor Store       Sushi Restaurant  "
      ]
     },
     "execution_count": 46,
     "metadata": {},
     "output_type": "execute_result"
    }
   ],
   "source": [
    "num_top_venues = 10\n",
    "\n",
    "indicators = ['st', 'nd', 'rd']\n",
    "\n",
    "# create columns according to number of top venues\n",
    "columns = ['Neighbourhood']\n",
    "for ind in np.arange(num_top_venues):\n",
    "    try:\n",
    "        columns.append('{}{} Most Common Venue'.format(ind+1, indicators[ind]))\n",
    "    except:\n",
    "        columns.append('{}th Most Common Venue'.format(ind+1))\n",
    "\n",
    "# create a new dataframe\n",
    "neighborhoods_venues_sorted = pd.DataFrame(columns=columns)\n",
    "neighborhoods_venues_sorted['Neighbourhood'] = toronto_grouped['Neighbourhood']\n",
    "\n",
    "for ind in np.arange(toronto_grouped.shape[0]):\n",
    "    neighborhoods_venues_sorted.iloc[ind, 1:] = return_most_common_venues(toronto_grouped.iloc[ind, :], num_top_venues)\n",
    "\n",
    "neighborhoods_venues_sorted.head()"
   ]
  },
  {
   "cell_type": "markdown",
   "metadata": {
    "colab_type": "text",
    "id": "Tb7msVXLiVMJ"
   },
   "source": [
    "Let's make the model to cluster our Neighbourhoods"
   ]
  },
  {
   "cell_type": "code",
   "execution_count": 47,
   "metadata": {
    "colab": {},
    "colab_type": "code",
    "executionInfo": {
     "elapsed": 2924,
     "status": "ok",
     "timestamp": 1597498954261,
     "user": {
      "displayName": "Thomas George Thomas",
      "photoUrl": "https://lh3.googleusercontent.com/a-/AOh14GhRjmtno5yCmJOUjYiFNGHi_xP5YZBJ1ZpWGKsZ=s64",
      "userId": "09561174857978505545"
     },
     "user_tz": -330
    },
    "id": "Ju-v31w8k957"
   },
   "outputs": [],
   "source": [
    "# import k-means from clustering stage\n",
    "from sklearn.cluster import KMeans"
   ]
  },
  {
   "cell_type": "code",
   "execution_count": 48,
   "metadata": {
    "colab": {
     "base_uri": "https://localhost:8080/",
     "height": 68
    },
    "colab_type": "code",
    "executionInfo": {
     "elapsed": 2913,
     "status": "ok",
     "timestamp": 1597498954262,
     "user": {
      "displayName": "Thomas George Thomas",
      "photoUrl": "https://lh3.googleusercontent.com/a-/AOh14GhRjmtno5yCmJOUjYiFNGHi_xP5YZBJ1ZpWGKsZ=s64",
      "userId": "09561174857978505545"
     },
     "user_tz": -330
    },
    "id": "b-Ex22aJiQ4n",
    "outputId": "d35aeb87-195c-471b-b78e-4264d3472bbb"
   },
   "outputs": [
    {
     "data": {
      "text/plain": [
       "KMeans(n_clusters=5, random_state=0)"
      ]
     },
     "execution_count": 48,
     "metadata": {},
     "output_type": "execute_result"
    }
   ],
   "source": [
    "# set number of clusters\n",
    "k_num_clusters = 5\n",
    "\n",
    "toronto_grouped_clustering = toronto_grouped.drop('Neighbourhood', 1)\n",
    "\n",
    "# run k-means clustering\n",
    "kmeans = KMeans(n_clusters=k_num_clusters, random_state=0).fit(toronto_grouped_clustering)\n",
    "kmeans"
   ]
  },
  {
   "cell_type": "markdown",
   "metadata": {
    "colab_type": "text",
    "id": "qWvQJXAdkWvL"
   },
   "source": [
    "Checking the labelling of our model"
   ]
  },
  {
   "cell_type": "code",
   "execution_count": 49,
   "metadata": {
    "colab": {
     "base_uri": "https://localhost:8080/",
     "height": 102
    },
    "colab_type": "code",
    "executionInfo": {
     "elapsed": 2901,
     "status": "ok",
     "timestamp": 1597498954264,
     "user": {
      "displayName": "Thomas George Thomas",
      "photoUrl": "https://lh3.googleusercontent.com/a-/AOh14GhRjmtno5yCmJOUjYiFNGHi_xP5YZBJ1ZpWGKsZ=s64",
      "userId": "09561174857978505545"
     },
     "user_tz": -330
    },
    "id": "pb8rJhdIia4c",
    "outputId": "2b060d72-6bb6-454b-b4b3-13c1489fd499"
   },
   "outputs": [
    {
     "data": {
      "text/plain": [
       "array([1, 1, 1, 1, 1, 1, 1, 1, 1, 1, 0, 1, 1, 1, 1, 1, 1, 1, 1, 1, 1, 1,\n",
       "       1, 1, 1, 1, 0, 1, 1, 1, 1, 1, 1, 1, 1, 1, 1, 1, 1, 1, 1, 1, 1, 1,\n",
       "       1, 1, 1, 1, 1, 3, 0, 1, 2, 1, 1, 1, 1, 1, 1, 1, 1, 0, 1, 1, 1, 0,\n",
       "       1, 1, 1, 1, 0, 1, 1, 1, 1, 1, 1, 1, 1, 1, 1, 1, 1, 1, 1, 1, 4, 1,\n",
       "       0, 1, 1, 1, 1, 1, 0, 0])"
      ]
     },
     "execution_count": 49,
     "metadata": {},
     "output_type": "execute_result"
    }
   ],
   "source": [
    "kmeans.labels_[0:100]"
   ]
  },
  {
   "cell_type": "markdown",
   "metadata": {
    "colab_type": "text",
    "id": "ysCud9t6kaiX"
   },
   "source": [
    "Let's add the clustering Label column to the top 10 common venue categories"
   ]
  },
  {
   "cell_type": "code",
   "execution_count": 50,
   "metadata": {
    "colab": {},
    "colab_type": "code",
    "executionInfo": {
     "elapsed": 2887,
     "status": "ok",
     "timestamp": 1597498954265,
     "user": {
      "displayName": "Thomas George Thomas",
      "photoUrl": "https://lh3.googleusercontent.com/a-/AOh14GhRjmtno5yCmJOUjYiFNGHi_xP5YZBJ1ZpWGKsZ=s64",
      "userId": "09561174857978505545"
     },
     "user_tz": -330
    },
    "id": "1H6kDq_widL4"
   },
   "outputs": [],
   "source": [
    "neighborhoods_venues_sorted.insert(0, 'Cluster Labels', kmeans.labels_)"
   ]
  },
  {
   "cell_type": "markdown",
   "metadata": {
    "colab_type": "text",
    "id": "7fJeRgRHl6OY"
   },
   "source": [
    "Join toronto_grouped with combined_data on neighbourhood to add latitude & longitude for each neighborhood to prepare it for plotting"
   ]
  },
  {
   "cell_type": "code",
   "execution_count": 51,
   "metadata": {
    "colab": {
     "base_uri": "https://localhost:8080/",
     "height": 445
    },
    "colab_type": "code",
    "executionInfo": {
     "elapsed": 2876,
     "status": "ok",
     "timestamp": 1597498954266,
     "user": {
      "displayName": "Thomas George Thomas",
      "photoUrl": "https://lh3.googleusercontent.com/a-/AOh14GhRjmtno5yCmJOUjYiFNGHi_xP5YZBJ1ZpWGKsZ=s64",
      "userId": "09561174857978505545"
     },
     "user_tz": -330
    },
    "id": "9Y0AlZndliux",
    "outputId": "bb778a75-64fd-432a-ff75-45b305513771"
   },
   "outputs": [
    {
     "data": {
      "text/html": [
       "<div>\n",
       "<style scoped>\n",
       "    .dataframe tbody tr th:only-of-type {\n",
       "        vertical-align: middle;\n",
       "    }\n",
       "\n",
       "    .dataframe tbody tr th {\n",
       "        vertical-align: top;\n",
       "    }\n",
       "\n",
       "    .dataframe thead th {\n",
       "        text-align: right;\n",
       "    }\n",
       "</style>\n",
       "<table border=\"1\" class=\"dataframe\">\n",
       "  <thead>\n",
       "    <tr style=\"text-align: right;\">\n",
       "      <th></th>\n",
       "      <th>Postal Code</th>\n",
       "      <th>Borough</th>\n",
       "      <th>Neighbourhood</th>\n",
       "      <th>Latitude</th>\n",
       "      <th>Longitude</th>\n",
       "      <th>Cluster Labels</th>\n",
       "      <th>1st Most Common Venue</th>\n",
       "      <th>2nd Most Common Venue</th>\n",
       "      <th>3rd Most Common Venue</th>\n",
       "      <th>4th Most Common Venue</th>\n",
       "      <th>5th Most Common Venue</th>\n",
       "      <th>6th Most Common Venue</th>\n",
       "      <th>7th Most Common Venue</th>\n",
       "      <th>8th Most Common Venue</th>\n",
       "      <th>9th Most Common Venue</th>\n",
       "      <th>10th Most Common Venue</th>\n",
       "    </tr>\n",
       "  </thead>\n",
       "  <tbody>\n",
       "    <tr>\n",
       "      <th>0</th>\n",
       "      <td>M3A</td>\n",
       "      <td>North York</td>\n",
       "      <td>Parkwoods</td>\n",
       "      <td>43.753259</td>\n",
       "      <td>-79.329656</td>\n",
       "      <td>0.0</td>\n",
       "      <td>Park</td>\n",
       "      <td>Food &amp; Drink Shop</td>\n",
       "      <td>Yoga Studio</td>\n",
       "      <td>Deli / Bodega</td>\n",
       "      <td>Electronics Store</td>\n",
       "      <td>Eastern European Restaurant</td>\n",
       "      <td>Drugstore</td>\n",
       "      <td>Donut Shop</td>\n",
       "      <td>Dog Run</td>\n",
       "      <td>Distribution Center</td>\n",
       "    </tr>\n",
       "    <tr>\n",
       "      <th>1</th>\n",
       "      <td>M4A</td>\n",
       "      <td>North York</td>\n",
       "      <td>Victoria Village</td>\n",
       "      <td>43.725882</td>\n",
       "      <td>-79.315572</td>\n",
       "      <td>1.0</td>\n",
       "      <td>Pizza Place</td>\n",
       "      <td>Coffee Shop</td>\n",
       "      <td>Hockey Arena</td>\n",
       "      <td>Portuguese Restaurant</td>\n",
       "      <td>Yoga Studio</td>\n",
       "      <td>Discount Store</td>\n",
       "      <td>Department Store</td>\n",
       "      <td>Dessert Shop</td>\n",
       "      <td>Dim Sum Restaurant</td>\n",
       "      <td>Diner</td>\n",
       "    </tr>\n",
       "    <tr>\n",
       "      <th>2</th>\n",
       "      <td>M5A</td>\n",
       "      <td>Downtown Toronto</td>\n",
       "      <td>Regent Park, Harbourfront</td>\n",
       "      <td>43.654260</td>\n",
       "      <td>-79.360636</td>\n",
       "      <td>1.0</td>\n",
       "      <td>Coffee Shop</td>\n",
       "      <td>Park</td>\n",
       "      <td>Bakery</td>\n",
       "      <td>Breakfast Spot</td>\n",
       "      <td>Café</td>\n",
       "      <td>Theater</td>\n",
       "      <td>Restaurant</td>\n",
       "      <td>Pub</td>\n",
       "      <td>Chocolate Shop</td>\n",
       "      <td>Yoga Studio</td>\n",
       "    </tr>\n",
       "    <tr>\n",
       "      <th>3</th>\n",
       "      <td>M6A</td>\n",
       "      <td>North York</td>\n",
       "      <td>Lawrence Manor, Lawrence Heights</td>\n",
       "      <td>43.718518</td>\n",
       "      <td>-79.464763</td>\n",
       "      <td>1.0</td>\n",
       "      <td>Clothing Store</td>\n",
       "      <td>Furniture / Home Store</td>\n",
       "      <td>Accessories Store</td>\n",
       "      <td>Vietnamese Restaurant</td>\n",
       "      <td>Coffee Shop</td>\n",
       "      <td>Miscellaneous Shop</td>\n",
       "      <td>Boutique</td>\n",
       "      <td>Event Space</td>\n",
       "      <td>Donut Shop</td>\n",
       "      <td>Department Store</td>\n",
       "    </tr>\n",
       "    <tr>\n",
       "      <th>4</th>\n",
       "      <td>M7A</td>\n",
       "      <td>Downtown Toronto</td>\n",
       "      <td>Queen's Park, Ontario Provincial Government</td>\n",
       "      <td>43.662301</td>\n",
       "      <td>-79.389494</td>\n",
       "      <td>1.0</td>\n",
       "      <td>Coffee Shop</td>\n",
       "      <td>Sushi Restaurant</td>\n",
       "      <td>Yoga Studio</td>\n",
       "      <td>Bar</td>\n",
       "      <td>Beer Bar</td>\n",
       "      <td>Smoothie Shop</td>\n",
       "      <td>Sandwich Place</td>\n",
       "      <td>Burger Joint</td>\n",
       "      <td>Burrito Place</td>\n",
       "      <td>Café</td>\n",
       "    </tr>\n",
       "  </tbody>\n",
       "</table>\n",
       "</div>"
      ],
      "text/plain": [
       "  Postal Code           Borough                                Neighbourhood  \\\n",
       "0         M3A        North York                                    Parkwoods   \n",
       "1         M4A        North York                             Victoria Village   \n",
       "2         M5A  Downtown Toronto                    Regent Park, Harbourfront   \n",
       "3         M6A        North York             Lawrence Manor, Lawrence Heights   \n",
       "4         M7A  Downtown Toronto  Queen's Park, Ontario Provincial Government   \n",
       "\n",
       "    Latitude  Longitude  Cluster Labels 1st Most Common Venue  \\\n",
       "0  43.753259 -79.329656             0.0                  Park   \n",
       "1  43.725882 -79.315572             1.0           Pizza Place   \n",
       "2  43.654260 -79.360636             1.0           Coffee Shop   \n",
       "3  43.718518 -79.464763             1.0        Clothing Store   \n",
       "4  43.662301 -79.389494             1.0           Coffee Shop   \n",
       "\n",
       "    2nd Most Common Venue 3rd Most Common Venue  4th Most Common Venue  \\\n",
       "0       Food & Drink Shop           Yoga Studio          Deli / Bodega   \n",
       "1             Coffee Shop          Hockey Arena  Portuguese Restaurant   \n",
       "2                    Park                Bakery         Breakfast Spot   \n",
       "3  Furniture / Home Store     Accessories Store  Vietnamese Restaurant   \n",
       "4        Sushi Restaurant           Yoga Studio                    Bar   \n",
       "\n",
       "  5th Most Common Venue        6th Most Common Venue 7th Most Common Venue  \\\n",
       "0     Electronics Store  Eastern European Restaurant             Drugstore   \n",
       "1           Yoga Studio               Discount Store      Department Store   \n",
       "2                  Café                      Theater            Restaurant   \n",
       "3           Coffee Shop           Miscellaneous Shop              Boutique   \n",
       "4              Beer Bar                Smoothie Shop        Sandwich Place   \n",
       "\n",
       "  8th Most Common Venue 9th Most Common Venue 10th Most Common Venue  \n",
       "0            Donut Shop               Dog Run    Distribution Center  \n",
       "1          Dessert Shop    Dim Sum Restaurant                  Diner  \n",
       "2                   Pub        Chocolate Shop            Yoga Studio  \n",
       "3           Event Space            Donut Shop       Department Store  \n",
       "4          Burger Joint         Burrito Place                   Café  "
      ]
     },
     "execution_count": 51,
     "metadata": {},
     "output_type": "execute_result"
    }
   ],
   "source": [
    "toronto_merged = combined_data\n",
    "\n",
    "toronto_merged = toronto_merged.join(neighborhoods_venues_sorted.set_index('Neighbourhood'), on='Neighbourhood')\n",
    "\n",
    "toronto_merged.head()"
   ]
  },
  {
   "cell_type": "markdown",
   "metadata": {
    "colab_type": "text",
    "id": "KForYHhcmr4q"
   },
   "source": [
    "Drop all the NaN values to prevent data skew"
   ]
  },
  {
   "cell_type": "code",
   "execution_count": 52,
   "metadata": {
    "colab": {},
    "colab_type": "code",
    "executionInfo": {
     "elapsed": 2864,
     "status": "ok",
     "timestamp": 1597498954267,
     "user": {
      "displayName": "Thomas George Thomas",
      "photoUrl": "https://lh3.googleusercontent.com/a-/AOh14GhRjmtno5yCmJOUjYiFNGHi_xP5YZBJ1ZpWGKsZ=s64",
      "userId": "09561174857978505545"
     },
     "user_tz": -330
    },
    "id": "PgCHHM6XmCKQ"
   },
   "outputs": [],
   "source": [
    "toronto_merged_nonan = toronto_merged.dropna(subset=['Cluster Labels'])"
   ]
  },
  {
   "cell_type": "markdown",
   "metadata": {
    "colab_type": "text",
    "id": "B6V4-bolmyQH"
   },
   "source": [
    "Plotting the clusters on the map"
   ]
  },
  {
   "cell_type": "code",
   "execution_count": 53,
   "metadata": {
    "colab": {},
    "colab_type": "code",
    "executionInfo": {
     "elapsed": 2853,
     "status": "ok",
     "timestamp": 1597498954268,
     "user": {
      "displayName": "Thomas George Thomas",
      "photoUrl": "https://lh3.googleusercontent.com/a-/AOh14GhRjmtno5yCmJOUjYiFNGHi_xP5YZBJ1ZpWGKsZ=s64",
      "userId": "09561174857978505545"
     },
     "user_tz": -330
    },
    "id": "vaZ3xg_Um1yS"
   },
   "outputs": [],
   "source": [
    "import matplotlib.cm as cm\n",
    "import matplotlib.colors as colors"
   ]
  },
  {
   "cell_type": "code",
   "execution_count": 54,
   "metadata": {
    "colab": {
     "base_uri": "https://localhost:8080/",
     "height": 743
    },
    "colab_type": "code",
    "executionInfo": {
     "elapsed": 983,
     "status": "ok",
     "timestamp": 1597500245033,
     "user": {
      "displayName": "Thomas George Thomas",
      "photoUrl": "https://lh3.googleusercontent.com/a-/AOh14GhRjmtno5yCmJOUjYiFNGHi_xP5YZBJ1ZpWGKsZ=s64",
      "userId": "09561174857978505545"
     },
     "user_tz": -330
    },
    "id": "EJbRtYvwmwqf",
    "outputId": "d1581dc6-aa3d-45ea-d1aa-5677c0f69100"
   },
   "outputs": [
    {
     "data": {
      "text/html": [
       "<div style=\"width:100%;\"><div style=\"position:relative;width:100%;height:0;padding-bottom:60%;\"><span style=\"color:#565656\">Make this Notebook Trusted to load map: File -> Trust Notebook</span><iframe src=\"about:blank\" style=\"position:absolute;width:100%;height:100%;left:0;top:0;border:none !important;\" data-html=%3C%21DOCTYPE%20html%3E%0A%3Chead%3E%20%20%20%20%0A%20%20%20%20%3Cmeta%20http-equiv%3D%22content-type%22%20content%3D%22text/html%3B%20charset%3DUTF-8%22%20/%3E%0A%20%20%20%20%0A%20%20%20%20%20%20%20%20%3Cscript%3E%0A%20%20%20%20%20%20%20%20%20%20%20%20L_NO_TOUCH%20%3D%20false%3B%0A%20%20%20%20%20%20%20%20%20%20%20%20L_DISABLE_3D%20%3D%20false%3B%0A%20%20%20%20%20%20%20%20%3C/script%3E%0A%20%20%20%20%0A%20%20%20%20%3Cstyle%3Ehtml%2C%20body%20%7Bwidth%3A%20100%25%3Bheight%3A%20100%25%3Bmargin%3A%200%3Bpadding%3A%200%3B%7D%3C/style%3E%0A%20%20%20%20%3Cstyle%3E%23map%20%7Bposition%3Aabsolute%3Btop%3A0%3Bbottom%3A0%3Bright%3A0%3Bleft%3A0%3B%7D%3C/style%3E%0A%20%20%20%20%3Cscript%20src%3D%22https%3A//cdn.jsdelivr.net/npm/leaflet%401.6.0/dist/leaflet.js%22%3E%3C/script%3E%0A%20%20%20%20%3Cscript%20src%3D%22https%3A//code.jquery.com/jquery-1.12.4.min.js%22%3E%3C/script%3E%0A%20%20%20%20%3Cscript%20src%3D%22https%3A//maxcdn.bootstrapcdn.com/bootstrap/3.2.0/js/bootstrap.min.js%22%3E%3C/script%3E%0A%20%20%20%20%3Cscript%20src%3D%22https%3A//cdnjs.cloudflare.com/ajax/libs/Leaflet.awesome-markers/2.0.2/leaflet.awesome-markers.js%22%3E%3C/script%3E%0A%20%20%20%20%3Clink%20rel%3D%22stylesheet%22%20href%3D%22https%3A//cdn.jsdelivr.net/npm/leaflet%401.6.0/dist/leaflet.css%22/%3E%0A%20%20%20%20%3Clink%20rel%3D%22stylesheet%22%20href%3D%22https%3A//maxcdn.bootstrapcdn.com/bootstrap/3.2.0/css/bootstrap.min.css%22/%3E%0A%20%20%20%20%3Clink%20rel%3D%22stylesheet%22%20href%3D%22https%3A//maxcdn.bootstrapcdn.com/bootstrap/3.2.0/css/bootstrap-theme.min.css%22/%3E%0A%20%20%20%20%3Clink%20rel%3D%22stylesheet%22%20href%3D%22https%3A//maxcdn.bootstrapcdn.com/font-awesome/4.6.3/css/font-awesome.min.css%22/%3E%0A%20%20%20%20%3Clink%20rel%3D%22stylesheet%22%20href%3D%22https%3A//cdnjs.cloudflare.com/ajax/libs/Leaflet.awesome-markers/2.0.2/leaflet.awesome-markers.css%22/%3E%0A%20%20%20%20%3Clink%20rel%3D%22stylesheet%22%20href%3D%22https%3A//cdn.jsdelivr.net/gh/python-visualization/folium/folium/templates/leaflet.awesome.rotate.min.css%22/%3E%0A%20%20%20%20%0A%20%20%20%20%20%20%20%20%20%20%20%20%3Cmeta%20name%3D%22viewport%22%20content%3D%22width%3Ddevice-width%2C%0A%20%20%20%20%20%20%20%20%20%20%20%20%20%20%20%20initial-scale%3D1.0%2C%20maximum-scale%3D1.0%2C%20user-scalable%3Dno%22%20/%3E%0A%20%20%20%20%20%20%20%20%20%20%20%20%3Cstyle%3E%0A%20%20%20%20%20%20%20%20%20%20%20%20%20%20%20%20%23map_3ae3141edd8f4491b014bec87d5e8f6c%20%7B%0A%20%20%20%20%20%20%20%20%20%20%20%20%20%20%20%20%20%20%20%20position%3A%20relative%3B%0A%20%20%20%20%20%20%20%20%20%20%20%20%20%20%20%20%20%20%20%20width%3A%20100.0%25%3B%0A%20%20%20%20%20%20%20%20%20%20%20%20%20%20%20%20%20%20%20%20height%3A%20100.0%25%3B%0A%20%20%20%20%20%20%20%20%20%20%20%20%20%20%20%20%20%20%20%20left%3A%200.0%25%3B%0A%20%20%20%20%20%20%20%20%20%20%20%20%20%20%20%20%20%20%20%20top%3A%200.0%25%3B%0A%20%20%20%20%20%20%20%20%20%20%20%20%20%20%20%20%7D%0A%20%20%20%20%20%20%20%20%20%20%20%20%3C/style%3E%0A%20%20%20%20%20%20%20%20%0A%3C/head%3E%0A%3Cbody%3E%20%20%20%20%0A%20%20%20%20%0A%20%20%20%20%20%20%20%20%20%20%20%20%3Cdiv%20class%3D%22folium-map%22%20id%3D%22map_3ae3141edd8f4491b014bec87d5e8f6c%22%20%3E%3C/div%3E%0A%20%20%20%20%20%20%20%20%0A%3C/body%3E%0A%3Cscript%3E%20%20%20%20%0A%20%20%20%20%0A%20%20%20%20%20%20%20%20%20%20%20%20var%20map_3ae3141edd8f4491b014bec87d5e8f6c%20%3D%20L.map%28%0A%20%20%20%20%20%20%20%20%20%20%20%20%20%20%20%20%22map_3ae3141edd8f4491b014bec87d5e8f6c%22%2C%0A%20%20%20%20%20%20%20%20%20%20%20%20%20%20%20%20%7B%0A%20%20%20%20%20%20%20%20%20%20%20%20%20%20%20%20%20%20%20%20center%3A%20%5B43.6534817%2C%20-79.3839347%5D%2C%0A%20%20%20%20%20%20%20%20%20%20%20%20%20%20%20%20%20%20%20%20crs%3A%20L.CRS.EPSG3857%2C%0A%20%20%20%20%20%20%20%20%20%20%20%20%20%20%20%20%20%20%20%20zoom%3A%2011%2C%0A%20%20%20%20%20%20%20%20%20%20%20%20%20%20%20%20%20%20%20%20zoomControl%3A%20true%2C%0A%20%20%20%20%20%20%20%20%20%20%20%20%20%20%20%20%20%20%20%20preferCanvas%3A%20false%2C%0A%20%20%20%20%20%20%20%20%20%20%20%20%20%20%20%20%7D%0A%20%20%20%20%20%20%20%20%20%20%20%20%29%3B%0A%0A%20%20%20%20%20%20%20%20%20%20%20%20%0A%0A%20%20%20%20%20%20%20%20%0A%20%20%20%20%0A%20%20%20%20%20%20%20%20%20%20%20%20var%20tile_layer_bb8a82de04fb4934ad2a074b4681e1e8%20%3D%20L.tileLayer%28%0A%20%20%20%20%20%20%20%20%20%20%20%20%20%20%20%20%22https%3A//%7Bs%7D.tile.openstreetmap.org/%7Bz%7D/%7Bx%7D/%7By%7D.png%22%2C%0A%20%20%20%20%20%20%20%20%20%20%20%20%20%20%20%20%7B%22attribution%22%3A%20%22Data%20by%20%5Cu0026copy%3B%20%5Cu003ca%20href%3D%5C%22http%3A//openstreetmap.org%5C%22%5Cu003eOpenStreetMap%5Cu003c/a%5Cu003e%2C%20under%20%5Cu003ca%20href%3D%5C%22http%3A//www.openstreetmap.org/copyright%5C%22%5Cu003eODbL%5Cu003c/a%5Cu003e.%22%2C%20%22detectRetina%22%3A%20false%2C%20%22maxNativeZoom%22%3A%2018%2C%20%22maxZoom%22%3A%2018%2C%20%22minZoom%22%3A%200%2C%20%22noWrap%22%3A%20false%2C%20%22opacity%22%3A%201%2C%20%22subdomains%22%3A%20%22abc%22%2C%20%22tms%22%3A%20false%7D%0A%20%20%20%20%20%20%20%20%20%20%20%20%29.addTo%28map_3ae3141edd8f4491b014bec87d5e8f6c%29%3B%0A%20%20%20%20%20%20%20%20%0A%20%20%20%20%0A%20%20%20%20%20%20%20%20%20%20%20%20var%20circle_marker_63e94dcfc4b74a44ac0adcc91c1412ea%20%3D%20L.circleMarker%28%0A%20%20%20%20%20%20%20%20%20%20%20%20%20%20%20%20%5B43.7532586%2C%20-79.3296565%5D%2C%0A%20%20%20%20%20%20%20%20%20%20%20%20%20%20%20%20%7B%22bubblingMouseEvents%22%3A%20true%2C%20%22color%22%3A%20%22%23ff0000%22%2C%20%22dashArray%22%3A%20null%2C%20%22dashOffset%22%3A%20null%2C%20%22fill%22%3A%20true%2C%20%22fillColor%22%3A%20%22%23ff0000%22%2C%20%22fillOpacity%22%3A%200.2%2C%20%22fillRule%22%3A%20%22evenodd%22%2C%20%22lineCap%22%3A%20%22round%22%2C%20%22lineJoin%22%3A%20%22round%22%2C%20%22opacity%22%3A%201.0%2C%20%22radius%22%3A%205%2C%20%22stroke%22%3A%20true%2C%20%22weight%22%3A%203%7D%0A%20%20%20%20%20%20%20%20%20%20%20%20%29.addTo%28map_3ae3141edd8f4491b014bec87d5e8f6c%29%3B%0A%20%20%20%20%20%20%20%20%0A%20%20%20%20%0A%20%20%20%20%20%20%20%20var%20popup_e80d942461bd4073be3ba2513a6ec04e%20%3D%20L.popup%28%7B%22maxWidth%22%3A%20%22100%25%22%7D%29%3B%0A%0A%20%20%20%20%20%20%20%20%0A%20%20%20%20%20%20%20%20%20%20%20%20var%20html_819f951f50cf49a6a110007b79a32848%20%3D%20%24%28%60%3Cdiv%20id%3D%22html_819f951f50cf49a6a110007b79a32848%22%20style%3D%22width%3A%20100.0%25%3B%20height%3A%20100.0%25%3B%22%3ECluster%201%20Parkwoods%3C/div%3E%60%29%5B0%5D%3B%0A%20%20%20%20%20%20%20%20%20%20%20%20popup_e80d942461bd4073be3ba2513a6ec04e.setContent%28html_819f951f50cf49a6a110007b79a32848%29%3B%0A%20%20%20%20%20%20%20%20%0A%0A%20%20%20%20%20%20%20%20circle_marker_63e94dcfc4b74a44ac0adcc91c1412ea.bindPopup%28popup_e80d942461bd4073be3ba2513a6ec04e%29%0A%20%20%20%20%20%20%20%20%3B%0A%0A%20%20%20%20%20%20%20%20%0A%20%20%20%20%0A%20%20%20%20%0A%20%20%20%20%20%20%20%20%20%20%20%20var%20circle_marker_17db21b229a7496084a9120a176cac68%20%3D%20L.circleMarker%28%0A%20%20%20%20%20%20%20%20%20%20%20%20%20%20%20%20%5B43.725882299999995%2C%20-79.31557159999998%5D%2C%0A%20%20%20%20%20%20%20%20%20%20%20%20%20%20%20%20%7B%22bubblingMouseEvents%22%3A%20true%2C%20%22color%22%3A%20%22%238000ff%22%2C%20%22dashArray%22%3A%20null%2C%20%22dashOffset%22%3A%20null%2C%20%22fill%22%3A%20true%2C%20%22fillColor%22%3A%20%22%238000ff%22%2C%20%22fillOpacity%22%3A%200.2%2C%20%22fillRule%22%3A%20%22evenodd%22%2C%20%22lineCap%22%3A%20%22round%22%2C%20%22lineJoin%22%3A%20%22round%22%2C%20%22opacity%22%3A%201.0%2C%20%22radius%22%3A%205%2C%20%22stroke%22%3A%20true%2C%20%22weight%22%3A%203%7D%0A%20%20%20%20%20%20%20%20%20%20%20%20%29.addTo%28map_3ae3141edd8f4491b014bec87d5e8f6c%29%3B%0A%20%20%20%20%20%20%20%20%0A%20%20%20%20%0A%20%20%20%20%20%20%20%20var%20popup_6dbc28260009448496d3331f11866b66%20%3D%20L.popup%28%7B%22maxWidth%22%3A%20%22100%25%22%7D%29%3B%0A%0A%20%20%20%20%20%20%20%20%0A%20%20%20%20%20%20%20%20%20%20%20%20var%20html_49ec728329f84d1781fe56c9a35bc0ea%20%3D%20%24%28%60%3Cdiv%20id%3D%22html_49ec728329f84d1781fe56c9a35bc0ea%22%20style%3D%22width%3A%20100.0%25%3B%20height%3A%20100.0%25%3B%22%3ECluster%202%20Victoria%20Village%3C/div%3E%60%29%5B0%5D%3B%0A%20%20%20%20%20%20%20%20%20%20%20%20popup_6dbc28260009448496d3331f11866b66.setContent%28html_49ec728329f84d1781fe56c9a35bc0ea%29%3B%0A%20%20%20%20%20%20%20%20%0A%0A%20%20%20%20%20%20%20%20circle_marker_17db21b229a7496084a9120a176cac68.bindPopup%28popup_6dbc28260009448496d3331f11866b66%29%0A%20%20%20%20%20%20%20%20%3B%0A%0A%20%20%20%20%20%20%20%20%0A%20%20%20%20%0A%20%20%20%20%0A%20%20%20%20%20%20%20%20%20%20%20%20var%20circle_marker_c67002544e2443599a9c45dab1c1f598%20%3D%20L.circleMarker%28%0A%20%20%20%20%20%20%20%20%20%20%20%20%20%20%20%20%5B43.6542599%2C%20-79.3606359%5D%2C%0A%20%20%20%20%20%20%20%20%20%20%20%20%20%20%20%20%7B%22bubblingMouseEvents%22%3A%20true%2C%20%22color%22%3A%20%22%238000ff%22%2C%20%22dashArray%22%3A%20null%2C%20%22dashOffset%22%3A%20null%2C%20%22fill%22%3A%20true%2C%20%22fillColor%22%3A%20%22%238000ff%22%2C%20%22fillOpacity%22%3A%200.2%2C%20%22fillRule%22%3A%20%22evenodd%22%2C%20%22lineCap%22%3A%20%22round%22%2C%20%22lineJoin%22%3A%20%22round%22%2C%20%22opacity%22%3A%201.0%2C%20%22radius%22%3A%205%2C%20%22stroke%22%3A%20true%2C%20%22weight%22%3A%203%7D%0A%20%20%20%20%20%20%20%20%20%20%20%20%29.addTo%28map_3ae3141edd8f4491b014bec87d5e8f6c%29%3B%0A%20%20%20%20%20%20%20%20%0A%20%20%20%20%0A%20%20%20%20%20%20%20%20var%20popup_430d5fceb3a84a569b2d65e9cce5ad47%20%3D%20L.popup%28%7B%22maxWidth%22%3A%20%22100%25%22%7D%29%3B%0A%0A%20%20%20%20%20%20%20%20%0A%20%20%20%20%20%20%20%20%20%20%20%20var%20html_9d849e3eeb7844bba19e3666cd64f204%20%3D%20%24%28%60%3Cdiv%20id%3D%22html_9d849e3eeb7844bba19e3666cd64f204%22%20style%3D%22width%3A%20100.0%25%3B%20height%3A%20100.0%25%3B%22%3ECluster%202%20Regent%20Park%2C%20Harbourfront%3C/div%3E%60%29%5B0%5D%3B%0A%20%20%20%20%20%20%20%20%20%20%20%20popup_430d5fceb3a84a569b2d65e9cce5ad47.setContent%28html_9d849e3eeb7844bba19e3666cd64f204%29%3B%0A%20%20%20%20%20%20%20%20%0A%0A%20%20%20%20%20%20%20%20circle_marker_c67002544e2443599a9c45dab1c1f598.bindPopup%28popup_430d5fceb3a84a569b2d65e9cce5ad47%29%0A%20%20%20%20%20%20%20%20%3B%0A%0A%20%20%20%20%20%20%20%20%0A%20%20%20%20%0A%20%20%20%20%0A%20%20%20%20%20%20%20%20%20%20%20%20var%20circle_marker_d4eaee34e3ef405aa5f47796411c5ae6%20%3D%20L.circleMarker%28%0A%20%20%20%20%20%20%20%20%20%20%20%20%20%20%20%20%5B43.718517999999996%2C%20-79.46476329999999%5D%2C%0A%20%20%20%20%20%20%20%20%20%20%20%20%20%20%20%20%7B%22bubblingMouseEvents%22%3A%20true%2C%20%22color%22%3A%20%22%238000ff%22%2C%20%22dashArray%22%3A%20null%2C%20%22dashOffset%22%3A%20null%2C%20%22fill%22%3A%20true%2C%20%22fillColor%22%3A%20%22%238000ff%22%2C%20%22fillOpacity%22%3A%200.2%2C%20%22fillRule%22%3A%20%22evenodd%22%2C%20%22lineCap%22%3A%20%22round%22%2C%20%22lineJoin%22%3A%20%22round%22%2C%20%22opacity%22%3A%201.0%2C%20%22radius%22%3A%205%2C%20%22stroke%22%3A%20true%2C%20%22weight%22%3A%203%7D%0A%20%20%20%20%20%20%20%20%20%20%20%20%29.addTo%28map_3ae3141edd8f4491b014bec87d5e8f6c%29%3B%0A%20%20%20%20%20%20%20%20%0A%20%20%20%20%0A%20%20%20%20%20%20%20%20var%20popup_6cee6086ed4348a3a8150cd5c54f6a63%20%3D%20L.popup%28%7B%22maxWidth%22%3A%20%22100%25%22%7D%29%3B%0A%0A%20%20%20%20%20%20%20%20%0A%20%20%20%20%20%20%20%20%20%20%20%20var%20html_4ce00da9dfcf439a81fb4b22146dce49%20%3D%20%24%28%60%3Cdiv%20id%3D%22html_4ce00da9dfcf439a81fb4b22146dce49%22%20style%3D%22width%3A%20100.0%25%3B%20height%3A%20100.0%25%3B%22%3ECluster%202%20Lawrence%20Manor%2C%20Lawrence%20Heights%3C/div%3E%60%29%5B0%5D%3B%0A%20%20%20%20%20%20%20%20%20%20%20%20popup_6cee6086ed4348a3a8150cd5c54f6a63.setContent%28html_4ce00da9dfcf439a81fb4b22146dce49%29%3B%0A%20%20%20%20%20%20%20%20%0A%0A%20%20%20%20%20%20%20%20circle_marker_d4eaee34e3ef405aa5f47796411c5ae6.bindPopup%28popup_6cee6086ed4348a3a8150cd5c54f6a63%29%0A%20%20%20%20%20%20%20%20%3B%0A%0A%20%20%20%20%20%20%20%20%0A%20%20%20%20%0A%20%20%20%20%0A%20%20%20%20%20%20%20%20%20%20%20%20var%20circle_marker_d2bab513bb2d427eb6a8ab494c393646%20%3D%20L.circleMarker%28%0A%20%20%20%20%20%20%20%20%20%20%20%20%20%20%20%20%5B43.6623015%2C%20-79.3894938%5D%2C%0A%20%20%20%20%20%20%20%20%20%20%20%20%20%20%20%20%7B%22bubblingMouseEvents%22%3A%20true%2C%20%22color%22%3A%20%22%238000ff%22%2C%20%22dashArray%22%3A%20null%2C%20%22dashOffset%22%3A%20null%2C%20%22fill%22%3A%20true%2C%20%22fillColor%22%3A%20%22%238000ff%22%2C%20%22fillOpacity%22%3A%200.2%2C%20%22fillRule%22%3A%20%22evenodd%22%2C%20%22lineCap%22%3A%20%22round%22%2C%20%22lineJoin%22%3A%20%22round%22%2C%20%22opacity%22%3A%201.0%2C%20%22radius%22%3A%205%2C%20%22stroke%22%3A%20true%2C%20%22weight%22%3A%203%7D%0A%20%20%20%20%20%20%20%20%20%20%20%20%29.addTo%28map_3ae3141edd8f4491b014bec87d5e8f6c%29%3B%0A%20%20%20%20%20%20%20%20%0A%20%20%20%20%0A%20%20%20%20%20%20%20%20var%20popup_75f94ed89c4f47d8ad53075db8255237%20%3D%20L.popup%28%7B%22maxWidth%22%3A%20%22100%25%22%7D%29%3B%0A%0A%20%20%20%20%20%20%20%20%0A%20%20%20%20%20%20%20%20%20%20%20%20var%20html_204713ee64a64c659765ee87941bd3c8%20%3D%20%24%28%60%3Cdiv%20id%3D%22html_204713ee64a64c659765ee87941bd3c8%22%20style%3D%22width%3A%20100.0%25%3B%20height%3A%20100.0%25%3B%22%3ECluster%202%20Queen%26%2339%3Bs%20Park%2C%20Ontario%20Provincial%20Government%3C/div%3E%60%29%5B0%5D%3B%0A%20%20%20%20%20%20%20%20%20%20%20%20popup_75f94ed89c4f47d8ad53075db8255237.setContent%28html_204713ee64a64c659765ee87941bd3c8%29%3B%0A%20%20%20%20%20%20%20%20%0A%0A%20%20%20%20%20%20%20%20circle_marker_d2bab513bb2d427eb6a8ab494c393646.bindPopup%28popup_75f94ed89c4f47d8ad53075db8255237%29%0A%20%20%20%20%20%20%20%20%3B%0A%0A%20%20%20%20%20%20%20%20%0A%20%20%20%20%0A%20%20%20%20%0A%20%20%20%20%20%20%20%20%20%20%20%20var%20circle_marker_e32cd51391a04e12861e8482509f2647%20%3D%20L.circleMarker%28%0A%20%20%20%20%20%20%20%20%20%20%20%20%20%20%20%20%5B43.806686299999996%2C%20-79.19435340000001%5D%2C%0A%20%20%20%20%20%20%20%20%20%20%20%20%20%20%20%20%7B%22bubblingMouseEvents%22%3A%20true%2C%20%22color%22%3A%20%22%2380ffb4%22%2C%20%22dashArray%22%3A%20null%2C%20%22dashOffset%22%3A%20null%2C%20%22fill%22%3A%20true%2C%20%22fillColor%22%3A%20%22%2380ffb4%22%2C%20%22fillOpacity%22%3A%200.2%2C%20%22fillRule%22%3A%20%22evenodd%22%2C%20%22lineCap%22%3A%20%22round%22%2C%20%22lineJoin%22%3A%20%22round%22%2C%20%22opacity%22%3A%201.0%2C%20%22radius%22%3A%205%2C%20%22stroke%22%3A%20true%2C%20%22weight%22%3A%203%7D%0A%20%20%20%20%20%20%20%20%20%20%20%20%29.addTo%28map_3ae3141edd8f4491b014bec87d5e8f6c%29%3B%0A%20%20%20%20%20%20%20%20%0A%20%20%20%20%0A%20%20%20%20%20%20%20%20var%20popup_9da1d5211f0448c39ee21bb115eeb92f%20%3D%20L.popup%28%7B%22maxWidth%22%3A%20%22100%25%22%7D%29%3B%0A%0A%20%20%20%20%20%20%20%20%0A%20%20%20%20%20%20%20%20%20%20%20%20var%20html_e66fbb6d12f84990b3bc3944a2eebd05%20%3D%20%24%28%60%3Cdiv%20id%3D%22html_e66fbb6d12f84990b3bc3944a2eebd05%22%20style%3D%22width%3A%20100.0%25%3B%20height%3A%20100.0%25%3B%22%3ECluster%204%20Malvern%2C%20Rouge%3C/div%3E%60%29%5B0%5D%3B%0A%20%20%20%20%20%20%20%20%20%20%20%20popup_9da1d5211f0448c39ee21bb115eeb92f.setContent%28html_e66fbb6d12f84990b3bc3944a2eebd05%29%3B%0A%20%20%20%20%20%20%20%20%0A%0A%20%20%20%20%20%20%20%20circle_marker_e32cd51391a04e12861e8482509f2647.bindPopup%28popup_9da1d5211f0448c39ee21bb115eeb92f%29%0A%20%20%20%20%20%20%20%20%3B%0A%0A%20%20%20%20%20%20%20%20%0A%20%20%20%20%0A%20%20%20%20%0A%20%20%20%20%20%20%20%20%20%20%20%20var%20circle_marker_f1be194aceea4ae88676d201f6e9cb9c%20%3D%20L.circleMarker%28%0A%20%20%20%20%20%20%20%20%20%20%20%20%20%20%20%20%5B43.745905799999996%2C%20-79.352188%5D%2C%0A%20%20%20%20%20%20%20%20%20%20%20%20%20%20%20%20%7B%22bubblingMouseEvents%22%3A%20true%2C%20%22color%22%3A%20%22%238000ff%22%2C%20%22dashArray%22%3A%20null%2C%20%22dashOffset%22%3A%20null%2C%20%22fill%22%3A%20true%2C%20%22fillColor%22%3A%20%22%238000ff%22%2C%20%22fillOpacity%22%3A%200.2%2C%20%22fillRule%22%3A%20%22evenodd%22%2C%20%22lineCap%22%3A%20%22round%22%2C%20%22lineJoin%22%3A%20%22round%22%2C%20%22opacity%22%3A%201.0%2C%20%22radius%22%3A%205%2C%20%22stroke%22%3A%20true%2C%20%22weight%22%3A%203%7D%0A%20%20%20%20%20%20%20%20%20%20%20%20%29.addTo%28map_3ae3141edd8f4491b014bec87d5e8f6c%29%3B%0A%20%20%20%20%20%20%20%20%0A%20%20%20%20%0A%20%20%20%20%20%20%20%20var%20popup_50473e42cb0f4d3bba7346c3a7436818%20%3D%20L.popup%28%7B%22maxWidth%22%3A%20%22100%25%22%7D%29%3B%0A%0A%20%20%20%20%20%20%20%20%0A%20%20%20%20%20%20%20%20%20%20%20%20var%20html_463a2ac16ab9427fa142789d2bf79b23%20%3D%20%24%28%60%3Cdiv%20id%3D%22html_463a2ac16ab9427fa142789d2bf79b23%22%20style%3D%22width%3A%20100.0%25%3B%20height%3A%20100.0%25%3B%22%3ECluster%202%20Don%20Mills%3C/div%3E%60%29%5B0%5D%3B%0A%20%20%20%20%20%20%20%20%20%20%20%20popup_50473e42cb0f4d3bba7346c3a7436818.setContent%28html_463a2ac16ab9427fa142789d2bf79b23%29%3B%0A%20%20%20%20%20%20%20%20%0A%0A%20%20%20%20%20%20%20%20circle_marker_f1be194aceea4ae88676d201f6e9cb9c.bindPopup%28popup_50473e42cb0f4d3bba7346c3a7436818%29%0A%20%20%20%20%20%20%20%20%3B%0A%0A%20%20%20%20%20%20%20%20%0A%20%20%20%20%0A%20%20%20%20%0A%20%20%20%20%20%20%20%20%20%20%20%20var%20circle_marker_ab90e7f07e2e46c3a816336ea6f2c3b8%20%3D%20L.circleMarker%28%0A%20%20%20%20%20%20%20%20%20%20%20%20%20%20%20%20%5B43.7063972%2C%20-79.309937%5D%2C%0A%20%20%20%20%20%20%20%20%20%20%20%20%20%20%20%20%7B%22bubblingMouseEvents%22%3A%20true%2C%20%22color%22%3A%20%22%238000ff%22%2C%20%22dashArray%22%3A%20null%2C%20%22dashOffset%22%3A%20null%2C%20%22fill%22%3A%20true%2C%20%22fillColor%22%3A%20%22%238000ff%22%2C%20%22fillOpacity%22%3A%200.2%2C%20%22fillRule%22%3A%20%22evenodd%22%2C%20%22lineCap%22%3A%20%22round%22%2C%20%22lineJoin%22%3A%20%22round%22%2C%20%22opacity%22%3A%201.0%2C%20%22radius%22%3A%205%2C%20%22stroke%22%3A%20true%2C%20%22weight%22%3A%203%7D%0A%20%20%20%20%20%20%20%20%20%20%20%20%29.addTo%28map_3ae3141edd8f4491b014bec87d5e8f6c%29%3B%0A%20%20%20%20%20%20%20%20%0A%20%20%20%20%0A%20%20%20%20%20%20%20%20var%20popup_2e83496333a54ce78b7300902218b717%20%3D%20L.popup%28%7B%22maxWidth%22%3A%20%22100%25%22%7D%29%3B%0A%0A%20%20%20%20%20%20%20%20%0A%20%20%20%20%20%20%20%20%20%20%20%20var%20html_57c2f67ec4eb46349c77758a67e94cc5%20%3D%20%24%28%60%3Cdiv%20id%3D%22html_57c2f67ec4eb46349c77758a67e94cc5%22%20style%3D%22width%3A%20100.0%25%3B%20height%3A%20100.0%25%3B%22%3ECluster%202%20Parkview%20Hill%2C%20Woodbine%20Gardens%3C/div%3E%60%29%5B0%5D%3B%0A%20%20%20%20%20%20%20%20%20%20%20%20popup_2e83496333a54ce78b7300902218b717.setContent%28html_57c2f67ec4eb46349c77758a67e94cc5%29%3B%0A%20%20%20%20%20%20%20%20%0A%0A%20%20%20%20%20%20%20%20circle_marker_ab90e7f07e2e46c3a816336ea6f2c3b8.bindPopup%28popup_2e83496333a54ce78b7300902218b717%29%0A%20%20%20%20%20%20%20%20%3B%0A%0A%20%20%20%20%20%20%20%20%0A%20%20%20%20%0A%20%20%20%20%0A%20%20%20%20%20%20%20%20%20%20%20%20var%20circle_marker_6dfbcc645d104029aa2428c91fcdede9%20%3D%20L.circleMarker%28%0A%20%20%20%20%20%20%20%20%20%20%20%20%20%20%20%20%5B43.6571618%2C%20-79.37893709999999%5D%2C%0A%20%20%20%20%20%20%20%20%20%20%20%20%20%20%20%20%7B%22bubblingMouseEvents%22%3A%20true%2C%20%22color%22%3A%20%22%238000ff%22%2C%20%22dashArray%22%3A%20null%2C%20%22dashOffset%22%3A%20null%2C%20%22fill%22%3A%20true%2C%20%22fillColor%22%3A%20%22%238000ff%22%2C%20%22fillOpacity%22%3A%200.2%2C%20%22fillRule%22%3A%20%22evenodd%22%2C%20%22lineCap%22%3A%20%22round%22%2C%20%22lineJoin%22%3A%20%22round%22%2C%20%22opacity%22%3A%201.0%2C%20%22radius%22%3A%205%2C%20%22stroke%22%3A%20true%2C%20%22weight%22%3A%203%7D%0A%20%20%20%20%20%20%20%20%20%20%20%20%29.addTo%28map_3ae3141edd8f4491b014bec87d5e8f6c%29%3B%0A%20%20%20%20%20%20%20%20%0A%20%20%20%20%0A%20%20%20%20%20%20%20%20var%20popup_cd3efc2ecf844f6595ab755897ebeb20%20%3D%20L.popup%28%7B%22maxWidth%22%3A%20%22100%25%22%7D%29%3B%0A%0A%20%20%20%20%20%20%20%20%0A%20%20%20%20%20%20%20%20%20%20%20%20var%20html_138ebcd63de84f559d483f03e32ecc09%20%3D%20%24%28%60%3Cdiv%20id%3D%22html_138ebcd63de84f559d483f03e32ecc09%22%20style%3D%22width%3A%20100.0%25%3B%20height%3A%20100.0%25%3B%22%3ECluster%202%20Garden%20District%2C%20Ryerson%3C/div%3E%60%29%5B0%5D%3B%0A%20%20%20%20%20%20%20%20%20%20%20%20popup_cd3efc2ecf844f6595ab755897ebeb20.setContent%28html_138ebcd63de84f559d483f03e32ecc09%29%3B%0A%20%20%20%20%20%20%20%20%0A%0A%20%20%20%20%20%20%20%20circle_marker_6dfbcc645d104029aa2428c91fcdede9.bindPopup%28popup_cd3efc2ecf844f6595ab755897ebeb20%29%0A%20%20%20%20%20%20%20%20%3B%0A%0A%20%20%20%20%20%20%20%20%0A%20%20%20%20%0A%20%20%20%20%0A%20%20%20%20%20%20%20%20%20%20%20%20var%20circle_marker_61bd453b06b84cb9a406b999da951aac%20%3D%20L.circleMarker%28%0A%20%20%20%20%20%20%20%20%20%20%20%20%20%20%20%20%5B43.709577%2C%20-79.44507259999999%5D%2C%0A%20%20%20%20%20%20%20%20%20%20%20%20%20%20%20%20%7B%22bubblingMouseEvents%22%3A%20true%2C%20%22color%22%3A%20%22%238000ff%22%2C%20%22dashArray%22%3A%20null%2C%20%22dashOffset%22%3A%20null%2C%20%22fill%22%3A%20true%2C%20%22fillColor%22%3A%20%22%238000ff%22%2C%20%22fillOpacity%22%3A%200.2%2C%20%22fillRule%22%3A%20%22evenodd%22%2C%20%22lineCap%22%3A%20%22round%22%2C%20%22lineJoin%22%3A%20%22round%22%2C%20%22opacity%22%3A%201.0%2C%20%22radius%22%3A%205%2C%20%22stroke%22%3A%20true%2C%20%22weight%22%3A%203%7D%0A%20%20%20%20%20%20%20%20%20%20%20%20%29.addTo%28map_3ae3141edd8f4491b014bec87d5e8f6c%29%3B%0A%20%20%20%20%20%20%20%20%0A%20%20%20%20%0A%20%20%20%20%20%20%20%20var%20popup_7b6009b17d6047a899b5953d37dc2bc5%20%3D%20L.popup%28%7B%22maxWidth%22%3A%20%22100%25%22%7D%29%3B%0A%0A%20%20%20%20%20%20%20%20%0A%20%20%20%20%20%20%20%20%20%20%20%20var%20html_d9e4c16747e74ace9f6e78e3034cf242%20%3D%20%24%28%60%3Cdiv%20id%3D%22html_d9e4c16747e74ace9f6e78e3034cf242%22%20style%3D%22width%3A%20100.0%25%3B%20height%3A%20100.0%25%3B%22%3ECluster%202%20Glencairn%3C/div%3E%60%29%5B0%5D%3B%0A%20%20%20%20%20%20%20%20%20%20%20%20popup_7b6009b17d6047a899b5953d37dc2bc5.setContent%28html_d9e4c16747e74ace9f6e78e3034cf242%29%3B%0A%20%20%20%20%20%20%20%20%0A%0A%20%20%20%20%20%20%20%20circle_marker_61bd453b06b84cb9a406b999da951aac.bindPopup%28popup_7b6009b17d6047a899b5953d37dc2bc5%29%0A%20%20%20%20%20%20%20%20%3B%0A%0A%20%20%20%20%20%20%20%20%0A%20%20%20%20%0A%20%20%20%20%0A%20%20%20%20%20%20%20%20%20%20%20%20var%20circle_marker_5ed66ec9b0bd477b84c7a3b22efe4203%20%3D%20L.circleMarker%28%0A%20%20%20%20%20%20%20%20%20%20%20%20%20%20%20%20%5B43.6509432%2C%20-79.55472440000001%5D%2C%0A%20%20%20%20%20%20%20%20%20%20%20%20%20%20%20%20%7B%22bubblingMouseEvents%22%3A%20true%2C%20%22color%22%3A%20%22%23ffb360%22%2C%20%22dashArray%22%3A%20null%2C%20%22dashOffset%22%3A%20null%2C%20%22fill%22%3A%20true%2C%20%22fillColor%22%3A%20%22%23ffb360%22%2C%20%22fillOpacity%22%3A%200.2%2C%20%22fillRule%22%3A%20%22evenodd%22%2C%20%22lineCap%22%3A%20%22round%22%2C%20%22lineJoin%22%3A%20%22round%22%2C%20%22opacity%22%3A%201.0%2C%20%22radius%22%3A%205%2C%20%22stroke%22%3A%20true%2C%20%22weight%22%3A%203%7D%0A%20%20%20%20%20%20%20%20%20%20%20%20%29.addTo%28map_3ae3141edd8f4491b014bec87d5e8f6c%29%3B%0A%20%20%20%20%20%20%20%20%0A%20%20%20%20%0A%20%20%20%20%20%20%20%20var%20popup_e7047326275f4cf28482bfb6a7dfb43c%20%3D%20L.popup%28%7B%22maxWidth%22%3A%20%22100%25%22%7D%29%3B%0A%0A%20%20%20%20%20%20%20%20%0A%20%20%20%20%20%20%20%20%20%20%20%20var%20html_28026ca578c54fe6960bdfed4b8daa9f%20%3D%20%24%28%60%3Cdiv%20id%3D%22html_28026ca578c54fe6960bdfed4b8daa9f%22%20style%3D%22width%3A%20100.0%25%3B%20height%3A%20100.0%25%3B%22%3ECluster%205%20West%20Deane%20Park%2C%20Princess%20Gardens%2C%20Martin%20Grove%2C%20Islington%2C%20Cloverdale%3C/div%3E%60%29%5B0%5D%3B%0A%20%20%20%20%20%20%20%20%20%20%20%20popup_e7047326275f4cf28482bfb6a7dfb43c.setContent%28html_28026ca578c54fe6960bdfed4b8daa9f%29%3B%0A%20%20%20%20%20%20%20%20%0A%0A%20%20%20%20%20%20%20%20circle_marker_5ed66ec9b0bd477b84c7a3b22efe4203.bindPopup%28popup_e7047326275f4cf28482bfb6a7dfb43c%29%0A%20%20%20%20%20%20%20%20%3B%0A%0A%20%20%20%20%20%20%20%20%0A%20%20%20%20%0A%20%20%20%20%0A%20%20%20%20%20%20%20%20%20%20%20%20var%20circle_marker_11cae627ef0d49ee8e71539a20727bbb%20%3D%20L.circleMarker%28%0A%20%20%20%20%20%20%20%20%20%20%20%20%20%20%20%20%5B43.7845351%2C%20-79.16049709999999%5D%2C%0A%20%20%20%20%20%20%20%20%20%20%20%20%20%20%20%20%7B%22bubblingMouseEvents%22%3A%20true%2C%20%22color%22%3A%20%22%238000ff%22%2C%20%22dashArray%22%3A%20null%2C%20%22dashOffset%22%3A%20null%2C%20%22fill%22%3A%20true%2C%20%22fillColor%22%3A%20%22%238000ff%22%2C%20%22fillOpacity%22%3A%200.2%2C%20%22fillRule%22%3A%20%22evenodd%22%2C%20%22lineCap%22%3A%20%22round%22%2C%20%22lineJoin%22%3A%20%22round%22%2C%20%22opacity%22%3A%201.0%2C%20%22radius%22%3A%205%2C%20%22stroke%22%3A%20true%2C%20%22weight%22%3A%203%7D%0A%20%20%20%20%20%20%20%20%20%20%20%20%29.addTo%28map_3ae3141edd8f4491b014bec87d5e8f6c%29%3B%0A%20%20%20%20%20%20%20%20%0A%20%20%20%20%0A%20%20%20%20%20%20%20%20var%20popup_07edcf0051f04b4eb0265251b2e391cf%20%3D%20L.popup%28%7B%22maxWidth%22%3A%20%22100%25%22%7D%29%3B%0A%0A%20%20%20%20%20%20%20%20%0A%20%20%20%20%20%20%20%20%20%20%20%20var%20html_db0642ddf3ef4522a9a9db75b1afe3b8%20%3D%20%24%28%60%3Cdiv%20id%3D%22html_db0642ddf3ef4522a9a9db75b1afe3b8%22%20style%3D%22width%3A%20100.0%25%3B%20height%3A%20100.0%25%3B%22%3ECluster%202%20Rouge%20Hill%2C%20Port%20Union%2C%20Highland%20Creek%3C/div%3E%60%29%5B0%5D%3B%0A%20%20%20%20%20%20%20%20%20%20%20%20popup_07edcf0051f04b4eb0265251b2e391cf.setContent%28html_db0642ddf3ef4522a9a9db75b1afe3b8%29%3B%0A%20%20%20%20%20%20%20%20%0A%0A%20%20%20%20%20%20%20%20circle_marker_11cae627ef0d49ee8e71539a20727bbb.bindPopup%28popup_07edcf0051f04b4eb0265251b2e391cf%29%0A%20%20%20%20%20%20%20%20%3B%0A%0A%20%20%20%20%20%20%20%20%0A%20%20%20%20%0A%20%20%20%20%0A%20%20%20%20%20%20%20%20%20%20%20%20var%20circle_marker_d4ebf8444f7543cf81cb7702aaf8c7b6%20%3D%20L.circleMarker%28%0A%20%20%20%20%20%20%20%20%20%20%20%20%20%20%20%20%5B43.72589970000001%2C%20-79.340923%5D%2C%0A%20%20%20%20%20%20%20%20%20%20%20%20%20%20%20%20%7B%22bubblingMouseEvents%22%3A%20true%2C%20%22color%22%3A%20%22%238000ff%22%2C%20%22dashArray%22%3A%20null%2C%20%22dashOffset%22%3A%20null%2C%20%22fill%22%3A%20true%2C%20%22fillColor%22%3A%20%22%238000ff%22%2C%20%22fillOpacity%22%3A%200.2%2C%20%22fillRule%22%3A%20%22evenodd%22%2C%20%22lineCap%22%3A%20%22round%22%2C%20%22lineJoin%22%3A%20%22round%22%2C%20%22opacity%22%3A%201.0%2C%20%22radius%22%3A%205%2C%20%22stroke%22%3A%20true%2C%20%22weight%22%3A%203%7D%0A%20%20%20%20%20%20%20%20%20%20%20%20%29.addTo%28map_3ae3141edd8f4491b014bec87d5e8f6c%29%3B%0A%20%20%20%20%20%20%20%20%0A%20%20%20%20%0A%20%20%20%20%20%20%20%20var%20popup_aee457c3620748a6bf2bbce110d65d91%20%3D%20L.popup%28%7B%22maxWidth%22%3A%20%22100%25%22%7D%29%3B%0A%0A%20%20%20%20%20%20%20%20%0A%20%20%20%20%20%20%20%20%20%20%20%20var%20html_56109b19e6b346a4a16f1f55d1e58bbf%20%3D%20%24%28%60%3Cdiv%20id%3D%22html_56109b19e6b346a4a16f1f55d1e58bbf%22%20style%3D%22width%3A%20100.0%25%3B%20height%3A%20100.0%25%3B%22%3ECluster%202%20Don%20Mills%3C/div%3E%60%29%5B0%5D%3B%0A%20%20%20%20%20%20%20%20%20%20%20%20popup_aee457c3620748a6bf2bbce110d65d91.setContent%28html_56109b19e6b346a4a16f1f55d1e58bbf%29%3B%0A%20%20%20%20%20%20%20%20%0A%0A%20%20%20%20%20%20%20%20circle_marker_d4ebf8444f7543cf81cb7702aaf8c7b6.bindPopup%28popup_aee457c3620748a6bf2bbce110d65d91%29%0A%20%20%20%20%20%20%20%20%3B%0A%0A%20%20%20%20%20%20%20%20%0A%20%20%20%20%0A%20%20%20%20%0A%20%20%20%20%20%20%20%20%20%20%20%20var%20circle_marker_6c8ffe9ffa244f2d8a9d1b832782c649%20%3D%20L.circleMarker%28%0A%20%20%20%20%20%20%20%20%20%20%20%20%20%20%20%20%5B43.695343900000005%2C%20-79.3183887%5D%2C%0A%20%20%20%20%20%20%20%20%20%20%20%20%20%20%20%20%7B%22bubblingMouseEvents%22%3A%20true%2C%20%22color%22%3A%20%22%238000ff%22%2C%20%22dashArray%22%3A%20null%2C%20%22dashOffset%22%3A%20null%2C%20%22fill%22%3A%20true%2C%20%22fillColor%22%3A%20%22%238000ff%22%2C%20%22fillOpacity%22%3A%200.2%2C%20%22fillRule%22%3A%20%22evenodd%22%2C%20%22lineCap%22%3A%20%22round%22%2C%20%22lineJoin%22%3A%20%22round%22%2C%20%22opacity%22%3A%201.0%2C%20%22radius%22%3A%205%2C%20%22stroke%22%3A%20true%2C%20%22weight%22%3A%203%7D%0A%20%20%20%20%20%20%20%20%20%20%20%20%29.addTo%28map_3ae3141edd8f4491b014bec87d5e8f6c%29%3B%0A%20%20%20%20%20%20%20%20%0A%20%20%20%20%0A%20%20%20%20%20%20%20%20var%20popup_01573afac5c643d6863967e07f48f461%20%3D%20L.popup%28%7B%22maxWidth%22%3A%20%22100%25%22%7D%29%3B%0A%0A%20%20%20%20%20%20%20%20%0A%20%20%20%20%20%20%20%20%20%20%20%20var%20html_8c7f8f1f028a44f197331932dae154c9%20%3D%20%24%28%60%3Cdiv%20id%3D%22html_8c7f8f1f028a44f197331932dae154c9%22%20style%3D%22width%3A%20100.0%25%3B%20height%3A%20100.0%25%3B%22%3ECluster%202%20Woodbine%20Heights%3C/div%3E%60%29%5B0%5D%3B%0A%20%20%20%20%20%20%20%20%20%20%20%20popup_01573afac5c643d6863967e07f48f461.setContent%28html_8c7f8f1f028a44f197331932dae154c9%29%3B%0A%20%20%20%20%20%20%20%20%0A%0A%20%20%20%20%20%20%20%20circle_marker_6c8ffe9ffa244f2d8a9d1b832782c649.bindPopup%28popup_01573afac5c643d6863967e07f48f461%29%0A%20%20%20%20%20%20%20%20%3B%0A%0A%20%20%20%20%20%20%20%20%0A%20%20%20%20%0A%20%20%20%20%0A%20%20%20%20%20%20%20%20%20%20%20%20var%20circle_marker_5a24dc3d6b66491994281f3b4519ed5f%20%3D%20L.circleMarker%28%0A%20%20%20%20%20%20%20%20%20%20%20%20%20%20%20%20%5B43.6514939%2C%20-79.3754179%5D%2C%0A%20%20%20%20%20%20%20%20%20%20%20%20%20%20%20%20%7B%22bubblingMouseEvents%22%3A%20true%2C%20%22color%22%3A%20%22%238000ff%22%2C%20%22dashArray%22%3A%20null%2C%20%22dashOffset%22%3A%20null%2C%20%22fill%22%3A%20true%2C%20%22fillColor%22%3A%20%22%238000ff%22%2C%20%22fillOpacity%22%3A%200.2%2C%20%22fillRule%22%3A%20%22evenodd%22%2C%20%22lineCap%22%3A%20%22round%22%2C%20%22lineJoin%22%3A%20%22round%22%2C%20%22opacity%22%3A%201.0%2C%20%22radius%22%3A%205%2C%20%22stroke%22%3A%20true%2C%20%22weight%22%3A%203%7D%0A%20%20%20%20%20%20%20%20%20%20%20%20%29.addTo%28map_3ae3141edd8f4491b014bec87d5e8f6c%29%3B%0A%20%20%20%20%20%20%20%20%0A%20%20%20%20%0A%20%20%20%20%20%20%20%20var%20popup_3c34ca6d93404154aae01f5f7eb161b4%20%3D%20L.popup%28%7B%22maxWidth%22%3A%20%22100%25%22%7D%29%3B%0A%0A%20%20%20%20%20%20%20%20%0A%20%20%20%20%20%20%20%20%20%20%20%20var%20html_824b399b79294652868113d72726f814%20%3D%20%24%28%60%3Cdiv%20id%3D%22html_824b399b79294652868113d72726f814%22%20style%3D%22width%3A%20100.0%25%3B%20height%3A%20100.0%25%3B%22%3ECluster%202%20St.%20James%20Town%3C/div%3E%60%29%5B0%5D%3B%0A%20%20%20%20%20%20%20%20%20%20%20%20popup_3c34ca6d93404154aae01f5f7eb161b4.setContent%28html_824b399b79294652868113d72726f814%29%3B%0A%20%20%20%20%20%20%20%20%0A%0A%20%20%20%20%20%20%20%20circle_marker_5a24dc3d6b66491994281f3b4519ed5f.bindPopup%28popup_3c34ca6d93404154aae01f5f7eb161b4%29%0A%20%20%20%20%20%20%20%20%3B%0A%0A%20%20%20%20%20%20%20%20%0A%20%20%20%20%0A%20%20%20%20%0A%20%20%20%20%20%20%20%20%20%20%20%20var%20circle_marker_582e95991c844a85bd80315125d2575e%20%3D%20L.circleMarker%28%0A%20%20%20%20%20%20%20%20%20%20%20%20%20%20%20%20%5B43.6937813%2C%20-79.42819140000002%5D%2C%0A%20%20%20%20%20%20%20%20%20%20%20%20%20%20%20%20%7B%22bubblingMouseEvents%22%3A%20true%2C%20%22color%22%3A%20%22%238000ff%22%2C%20%22dashArray%22%3A%20null%2C%20%22dashOffset%22%3A%20null%2C%20%22fill%22%3A%20true%2C%20%22fillColor%22%3A%20%22%238000ff%22%2C%20%22fillOpacity%22%3A%200.2%2C%20%22fillRule%22%3A%20%22evenodd%22%2C%20%22lineCap%22%3A%20%22round%22%2C%20%22lineJoin%22%3A%20%22round%22%2C%20%22opacity%22%3A%201.0%2C%20%22radius%22%3A%205%2C%20%22stroke%22%3A%20true%2C%20%22weight%22%3A%203%7D%0A%20%20%20%20%20%20%20%20%20%20%20%20%29.addTo%28map_3ae3141edd8f4491b014bec87d5e8f6c%29%3B%0A%20%20%20%20%20%20%20%20%0A%20%20%20%20%0A%20%20%20%20%20%20%20%20var%20popup_1d2357bbc0ba42189a4bc99bb9fab776%20%3D%20L.popup%28%7B%22maxWidth%22%3A%20%22100%25%22%7D%29%3B%0A%0A%20%20%20%20%20%20%20%20%0A%20%20%20%20%20%20%20%20%20%20%20%20var%20html_f6eff5ebec5b40f59d2e14f86e3e9ccb%20%3D%20%24%28%60%3Cdiv%20id%3D%22html_f6eff5ebec5b40f59d2e14f86e3e9ccb%22%20style%3D%22width%3A%20100.0%25%3B%20height%3A%20100.0%25%3B%22%3ECluster%202%20Humewood-Cedarvale%3C/div%3E%60%29%5B0%5D%3B%0A%20%20%20%20%20%20%20%20%20%20%20%20popup_1d2357bbc0ba42189a4bc99bb9fab776.setContent%28html_f6eff5ebec5b40f59d2e14f86e3e9ccb%29%3B%0A%20%20%20%20%20%20%20%20%0A%0A%20%20%20%20%20%20%20%20circle_marker_582e95991c844a85bd80315125d2575e.bindPopup%28popup_1d2357bbc0ba42189a4bc99bb9fab776%29%0A%20%20%20%20%20%20%20%20%3B%0A%0A%20%20%20%20%20%20%20%20%0A%20%20%20%20%0A%20%20%20%20%0A%20%20%20%20%20%20%20%20%20%20%20%20var%20circle_marker_514952b46259400cadbf52e8e1a4d680%20%3D%20L.circleMarker%28%0A%20%20%20%20%20%20%20%20%20%20%20%20%20%20%20%20%5B43.6435152%2C%20-79.57720079999999%5D%2C%0A%20%20%20%20%20%20%20%20%20%20%20%20%20%20%20%20%7B%22bubblingMouseEvents%22%3A%20true%2C%20%22color%22%3A%20%22%238000ff%22%2C%20%22dashArray%22%3A%20null%2C%20%22dashOffset%22%3A%20null%2C%20%22fill%22%3A%20true%2C%20%22fillColor%22%3A%20%22%238000ff%22%2C%20%22fillOpacity%22%3A%200.2%2C%20%22fillRule%22%3A%20%22evenodd%22%2C%20%22lineCap%22%3A%20%22round%22%2C%20%22lineJoin%22%3A%20%22round%22%2C%20%22opacity%22%3A%201.0%2C%20%22radius%22%3A%205%2C%20%22stroke%22%3A%20true%2C%20%22weight%22%3A%203%7D%0A%20%20%20%20%20%20%20%20%20%20%20%20%29.addTo%28map_3ae3141edd8f4491b014bec87d5e8f6c%29%3B%0A%20%20%20%20%20%20%20%20%0A%20%20%20%20%0A%20%20%20%20%20%20%20%20var%20popup_5db7c9bdd04b4db696a6b2a7af07e969%20%3D%20L.popup%28%7B%22maxWidth%22%3A%20%22100%25%22%7D%29%3B%0A%0A%20%20%20%20%20%20%20%20%0A%20%20%20%20%20%20%20%20%20%20%20%20var%20html_4de76e5845ce41d19264faa068f4fb40%20%3D%20%24%28%60%3Cdiv%20id%3D%22html_4de76e5845ce41d19264faa068f4fb40%22%20style%3D%22width%3A%20100.0%25%3B%20height%3A%20100.0%25%3B%22%3ECluster%202%20Eringate%2C%20Bloordale%20Gardens%2C%20Old%20Burnhamthorpe%2C%20Markland%20Wood%3C/div%3E%60%29%5B0%5D%3B%0A%20%20%20%20%20%20%20%20%20%20%20%20popup_5db7c9bdd04b4db696a6b2a7af07e969.setContent%28html_4de76e5845ce41d19264faa068f4fb40%29%3B%0A%20%20%20%20%20%20%20%20%0A%0A%20%20%20%20%20%20%20%20circle_marker_514952b46259400cadbf52e8e1a4d680.bindPopup%28popup_5db7c9bdd04b4db696a6b2a7af07e969%29%0A%20%20%20%20%20%20%20%20%3B%0A%0A%20%20%20%20%20%20%20%20%0A%20%20%20%20%0A%20%20%20%20%0A%20%20%20%20%20%20%20%20%20%20%20%20var%20circle_marker_14d6851a8a1747dfb1c3d0a14a8bbd7c%20%3D%20L.circleMarker%28%0A%20%20%20%20%20%20%20%20%20%20%20%20%20%20%20%20%5B43.7635726%2C%20-79.1887115%5D%2C%0A%20%20%20%20%20%20%20%20%20%20%20%20%20%20%20%20%7B%22bubblingMouseEvents%22%3A%20true%2C%20%22color%22%3A%20%22%238000ff%22%2C%20%22dashArray%22%3A%20null%2C%20%22dashOffset%22%3A%20null%2C%20%22fill%22%3A%20true%2C%20%22fillColor%22%3A%20%22%238000ff%22%2C%20%22fillOpacity%22%3A%200.2%2C%20%22fillRule%22%3A%20%22evenodd%22%2C%20%22lineCap%22%3A%20%22round%22%2C%20%22lineJoin%22%3A%20%22round%22%2C%20%22opacity%22%3A%201.0%2C%20%22radius%22%3A%205%2C%20%22stroke%22%3A%20true%2C%20%22weight%22%3A%203%7D%0A%20%20%20%20%20%20%20%20%20%20%20%20%29.addTo%28map_3ae3141edd8f4491b014bec87d5e8f6c%29%3B%0A%20%20%20%20%20%20%20%20%0A%20%20%20%20%0A%20%20%20%20%20%20%20%20var%20popup_df04dab6897249b593a7033a84cf6a57%20%3D%20L.popup%28%7B%22maxWidth%22%3A%20%22100%25%22%7D%29%3B%0A%0A%20%20%20%20%20%20%20%20%0A%20%20%20%20%20%20%20%20%20%20%20%20var%20html_aaf936a1c42f4e49bac9ee3a75fe8109%20%3D%20%24%28%60%3Cdiv%20id%3D%22html_aaf936a1c42f4e49bac9ee3a75fe8109%22%20style%3D%22width%3A%20100.0%25%3B%20height%3A%20100.0%25%3B%22%3ECluster%202%20Guildwood%2C%20Morningside%2C%20West%20Hill%3C/div%3E%60%29%5B0%5D%3B%0A%20%20%20%20%20%20%20%20%20%20%20%20popup_df04dab6897249b593a7033a84cf6a57.setContent%28html_aaf936a1c42f4e49bac9ee3a75fe8109%29%3B%0A%20%20%20%20%20%20%20%20%0A%0A%20%20%20%20%20%20%20%20circle_marker_14d6851a8a1747dfb1c3d0a14a8bbd7c.bindPopup%28popup_df04dab6897249b593a7033a84cf6a57%29%0A%20%20%20%20%20%20%20%20%3B%0A%0A%20%20%20%20%20%20%20%20%0A%20%20%20%20%0A%20%20%20%20%0A%20%20%20%20%20%20%20%20%20%20%20%20var%20circle_marker_a8ab73a04f1a47929876c5b706cc3a2c%20%3D%20L.circleMarker%28%0A%20%20%20%20%20%20%20%20%20%20%20%20%20%20%20%20%5B43.67635739999999%2C%20-79.2930312%5D%2C%0A%20%20%20%20%20%20%20%20%20%20%20%20%20%20%20%20%7B%22bubblingMouseEvents%22%3A%20true%2C%20%22color%22%3A%20%22%238000ff%22%2C%20%22dashArray%22%3A%20null%2C%20%22dashOffset%22%3A%20null%2C%20%22fill%22%3A%20true%2C%20%22fillColor%22%3A%20%22%238000ff%22%2C%20%22fillOpacity%22%3A%200.2%2C%20%22fillRule%22%3A%20%22evenodd%22%2C%20%22lineCap%22%3A%20%22round%22%2C%20%22lineJoin%22%3A%20%22round%22%2C%20%22opacity%22%3A%201.0%2C%20%22radius%22%3A%205%2C%20%22stroke%22%3A%20true%2C%20%22weight%22%3A%203%7D%0A%20%20%20%20%20%20%20%20%20%20%20%20%29.addTo%28map_3ae3141edd8f4491b014bec87d5e8f6c%29%3B%0A%20%20%20%20%20%20%20%20%0A%20%20%20%20%0A%20%20%20%20%20%20%20%20var%20popup_d8f8fca058e34d01929cea5be8837c96%20%3D%20L.popup%28%7B%22maxWidth%22%3A%20%22100%25%22%7D%29%3B%0A%0A%20%20%20%20%20%20%20%20%0A%20%20%20%20%20%20%20%20%20%20%20%20var%20html_7ea22da695a44c74a3638ccef7ba529f%20%3D%20%24%28%60%3Cdiv%20id%3D%22html_7ea22da695a44c74a3638ccef7ba529f%22%20style%3D%22width%3A%20100.0%25%3B%20height%3A%20100.0%25%3B%22%3ECluster%202%20The%20Beaches%3C/div%3E%60%29%5B0%5D%3B%0A%20%20%20%20%20%20%20%20%20%20%20%20popup_d8f8fca058e34d01929cea5be8837c96.setContent%28html_7ea22da695a44c74a3638ccef7ba529f%29%3B%0A%20%20%20%20%20%20%20%20%0A%0A%20%20%20%20%20%20%20%20circle_marker_a8ab73a04f1a47929876c5b706cc3a2c.bindPopup%28popup_d8f8fca058e34d01929cea5be8837c96%29%0A%20%20%20%20%20%20%20%20%3B%0A%0A%20%20%20%20%20%20%20%20%0A%20%20%20%20%0A%20%20%20%20%0A%20%20%20%20%20%20%20%20%20%20%20%20var%20circle_marker_8a45e4145061434295d89ce5554e3372%20%3D%20L.circleMarker%28%0A%20%20%20%20%20%20%20%20%20%20%20%20%20%20%20%20%5B43.644770799999996%2C%20-79.3733064%5D%2C%0A%20%20%20%20%20%20%20%20%20%20%20%20%20%20%20%20%7B%22bubblingMouseEvents%22%3A%20true%2C%20%22color%22%3A%20%22%238000ff%22%2C%20%22dashArray%22%3A%20null%2C%20%22dashOffset%22%3A%20null%2C%20%22fill%22%3A%20true%2C%20%22fillColor%22%3A%20%22%238000ff%22%2C%20%22fillOpacity%22%3A%200.2%2C%20%22fillRule%22%3A%20%22evenodd%22%2C%20%22lineCap%22%3A%20%22round%22%2C%20%22lineJoin%22%3A%20%22round%22%2C%20%22opacity%22%3A%201.0%2C%20%22radius%22%3A%205%2C%20%22stroke%22%3A%20true%2C%20%22weight%22%3A%203%7D%0A%20%20%20%20%20%20%20%20%20%20%20%20%29.addTo%28map_3ae3141edd8f4491b014bec87d5e8f6c%29%3B%0A%20%20%20%20%20%20%20%20%0A%20%20%20%20%0A%20%20%20%20%20%20%20%20var%20popup_b3421c5d828a4ea8a59edace2ec43ca6%20%3D%20L.popup%28%7B%22maxWidth%22%3A%20%22100%25%22%7D%29%3B%0A%0A%20%20%20%20%20%20%20%20%0A%20%20%20%20%20%20%20%20%20%20%20%20var%20html_3139cbc88547424eb63a4df852d79fc6%20%3D%20%24%28%60%3Cdiv%20id%3D%22html_3139cbc88547424eb63a4df852d79fc6%22%20style%3D%22width%3A%20100.0%25%3B%20height%3A%20100.0%25%3B%22%3ECluster%202%20Berczy%20Park%3C/div%3E%60%29%5B0%5D%3B%0A%20%20%20%20%20%20%20%20%20%20%20%20popup_b3421c5d828a4ea8a59edace2ec43ca6.setContent%28html_3139cbc88547424eb63a4df852d79fc6%29%3B%0A%20%20%20%20%20%20%20%20%0A%0A%20%20%20%20%20%20%20%20circle_marker_8a45e4145061434295d89ce5554e3372.bindPopup%28popup_b3421c5d828a4ea8a59edace2ec43ca6%29%0A%20%20%20%20%20%20%20%20%3B%0A%0A%20%20%20%20%20%20%20%20%0A%20%20%20%20%0A%20%20%20%20%0A%20%20%20%20%20%20%20%20%20%20%20%20var%20circle_marker_d57ca6130c8c48cdac28e2ff8e02efa0%20%3D%20L.circleMarker%28%0A%20%20%20%20%20%20%20%20%20%20%20%20%20%20%20%20%5B43.6890256%2C%20-79.453512%5D%2C%0A%20%20%20%20%20%20%20%20%20%20%20%20%20%20%20%20%7B%22bubblingMouseEvents%22%3A%20true%2C%20%22color%22%3A%20%22%23ff0000%22%2C%20%22dashArray%22%3A%20null%2C%20%22dashOffset%22%3A%20null%2C%20%22fill%22%3A%20true%2C%20%22fillColor%22%3A%20%22%23ff0000%22%2C%20%22fillOpacity%22%3A%200.2%2C%20%22fillRule%22%3A%20%22evenodd%22%2C%20%22lineCap%22%3A%20%22round%22%2C%20%22lineJoin%22%3A%20%22round%22%2C%20%22opacity%22%3A%201.0%2C%20%22radius%22%3A%205%2C%20%22stroke%22%3A%20true%2C%20%22weight%22%3A%203%7D%0A%20%20%20%20%20%20%20%20%20%20%20%20%29.addTo%28map_3ae3141edd8f4491b014bec87d5e8f6c%29%3B%0A%20%20%20%20%20%20%20%20%0A%20%20%20%20%0A%20%20%20%20%20%20%20%20var%20popup_b6bdaa58e0624a8b80d300946fbfb6ba%20%3D%20L.popup%28%7B%22maxWidth%22%3A%20%22100%25%22%7D%29%3B%0A%0A%20%20%20%20%20%20%20%20%0A%20%20%20%20%20%20%20%20%20%20%20%20var%20html_9137a9edb06b4dfab216c3e5fcb32965%20%3D%20%24%28%60%3Cdiv%20id%3D%22html_9137a9edb06b4dfab216c3e5fcb32965%22%20style%3D%22width%3A%20100.0%25%3B%20height%3A%20100.0%25%3B%22%3ECluster%201%20Caledonia-Fairbanks%3C/div%3E%60%29%5B0%5D%3B%0A%20%20%20%20%20%20%20%20%20%20%20%20popup_b6bdaa58e0624a8b80d300946fbfb6ba.setContent%28html_9137a9edb06b4dfab216c3e5fcb32965%29%3B%0A%20%20%20%20%20%20%20%20%0A%0A%20%20%20%20%20%20%20%20circle_marker_d57ca6130c8c48cdac28e2ff8e02efa0.bindPopup%28popup_b6bdaa58e0624a8b80d300946fbfb6ba%29%0A%20%20%20%20%20%20%20%20%3B%0A%0A%20%20%20%20%20%20%20%20%0A%20%20%20%20%0A%20%20%20%20%0A%20%20%20%20%20%20%20%20%20%20%20%20var%20circle_marker_87277445398b4990b0622a568a313a10%20%3D%20L.circleMarker%28%0A%20%20%20%20%20%20%20%20%20%20%20%20%20%20%20%20%5B43.7709921%2C%20-79.21691740000001%5D%2C%0A%20%20%20%20%20%20%20%20%20%20%20%20%20%20%20%20%7B%22bubblingMouseEvents%22%3A%20true%2C%20%22color%22%3A%20%22%238000ff%22%2C%20%22dashArray%22%3A%20null%2C%20%22dashOffset%22%3A%20null%2C%20%22fill%22%3A%20true%2C%20%22fillColor%22%3A%20%22%238000ff%22%2C%20%22fillOpacity%22%3A%200.2%2C%20%22fillRule%22%3A%20%22evenodd%22%2C%20%22lineCap%22%3A%20%22round%22%2C%20%22lineJoin%22%3A%20%22round%22%2C%20%22opacity%22%3A%201.0%2C%20%22radius%22%3A%205%2C%20%22stroke%22%3A%20true%2C%20%22weight%22%3A%203%7D%0A%20%20%20%20%20%20%20%20%20%20%20%20%29.addTo%28map_3ae3141edd8f4491b014bec87d5e8f6c%29%3B%0A%20%20%20%20%20%20%20%20%0A%20%20%20%20%0A%20%20%20%20%20%20%20%20var%20popup_81df49d97ef04c42bf64f354be85ee33%20%3D%20L.popup%28%7B%22maxWidth%22%3A%20%22100%25%22%7D%29%3B%0A%0A%20%20%20%20%20%20%20%20%0A%20%20%20%20%20%20%20%20%20%20%20%20var%20html_ad2b2ded8e444bb992365d8d68f10028%20%3D%20%24%28%60%3Cdiv%20id%3D%22html_ad2b2ded8e444bb992365d8d68f10028%22%20style%3D%22width%3A%20100.0%25%3B%20height%3A%20100.0%25%3B%22%3ECluster%202%20Woburn%3C/div%3E%60%29%5B0%5D%3B%0A%20%20%20%20%20%20%20%20%20%20%20%20popup_81df49d97ef04c42bf64f354be85ee33.setContent%28html_ad2b2ded8e444bb992365d8d68f10028%29%3B%0A%20%20%20%20%20%20%20%20%0A%0A%20%20%20%20%20%20%20%20circle_marker_87277445398b4990b0622a568a313a10.bindPopup%28popup_81df49d97ef04c42bf64f354be85ee33%29%0A%20%20%20%20%20%20%20%20%3B%0A%0A%20%20%20%20%20%20%20%20%0A%20%20%20%20%0A%20%20%20%20%0A%20%20%20%20%20%20%20%20%20%20%20%20var%20circle_marker_096d14eccde6439480d8d222c2d5ff0c%20%3D%20L.circleMarker%28%0A%20%20%20%20%20%20%20%20%20%20%20%20%20%20%20%20%5B43.7090604%2C%20-79.3634517%5D%2C%0A%20%20%20%20%20%20%20%20%20%20%20%20%20%20%20%20%7B%22bubblingMouseEvents%22%3A%20true%2C%20%22color%22%3A%20%22%238000ff%22%2C%20%22dashArray%22%3A%20null%2C%20%22dashOffset%22%3A%20null%2C%20%22fill%22%3A%20true%2C%20%22fillColor%22%3A%20%22%238000ff%22%2C%20%22fillOpacity%22%3A%200.2%2C%20%22fillRule%22%3A%20%22evenodd%22%2C%20%22lineCap%22%3A%20%22round%22%2C%20%22lineJoin%22%3A%20%22round%22%2C%20%22opacity%22%3A%201.0%2C%20%22radius%22%3A%205%2C%20%22stroke%22%3A%20true%2C%20%22weight%22%3A%203%7D%0A%20%20%20%20%20%20%20%20%20%20%20%20%29.addTo%28map_3ae3141edd8f4491b014bec87d5e8f6c%29%3B%0A%20%20%20%20%20%20%20%20%0A%20%20%20%20%0A%20%20%20%20%20%20%20%20var%20popup_b296b8863e2b43aba0c65f45c7fa854a%20%3D%20L.popup%28%7B%22maxWidth%22%3A%20%22100%25%22%7D%29%3B%0A%0A%20%20%20%20%20%20%20%20%0A%20%20%20%20%20%20%20%20%20%20%20%20var%20html_eb67ceeab818432aa2739605636eb773%20%3D%20%24%28%60%3Cdiv%20id%3D%22html_eb67ceeab818432aa2739605636eb773%22%20style%3D%22width%3A%20100.0%25%3B%20height%3A%20100.0%25%3B%22%3ECluster%202%20Leaside%3C/div%3E%60%29%5B0%5D%3B%0A%20%20%20%20%20%20%20%20%20%20%20%20popup_b296b8863e2b43aba0c65f45c7fa854a.setContent%28html_eb67ceeab818432aa2739605636eb773%29%3B%0A%20%20%20%20%20%20%20%20%0A%0A%20%20%20%20%20%20%20%20circle_marker_096d14eccde6439480d8d222c2d5ff0c.bindPopup%28popup_b296b8863e2b43aba0c65f45c7fa854a%29%0A%20%20%20%20%20%20%20%20%3B%0A%0A%20%20%20%20%20%20%20%20%0A%20%20%20%20%0A%20%20%20%20%0A%20%20%20%20%20%20%20%20%20%20%20%20var%20circle_marker_846a546657354f2683dd1f79ea35ff54%20%3D%20L.circleMarker%28%0A%20%20%20%20%20%20%20%20%20%20%20%20%20%20%20%20%5B43.6579524%2C%20-79.3873826%5D%2C%0A%20%20%20%20%20%20%20%20%20%20%20%20%20%20%20%20%7B%22bubblingMouseEvents%22%3A%20true%2C%20%22color%22%3A%20%22%238000ff%22%2C%20%22dashArray%22%3A%20null%2C%20%22dashOffset%22%3A%20null%2C%20%22fill%22%3A%20true%2C%20%22fillColor%22%3A%20%22%238000ff%22%2C%20%22fillOpacity%22%3A%200.2%2C%20%22fillRule%22%3A%20%22evenodd%22%2C%20%22lineCap%22%3A%20%22round%22%2C%20%22lineJoin%22%3A%20%22round%22%2C%20%22opacity%22%3A%201.0%2C%20%22radius%22%3A%205%2C%20%22stroke%22%3A%20true%2C%20%22weight%22%3A%203%7D%0A%20%20%20%20%20%20%20%20%20%20%20%20%29.addTo%28map_3ae3141edd8f4491b014bec87d5e8f6c%29%3B%0A%20%20%20%20%20%20%20%20%0A%20%20%20%20%0A%20%20%20%20%20%20%20%20var%20popup_85c9fba1bc724f1395a7c619dd5d7d62%20%3D%20L.popup%28%7B%22maxWidth%22%3A%20%22100%25%22%7D%29%3B%0A%0A%20%20%20%20%20%20%20%20%0A%20%20%20%20%20%20%20%20%20%20%20%20var%20html_b33b7539e6e94a569c405285120ed0eb%20%3D%20%24%28%60%3Cdiv%20id%3D%22html_b33b7539e6e94a569c405285120ed0eb%22%20style%3D%22width%3A%20100.0%25%3B%20height%3A%20100.0%25%3B%22%3ECluster%202%20Central%20Bay%20Street%3C/div%3E%60%29%5B0%5D%3B%0A%20%20%20%20%20%20%20%20%20%20%20%20popup_85c9fba1bc724f1395a7c619dd5d7d62.setContent%28html_b33b7539e6e94a569c405285120ed0eb%29%3B%0A%20%20%20%20%20%20%20%20%0A%0A%20%20%20%20%20%20%20%20circle_marker_846a546657354f2683dd1f79ea35ff54.bindPopup%28popup_85c9fba1bc724f1395a7c619dd5d7d62%29%0A%20%20%20%20%20%20%20%20%3B%0A%0A%20%20%20%20%20%20%20%20%0A%20%20%20%20%0A%20%20%20%20%0A%20%20%20%20%20%20%20%20%20%20%20%20var%20circle_marker_00f06b1f00c44c6a83b3b14bf25da08e%20%3D%20L.circleMarker%28%0A%20%20%20%20%20%20%20%20%20%20%20%20%20%20%20%20%5B43.669542%2C%20-79.4225637%5D%2C%0A%20%20%20%20%20%20%20%20%20%20%20%20%20%20%20%20%7B%22bubblingMouseEvents%22%3A%20true%2C%20%22color%22%3A%20%22%238000ff%22%2C%20%22dashArray%22%3A%20null%2C%20%22dashOffset%22%3A%20null%2C%20%22fill%22%3A%20true%2C%20%22fillColor%22%3A%20%22%238000ff%22%2C%20%22fillOpacity%22%3A%200.2%2C%20%22fillRule%22%3A%20%22evenodd%22%2C%20%22lineCap%22%3A%20%22round%22%2C%20%22lineJoin%22%3A%20%22round%22%2C%20%22opacity%22%3A%201.0%2C%20%22radius%22%3A%205%2C%20%22stroke%22%3A%20true%2C%20%22weight%22%3A%203%7D%0A%20%20%20%20%20%20%20%20%20%20%20%20%29.addTo%28map_3ae3141edd8f4491b014bec87d5e8f6c%29%3B%0A%20%20%20%20%20%20%20%20%0A%20%20%20%20%0A%20%20%20%20%20%20%20%20var%20popup_8e94cfbf95574e8fafdf2555727f659f%20%3D%20L.popup%28%7B%22maxWidth%22%3A%20%22100%25%22%7D%29%3B%0A%0A%20%20%20%20%20%20%20%20%0A%20%20%20%20%20%20%20%20%20%20%20%20var%20html_e9e0618acd8a4883815ba66c4f0673d7%20%3D%20%24%28%60%3Cdiv%20id%3D%22html_e9e0618acd8a4883815ba66c4f0673d7%22%20style%3D%22width%3A%20100.0%25%3B%20height%3A%20100.0%25%3B%22%3ECluster%202%20Christie%3C/div%3E%60%29%5B0%5D%3B%0A%20%20%20%20%20%20%20%20%20%20%20%20popup_8e94cfbf95574e8fafdf2555727f659f.setContent%28html_e9e0618acd8a4883815ba66c4f0673d7%29%3B%0A%20%20%20%20%20%20%20%20%0A%0A%20%20%20%20%20%20%20%20circle_marker_00f06b1f00c44c6a83b3b14bf25da08e.bindPopup%28popup_8e94cfbf95574e8fafdf2555727f659f%29%0A%20%20%20%20%20%20%20%20%3B%0A%0A%20%20%20%20%20%20%20%20%0A%20%20%20%20%0A%20%20%20%20%0A%20%20%20%20%20%20%20%20%20%20%20%20var%20circle_marker_cb29137302844eaab5d8a3ad6a165afb%20%3D%20L.circleMarker%28%0A%20%20%20%20%20%20%20%20%20%20%20%20%20%20%20%20%5B43.773136%2C%20-79.23947609999999%5D%2C%0A%20%20%20%20%20%20%20%20%20%20%20%20%20%20%20%20%7B%22bubblingMouseEvents%22%3A%20true%2C%20%22color%22%3A%20%22%238000ff%22%2C%20%22dashArray%22%3A%20null%2C%20%22dashOffset%22%3A%20null%2C%20%22fill%22%3A%20true%2C%20%22fillColor%22%3A%20%22%238000ff%22%2C%20%22fillOpacity%22%3A%200.2%2C%20%22fillRule%22%3A%20%22evenodd%22%2C%20%22lineCap%22%3A%20%22round%22%2C%20%22lineJoin%22%3A%20%22round%22%2C%20%22opacity%22%3A%201.0%2C%20%22radius%22%3A%205%2C%20%22stroke%22%3A%20true%2C%20%22weight%22%3A%203%7D%0A%20%20%20%20%20%20%20%20%20%20%20%20%29.addTo%28map_3ae3141edd8f4491b014bec87d5e8f6c%29%3B%0A%20%20%20%20%20%20%20%20%0A%20%20%20%20%0A%20%20%20%20%20%20%20%20var%20popup_c0d7a15357cf44b2ae34d6f0ce59556a%20%3D%20L.popup%28%7B%22maxWidth%22%3A%20%22100%25%22%7D%29%3B%0A%0A%20%20%20%20%20%20%20%20%0A%20%20%20%20%20%20%20%20%20%20%20%20var%20html_f00759da751f419b8f8f374c4a154d7f%20%3D%20%24%28%60%3Cdiv%20id%3D%22html_f00759da751f419b8f8f374c4a154d7f%22%20style%3D%22width%3A%20100.0%25%3B%20height%3A%20100.0%25%3B%22%3ECluster%202%20Cedarbrae%3C/div%3E%60%29%5B0%5D%3B%0A%20%20%20%20%20%20%20%20%20%20%20%20popup_c0d7a15357cf44b2ae34d6f0ce59556a.setContent%28html_f00759da751f419b8f8f374c4a154d7f%29%3B%0A%20%20%20%20%20%20%20%20%0A%0A%20%20%20%20%20%20%20%20circle_marker_cb29137302844eaab5d8a3ad6a165afb.bindPopup%28popup_c0d7a15357cf44b2ae34d6f0ce59556a%29%0A%20%20%20%20%20%20%20%20%3B%0A%0A%20%20%20%20%20%20%20%20%0A%20%20%20%20%0A%20%20%20%20%0A%20%20%20%20%20%20%20%20%20%20%20%20var%20circle_marker_4f07d8f086ff41d198cc15d42ac8e716%20%3D%20L.circleMarker%28%0A%20%20%20%20%20%20%20%20%20%20%20%20%20%20%20%20%5B43.8037622%2C%20-79.3634517%5D%2C%0A%20%20%20%20%20%20%20%20%20%20%20%20%20%20%20%20%7B%22bubblingMouseEvents%22%3A%20true%2C%20%22color%22%3A%20%22%238000ff%22%2C%20%22dashArray%22%3A%20null%2C%20%22dashOffset%22%3A%20null%2C%20%22fill%22%3A%20true%2C%20%22fillColor%22%3A%20%22%238000ff%22%2C%20%22fillOpacity%22%3A%200.2%2C%20%22fillRule%22%3A%20%22evenodd%22%2C%20%22lineCap%22%3A%20%22round%22%2C%20%22lineJoin%22%3A%20%22round%22%2C%20%22opacity%22%3A%201.0%2C%20%22radius%22%3A%205%2C%20%22stroke%22%3A%20true%2C%20%22weight%22%3A%203%7D%0A%20%20%20%20%20%20%20%20%20%20%20%20%29.addTo%28map_3ae3141edd8f4491b014bec87d5e8f6c%29%3B%0A%20%20%20%20%20%20%20%20%0A%20%20%20%20%0A%20%20%20%20%20%20%20%20var%20popup_897bb2a952c647cdbe05418a2c078c03%20%3D%20L.popup%28%7B%22maxWidth%22%3A%20%22100%25%22%7D%29%3B%0A%0A%20%20%20%20%20%20%20%20%0A%20%20%20%20%20%20%20%20%20%20%20%20var%20html_1e6c688240404465ad19d80446aa3367%20%3D%20%24%28%60%3Cdiv%20id%3D%22html_1e6c688240404465ad19d80446aa3367%22%20style%3D%22width%3A%20100.0%25%3B%20height%3A%20100.0%25%3B%22%3ECluster%202%20Hillcrest%20Village%3C/div%3E%60%29%5B0%5D%3B%0A%20%20%20%20%20%20%20%20%20%20%20%20popup_897bb2a952c647cdbe05418a2c078c03.setContent%28html_1e6c688240404465ad19d80446aa3367%29%3B%0A%20%20%20%20%20%20%20%20%0A%0A%20%20%20%20%20%20%20%20circle_marker_4f07d8f086ff41d198cc15d42ac8e716.bindPopup%28popup_897bb2a952c647cdbe05418a2c078c03%29%0A%20%20%20%20%20%20%20%20%3B%0A%0A%20%20%20%20%20%20%20%20%0A%20%20%20%20%0A%20%20%20%20%0A%20%20%20%20%20%20%20%20%20%20%20%20var%20circle_marker_62075f1e9c2c4aaf84cbbc9495ea0850%20%3D%20L.circleMarker%28%0A%20%20%20%20%20%20%20%20%20%20%20%20%20%20%20%20%5B43.7543283%2C%20-79.4422593%5D%2C%0A%20%20%20%20%20%20%20%20%20%20%20%20%20%20%20%20%7B%22bubblingMouseEvents%22%3A%20true%2C%20%22color%22%3A%20%22%238000ff%22%2C%20%22dashArray%22%3A%20null%2C%20%22dashOffset%22%3A%20null%2C%20%22fill%22%3A%20true%2C%20%22fillColor%22%3A%20%22%238000ff%22%2C%20%22fillOpacity%22%3A%200.2%2C%20%22fillRule%22%3A%20%22evenodd%22%2C%20%22lineCap%22%3A%20%22round%22%2C%20%22lineJoin%22%3A%20%22round%22%2C%20%22opacity%22%3A%201.0%2C%20%22radius%22%3A%205%2C%20%22stroke%22%3A%20true%2C%20%22weight%22%3A%203%7D%0A%20%20%20%20%20%20%20%20%20%20%20%20%29.addTo%28map_3ae3141edd8f4491b014bec87d5e8f6c%29%3B%0A%20%20%20%20%20%20%20%20%0A%20%20%20%20%0A%20%20%20%20%20%20%20%20var%20popup_413739c00320446ca2be264dcc6ecaae%20%3D%20L.popup%28%7B%22maxWidth%22%3A%20%22100%25%22%7D%29%3B%0A%0A%20%20%20%20%20%20%20%20%0A%20%20%20%20%20%20%20%20%20%20%20%20var%20html_5bdce60ae8434d4994b9b7319fdc48b1%20%3D%20%24%28%60%3Cdiv%20id%3D%22html_5bdce60ae8434d4994b9b7319fdc48b1%22%20style%3D%22width%3A%20100.0%25%3B%20height%3A%20100.0%25%3B%22%3ECluster%202%20Bathurst%20Manor%2C%20Wilson%20Heights%2C%20Downsview%20North%3C/div%3E%60%29%5B0%5D%3B%0A%20%20%20%20%20%20%20%20%20%20%20%20popup_413739c00320446ca2be264dcc6ecaae.setContent%28html_5bdce60ae8434d4994b9b7319fdc48b1%29%3B%0A%20%20%20%20%20%20%20%20%0A%0A%20%20%20%20%20%20%20%20circle_marker_62075f1e9c2c4aaf84cbbc9495ea0850.bindPopup%28popup_413739c00320446ca2be264dcc6ecaae%29%0A%20%20%20%20%20%20%20%20%3B%0A%0A%20%20%20%20%20%20%20%20%0A%20%20%20%20%0A%20%20%20%20%0A%20%20%20%20%20%20%20%20%20%20%20%20var%20circle_marker_5003288eee9c48548268dd1c1543e6c0%20%3D%20L.circleMarker%28%0A%20%20%20%20%20%20%20%20%20%20%20%20%20%20%20%20%5B43.7053689%2C%20-79.34937190000001%5D%2C%0A%20%20%20%20%20%20%20%20%20%20%20%20%20%20%20%20%7B%22bubblingMouseEvents%22%3A%20true%2C%20%22color%22%3A%20%22%238000ff%22%2C%20%22dashArray%22%3A%20null%2C%20%22dashOffset%22%3A%20null%2C%20%22fill%22%3A%20true%2C%20%22fillColor%22%3A%20%22%238000ff%22%2C%20%22fillOpacity%22%3A%200.2%2C%20%22fillRule%22%3A%20%22evenodd%22%2C%20%22lineCap%22%3A%20%22round%22%2C%20%22lineJoin%22%3A%20%22round%22%2C%20%22opacity%22%3A%201.0%2C%20%22radius%22%3A%205%2C%20%22stroke%22%3A%20true%2C%20%22weight%22%3A%203%7D%0A%20%20%20%20%20%20%20%20%20%20%20%20%29.addTo%28map_3ae3141edd8f4491b014bec87d5e8f6c%29%3B%0A%20%20%20%20%20%20%20%20%0A%20%20%20%20%0A%20%20%20%20%20%20%20%20var%20popup_580c36b004a14511aca7e92c178c4ea9%20%3D%20L.popup%28%7B%22maxWidth%22%3A%20%22100%25%22%7D%29%3B%0A%0A%20%20%20%20%20%20%20%20%0A%20%20%20%20%20%20%20%20%20%20%20%20var%20html_88894e5a984c47e7848015d9c1173114%20%3D%20%24%28%60%3Cdiv%20id%3D%22html_88894e5a984c47e7848015d9c1173114%22%20style%3D%22width%3A%20100.0%25%3B%20height%3A%20100.0%25%3B%22%3ECluster%202%20Thorncliffe%20Park%3C/div%3E%60%29%5B0%5D%3B%0A%20%20%20%20%20%20%20%20%20%20%20%20popup_580c36b004a14511aca7e92c178c4ea9.setContent%28html_88894e5a984c47e7848015d9c1173114%29%3B%0A%20%20%20%20%20%20%20%20%0A%0A%20%20%20%20%20%20%20%20circle_marker_5003288eee9c48548268dd1c1543e6c0.bindPopup%28popup_580c36b004a14511aca7e92c178c4ea9%29%0A%20%20%20%20%20%20%20%20%3B%0A%0A%20%20%20%20%20%20%20%20%0A%20%20%20%20%0A%20%20%20%20%0A%20%20%20%20%20%20%20%20%20%20%20%20var%20circle_marker_a5346440b3a649a088f2bf4732ef5189%20%3D%20L.circleMarker%28%0A%20%20%20%20%20%20%20%20%20%20%20%20%20%20%20%20%5B43.65057120000001%2C%20-79.3845675%5D%2C%0A%20%20%20%20%20%20%20%20%20%20%20%20%20%20%20%20%7B%22bubblingMouseEvents%22%3A%20true%2C%20%22color%22%3A%20%22%238000ff%22%2C%20%22dashArray%22%3A%20null%2C%20%22dashOffset%22%3A%20null%2C%20%22fill%22%3A%20true%2C%20%22fillColor%22%3A%20%22%238000ff%22%2C%20%22fillOpacity%22%3A%200.2%2C%20%22fillRule%22%3A%20%22evenodd%22%2C%20%22lineCap%22%3A%20%22round%22%2C%20%22lineJoin%22%3A%20%22round%22%2C%20%22opacity%22%3A%201.0%2C%20%22radius%22%3A%205%2C%20%22stroke%22%3A%20true%2C%20%22weight%22%3A%203%7D%0A%20%20%20%20%20%20%20%20%20%20%20%20%29.addTo%28map_3ae3141edd8f4491b014bec87d5e8f6c%29%3B%0A%20%20%20%20%20%20%20%20%0A%20%20%20%20%0A%20%20%20%20%20%20%20%20var%20popup_85b3b3e994aa43a3856366b2761da2ce%20%3D%20L.popup%28%7B%22maxWidth%22%3A%20%22100%25%22%7D%29%3B%0A%0A%20%20%20%20%20%20%20%20%0A%20%20%20%20%20%20%20%20%20%20%20%20var%20html_088abeb0c2c045adbfa3aeedad4dd847%20%3D%20%24%28%60%3Cdiv%20id%3D%22html_088abeb0c2c045adbfa3aeedad4dd847%22%20style%3D%22width%3A%20100.0%25%3B%20height%3A%20100.0%25%3B%22%3ECluster%202%20Richmond%2C%20Adelaide%2C%20King%3C/div%3E%60%29%5B0%5D%3B%0A%20%20%20%20%20%20%20%20%20%20%20%20popup_85b3b3e994aa43a3856366b2761da2ce.setContent%28html_088abeb0c2c045adbfa3aeedad4dd847%29%3B%0A%20%20%20%20%20%20%20%20%0A%0A%20%20%20%20%20%20%20%20circle_marker_a5346440b3a649a088f2bf4732ef5189.bindPopup%28popup_85b3b3e994aa43a3856366b2761da2ce%29%0A%20%20%20%20%20%20%20%20%3B%0A%0A%20%20%20%20%20%20%20%20%0A%20%20%20%20%0A%20%20%20%20%0A%20%20%20%20%20%20%20%20%20%20%20%20var%20circle_marker_4f03aded9f7f41e4b2871accd166de78%20%3D%20L.circleMarker%28%0A%20%20%20%20%20%20%20%20%20%20%20%20%20%20%20%20%5B43.66900510000001%2C%20-79.4422593%5D%2C%0A%20%20%20%20%20%20%20%20%20%20%20%20%20%20%20%20%7B%22bubblingMouseEvents%22%3A%20true%2C%20%22color%22%3A%20%22%238000ff%22%2C%20%22dashArray%22%3A%20null%2C%20%22dashOffset%22%3A%20null%2C%20%22fill%22%3A%20true%2C%20%22fillColor%22%3A%20%22%238000ff%22%2C%20%22fillOpacity%22%3A%200.2%2C%20%22fillRule%22%3A%20%22evenodd%22%2C%20%22lineCap%22%3A%20%22round%22%2C%20%22lineJoin%22%3A%20%22round%22%2C%20%22opacity%22%3A%201.0%2C%20%22radius%22%3A%205%2C%20%22stroke%22%3A%20true%2C%20%22weight%22%3A%203%7D%0A%20%20%20%20%20%20%20%20%20%20%20%20%29.addTo%28map_3ae3141edd8f4491b014bec87d5e8f6c%29%3B%0A%20%20%20%20%20%20%20%20%0A%20%20%20%20%0A%20%20%20%20%20%20%20%20var%20popup_a291d09c9ab94082913e0ce08e218eda%20%3D%20L.popup%28%7B%22maxWidth%22%3A%20%22100%25%22%7D%29%3B%0A%0A%20%20%20%20%20%20%20%20%0A%20%20%20%20%20%20%20%20%20%20%20%20var%20html_c97e1203ad7f4611975e182eae98d5cc%20%3D%20%24%28%60%3Cdiv%20id%3D%22html_c97e1203ad7f4611975e182eae98d5cc%22%20style%3D%22width%3A%20100.0%25%3B%20height%3A%20100.0%25%3B%22%3ECluster%202%20Dufferin%2C%20Dovercourt%20Village%3C/div%3E%60%29%5B0%5D%3B%0A%20%20%20%20%20%20%20%20%20%20%20%20popup_a291d09c9ab94082913e0ce08e218eda.setContent%28html_c97e1203ad7f4611975e182eae98d5cc%29%3B%0A%20%20%20%20%20%20%20%20%0A%0A%20%20%20%20%20%20%20%20circle_marker_4f03aded9f7f41e4b2871accd166de78.bindPopup%28popup_a291d09c9ab94082913e0ce08e218eda%29%0A%20%20%20%20%20%20%20%20%3B%0A%0A%20%20%20%20%20%20%20%20%0A%20%20%20%20%0A%20%20%20%20%0A%20%20%20%20%20%20%20%20%20%20%20%20var%20circle_marker_269f628de7574ebd8383de12b894f965%20%3D%20L.circleMarker%28%0A%20%20%20%20%20%20%20%20%20%20%20%20%20%20%20%20%5B43.7447342%2C%20-79.23947609999999%5D%2C%0A%20%20%20%20%20%20%20%20%20%20%20%20%20%20%20%20%7B%22bubblingMouseEvents%22%3A%20true%2C%20%22color%22%3A%20%22%23ff0000%22%2C%20%22dashArray%22%3A%20null%2C%20%22dashOffset%22%3A%20null%2C%20%22fill%22%3A%20true%2C%20%22fillColor%22%3A%20%22%23ff0000%22%2C%20%22fillOpacity%22%3A%200.2%2C%20%22fillRule%22%3A%20%22evenodd%22%2C%20%22lineCap%22%3A%20%22round%22%2C%20%22lineJoin%22%3A%20%22round%22%2C%20%22opacity%22%3A%201.0%2C%20%22radius%22%3A%205%2C%20%22stroke%22%3A%20true%2C%20%22weight%22%3A%203%7D%0A%20%20%20%20%20%20%20%20%20%20%20%20%29.addTo%28map_3ae3141edd8f4491b014bec87d5e8f6c%29%3B%0A%20%20%20%20%20%20%20%20%0A%20%20%20%20%0A%20%20%20%20%20%20%20%20var%20popup_a489937d120c4d26907de798d883dfa5%20%3D%20L.popup%28%7B%22maxWidth%22%3A%20%22100%25%22%7D%29%3B%0A%0A%20%20%20%20%20%20%20%20%0A%20%20%20%20%20%20%20%20%20%20%20%20var%20html_16f64dbc46b4483291ceabbc94473348%20%3D%20%24%28%60%3Cdiv%20id%3D%22html_16f64dbc46b4483291ceabbc94473348%22%20style%3D%22width%3A%20100.0%25%3B%20height%3A%20100.0%25%3B%22%3ECluster%201%20Scarborough%20Village%3C/div%3E%60%29%5B0%5D%3B%0A%20%20%20%20%20%20%20%20%20%20%20%20popup_a489937d120c4d26907de798d883dfa5.setContent%28html_16f64dbc46b4483291ceabbc94473348%29%3B%0A%20%20%20%20%20%20%20%20%0A%0A%20%20%20%20%20%20%20%20circle_marker_269f628de7574ebd8383de12b894f965.bindPopup%28popup_a489937d120c4d26907de798d883dfa5%29%0A%20%20%20%20%20%20%20%20%3B%0A%0A%20%20%20%20%20%20%20%20%0A%20%20%20%20%0A%20%20%20%20%0A%20%20%20%20%20%20%20%20%20%20%20%20var%20circle_marker_458b0879a80d4c99a788f0feec74310a%20%3D%20L.circleMarker%28%0A%20%20%20%20%20%20%20%20%20%20%20%20%20%20%20%20%5B43.7785175%2C%20-79.3465557%5D%2C%0A%20%20%20%20%20%20%20%20%20%20%20%20%20%20%20%20%7B%22bubblingMouseEvents%22%3A%20true%2C%20%22color%22%3A%20%22%238000ff%22%2C%20%22dashArray%22%3A%20null%2C%20%22dashOffset%22%3A%20null%2C%20%22fill%22%3A%20true%2C%20%22fillColor%22%3A%20%22%238000ff%22%2C%20%22fillOpacity%22%3A%200.2%2C%20%22fillRule%22%3A%20%22evenodd%22%2C%20%22lineCap%22%3A%20%22round%22%2C%20%22lineJoin%22%3A%20%22round%22%2C%20%22opacity%22%3A%201.0%2C%20%22radius%22%3A%205%2C%20%22stroke%22%3A%20true%2C%20%22weight%22%3A%203%7D%0A%20%20%20%20%20%20%20%20%20%20%20%20%29.addTo%28map_3ae3141edd8f4491b014bec87d5e8f6c%29%3B%0A%20%20%20%20%20%20%20%20%0A%20%20%20%20%0A%20%20%20%20%20%20%20%20var%20popup_aa56d4ebef3c4ec9a3c08c63631dfb4c%20%3D%20L.popup%28%7B%22maxWidth%22%3A%20%22100%25%22%7D%29%3B%0A%0A%20%20%20%20%20%20%20%20%0A%20%20%20%20%20%20%20%20%20%20%20%20var%20html_a3dcb3628f514af189a42d77f03c310a%20%3D%20%24%28%60%3Cdiv%20id%3D%22html_a3dcb3628f514af189a42d77f03c310a%22%20style%3D%22width%3A%20100.0%25%3B%20height%3A%20100.0%25%3B%22%3ECluster%202%20Fairview%2C%20Henry%20Farm%2C%20Oriole%3C/div%3E%60%29%5B0%5D%3B%0A%20%20%20%20%20%20%20%20%20%20%20%20popup_aa56d4ebef3c4ec9a3c08c63631dfb4c.setContent%28html_a3dcb3628f514af189a42d77f03c310a%29%3B%0A%20%20%20%20%20%20%20%20%0A%0A%20%20%20%20%20%20%20%20circle_marker_458b0879a80d4c99a788f0feec74310a.bindPopup%28popup_aa56d4ebef3c4ec9a3c08c63631dfb4c%29%0A%20%20%20%20%20%20%20%20%3B%0A%0A%20%20%20%20%20%20%20%20%0A%20%20%20%20%0A%20%20%20%20%0A%20%20%20%20%20%20%20%20%20%20%20%20var%20circle_marker_540c66bc561f4e0a864fecd6b8016152%20%3D%20L.circleMarker%28%0A%20%20%20%20%20%20%20%20%20%20%20%20%20%20%20%20%5B43.7679803%2C%20-79.48726190000001%5D%2C%0A%20%20%20%20%20%20%20%20%20%20%20%20%20%20%20%20%7B%22bubblingMouseEvents%22%3A%20true%2C%20%22color%22%3A%20%22%238000ff%22%2C%20%22dashArray%22%3A%20null%2C%20%22dashOffset%22%3A%20null%2C%20%22fill%22%3A%20true%2C%20%22fillColor%22%3A%20%22%238000ff%22%2C%20%22fillOpacity%22%3A%200.2%2C%20%22fillRule%22%3A%20%22evenodd%22%2C%20%22lineCap%22%3A%20%22round%22%2C%20%22lineJoin%22%3A%20%22round%22%2C%20%22opacity%22%3A%201.0%2C%20%22radius%22%3A%205%2C%20%22stroke%22%3A%20true%2C%20%22weight%22%3A%203%7D%0A%20%20%20%20%20%20%20%20%20%20%20%20%29.addTo%28map_3ae3141edd8f4491b014bec87d5e8f6c%29%3B%0A%20%20%20%20%20%20%20%20%0A%20%20%20%20%0A%20%20%20%20%20%20%20%20var%20popup_a673b5b9f93040f99ba589f14c73defe%20%3D%20L.popup%28%7B%22maxWidth%22%3A%20%22100%25%22%7D%29%3B%0A%0A%20%20%20%20%20%20%20%20%0A%20%20%20%20%20%20%20%20%20%20%20%20var%20html_f892612ab3e2496b876ffbe8d8292a68%20%3D%20%24%28%60%3Cdiv%20id%3D%22html_f892612ab3e2496b876ffbe8d8292a68%22%20style%3D%22width%3A%20100.0%25%3B%20height%3A%20100.0%25%3B%22%3ECluster%202%20Northwood%20Park%2C%20York%20University%3C/div%3E%60%29%5B0%5D%3B%0A%20%20%20%20%20%20%20%20%20%20%20%20popup_a673b5b9f93040f99ba589f14c73defe.setContent%28html_f892612ab3e2496b876ffbe8d8292a68%29%3B%0A%20%20%20%20%20%20%20%20%0A%0A%20%20%20%20%20%20%20%20circle_marker_540c66bc561f4e0a864fecd6b8016152.bindPopup%28popup_a673b5b9f93040f99ba589f14c73defe%29%0A%20%20%20%20%20%20%20%20%3B%0A%0A%20%20%20%20%20%20%20%20%0A%20%20%20%20%0A%20%20%20%20%0A%20%20%20%20%20%20%20%20%20%20%20%20var%20circle_marker_af0fcca305fd49a0a1ac6a06b3f5be9e%20%3D%20L.circleMarker%28%0A%20%20%20%20%20%20%20%20%20%20%20%20%20%20%20%20%5B43.685347%2C%20-79.3381065%5D%2C%0A%20%20%20%20%20%20%20%20%20%20%20%20%20%20%20%20%7B%22bubblingMouseEvents%22%3A%20true%2C%20%22color%22%3A%20%22%23ff0000%22%2C%20%22dashArray%22%3A%20null%2C%20%22dashOffset%22%3A%20null%2C%20%22fill%22%3A%20true%2C%20%22fillColor%22%3A%20%22%23ff0000%22%2C%20%22fillOpacity%22%3A%200.2%2C%20%22fillRule%22%3A%20%22evenodd%22%2C%20%22lineCap%22%3A%20%22round%22%2C%20%22lineJoin%22%3A%20%22round%22%2C%20%22opacity%22%3A%201.0%2C%20%22radius%22%3A%205%2C%20%22stroke%22%3A%20true%2C%20%22weight%22%3A%203%7D%0A%20%20%20%20%20%20%20%20%20%20%20%20%29.addTo%28map_3ae3141edd8f4491b014bec87d5e8f6c%29%3B%0A%20%20%20%20%20%20%20%20%0A%20%20%20%20%0A%20%20%20%20%20%20%20%20var%20popup_97f4b97db6394e9fa72248e071b7b72c%20%3D%20L.popup%28%7B%22maxWidth%22%3A%20%22100%25%22%7D%29%3B%0A%0A%20%20%20%20%20%20%20%20%0A%20%20%20%20%20%20%20%20%20%20%20%20var%20html_7ad5b7e0c14444b08f5928311d2871b0%20%3D%20%24%28%60%3Cdiv%20id%3D%22html_7ad5b7e0c14444b08f5928311d2871b0%22%20style%3D%22width%3A%20100.0%25%3B%20height%3A%20100.0%25%3B%22%3ECluster%201%20East%20Toronto%2C%20Broadview%20North%20%28Old%20East%20York%29%3C/div%3E%60%29%5B0%5D%3B%0A%20%20%20%20%20%20%20%20%20%20%20%20popup_97f4b97db6394e9fa72248e071b7b72c.setContent%28html_7ad5b7e0c14444b08f5928311d2871b0%29%3B%0A%20%20%20%20%20%20%20%20%0A%0A%20%20%20%20%20%20%20%20circle_marker_af0fcca305fd49a0a1ac6a06b3f5be9e.bindPopup%28popup_97f4b97db6394e9fa72248e071b7b72c%29%0A%20%20%20%20%20%20%20%20%3B%0A%0A%20%20%20%20%20%20%20%20%0A%20%20%20%20%0A%20%20%20%20%0A%20%20%20%20%20%20%20%20%20%20%20%20var%20circle_marker_ac91e6fbc9144fd39aaea79ec9cf6dbf%20%3D%20L.circleMarker%28%0A%20%20%20%20%20%20%20%20%20%20%20%20%20%20%20%20%5B43.6408157%2C%20-79.38175229999999%5D%2C%0A%20%20%20%20%20%20%20%20%20%20%20%20%20%20%20%20%7B%22bubblingMouseEvents%22%3A%20true%2C%20%22color%22%3A%20%22%238000ff%22%2C%20%22dashArray%22%3A%20null%2C%20%22dashOffset%22%3A%20null%2C%20%22fill%22%3A%20true%2C%20%22fillColor%22%3A%20%22%238000ff%22%2C%20%22fillOpacity%22%3A%200.2%2C%20%22fillRule%22%3A%20%22evenodd%22%2C%20%22lineCap%22%3A%20%22round%22%2C%20%22lineJoin%22%3A%20%22round%22%2C%20%22opacity%22%3A%201.0%2C%20%22radius%22%3A%205%2C%20%22stroke%22%3A%20true%2C%20%22weight%22%3A%203%7D%0A%20%20%20%20%20%20%20%20%20%20%20%20%29.addTo%28map_3ae3141edd8f4491b014bec87d5e8f6c%29%3B%0A%20%20%20%20%20%20%20%20%0A%20%20%20%20%0A%20%20%20%20%20%20%20%20var%20popup_42c6efd2979d4297ac159ef87f729f9d%20%3D%20L.popup%28%7B%22maxWidth%22%3A%20%22100%25%22%7D%29%3B%0A%0A%20%20%20%20%20%20%20%20%0A%20%20%20%20%20%20%20%20%20%20%20%20var%20html_bc341660a47a4752acd29e333694867a%20%3D%20%24%28%60%3Cdiv%20id%3D%22html_bc341660a47a4752acd29e333694867a%22%20style%3D%22width%3A%20100.0%25%3B%20height%3A%20100.0%25%3B%22%3ECluster%202%20Harbourfront%20East%2C%20Union%20Station%2C%20Toronto%20Islands%3C/div%3E%60%29%5B0%5D%3B%0A%20%20%20%20%20%20%20%20%20%20%20%20popup_42c6efd2979d4297ac159ef87f729f9d.setContent%28html_bc341660a47a4752acd29e333694867a%29%3B%0A%20%20%20%20%20%20%20%20%0A%0A%20%20%20%20%20%20%20%20circle_marker_ac91e6fbc9144fd39aaea79ec9cf6dbf.bindPopup%28popup_42c6efd2979d4297ac159ef87f729f9d%29%0A%20%20%20%20%20%20%20%20%3B%0A%0A%20%20%20%20%20%20%20%20%0A%20%20%20%20%0A%20%20%20%20%0A%20%20%20%20%20%20%20%20%20%20%20%20var%20circle_marker_65320a2ec2084cf98f15f8c13289e5ba%20%3D%20L.circleMarker%28%0A%20%20%20%20%20%20%20%20%20%20%20%20%20%20%20%20%5B43.647926700000006%2C%20-79.4197497%5D%2C%0A%20%20%20%20%20%20%20%20%20%20%20%20%20%20%20%20%7B%22bubblingMouseEvents%22%3A%20true%2C%20%22color%22%3A%20%22%238000ff%22%2C%20%22dashArray%22%3A%20null%2C%20%22dashOffset%22%3A%20null%2C%20%22fill%22%3A%20true%2C%20%22fillColor%22%3A%20%22%238000ff%22%2C%20%22fillOpacity%22%3A%200.2%2C%20%22fillRule%22%3A%20%22evenodd%22%2C%20%22lineCap%22%3A%20%22round%22%2C%20%22lineJoin%22%3A%20%22round%22%2C%20%22opacity%22%3A%201.0%2C%20%22radius%22%3A%205%2C%20%22stroke%22%3A%20true%2C%20%22weight%22%3A%203%7D%0A%20%20%20%20%20%20%20%20%20%20%20%20%29.addTo%28map_3ae3141edd8f4491b014bec87d5e8f6c%29%3B%0A%20%20%20%20%20%20%20%20%0A%20%20%20%20%0A%20%20%20%20%20%20%20%20var%20popup_d36d343f691d417996ddacea6376c601%20%3D%20L.popup%28%7B%22maxWidth%22%3A%20%22100%25%22%7D%29%3B%0A%0A%20%20%20%20%20%20%20%20%0A%20%20%20%20%20%20%20%20%20%20%20%20var%20html_ad4b737760424c2bb209ddc0e5f8d479%20%3D%20%24%28%60%3Cdiv%20id%3D%22html_ad4b737760424c2bb209ddc0e5f8d479%22%20style%3D%22width%3A%20100.0%25%3B%20height%3A%20100.0%25%3B%22%3ECluster%202%20Little%20Portugal%2C%20Trinity%3C/div%3E%60%29%5B0%5D%3B%0A%20%20%20%20%20%20%20%20%20%20%20%20popup_d36d343f691d417996ddacea6376c601.setContent%28html_ad4b737760424c2bb209ddc0e5f8d479%29%3B%0A%20%20%20%20%20%20%20%20%0A%0A%20%20%20%20%20%20%20%20circle_marker_65320a2ec2084cf98f15f8c13289e5ba.bindPopup%28popup_d36d343f691d417996ddacea6376c601%29%0A%20%20%20%20%20%20%20%20%3B%0A%0A%20%20%20%20%20%20%20%20%0A%20%20%20%20%0A%20%20%20%20%0A%20%20%20%20%20%20%20%20%20%20%20%20var%20circle_marker_a67c116dd2214153a662a1fc44b2ad50%20%3D%20L.circleMarker%28%0A%20%20%20%20%20%20%20%20%20%20%20%20%20%20%20%20%5B43.7279292%2C%20-79.26202940000002%5D%2C%0A%20%20%20%20%20%20%20%20%20%20%20%20%20%20%20%20%7B%22bubblingMouseEvents%22%3A%20true%2C%20%22color%22%3A%20%22%238000ff%22%2C%20%22dashArray%22%3A%20null%2C%20%22dashOffset%22%3A%20null%2C%20%22fill%22%3A%20true%2C%20%22fillColor%22%3A%20%22%238000ff%22%2C%20%22fillOpacity%22%3A%200.2%2C%20%22fillRule%22%3A%20%22evenodd%22%2C%20%22lineCap%22%3A%20%22round%22%2C%20%22lineJoin%22%3A%20%22round%22%2C%20%22opacity%22%3A%201.0%2C%20%22radius%22%3A%205%2C%20%22stroke%22%3A%20true%2C%20%22weight%22%3A%203%7D%0A%20%20%20%20%20%20%20%20%20%20%20%20%29.addTo%28map_3ae3141edd8f4491b014bec87d5e8f6c%29%3B%0A%20%20%20%20%20%20%20%20%0A%20%20%20%20%0A%20%20%20%20%20%20%20%20var%20popup_8b76c3f8c61240499db4db78d61a4158%20%3D%20L.popup%28%7B%22maxWidth%22%3A%20%22100%25%22%7D%29%3B%0A%0A%20%20%20%20%20%20%20%20%0A%20%20%20%20%20%20%20%20%20%20%20%20var%20html_3374029d04dc40d4820b53d5995272a5%20%3D%20%24%28%60%3Cdiv%20id%3D%22html_3374029d04dc40d4820b53d5995272a5%22%20style%3D%22width%3A%20100.0%25%3B%20height%3A%20100.0%25%3B%22%3ECluster%202%20Kennedy%20Park%2C%20Ionview%2C%20East%20Birchmount%20Park%3C/div%3E%60%29%5B0%5D%3B%0A%20%20%20%20%20%20%20%20%20%20%20%20popup_8b76c3f8c61240499db4db78d61a4158.setContent%28html_3374029d04dc40d4820b53d5995272a5%29%3B%0A%20%20%20%20%20%20%20%20%0A%0A%20%20%20%20%20%20%20%20circle_marker_a67c116dd2214153a662a1fc44b2ad50.bindPopup%28popup_8b76c3f8c61240499db4db78d61a4158%29%0A%20%20%20%20%20%20%20%20%3B%0A%0A%20%20%20%20%20%20%20%20%0A%20%20%20%20%0A%20%20%20%20%0A%20%20%20%20%20%20%20%20%20%20%20%20var%20circle_marker_dc0bcff40c724f08b4f6de5117db180e%20%3D%20L.circleMarker%28%0A%20%20%20%20%20%20%20%20%20%20%20%20%20%20%20%20%5B43.7869473%2C%20-79.385975%5D%2C%0A%20%20%20%20%20%20%20%20%20%20%20%20%20%20%20%20%7B%22bubblingMouseEvents%22%3A%20true%2C%20%22color%22%3A%20%22%238000ff%22%2C%20%22dashArray%22%3A%20null%2C%20%22dashOffset%22%3A%20null%2C%20%22fill%22%3A%20true%2C%20%22fillColor%22%3A%20%22%238000ff%22%2C%20%22fillOpacity%22%3A%200.2%2C%20%22fillRule%22%3A%20%22evenodd%22%2C%20%22lineCap%22%3A%20%22round%22%2C%20%22lineJoin%22%3A%20%22round%22%2C%20%22opacity%22%3A%201.0%2C%20%22radius%22%3A%205%2C%20%22stroke%22%3A%20true%2C%20%22weight%22%3A%203%7D%0A%20%20%20%20%20%20%20%20%20%20%20%20%29.addTo%28map_3ae3141edd8f4491b014bec87d5e8f6c%29%3B%0A%20%20%20%20%20%20%20%20%0A%20%20%20%20%0A%20%20%20%20%20%20%20%20var%20popup_9f0e72cf906a483786731b33ec0eb115%20%3D%20L.popup%28%7B%22maxWidth%22%3A%20%22100%25%22%7D%29%3B%0A%0A%20%20%20%20%20%20%20%20%0A%20%20%20%20%20%20%20%20%20%20%20%20var%20html_03dbb9c7a93a4d308552e8a8a3ac3ec7%20%3D%20%24%28%60%3Cdiv%20id%3D%22html_03dbb9c7a93a4d308552e8a8a3ac3ec7%22%20style%3D%22width%3A%20100.0%25%3B%20height%3A%20100.0%25%3B%22%3ECluster%202%20Bayview%20Village%3C/div%3E%60%29%5B0%5D%3B%0A%20%20%20%20%20%20%20%20%20%20%20%20popup_9f0e72cf906a483786731b33ec0eb115.setContent%28html_03dbb9c7a93a4d308552e8a8a3ac3ec7%29%3B%0A%20%20%20%20%20%20%20%20%0A%0A%20%20%20%20%20%20%20%20circle_marker_dc0bcff40c724f08b4f6de5117db180e.bindPopup%28popup_9f0e72cf906a483786731b33ec0eb115%29%0A%20%20%20%20%20%20%20%20%3B%0A%0A%20%20%20%20%20%20%20%20%0A%20%20%20%20%0A%20%20%20%20%0A%20%20%20%20%20%20%20%20%20%20%20%20var%20circle_marker_527a076b185842f0aff8cf44a1abfea3%20%3D%20L.circleMarker%28%0A%20%20%20%20%20%20%20%20%20%20%20%20%20%20%20%20%5B43.737473200000004%2C%20-79.46476329999999%5D%2C%0A%20%20%20%20%20%20%20%20%20%20%20%20%20%20%20%20%7B%22bubblingMouseEvents%22%3A%20true%2C%20%22color%22%3A%20%22%238000ff%22%2C%20%22dashArray%22%3A%20null%2C%20%22dashOffset%22%3A%20null%2C%20%22fill%22%3A%20true%2C%20%22fillColor%22%3A%20%22%238000ff%22%2C%20%22fillOpacity%22%3A%200.2%2C%20%22fillRule%22%3A%20%22evenodd%22%2C%20%22lineCap%22%3A%20%22round%22%2C%20%22lineJoin%22%3A%20%22round%22%2C%20%22opacity%22%3A%201.0%2C%20%22radius%22%3A%205%2C%20%22stroke%22%3A%20true%2C%20%22weight%22%3A%203%7D%0A%20%20%20%20%20%20%20%20%20%20%20%20%29.addTo%28map_3ae3141edd8f4491b014bec87d5e8f6c%29%3B%0A%20%20%20%20%20%20%20%20%0A%20%20%20%20%0A%20%20%20%20%20%20%20%20var%20popup_b74146069ff8477f86d7e281ccb05ad5%20%3D%20L.popup%28%7B%22maxWidth%22%3A%20%22100%25%22%7D%29%3B%0A%0A%20%20%20%20%20%20%20%20%0A%20%20%20%20%20%20%20%20%20%20%20%20var%20html_b617430825ca43799293385e18d5990f%20%3D%20%24%28%60%3Cdiv%20id%3D%22html_b617430825ca43799293385e18d5990f%22%20style%3D%22width%3A%20100.0%25%3B%20height%3A%20100.0%25%3B%22%3ECluster%202%20Downsview%3C/div%3E%60%29%5B0%5D%3B%0A%20%20%20%20%20%20%20%20%20%20%20%20popup_b74146069ff8477f86d7e281ccb05ad5.setContent%28html_b617430825ca43799293385e18d5990f%29%3B%0A%20%20%20%20%20%20%20%20%0A%0A%20%20%20%20%20%20%20%20circle_marker_527a076b185842f0aff8cf44a1abfea3.bindPopup%28popup_b74146069ff8477f86d7e281ccb05ad5%29%0A%20%20%20%20%20%20%20%20%3B%0A%0A%20%20%20%20%20%20%20%20%0A%20%20%20%20%0A%20%20%20%20%0A%20%20%20%20%20%20%20%20%20%20%20%20var%20circle_marker_ef8300e364d44caa974222138f7293fd%20%3D%20L.circleMarker%28%0A%20%20%20%20%20%20%20%20%20%20%20%20%20%20%20%20%5B43.6795571%2C%20-79.352188%5D%2C%0A%20%20%20%20%20%20%20%20%20%20%20%20%20%20%20%20%7B%22bubblingMouseEvents%22%3A%20true%2C%20%22color%22%3A%20%22%238000ff%22%2C%20%22dashArray%22%3A%20null%2C%20%22dashOffset%22%3A%20null%2C%20%22fill%22%3A%20true%2C%20%22fillColor%22%3A%20%22%238000ff%22%2C%20%22fillOpacity%22%3A%200.2%2C%20%22fillRule%22%3A%20%22evenodd%22%2C%20%22lineCap%22%3A%20%22round%22%2C%20%22lineJoin%22%3A%20%22round%22%2C%20%22opacity%22%3A%201.0%2C%20%22radius%22%3A%205%2C%20%22stroke%22%3A%20true%2C%20%22weight%22%3A%203%7D%0A%20%20%20%20%20%20%20%20%20%20%20%20%29.addTo%28map_3ae3141edd8f4491b014bec87d5e8f6c%29%3B%0A%20%20%20%20%20%20%20%20%0A%20%20%20%20%0A%20%20%20%20%20%20%20%20var%20popup_7d3388bb570a4066af9bbc38fb97112c%20%3D%20L.popup%28%7B%22maxWidth%22%3A%20%22100%25%22%7D%29%3B%0A%0A%20%20%20%20%20%20%20%20%0A%20%20%20%20%20%20%20%20%20%20%20%20var%20html_bf12e4db015c4463822266e9535951ef%20%3D%20%24%28%60%3Cdiv%20id%3D%22html_bf12e4db015c4463822266e9535951ef%22%20style%3D%22width%3A%20100.0%25%3B%20height%3A%20100.0%25%3B%22%3ECluster%202%20The%20Danforth%20West%2C%20Riverdale%3C/div%3E%60%29%5B0%5D%3B%0A%20%20%20%20%20%20%20%20%20%20%20%20popup_7d3388bb570a4066af9bbc38fb97112c.setContent%28html_bf12e4db015c4463822266e9535951ef%29%3B%0A%20%20%20%20%20%20%20%20%0A%0A%20%20%20%20%20%20%20%20circle_marker_ef8300e364d44caa974222138f7293fd.bindPopup%28popup_7d3388bb570a4066af9bbc38fb97112c%29%0A%20%20%20%20%20%20%20%20%3B%0A%0A%20%20%20%20%20%20%20%20%0A%20%20%20%20%0A%20%20%20%20%0A%20%20%20%20%20%20%20%20%20%20%20%20var%20circle_marker_87836532898944998241ec9a5ce45897%20%3D%20L.circleMarker%28%0A%20%20%20%20%20%20%20%20%20%20%20%20%20%20%20%20%5B43.6471768%2C%20-79.38157640000001%5D%2C%0A%20%20%20%20%20%20%20%20%20%20%20%20%20%20%20%20%7B%22bubblingMouseEvents%22%3A%20true%2C%20%22color%22%3A%20%22%238000ff%22%2C%20%22dashArray%22%3A%20null%2C%20%22dashOffset%22%3A%20null%2C%20%22fill%22%3A%20true%2C%20%22fillColor%22%3A%20%22%238000ff%22%2C%20%22fillOpacity%22%3A%200.2%2C%20%22fillRule%22%3A%20%22evenodd%22%2C%20%22lineCap%22%3A%20%22round%22%2C%20%22lineJoin%22%3A%20%22round%22%2C%20%22opacity%22%3A%201.0%2C%20%22radius%22%3A%205%2C%20%22stroke%22%3A%20true%2C%20%22weight%22%3A%203%7D%0A%20%20%20%20%20%20%20%20%20%20%20%20%29.addTo%28map_3ae3141edd8f4491b014bec87d5e8f6c%29%3B%0A%20%20%20%20%20%20%20%20%0A%20%20%20%20%0A%20%20%20%20%20%20%20%20var%20popup_2869d68e39b946a2a6b31d575433c471%20%3D%20L.popup%28%7B%22maxWidth%22%3A%20%22100%25%22%7D%29%3B%0A%0A%20%20%20%20%20%20%20%20%0A%20%20%20%20%20%20%20%20%20%20%20%20var%20html_e64b4f2f1c984acc97dcea147d578423%20%3D%20%24%28%60%3Cdiv%20id%3D%22html_e64b4f2f1c984acc97dcea147d578423%22%20style%3D%22width%3A%20100.0%25%3B%20height%3A%20100.0%25%3B%22%3ECluster%202%20Toronto%20Dominion%20Centre%2C%20Design%20Exchange%3C/div%3E%60%29%5B0%5D%3B%0A%20%20%20%20%20%20%20%20%20%20%20%20popup_2869d68e39b946a2a6b31d575433c471.setContent%28html_e64b4f2f1c984acc97dcea147d578423%29%3B%0A%20%20%20%20%20%20%20%20%0A%0A%20%20%20%20%20%20%20%20circle_marker_87836532898944998241ec9a5ce45897.bindPopup%28popup_2869d68e39b946a2a6b31d575433c471%29%0A%20%20%20%20%20%20%20%20%3B%0A%0A%20%20%20%20%20%20%20%20%0A%20%20%20%20%0A%20%20%20%20%0A%20%20%20%20%20%20%20%20%20%20%20%20var%20circle_marker_6e2aed2526da40bc8095fc10fa43efdc%20%3D%20L.circleMarker%28%0A%20%20%20%20%20%20%20%20%20%20%20%20%20%20%20%20%5B43.6368472%2C%20-79.42819140000002%5D%2C%0A%20%20%20%20%20%20%20%20%20%20%20%20%20%20%20%20%7B%22bubblingMouseEvents%22%3A%20true%2C%20%22color%22%3A%20%22%238000ff%22%2C%20%22dashArray%22%3A%20null%2C%20%22dashOffset%22%3A%20null%2C%20%22fill%22%3A%20true%2C%20%22fillColor%22%3A%20%22%238000ff%22%2C%20%22fillOpacity%22%3A%200.2%2C%20%22fillRule%22%3A%20%22evenodd%22%2C%20%22lineCap%22%3A%20%22round%22%2C%20%22lineJoin%22%3A%20%22round%22%2C%20%22opacity%22%3A%201.0%2C%20%22radius%22%3A%205%2C%20%22stroke%22%3A%20true%2C%20%22weight%22%3A%203%7D%0A%20%20%20%20%20%20%20%20%20%20%20%20%29.addTo%28map_3ae3141edd8f4491b014bec87d5e8f6c%29%3B%0A%20%20%20%20%20%20%20%20%0A%20%20%20%20%0A%20%20%20%20%20%20%20%20var%20popup_290a3672b7a848509b383c5bda992a43%20%3D%20L.popup%28%7B%22maxWidth%22%3A%20%22100%25%22%7D%29%3B%0A%0A%20%20%20%20%20%20%20%20%0A%20%20%20%20%20%20%20%20%20%20%20%20var%20html_2f0c9453d640492d8f7b186ed71aca72%20%3D%20%24%28%60%3Cdiv%20id%3D%22html_2f0c9453d640492d8f7b186ed71aca72%22%20style%3D%22width%3A%20100.0%25%3B%20height%3A%20100.0%25%3B%22%3ECluster%202%20Brockton%2C%20Parkdale%20Village%2C%20Exhibition%20Place%3C/div%3E%60%29%5B0%5D%3B%0A%20%20%20%20%20%20%20%20%20%20%20%20popup_290a3672b7a848509b383c5bda992a43.setContent%28html_2f0c9453d640492d8f7b186ed71aca72%29%3B%0A%20%20%20%20%20%20%20%20%0A%0A%20%20%20%20%20%20%20%20circle_marker_6e2aed2526da40bc8095fc10fa43efdc.bindPopup%28popup_290a3672b7a848509b383c5bda992a43%29%0A%20%20%20%20%20%20%20%20%3B%0A%0A%20%20%20%20%20%20%20%20%0A%20%20%20%20%0A%20%20%20%20%0A%20%20%20%20%20%20%20%20%20%20%20%20var%20circle_marker_6744e69bf40149609c4d3a7028b4e87e%20%3D%20L.circleMarker%28%0A%20%20%20%20%20%20%20%20%20%20%20%20%20%20%20%20%5B43.711111700000004%2C%20-79.2845772%5D%2C%0A%20%20%20%20%20%20%20%20%20%20%20%20%20%20%20%20%7B%22bubblingMouseEvents%22%3A%20true%2C%20%22color%22%3A%20%22%238000ff%22%2C%20%22dashArray%22%3A%20null%2C%20%22dashOffset%22%3A%20null%2C%20%22fill%22%3A%20true%2C%20%22fillColor%22%3A%20%22%238000ff%22%2C%20%22fillOpacity%22%3A%200.2%2C%20%22fillRule%22%3A%20%22evenodd%22%2C%20%22lineCap%22%3A%20%22round%22%2C%20%22lineJoin%22%3A%20%22round%22%2C%20%22opacity%22%3A%201.0%2C%20%22radius%22%3A%205%2C%20%22stroke%22%3A%20true%2C%20%22weight%22%3A%203%7D%0A%20%20%20%20%20%20%20%20%20%20%20%20%29.addTo%28map_3ae3141edd8f4491b014bec87d5e8f6c%29%3B%0A%20%20%20%20%20%20%20%20%0A%20%20%20%20%0A%20%20%20%20%20%20%20%20var%20popup_33275b33a58c49d39863944b096e2dfc%20%3D%20L.popup%28%7B%22maxWidth%22%3A%20%22100%25%22%7D%29%3B%0A%0A%20%20%20%20%20%20%20%20%0A%20%20%20%20%20%20%20%20%20%20%20%20var%20html_fa83b2ce8eb3452688422d097a2359e0%20%3D%20%24%28%60%3Cdiv%20id%3D%22html_fa83b2ce8eb3452688422d097a2359e0%22%20style%3D%22width%3A%20100.0%25%3B%20height%3A%20100.0%25%3B%22%3ECluster%202%20Golden%20Mile%2C%20Clairlea%2C%20Oakridge%3C/div%3E%60%29%5B0%5D%3B%0A%20%20%20%20%20%20%20%20%20%20%20%20popup_33275b33a58c49d39863944b096e2dfc.setContent%28html_fa83b2ce8eb3452688422d097a2359e0%29%3B%0A%20%20%20%20%20%20%20%20%0A%0A%20%20%20%20%20%20%20%20circle_marker_6744e69bf40149609c4d3a7028b4e87e.bindPopup%28popup_33275b33a58c49d39863944b096e2dfc%29%0A%20%20%20%20%20%20%20%20%3B%0A%0A%20%20%20%20%20%20%20%20%0A%20%20%20%20%0A%20%20%20%20%0A%20%20%20%20%20%20%20%20%20%20%20%20var%20circle_marker_847e92a12bfe4de19e1fa04bb870d247%20%3D%20L.circleMarker%28%0A%20%20%20%20%20%20%20%20%20%20%20%20%20%20%20%20%5B43.7574902%2C%20-79.37471409999999%5D%2C%0A%20%20%20%20%20%20%20%20%20%20%20%20%20%20%20%20%7B%22bubblingMouseEvents%22%3A%20true%2C%20%22color%22%3A%20%22%23ff0000%22%2C%20%22dashArray%22%3A%20null%2C%20%22dashOffset%22%3A%20null%2C%20%22fill%22%3A%20true%2C%20%22fillColor%22%3A%20%22%23ff0000%22%2C%20%22fillOpacity%22%3A%200.2%2C%20%22fillRule%22%3A%20%22evenodd%22%2C%20%22lineCap%22%3A%20%22round%22%2C%20%22lineJoin%22%3A%20%22round%22%2C%20%22opacity%22%3A%201.0%2C%20%22radius%22%3A%205%2C%20%22stroke%22%3A%20true%2C%20%22weight%22%3A%203%7D%0A%20%20%20%20%20%20%20%20%20%20%20%20%29.addTo%28map_3ae3141edd8f4491b014bec87d5e8f6c%29%3B%0A%20%20%20%20%20%20%20%20%0A%20%20%20%20%0A%20%20%20%20%20%20%20%20var%20popup_09f40a69db9a47c482fbd48c82079c16%20%3D%20L.popup%28%7B%22maxWidth%22%3A%20%22100%25%22%7D%29%3B%0A%0A%20%20%20%20%20%20%20%20%0A%20%20%20%20%20%20%20%20%20%20%20%20var%20html_cf98811243824717896276ee6651b972%20%3D%20%24%28%60%3Cdiv%20id%3D%22html_cf98811243824717896276ee6651b972%22%20style%3D%22width%3A%20100.0%25%3B%20height%3A%20100.0%25%3B%22%3ECluster%201%20York%20Mills%2C%20Silver%20Hills%3C/div%3E%60%29%5B0%5D%3B%0A%20%20%20%20%20%20%20%20%20%20%20%20popup_09f40a69db9a47c482fbd48c82079c16.setContent%28html_cf98811243824717896276ee6651b972%29%3B%0A%20%20%20%20%20%20%20%20%0A%0A%20%20%20%20%20%20%20%20circle_marker_847e92a12bfe4de19e1fa04bb870d247.bindPopup%28popup_09f40a69db9a47c482fbd48c82079c16%29%0A%20%20%20%20%20%20%20%20%3B%0A%0A%20%20%20%20%20%20%20%20%0A%20%20%20%20%0A%20%20%20%20%0A%20%20%20%20%20%20%20%20%20%20%20%20var%20circle_marker_2b8a8535f62e44fc95a91e2fe0c7f595%20%3D%20L.circleMarker%28%0A%20%20%20%20%20%20%20%20%20%20%20%20%20%20%20%20%5B43.7390146%2C%20-79.5069436%5D%2C%0A%20%20%20%20%20%20%20%20%20%20%20%20%20%20%20%20%7B%22bubblingMouseEvents%22%3A%20true%2C%20%22color%22%3A%20%22%238000ff%22%2C%20%22dashArray%22%3A%20null%2C%20%22dashOffset%22%3A%20null%2C%20%22fill%22%3A%20true%2C%20%22fillColor%22%3A%20%22%238000ff%22%2C%20%22fillOpacity%22%3A%200.2%2C%20%22fillRule%22%3A%20%22evenodd%22%2C%20%22lineCap%22%3A%20%22round%22%2C%20%22lineJoin%22%3A%20%22round%22%2C%20%22opacity%22%3A%201.0%2C%20%22radius%22%3A%205%2C%20%22stroke%22%3A%20true%2C%20%22weight%22%3A%203%7D%0A%20%20%20%20%20%20%20%20%20%20%20%20%29.addTo%28map_3ae3141edd8f4491b014bec87d5e8f6c%29%3B%0A%20%20%20%20%20%20%20%20%0A%20%20%20%20%0A%20%20%20%20%20%20%20%20var%20popup_d61c1d62e6064cfcbd04fbf849a67e97%20%3D%20L.popup%28%7B%22maxWidth%22%3A%20%22100%25%22%7D%29%3B%0A%0A%20%20%20%20%20%20%20%20%0A%20%20%20%20%20%20%20%20%20%20%20%20var%20html_392e3883e6d849edb8bd7630ce57aee2%20%3D%20%24%28%60%3Cdiv%20id%3D%22html_392e3883e6d849edb8bd7630ce57aee2%22%20style%3D%22width%3A%20100.0%25%3B%20height%3A%20100.0%25%3B%22%3ECluster%202%20Downsview%3C/div%3E%60%29%5B0%5D%3B%0A%20%20%20%20%20%20%20%20%20%20%20%20popup_d61c1d62e6064cfcbd04fbf849a67e97.setContent%28html_392e3883e6d849edb8bd7630ce57aee2%29%3B%0A%20%20%20%20%20%20%20%20%0A%0A%20%20%20%20%20%20%20%20circle_marker_2b8a8535f62e44fc95a91e2fe0c7f595.bindPopup%28popup_d61c1d62e6064cfcbd04fbf849a67e97%29%0A%20%20%20%20%20%20%20%20%3B%0A%0A%20%20%20%20%20%20%20%20%0A%20%20%20%20%0A%20%20%20%20%0A%20%20%20%20%20%20%20%20%20%20%20%20var%20circle_marker_0e493812cbb94aa78fba06bd36e872f7%20%3D%20L.circleMarker%28%0A%20%20%20%20%20%20%20%20%20%20%20%20%20%20%20%20%5B43.6689985%2C%20-79.31557159999998%5D%2C%0A%20%20%20%20%20%20%20%20%20%20%20%20%20%20%20%20%7B%22bubblingMouseEvents%22%3A%20true%2C%20%22color%22%3A%20%22%238000ff%22%2C%20%22dashArray%22%3A%20null%2C%20%22dashOffset%22%3A%20null%2C%20%22fill%22%3A%20true%2C%20%22fillColor%22%3A%20%22%238000ff%22%2C%20%22fillOpacity%22%3A%200.2%2C%20%22fillRule%22%3A%20%22evenodd%22%2C%20%22lineCap%22%3A%20%22round%22%2C%20%22lineJoin%22%3A%20%22round%22%2C%20%22opacity%22%3A%201.0%2C%20%22radius%22%3A%205%2C%20%22stroke%22%3A%20true%2C%20%22weight%22%3A%203%7D%0A%20%20%20%20%20%20%20%20%20%20%20%20%29.addTo%28map_3ae3141edd8f4491b014bec87d5e8f6c%29%3B%0A%20%20%20%20%20%20%20%20%0A%20%20%20%20%0A%20%20%20%20%20%20%20%20var%20popup_f12887c64557476ba6559992b61109f6%20%3D%20L.popup%28%7B%22maxWidth%22%3A%20%22100%25%22%7D%29%3B%0A%0A%20%20%20%20%20%20%20%20%0A%20%20%20%20%20%20%20%20%20%20%20%20var%20html_305de5de14d04a6db548890a5c46e826%20%3D%20%24%28%60%3Cdiv%20id%3D%22html_305de5de14d04a6db548890a5c46e826%22%20style%3D%22width%3A%20100.0%25%3B%20height%3A%20100.0%25%3B%22%3ECluster%202%20India%20Bazaar%2C%20The%20Beaches%20West%3C/div%3E%60%29%5B0%5D%3B%0A%20%20%20%20%20%20%20%20%20%20%20%20popup_f12887c64557476ba6559992b61109f6.setContent%28html_305de5de14d04a6db548890a5c46e826%29%3B%0A%20%20%20%20%20%20%20%20%0A%0A%20%20%20%20%20%20%20%20circle_marker_0e493812cbb94aa78fba06bd36e872f7.bindPopup%28popup_f12887c64557476ba6559992b61109f6%29%0A%20%20%20%20%20%20%20%20%3B%0A%0A%20%20%20%20%20%20%20%20%0A%20%20%20%20%0A%20%20%20%20%0A%20%20%20%20%20%20%20%20%20%20%20%20var%20circle_marker_d54740cca1944eb6a7c3fc96d05ca2b7%20%3D%20L.circleMarker%28%0A%20%20%20%20%20%20%20%20%20%20%20%20%20%20%20%20%5B43.6481985%2C%20-79.37981690000001%5D%2C%0A%20%20%20%20%20%20%20%20%20%20%20%20%20%20%20%20%7B%22bubblingMouseEvents%22%3A%20true%2C%20%22color%22%3A%20%22%238000ff%22%2C%20%22dashArray%22%3A%20null%2C%20%22dashOffset%22%3A%20null%2C%20%22fill%22%3A%20true%2C%20%22fillColor%22%3A%20%22%238000ff%22%2C%20%22fillOpacity%22%3A%200.2%2C%20%22fillRule%22%3A%20%22evenodd%22%2C%20%22lineCap%22%3A%20%22round%22%2C%20%22lineJoin%22%3A%20%22round%22%2C%20%22opacity%22%3A%201.0%2C%20%22radius%22%3A%205%2C%20%22stroke%22%3A%20true%2C%20%22weight%22%3A%203%7D%0A%20%20%20%20%20%20%20%20%20%20%20%20%29.addTo%28map_3ae3141edd8f4491b014bec87d5e8f6c%29%3B%0A%20%20%20%20%20%20%20%20%0A%20%20%20%20%0A%20%20%20%20%20%20%20%20var%20popup_1216908ef82e4944a4ae048ee8d9e9fe%20%3D%20L.popup%28%7B%22maxWidth%22%3A%20%22100%25%22%7D%29%3B%0A%0A%20%20%20%20%20%20%20%20%0A%20%20%20%20%20%20%20%20%20%20%20%20var%20html_843f03d3771042708362f91802ea6aba%20%3D%20%24%28%60%3Cdiv%20id%3D%22html_843f03d3771042708362f91802ea6aba%22%20style%3D%22width%3A%20100.0%25%3B%20height%3A%20100.0%25%3B%22%3ECluster%202%20Commerce%20Court%2C%20Victoria%20Hotel%3C/div%3E%60%29%5B0%5D%3B%0A%20%20%20%20%20%20%20%20%20%20%20%20popup_1216908ef82e4944a4ae048ee8d9e9fe.setContent%28html_843f03d3771042708362f91802ea6aba%29%3B%0A%20%20%20%20%20%20%20%20%0A%0A%20%20%20%20%20%20%20%20circle_marker_d54740cca1944eb6a7c3fc96d05ca2b7.bindPopup%28popup_1216908ef82e4944a4ae048ee8d9e9fe%29%0A%20%20%20%20%20%20%20%20%3B%0A%0A%20%20%20%20%20%20%20%20%0A%20%20%20%20%0A%20%20%20%20%0A%20%20%20%20%20%20%20%20%20%20%20%20var%20circle_marker_b49722417a23402583b488100725a983%20%3D%20L.circleMarker%28%0A%20%20%20%20%20%20%20%20%20%20%20%20%20%20%20%20%5B43.713756200000006%2C%20-79.4900738%5D%2C%0A%20%20%20%20%20%20%20%20%20%20%20%20%20%20%20%20%7B%22bubblingMouseEvents%22%3A%20true%2C%20%22color%22%3A%20%22%238000ff%22%2C%20%22dashArray%22%3A%20null%2C%20%22dashOffset%22%3A%20null%2C%20%22fill%22%3A%20true%2C%20%22fillColor%22%3A%20%22%238000ff%22%2C%20%22fillOpacity%22%3A%200.2%2C%20%22fillRule%22%3A%20%22evenodd%22%2C%20%22lineCap%22%3A%20%22round%22%2C%20%22lineJoin%22%3A%20%22round%22%2C%20%22opacity%22%3A%201.0%2C%20%22radius%22%3A%205%2C%20%22stroke%22%3A%20true%2C%20%22weight%22%3A%203%7D%0A%20%20%20%20%20%20%20%20%20%20%20%20%29.addTo%28map_3ae3141edd8f4491b014bec87d5e8f6c%29%3B%0A%20%20%20%20%20%20%20%20%0A%20%20%20%20%0A%20%20%20%20%20%20%20%20var%20popup_39802172c3ed4544b5d45bb1e7ace61c%20%3D%20L.popup%28%7B%22maxWidth%22%3A%20%22100%25%22%7D%29%3B%0A%0A%20%20%20%20%20%20%20%20%0A%20%20%20%20%20%20%20%20%20%20%20%20var%20html_5b73aef68ab34bd2a2a6f7394ef67e5a%20%3D%20%24%28%60%3Cdiv%20id%3D%22html_5b73aef68ab34bd2a2a6f7394ef67e5a%22%20style%3D%22width%3A%20100.0%25%3B%20height%3A%20100.0%25%3B%22%3ECluster%202%20North%20Park%2C%20Maple%20Leaf%20Park%2C%20Upwood%20Park%3C/div%3E%60%29%5B0%5D%3B%0A%20%20%20%20%20%20%20%20%20%20%20%20popup_39802172c3ed4544b5d45bb1e7ace61c.setContent%28html_5b73aef68ab34bd2a2a6f7394ef67e5a%29%3B%0A%20%20%20%20%20%20%20%20%0A%0A%20%20%20%20%20%20%20%20circle_marker_b49722417a23402583b488100725a983.bindPopup%28popup_39802172c3ed4544b5d45bb1e7ace61c%29%0A%20%20%20%20%20%20%20%20%3B%0A%0A%20%20%20%20%20%20%20%20%0A%20%20%20%20%0A%20%20%20%20%0A%20%20%20%20%20%20%20%20%20%20%20%20var%20circle_marker_0b4f72df50774817b8801fa06966f2f2%20%3D%20L.circleMarker%28%0A%20%20%20%20%20%20%20%20%20%20%20%20%20%20%20%20%5B43.7563033%2C%20-79.56596329999999%5D%2C%0A%20%20%20%20%20%20%20%20%20%20%20%20%20%20%20%20%7B%22bubblingMouseEvents%22%3A%20true%2C%20%22color%22%3A%20%22%238000ff%22%2C%20%22dashArray%22%3A%20null%2C%20%22dashOffset%22%3A%20null%2C%20%22fill%22%3A%20true%2C%20%22fillColor%22%3A%20%22%238000ff%22%2C%20%22fillOpacity%22%3A%200.2%2C%20%22fillRule%22%3A%20%22evenodd%22%2C%20%22lineCap%22%3A%20%22round%22%2C%20%22lineJoin%22%3A%20%22round%22%2C%20%22opacity%22%3A%201.0%2C%20%22radius%22%3A%205%2C%20%22stroke%22%3A%20true%2C%20%22weight%22%3A%203%7D%0A%20%20%20%20%20%20%20%20%20%20%20%20%29.addTo%28map_3ae3141edd8f4491b014bec87d5e8f6c%29%3B%0A%20%20%20%20%20%20%20%20%0A%20%20%20%20%0A%20%20%20%20%20%20%20%20var%20popup_1e8b32ad5b4b4e22919a53ed1ec5f547%20%3D%20L.popup%28%7B%22maxWidth%22%3A%20%22100%25%22%7D%29%3B%0A%0A%20%20%20%20%20%20%20%20%0A%20%20%20%20%20%20%20%20%20%20%20%20var%20html_9957937120774d0f8f1484b921a89b33%20%3D%20%24%28%60%3Cdiv%20id%3D%22html_9957937120774d0f8f1484b921a89b33%22%20style%3D%22width%3A%20100.0%25%3B%20height%3A%20100.0%25%3B%22%3ECluster%202%20Humber%20Summit%3C/div%3E%60%29%5B0%5D%3B%0A%20%20%20%20%20%20%20%20%20%20%20%20popup_1e8b32ad5b4b4e22919a53ed1ec5f547.setContent%28html_9957937120774d0f8f1484b921a89b33%29%3B%0A%20%20%20%20%20%20%20%20%0A%0A%20%20%20%20%20%20%20%20circle_marker_0b4f72df50774817b8801fa06966f2f2.bindPopup%28popup_1e8b32ad5b4b4e22919a53ed1ec5f547%29%0A%20%20%20%20%20%20%20%20%3B%0A%0A%20%20%20%20%20%20%20%20%0A%20%20%20%20%0A%20%20%20%20%0A%20%20%20%20%20%20%20%20%20%20%20%20var%20circle_marker_164c739263a84effb8ee3c75e17bad64%20%3D%20L.circleMarker%28%0A%20%20%20%20%20%20%20%20%20%20%20%20%20%20%20%20%5B43.716316%2C%20-79.23947609999999%5D%2C%0A%20%20%20%20%20%20%20%20%20%20%20%20%20%20%20%20%7B%22bubblingMouseEvents%22%3A%20true%2C%20%22color%22%3A%20%22%238000ff%22%2C%20%22dashArray%22%3A%20null%2C%20%22dashOffset%22%3A%20null%2C%20%22fill%22%3A%20true%2C%20%22fillColor%22%3A%20%22%238000ff%22%2C%20%22fillOpacity%22%3A%200.2%2C%20%22fillRule%22%3A%20%22evenodd%22%2C%20%22lineCap%22%3A%20%22round%22%2C%20%22lineJoin%22%3A%20%22round%22%2C%20%22opacity%22%3A%201.0%2C%20%22radius%22%3A%205%2C%20%22stroke%22%3A%20true%2C%20%22weight%22%3A%203%7D%0A%20%20%20%20%20%20%20%20%20%20%20%20%29.addTo%28map_3ae3141edd8f4491b014bec87d5e8f6c%29%3B%0A%20%20%20%20%20%20%20%20%0A%20%20%20%20%0A%20%20%20%20%20%20%20%20var%20popup_28b0e55a96ba4a89977a379ac41d774f%20%3D%20L.popup%28%7B%22maxWidth%22%3A%20%22100%25%22%7D%29%3B%0A%0A%20%20%20%20%20%20%20%20%0A%20%20%20%20%20%20%20%20%20%20%20%20var%20html_0334bcf4d1b646ad8baa55cba95c8088%20%3D%20%24%28%60%3Cdiv%20id%3D%22html_0334bcf4d1b646ad8baa55cba95c8088%22%20style%3D%22width%3A%20100.0%25%3B%20height%3A%20100.0%25%3B%22%3ECluster%202%20Cliffside%2C%20Cliffcrest%2C%20Scarborough%20Village%20West%3C/div%3E%60%29%5B0%5D%3B%0A%20%20%20%20%20%20%20%20%20%20%20%20popup_28b0e55a96ba4a89977a379ac41d774f.setContent%28html_0334bcf4d1b646ad8baa55cba95c8088%29%3B%0A%20%20%20%20%20%20%20%20%0A%0A%20%20%20%20%20%20%20%20circle_marker_164c739263a84effb8ee3c75e17bad64.bindPopup%28popup_28b0e55a96ba4a89977a379ac41d774f%29%0A%20%20%20%20%20%20%20%20%3B%0A%0A%20%20%20%20%20%20%20%20%0A%20%20%20%20%0A%20%20%20%20%0A%20%20%20%20%20%20%20%20%20%20%20%20var%20circle_marker_03f9b115888746d1973981c496edd1ea%20%3D%20L.circleMarker%28%0A%20%20%20%20%20%20%20%20%20%20%20%20%20%20%20%20%5B43.7284964%2C%20-79.49569740000001%5D%2C%0A%20%20%20%20%20%20%20%20%20%20%20%20%20%20%20%20%7B%22bubblingMouseEvents%22%3A%20true%2C%20%22color%22%3A%20%22%238000ff%22%2C%20%22dashArray%22%3A%20null%2C%20%22dashOffset%22%3A%20null%2C%20%22fill%22%3A%20true%2C%20%22fillColor%22%3A%20%22%238000ff%22%2C%20%22fillOpacity%22%3A%200.2%2C%20%22fillRule%22%3A%20%22evenodd%22%2C%20%22lineCap%22%3A%20%22round%22%2C%20%22lineJoin%22%3A%20%22round%22%2C%20%22opacity%22%3A%201.0%2C%20%22radius%22%3A%205%2C%20%22stroke%22%3A%20true%2C%20%22weight%22%3A%203%7D%0A%20%20%20%20%20%20%20%20%20%20%20%20%29.addTo%28map_3ae3141edd8f4491b014bec87d5e8f6c%29%3B%0A%20%20%20%20%20%20%20%20%0A%20%20%20%20%0A%20%20%20%20%20%20%20%20var%20popup_ba3b7867eb8d499f98eae024698454f0%20%3D%20L.popup%28%7B%22maxWidth%22%3A%20%22100%25%22%7D%29%3B%0A%0A%20%20%20%20%20%20%20%20%0A%20%20%20%20%20%20%20%20%20%20%20%20var%20html_f0268a2c02f74b82bce57e553bdbeeb0%20%3D%20%24%28%60%3Cdiv%20id%3D%22html_f0268a2c02f74b82bce57e553bdbeeb0%22%20style%3D%22width%3A%20100.0%25%3B%20height%3A%20100.0%25%3B%22%3ECluster%202%20Downsview%3C/div%3E%60%29%5B0%5D%3B%0A%20%20%20%20%20%20%20%20%20%20%20%20popup_ba3b7867eb8d499f98eae024698454f0.setContent%28html_f0268a2c02f74b82bce57e553bdbeeb0%29%3B%0A%20%20%20%20%20%20%20%20%0A%0A%20%20%20%20%20%20%20%20circle_marker_03f9b115888746d1973981c496edd1ea.bindPopup%28popup_ba3b7867eb8d499f98eae024698454f0%29%0A%20%20%20%20%20%20%20%20%3B%0A%0A%20%20%20%20%20%20%20%20%0A%20%20%20%20%0A%20%20%20%20%0A%20%20%20%20%20%20%20%20%20%20%20%20var%20circle_marker_d4e96c18fe514674b3bfbeccd9a5352b%20%3D%20L.circleMarker%28%0A%20%20%20%20%20%20%20%20%20%20%20%20%20%20%20%20%5B43.6595255%2C%20-79.340923%5D%2C%0A%20%20%20%20%20%20%20%20%20%20%20%20%20%20%20%20%7B%22bubblingMouseEvents%22%3A%20true%2C%20%22color%22%3A%20%22%238000ff%22%2C%20%22dashArray%22%3A%20null%2C%20%22dashOffset%22%3A%20null%2C%20%22fill%22%3A%20true%2C%20%22fillColor%22%3A%20%22%238000ff%22%2C%20%22fillOpacity%22%3A%200.2%2C%20%22fillRule%22%3A%20%22evenodd%22%2C%20%22lineCap%22%3A%20%22round%22%2C%20%22lineJoin%22%3A%20%22round%22%2C%20%22opacity%22%3A%201.0%2C%20%22radius%22%3A%205%2C%20%22stroke%22%3A%20true%2C%20%22weight%22%3A%203%7D%0A%20%20%20%20%20%20%20%20%20%20%20%20%29.addTo%28map_3ae3141edd8f4491b014bec87d5e8f6c%29%3B%0A%20%20%20%20%20%20%20%20%0A%20%20%20%20%0A%20%20%20%20%20%20%20%20var%20popup_4acd9a473f6c4b9f89b98a32cd7a9597%20%3D%20L.popup%28%7B%22maxWidth%22%3A%20%22100%25%22%7D%29%3B%0A%0A%20%20%20%20%20%20%20%20%0A%20%20%20%20%20%20%20%20%20%20%20%20var%20html_707f9144a2c2442282653be9d30dee2d%20%3D%20%24%28%60%3Cdiv%20id%3D%22html_707f9144a2c2442282653be9d30dee2d%22%20style%3D%22width%3A%20100.0%25%3B%20height%3A%20100.0%25%3B%22%3ECluster%202%20Studio%20District%3C/div%3E%60%29%5B0%5D%3B%0A%20%20%20%20%20%20%20%20%20%20%20%20popup_4acd9a473f6c4b9f89b98a32cd7a9597.setContent%28html_707f9144a2c2442282653be9d30dee2d%29%3B%0A%20%20%20%20%20%20%20%20%0A%0A%20%20%20%20%20%20%20%20circle_marker_d4e96c18fe514674b3bfbeccd9a5352b.bindPopup%28popup_4acd9a473f6c4b9f89b98a32cd7a9597%29%0A%20%20%20%20%20%20%20%20%3B%0A%0A%20%20%20%20%20%20%20%20%0A%20%20%20%20%0A%20%20%20%20%0A%20%20%20%20%20%20%20%20%20%20%20%20var%20circle_marker_4b4cfb21f86642e68be102c1358b08d7%20%3D%20L.circleMarker%28%0A%20%20%20%20%20%20%20%20%20%20%20%20%20%20%20%20%5B43.7332825%2C%20-79.4197497%5D%2C%0A%20%20%20%20%20%20%20%20%20%20%20%20%20%20%20%20%7B%22bubblingMouseEvents%22%3A%20true%2C%20%22color%22%3A%20%22%238000ff%22%2C%20%22dashArray%22%3A%20null%2C%20%22dashOffset%22%3A%20null%2C%20%22fill%22%3A%20true%2C%20%22fillColor%22%3A%20%22%238000ff%22%2C%20%22fillOpacity%22%3A%200.2%2C%20%22fillRule%22%3A%20%22evenodd%22%2C%20%22lineCap%22%3A%20%22round%22%2C%20%22lineJoin%22%3A%20%22round%22%2C%20%22opacity%22%3A%201.0%2C%20%22radius%22%3A%205%2C%20%22stroke%22%3A%20true%2C%20%22weight%22%3A%203%7D%0A%20%20%20%20%20%20%20%20%20%20%20%20%29.addTo%28map_3ae3141edd8f4491b014bec87d5e8f6c%29%3B%0A%20%20%20%20%20%20%20%20%0A%20%20%20%20%0A%20%20%20%20%20%20%20%20var%20popup_653ded31df314c699d166ca7cb1d420e%20%3D%20L.popup%28%7B%22maxWidth%22%3A%20%22100%25%22%7D%29%3B%0A%0A%20%20%20%20%20%20%20%20%0A%20%20%20%20%20%20%20%20%20%20%20%20var%20html_a417a4754edf491b8f9a103e818cdb2f%20%3D%20%24%28%60%3Cdiv%20id%3D%22html_a417a4754edf491b8f9a103e818cdb2f%22%20style%3D%22width%3A%20100.0%25%3B%20height%3A%20100.0%25%3B%22%3ECluster%202%20Bedford%20Park%2C%20Lawrence%20Manor%20East%3C/div%3E%60%29%5B0%5D%3B%0A%20%20%20%20%20%20%20%20%20%20%20%20popup_653ded31df314c699d166ca7cb1d420e.setContent%28html_a417a4754edf491b8f9a103e818cdb2f%29%3B%0A%20%20%20%20%20%20%20%20%0A%0A%20%20%20%20%20%20%20%20circle_marker_4b4cfb21f86642e68be102c1358b08d7.bindPopup%28popup_653ded31df314c699d166ca7cb1d420e%29%0A%20%20%20%20%20%20%20%20%3B%0A%0A%20%20%20%20%20%20%20%20%0A%20%20%20%20%0A%20%20%20%20%0A%20%20%20%20%20%20%20%20%20%20%20%20var%20circle_marker_9adac4f91a8f4c13a7a7ddc32fd9f87f%20%3D%20L.circleMarker%28%0A%20%20%20%20%20%20%20%20%20%20%20%20%20%20%20%20%5B43.6911158%2C%20-79.47601329999999%5D%2C%0A%20%20%20%20%20%20%20%20%20%20%20%20%20%20%20%20%7B%22bubblingMouseEvents%22%3A%20true%2C%20%22color%22%3A%20%22%238000ff%22%2C%20%22dashArray%22%3A%20null%2C%20%22dashOffset%22%3A%20null%2C%20%22fill%22%3A%20true%2C%20%22fillColor%22%3A%20%22%238000ff%22%2C%20%22fillOpacity%22%3A%200.2%2C%20%22fillRule%22%3A%20%22evenodd%22%2C%20%22lineCap%22%3A%20%22round%22%2C%20%22lineJoin%22%3A%20%22round%22%2C%20%22opacity%22%3A%201.0%2C%20%22radius%22%3A%205%2C%20%22stroke%22%3A%20true%2C%20%22weight%22%3A%203%7D%0A%20%20%20%20%20%20%20%20%20%20%20%20%29.addTo%28map_3ae3141edd8f4491b014bec87d5e8f6c%29%3B%0A%20%20%20%20%20%20%20%20%0A%20%20%20%20%0A%20%20%20%20%20%20%20%20var%20popup_5141220d4d164086b13a46fb6b6e7566%20%3D%20L.popup%28%7B%22maxWidth%22%3A%20%22100%25%22%7D%29%3B%0A%0A%20%20%20%20%20%20%20%20%0A%20%20%20%20%20%20%20%20%20%20%20%20var%20html_15515cca76a7413197f184d112108ec1%20%3D%20%24%28%60%3Cdiv%20id%3D%22html_15515cca76a7413197f184d112108ec1%22%20style%3D%22width%3A%20100.0%25%3B%20height%3A%20100.0%25%3B%22%3ECluster%202%20Del%20Ray%2C%20Mount%20Dennis%2C%20Keelsdale%20and%20Silverthorn%3C/div%3E%60%29%5B0%5D%3B%0A%20%20%20%20%20%20%20%20%20%20%20%20popup_5141220d4d164086b13a46fb6b6e7566.setContent%28html_15515cca76a7413197f184d112108ec1%29%3B%0A%20%20%20%20%20%20%20%20%0A%0A%20%20%20%20%20%20%20%20circle_marker_9adac4f91a8f4c13a7a7ddc32fd9f87f.bindPopup%28popup_5141220d4d164086b13a46fb6b6e7566%29%0A%20%20%20%20%20%20%20%20%3B%0A%0A%20%20%20%20%20%20%20%20%0A%20%20%20%20%0A%20%20%20%20%0A%20%20%20%20%20%20%20%20%20%20%20%20var%20circle_marker_109418c7031d4112bc775acf1d1fde33%20%3D%20L.circleMarker%28%0A%20%20%20%20%20%20%20%20%20%20%20%20%20%20%20%20%5B43.7247659%2C%20-79.53224240000002%5D%2C%0A%20%20%20%20%20%20%20%20%20%20%20%20%20%20%20%20%7B%22bubblingMouseEvents%22%3A%20true%2C%20%22color%22%3A%20%22%238000ff%22%2C%20%22dashArray%22%3A%20null%2C%20%22dashOffset%22%3A%20null%2C%20%22fill%22%3A%20true%2C%20%22fillColor%22%3A%20%22%238000ff%22%2C%20%22fillOpacity%22%3A%200.2%2C%20%22fillRule%22%3A%20%22evenodd%22%2C%20%22lineCap%22%3A%20%22round%22%2C%20%22lineJoin%22%3A%20%22round%22%2C%20%22opacity%22%3A%201.0%2C%20%22radius%22%3A%205%2C%20%22stroke%22%3A%20true%2C%20%22weight%22%3A%203%7D%0A%20%20%20%20%20%20%20%20%20%20%20%20%29.addTo%28map_3ae3141edd8f4491b014bec87d5e8f6c%29%3B%0A%20%20%20%20%20%20%20%20%0A%20%20%20%20%0A%20%20%20%20%20%20%20%20var%20popup_925e86bc54ae41f6afb06efed6b7060b%20%3D%20L.popup%28%7B%22maxWidth%22%3A%20%22100%25%22%7D%29%3B%0A%0A%20%20%20%20%20%20%20%20%0A%20%20%20%20%20%20%20%20%20%20%20%20var%20html_18305926a64d478782e455c845afc45d%20%3D%20%24%28%60%3Cdiv%20id%3D%22html_18305926a64d478782e455c845afc45d%22%20style%3D%22width%3A%20100.0%25%3B%20height%3A%20100.0%25%3B%22%3ECluster%202%20Humberlea%2C%20Emery%3C/div%3E%60%29%5B0%5D%3B%0A%20%20%20%20%20%20%20%20%20%20%20%20popup_925e86bc54ae41f6afb06efed6b7060b.setContent%28html_18305926a64d478782e455c845afc45d%29%3B%0A%20%20%20%20%20%20%20%20%0A%0A%20%20%20%20%20%20%20%20circle_marker_109418c7031d4112bc775acf1d1fde33.bindPopup%28popup_925e86bc54ae41f6afb06efed6b7060b%29%0A%20%20%20%20%20%20%20%20%3B%0A%0A%20%20%20%20%20%20%20%20%0A%20%20%20%20%0A%20%20%20%20%0A%20%20%20%20%20%20%20%20%20%20%20%20var%20circle_marker_b9523e0d463d437297073fff64915437%20%3D%20L.circleMarker%28%0A%20%20%20%20%20%20%20%20%20%20%20%20%20%20%20%20%5B43.692657000000004%2C%20-79.2648481%5D%2C%0A%20%20%20%20%20%20%20%20%20%20%20%20%20%20%20%20%7B%22bubblingMouseEvents%22%3A%20true%2C%20%22color%22%3A%20%22%238000ff%22%2C%20%22dashArray%22%3A%20null%2C%20%22dashOffset%22%3A%20null%2C%20%22fill%22%3A%20true%2C%20%22fillColor%22%3A%20%22%238000ff%22%2C%20%22fillOpacity%22%3A%200.2%2C%20%22fillRule%22%3A%20%22evenodd%22%2C%20%22lineCap%22%3A%20%22round%22%2C%20%22lineJoin%22%3A%20%22round%22%2C%20%22opacity%22%3A%201.0%2C%20%22radius%22%3A%205%2C%20%22stroke%22%3A%20true%2C%20%22weight%22%3A%203%7D%0A%20%20%20%20%20%20%20%20%20%20%20%20%29.addTo%28map_3ae3141edd8f4491b014bec87d5e8f6c%29%3B%0A%20%20%20%20%20%20%20%20%0A%20%20%20%20%0A%20%20%20%20%20%20%20%20var%20popup_06ef93d21a1048a98d02b5d429d965ba%20%3D%20L.popup%28%7B%22maxWidth%22%3A%20%22100%25%22%7D%29%3B%0A%0A%20%20%20%20%20%20%20%20%0A%20%20%20%20%20%20%20%20%20%20%20%20var%20html_d3b585db2ee34bac8ce04baee57dd9c7%20%3D%20%24%28%60%3Cdiv%20id%3D%22html_d3b585db2ee34bac8ce04baee57dd9c7%22%20style%3D%22width%3A%20100.0%25%3B%20height%3A%20100.0%25%3B%22%3ECluster%202%20Birch%20Cliff%2C%20Cliffside%20West%3C/div%3E%60%29%5B0%5D%3B%0A%20%20%20%20%20%20%20%20%20%20%20%20popup_06ef93d21a1048a98d02b5d429d965ba.setContent%28html_d3b585db2ee34bac8ce04baee57dd9c7%29%3B%0A%20%20%20%20%20%20%20%20%0A%0A%20%20%20%20%20%20%20%20circle_marker_b9523e0d463d437297073fff64915437.bindPopup%28popup_06ef93d21a1048a98d02b5d429d965ba%29%0A%20%20%20%20%20%20%20%20%3B%0A%0A%20%20%20%20%20%20%20%20%0A%20%20%20%20%0A%20%20%20%20%0A%20%20%20%20%20%20%20%20%20%20%20%20var%20circle_marker_e456efc1f28d449f962375f0c5570e3a%20%3D%20L.circleMarker%28%0A%20%20%20%20%20%20%20%20%20%20%20%20%20%20%20%20%5B43.7701199%2C%20-79.40849279999999%5D%2C%0A%20%20%20%20%20%20%20%20%20%20%20%20%20%20%20%20%7B%22bubblingMouseEvents%22%3A%20true%2C%20%22color%22%3A%20%22%238000ff%22%2C%20%22dashArray%22%3A%20null%2C%20%22dashOffset%22%3A%20null%2C%20%22fill%22%3A%20true%2C%20%22fillColor%22%3A%20%22%238000ff%22%2C%20%22fillOpacity%22%3A%200.2%2C%20%22fillRule%22%3A%20%22evenodd%22%2C%20%22lineCap%22%3A%20%22round%22%2C%20%22lineJoin%22%3A%20%22round%22%2C%20%22opacity%22%3A%201.0%2C%20%22radius%22%3A%205%2C%20%22stroke%22%3A%20true%2C%20%22weight%22%3A%203%7D%0A%20%20%20%20%20%20%20%20%20%20%20%20%29.addTo%28map_3ae3141edd8f4491b014bec87d5e8f6c%29%3B%0A%20%20%20%20%20%20%20%20%0A%20%20%20%20%0A%20%20%20%20%20%20%20%20var%20popup_a211d3330fba4ef1ae90bd97cb158339%20%3D%20L.popup%28%7B%22maxWidth%22%3A%20%22100%25%22%7D%29%3B%0A%0A%20%20%20%20%20%20%20%20%0A%20%20%20%20%20%20%20%20%20%20%20%20var%20html_183c336364cf47868c272d8fcb005fb8%20%3D%20%24%28%60%3Cdiv%20id%3D%22html_183c336364cf47868c272d8fcb005fb8%22%20style%3D%22width%3A%20100.0%25%3B%20height%3A%20100.0%25%3B%22%3ECluster%202%20Willowdale%2C%20Willowdale%20East%3C/div%3E%60%29%5B0%5D%3B%0A%20%20%20%20%20%20%20%20%20%20%20%20popup_a211d3330fba4ef1ae90bd97cb158339.setContent%28html_183c336364cf47868c272d8fcb005fb8%29%3B%0A%20%20%20%20%20%20%20%20%0A%0A%20%20%20%20%20%20%20%20circle_marker_e456efc1f28d449f962375f0c5570e3a.bindPopup%28popup_a211d3330fba4ef1ae90bd97cb158339%29%0A%20%20%20%20%20%20%20%20%3B%0A%0A%20%20%20%20%20%20%20%20%0A%20%20%20%20%0A%20%20%20%20%0A%20%20%20%20%20%20%20%20%20%20%20%20var%20circle_marker_4cc4e9bb28504450aa1facafdf18671b%20%3D%20L.circleMarker%28%0A%20%20%20%20%20%20%20%20%20%20%20%20%20%20%20%20%5B43.7616313%2C%20-79.52099940000001%5D%2C%0A%20%20%20%20%20%20%20%20%20%20%20%20%20%20%20%20%7B%22bubblingMouseEvents%22%3A%20true%2C%20%22color%22%3A%20%22%238000ff%22%2C%20%22dashArray%22%3A%20null%2C%20%22dashOffset%22%3A%20null%2C%20%22fill%22%3A%20true%2C%20%22fillColor%22%3A%20%22%238000ff%22%2C%20%22fillOpacity%22%3A%200.2%2C%20%22fillRule%22%3A%20%22evenodd%22%2C%20%22lineCap%22%3A%20%22round%22%2C%20%22lineJoin%22%3A%20%22round%22%2C%20%22opacity%22%3A%201.0%2C%20%22radius%22%3A%205%2C%20%22stroke%22%3A%20true%2C%20%22weight%22%3A%203%7D%0A%20%20%20%20%20%20%20%20%20%20%20%20%29.addTo%28map_3ae3141edd8f4491b014bec87d5e8f6c%29%3B%0A%20%20%20%20%20%20%20%20%0A%20%20%20%20%0A%20%20%20%20%20%20%20%20var%20popup_e0caee1515864e87b430050c69d2193f%20%3D%20L.popup%28%7B%22maxWidth%22%3A%20%22100%25%22%7D%29%3B%0A%0A%20%20%20%20%20%20%20%20%0A%20%20%20%20%20%20%20%20%20%20%20%20var%20html_21e5c9b85540470c95b91e62ca4b1061%20%3D%20%24%28%60%3Cdiv%20id%3D%22html_21e5c9b85540470c95b91e62ca4b1061%22%20style%3D%22width%3A%20100.0%25%3B%20height%3A%20100.0%25%3B%22%3ECluster%202%20Downsview%3C/div%3E%60%29%5B0%5D%3B%0A%20%20%20%20%20%20%20%20%20%20%20%20popup_e0caee1515864e87b430050c69d2193f.setContent%28html_21e5c9b85540470c95b91e62ca4b1061%29%3B%0A%20%20%20%20%20%20%20%20%0A%0A%20%20%20%20%20%20%20%20circle_marker_4cc4e9bb28504450aa1facafdf18671b.bindPopup%28popup_e0caee1515864e87b430050c69d2193f%29%0A%20%20%20%20%20%20%20%20%3B%0A%0A%20%20%20%20%20%20%20%20%0A%20%20%20%20%0A%20%20%20%20%0A%20%20%20%20%20%20%20%20%20%20%20%20var%20circle_marker_8f9ba2623be842e8929fd429f9b7a7e3%20%3D%20L.circleMarker%28%0A%20%20%20%20%20%20%20%20%20%20%20%20%20%20%20%20%5B43.7280205%2C%20-79.3887901%5D%2C%0A%20%20%20%20%20%20%20%20%20%20%20%20%20%20%20%20%7B%22bubblingMouseEvents%22%3A%20true%2C%20%22color%22%3A%20%22%238000ff%22%2C%20%22dashArray%22%3A%20null%2C%20%22dashOffset%22%3A%20null%2C%20%22fill%22%3A%20true%2C%20%22fillColor%22%3A%20%22%238000ff%22%2C%20%22fillOpacity%22%3A%200.2%2C%20%22fillRule%22%3A%20%22evenodd%22%2C%20%22lineCap%22%3A%20%22round%22%2C%20%22lineJoin%22%3A%20%22round%22%2C%20%22opacity%22%3A%201.0%2C%20%22radius%22%3A%205%2C%20%22stroke%22%3A%20true%2C%20%22weight%22%3A%203%7D%0A%20%20%20%20%20%20%20%20%20%20%20%20%29.addTo%28map_3ae3141edd8f4491b014bec87d5e8f6c%29%3B%0A%20%20%20%20%20%20%20%20%0A%20%20%20%20%0A%20%20%20%20%20%20%20%20var%20popup_6e5c7d0293d847ec8125d2cacac8a0b7%20%3D%20L.popup%28%7B%22maxWidth%22%3A%20%22100%25%22%7D%29%3B%0A%0A%20%20%20%20%20%20%20%20%0A%20%20%20%20%20%20%20%20%20%20%20%20var%20html_3d03a53d440c44469c0eaef2941a1ba8%20%3D%20%24%28%60%3Cdiv%20id%3D%22html_3d03a53d440c44469c0eaef2941a1ba8%22%20style%3D%22width%3A%20100.0%25%3B%20height%3A%20100.0%25%3B%22%3ECluster%202%20Lawrence%20Park%3C/div%3E%60%29%5B0%5D%3B%0A%20%20%20%20%20%20%20%20%20%20%20%20popup_6e5c7d0293d847ec8125d2cacac8a0b7.setContent%28html_3d03a53d440c44469c0eaef2941a1ba8%29%3B%0A%20%20%20%20%20%20%20%20%0A%0A%20%20%20%20%20%20%20%20circle_marker_8f9ba2623be842e8929fd429f9b7a7e3.bindPopup%28popup_6e5c7d0293d847ec8125d2cacac8a0b7%29%0A%20%20%20%20%20%20%20%20%3B%0A%0A%20%20%20%20%20%20%20%20%0A%20%20%20%20%0A%20%20%20%20%0A%20%20%20%20%20%20%20%20%20%20%20%20var%20circle_marker_eebee31f27534065b121c38d53d8fa95%20%3D%20L.circleMarker%28%0A%20%20%20%20%20%20%20%20%20%20%20%20%20%20%20%20%5B43.7116948%2C%20-79.41693559999999%5D%2C%0A%20%20%20%20%20%20%20%20%20%20%20%20%20%20%20%20%7B%22bubblingMouseEvents%22%3A%20true%2C%20%22color%22%3A%20%22%238000ff%22%2C%20%22dashArray%22%3A%20null%2C%20%22dashOffset%22%3A%20null%2C%20%22fill%22%3A%20true%2C%20%22fillColor%22%3A%20%22%238000ff%22%2C%20%22fillOpacity%22%3A%200.2%2C%20%22fillRule%22%3A%20%22evenodd%22%2C%20%22lineCap%22%3A%20%22round%22%2C%20%22lineJoin%22%3A%20%22round%22%2C%20%22opacity%22%3A%201.0%2C%20%22radius%22%3A%205%2C%20%22stroke%22%3A%20true%2C%20%22weight%22%3A%203%7D%0A%20%20%20%20%20%20%20%20%20%20%20%20%29.addTo%28map_3ae3141edd8f4491b014bec87d5e8f6c%29%3B%0A%20%20%20%20%20%20%20%20%0A%20%20%20%20%0A%20%20%20%20%20%20%20%20var%20popup_ff36616fff954281805c805d81be449e%20%3D%20L.popup%28%7B%22maxWidth%22%3A%20%22100%25%22%7D%29%3B%0A%0A%20%20%20%20%20%20%20%20%0A%20%20%20%20%20%20%20%20%20%20%20%20var%20html_fd52b02e531a43fe9dfcce6b887c1b33%20%3D%20%24%28%60%3Cdiv%20id%3D%22html_fd52b02e531a43fe9dfcce6b887c1b33%22%20style%3D%22width%3A%20100.0%25%3B%20height%3A%20100.0%25%3B%22%3ECluster%202%20Roselawn%3C/div%3E%60%29%5B0%5D%3B%0A%20%20%20%20%20%20%20%20%20%20%20%20popup_ff36616fff954281805c805d81be449e.setContent%28html_fd52b02e531a43fe9dfcce6b887c1b33%29%3B%0A%20%20%20%20%20%20%20%20%0A%0A%20%20%20%20%20%20%20%20circle_marker_eebee31f27534065b121c38d53d8fa95.bindPopup%28popup_ff36616fff954281805c805d81be449e%29%0A%20%20%20%20%20%20%20%20%3B%0A%0A%20%20%20%20%20%20%20%20%0A%20%20%20%20%0A%20%20%20%20%0A%20%20%20%20%20%20%20%20%20%20%20%20var%20circle_marker_8af766083f5842a1af8ea9f00d98729e%20%3D%20L.circleMarker%28%0A%20%20%20%20%20%20%20%20%20%20%20%20%20%20%20%20%5B43.67318529999999%2C%20-79.48726190000001%5D%2C%0A%20%20%20%20%20%20%20%20%20%20%20%20%20%20%20%20%7B%22bubblingMouseEvents%22%3A%20true%2C%20%22color%22%3A%20%22%238000ff%22%2C%20%22dashArray%22%3A%20null%2C%20%22dashOffset%22%3A%20null%2C%20%22fill%22%3A%20true%2C%20%22fillColor%22%3A%20%22%238000ff%22%2C%20%22fillOpacity%22%3A%200.2%2C%20%22fillRule%22%3A%20%22evenodd%22%2C%20%22lineCap%22%3A%20%22round%22%2C%20%22lineJoin%22%3A%20%22round%22%2C%20%22opacity%22%3A%201.0%2C%20%22radius%22%3A%205%2C%20%22stroke%22%3A%20true%2C%20%22weight%22%3A%203%7D%0A%20%20%20%20%20%20%20%20%20%20%20%20%29.addTo%28map_3ae3141edd8f4491b014bec87d5e8f6c%29%3B%0A%20%20%20%20%20%20%20%20%0A%20%20%20%20%0A%20%20%20%20%20%20%20%20var%20popup_7ccd12083c204ffa8e1d98d9339d29e8%20%3D%20L.popup%28%7B%22maxWidth%22%3A%20%22100%25%22%7D%29%3B%0A%0A%20%20%20%20%20%20%20%20%0A%20%20%20%20%20%20%20%20%20%20%20%20var%20html_28275d770b534597954b3fad8a3d1d63%20%3D%20%24%28%60%3Cdiv%20id%3D%22html_28275d770b534597954b3fad8a3d1d63%22%20style%3D%22width%3A%20100.0%25%3B%20height%3A%20100.0%25%3B%22%3ECluster%202%20Runnymede%2C%20The%20Junction%20North%3C/div%3E%60%29%5B0%5D%3B%0A%20%20%20%20%20%20%20%20%20%20%20%20popup_7ccd12083c204ffa8e1d98d9339d29e8.setContent%28html_28275d770b534597954b3fad8a3d1d63%29%3B%0A%20%20%20%20%20%20%20%20%0A%0A%20%20%20%20%20%20%20%20circle_marker_8af766083f5842a1af8ea9f00d98729e.bindPopup%28popup_7ccd12083c204ffa8e1d98d9339d29e8%29%0A%20%20%20%20%20%20%20%20%3B%0A%0A%20%20%20%20%20%20%20%20%0A%20%20%20%20%0A%20%20%20%20%0A%20%20%20%20%20%20%20%20%20%20%20%20var%20circle_marker_63e5bd857f2a40bc8586d7c568006bf2%20%3D%20L.circleMarker%28%0A%20%20%20%20%20%20%20%20%20%20%20%20%20%20%20%20%5B43.706876%2C%20-79.51818840000001%5D%2C%0A%20%20%20%20%20%20%20%20%20%20%20%20%20%20%20%20%7B%22bubblingMouseEvents%22%3A%20true%2C%20%22color%22%3A%20%22%23ff0000%22%2C%20%22dashArray%22%3A%20null%2C%20%22dashOffset%22%3A%20null%2C%20%22fill%22%3A%20true%2C%20%22fillColor%22%3A%20%22%23ff0000%22%2C%20%22fillOpacity%22%3A%200.2%2C%20%22fillRule%22%3A%20%22evenodd%22%2C%20%22lineCap%22%3A%20%22round%22%2C%20%22lineJoin%22%3A%20%22round%22%2C%20%22opacity%22%3A%201.0%2C%20%22radius%22%3A%205%2C%20%22stroke%22%3A%20true%2C%20%22weight%22%3A%203%7D%0A%20%20%20%20%20%20%20%20%20%20%20%20%29.addTo%28map_3ae3141edd8f4491b014bec87d5e8f6c%29%3B%0A%20%20%20%20%20%20%20%20%0A%20%20%20%20%0A%20%20%20%20%20%20%20%20var%20popup_218fea3131bf4b8aa55d9ae8145cb326%20%3D%20L.popup%28%7B%22maxWidth%22%3A%20%22100%25%22%7D%29%3B%0A%0A%20%20%20%20%20%20%20%20%0A%20%20%20%20%20%20%20%20%20%20%20%20var%20html_2279a12808554acf864121c2bb1de585%20%3D%20%24%28%60%3Cdiv%20id%3D%22html_2279a12808554acf864121c2bb1de585%22%20style%3D%22width%3A%20100.0%25%3B%20height%3A%20100.0%25%3B%22%3ECluster%201%20Weston%3C/div%3E%60%29%5B0%5D%3B%0A%20%20%20%20%20%20%20%20%20%20%20%20popup_218fea3131bf4b8aa55d9ae8145cb326.setContent%28html_2279a12808554acf864121c2bb1de585%29%3B%0A%20%20%20%20%20%20%20%20%0A%0A%20%20%20%20%20%20%20%20circle_marker_63e5bd857f2a40bc8586d7c568006bf2.bindPopup%28popup_218fea3131bf4b8aa55d9ae8145cb326%29%0A%20%20%20%20%20%20%20%20%3B%0A%0A%20%20%20%20%20%20%20%20%0A%20%20%20%20%0A%20%20%20%20%0A%20%20%20%20%20%20%20%20%20%20%20%20var%20circle_marker_188f166271384ab1956d1ceaa8980d5b%20%3D%20L.circleMarker%28%0A%20%20%20%20%20%20%20%20%20%20%20%20%20%20%20%20%5B43.7574096%2C%20-79.27330400000001%5D%2C%0A%20%20%20%20%20%20%20%20%20%20%20%20%20%20%20%20%7B%22bubblingMouseEvents%22%3A%20true%2C%20%22color%22%3A%20%22%238000ff%22%2C%20%22dashArray%22%3A%20null%2C%20%22dashOffset%22%3A%20null%2C%20%22fill%22%3A%20true%2C%20%22fillColor%22%3A%20%22%238000ff%22%2C%20%22fillOpacity%22%3A%200.2%2C%20%22fillRule%22%3A%20%22evenodd%22%2C%20%22lineCap%22%3A%20%22round%22%2C%20%22lineJoin%22%3A%20%22round%22%2C%20%22opacity%22%3A%201.0%2C%20%22radius%22%3A%205%2C%20%22stroke%22%3A%20true%2C%20%22weight%22%3A%203%7D%0A%20%20%20%20%20%20%20%20%20%20%20%20%29.addTo%28map_3ae3141edd8f4491b014bec87d5e8f6c%29%3B%0A%20%20%20%20%20%20%20%20%0A%20%20%20%20%0A%20%20%20%20%20%20%20%20var%20popup_a18df0ffb034404f9445cff9c869828d%20%3D%20L.popup%28%7B%22maxWidth%22%3A%20%22100%25%22%7D%29%3B%0A%0A%20%20%20%20%20%20%20%20%0A%20%20%20%20%20%20%20%20%20%20%20%20var%20html_0eb47fa3d88f46b2800981fcc87be36e%20%3D%20%24%28%60%3Cdiv%20id%3D%22html_0eb47fa3d88f46b2800981fcc87be36e%22%20style%3D%22width%3A%20100.0%25%3B%20height%3A%20100.0%25%3B%22%3ECluster%202%20Dorset%20Park%2C%20Wexford%20Heights%2C%20Scarborough%20Town%20Centre%3C/div%3E%60%29%5B0%5D%3B%0A%20%20%20%20%20%20%20%20%20%20%20%20popup_a18df0ffb034404f9445cff9c869828d.setContent%28html_0eb47fa3d88f46b2800981fcc87be36e%29%3B%0A%20%20%20%20%20%20%20%20%0A%0A%20%20%20%20%20%20%20%20circle_marker_188f166271384ab1956d1ceaa8980d5b.bindPopup%28popup_a18df0ffb034404f9445cff9c869828d%29%0A%20%20%20%20%20%20%20%20%3B%0A%0A%20%20%20%20%20%20%20%20%0A%20%20%20%20%0A%20%20%20%20%0A%20%20%20%20%20%20%20%20%20%20%20%20var%20circle_marker_01e2fd7f8447433ab838b31a31f0612b%20%3D%20L.circleMarker%28%0A%20%20%20%20%20%20%20%20%20%20%20%20%20%20%20%20%5B43.752758299999996%2C%20-79.4000493%5D%2C%0A%20%20%20%20%20%20%20%20%20%20%20%20%20%20%20%20%7B%22bubblingMouseEvents%22%3A%20true%2C%20%22color%22%3A%20%22%23ff0000%22%2C%20%22dashArray%22%3A%20null%2C%20%22dashOffset%22%3A%20null%2C%20%22fill%22%3A%20true%2C%20%22fillColor%22%3A%20%22%23ff0000%22%2C%20%22fillOpacity%22%3A%200.2%2C%20%22fillRule%22%3A%20%22evenodd%22%2C%20%22lineCap%22%3A%20%22round%22%2C%20%22lineJoin%22%3A%20%22round%22%2C%20%22opacity%22%3A%201.0%2C%20%22radius%22%3A%205%2C%20%22stroke%22%3A%20true%2C%20%22weight%22%3A%203%7D%0A%20%20%20%20%20%20%20%20%20%20%20%20%29.addTo%28map_3ae3141edd8f4491b014bec87d5e8f6c%29%3B%0A%20%20%20%20%20%20%20%20%0A%20%20%20%20%0A%20%20%20%20%20%20%20%20var%20popup_a34c7178442140629084c4e28b245402%20%3D%20L.popup%28%7B%22maxWidth%22%3A%20%22100%25%22%7D%29%3B%0A%0A%20%20%20%20%20%20%20%20%0A%20%20%20%20%20%20%20%20%20%20%20%20var%20html_5d172b57cedf49d8a30707cfb973145f%20%3D%20%24%28%60%3Cdiv%20id%3D%22html_5d172b57cedf49d8a30707cfb973145f%22%20style%3D%22width%3A%20100.0%25%3B%20height%3A%20100.0%25%3B%22%3ECluster%201%20York%20Mills%20West%3C/div%3E%60%29%5B0%5D%3B%0A%20%20%20%20%20%20%20%20%20%20%20%20popup_a34c7178442140629084c4e28b245402.setContent%28html_5d172b57cedf49d8a30707cfb973145f%29%3B%0A%20%20%20%20%20%20%20%20%0A%0A%20%20%20%20%20%20%20%20circle_marker_01e2fd7f8447433ab838b31a31f0612b.bindPopup%28popup_a34c7178442140629084c4e28b245402%29%0A%20%20%20%20%20%20%20%20%3B%0A%0A%20%20%20%20%20%20%20%20%0A%20%20%20%20%0A%20%20%20%20%0A%20%20%20%20%20%20%20%20%20%20%20%20var%20circle_marker_3d4672dfc811468eb83f4c854c6bf93e%20%3D%20L.circleMarker%28%0A%20%20%20%20%20%20%20%20%20%20%20%20%20%20%20%20%5B43.7127511%2C%20-79.3901975%5D%2C%0A%20%20%20%20%20%20%20%20%20%20%20%20%20%20%20%20%7B%22bubblingMouseEvents%22%3A%20true%2C%20%22color%22%3A%20%22%238000ff%22%2C%20%22dashArray%22%3A%20null%2C%20%22dashOffset%22%3A%20null%2C%20%22fill%22%3A%20true%2C%20%22fillColor%22%3A%20%22%238000ff%22%2C%20%22fillOpacity%22%3A%200.2%2C%20%22fillRule%22%3A%20%22evenodd%22%2C%20%22lineCap%22%3A%20%22round%22%2C%20%22lineJoin%22%3A%20%22round%22%2C%20%22opacity%22%3A%201.0%2C%20%22radius%22%3A%205%2C%20%22stroke%22%3A%20true%2C%20%22weight%22%3A%203%7D%0A%20%20%20%20%20%20%20%20%20%20%20%20%29.addTo%28map_3ae3141edd8f4491b014bec87d5e8f6c%29%3B%0A%20%20%20%20%20%20%20%20%0A%20%20%20%20%0A%20%20%20%20%20%20%20%20var%20popup_736d6d52a2b8404abfeb8ed413467fa2%20%3D%20L.popup%28%7B%22maxWidth%22%3A%20%22100%25%22%7D%29%3B%0A%0A%20%20%20%20%20%20%20%20%0A%20%20%20%20%20%20%20%20%20%20%20%20var%20html_39bd1ecf0d2448b7b78432b6cbd78483%20%3D%20%24%28%60%3Cdiv%20id%3D%22html_39bd1ecf0d2448b7b78432b6cbd78483%22%20style%3D%22width%3A%20100.0%25%3B%20height%3A%20100.0%25%3B%22%3ECluster%202%20Davisville%20North%3C/div%3E%60%29%5B0%5D%3B%0A%20%20%20%20%20%20%20%20%20%20%20%20popup_736d6d52a2b8404abfeb8ed413467fa2.setContent%28html_39bd1ecf0d2448b7b78432b6cbd78483%29%3B%0A%20%20%20%20%20%20%20%20%0A%0A%20%20%20%20%20%20%20%20circle_marker_3d4672dfc811468eb83f4c854c6bf93e.bindPopup%28popup_736d6d52a2b8404abfeb8ed413467fa2%29%0A%20%20%20%20%20%20%20%20%3B%0A%0A%20%20%20%20%20%20%20%20%0A%20%20%20%20%0A%20%20%20%20%0A%20%20%20%20%20%20%20%20%20%20%20%20var%20circle_marker_91d32ffb33c14f1881ef5951cd47518f%20%3D%20L.circleMarker%28%0A%20%20%20%20%20%20%20%20%20%20%20%20%20%20%20%20%5B43.6969476%2C%20-79.41130720000001%5D%2C%0A%20%20%20%20%20%20%20%20%20%20%20%20%20%20%20%20%7B%22bubblingMouseEvents%22%3A%20true%2C%20%22color%22%3A%20%22%238000ff%22%2C%20%22dashArray%22%3A%20null%2C%20%22dashOffset%22%3A%20null%2C%20%22fill%22%3A%20true%2C%20%22fillColor%22%3A%20%22%238000ff%22%2C%20%22fillOpacity%22%3A%200.2%2C%20%22fillRule%22%3A%20%22evenodd%22%2C%20%22lineCap%22%3A%20%22round%22%2C%20%22lineJoin%22%3A%20%22round%22%2C%20%22opacity%22%3A%201.0%2C%20%22radius%22%3A%205%2C%20%22stroke%22%3A%20true%2C%20%22weight%22%3A%203%7D%0A%20%20%20%20%20%20%20%20%20%20%20%20%29.addTo%28map_3ae3141edd8f4491b014bec87d5e8f6c%29%3B%0A%20%20%20%20%20%20%20%20%0A%20%20%20%20%0A%20%20%20%20%20%20%20%20var%20popup_5c7922f2b39e45b29e859de511bcdb09%20%3D%20L.popup%28%7B%22maxWidth%22%3A%20%22100%25%22%7D%29%3B%0A%0A%20%20%20%20%20%20%20%20%0A%20%20%20%20%20%20%20%20%20%20%20%20var%20html_d40a3ddc3e354d3faf217d0876ca0e23%20%3D%20%24%28%60%3Cdiv%20id%3D%22html_d40a3ddc3e354d3faf217d0876ca0e23%22%20style%3D%22width%3A%20100.0%25%3B%20height%3A%20100.0%25%3B%22%3ECluster%202%20Forest%20Hill%20North%20%26amp%3B%20West%2C%20Forest%20Hill%20Road%20Park%3C/div%3E%60%29%5B0%5D%3B%0A%20%20%20%20%20%20%20%20%20%20%20%20popup_5c7922f2b39e45b29e859de511bcdb09.setContent%28html_d40a3ddc3e354d3faf217d0876ca0e23%29%3B%0A%20%20%20%20%20%20%20%20%0A%0A%20%20%20%20%20%20%20%20circle_marker_91d32ffb33c14f1881ef5951cd47518f.bindPopup%28popup_5c7922f2b39e45b29e859de511bcdb09%29%0A%20%20%20%20%20%20%20%20%3B%0A%0A%20%20%20%20%20%20%20%20%0A%20%20%20%20%0A%20%20%20%20%0A%20%20%20%20%20%20%20%20%20%20%20%20var%20circle_marker_02427f44d6774c1fb52364dd48958840%20%3D%20L.circleMarker%28%0A%20%20%20%20%20%20%20%20%20%20%20%20%20%20%20%20%5B43.6616083%2C%20-79.46476329999999%5D%2C%0A%20%20%20%20%20%20%20%20%20%20%20%20%20%20%20%20%7B%22bubblingMouseEvents%22%3A%20true%2C%20%22color%22%3A%20%22%238000ff%22%2C%20%22dashArray%22%3A%20null%2C%20%22dashOffset%22%3A%20null%2C%20%22fill%22%3A%20true%2C%20%22fillColor%22%3A%20%22%238000ff%22%2C%20%22fillOpacity%22%3A%200.2%2C%20%22fillRule%22%3A%20%22evenodd%22%2C%20%22lineCap%22%3A%20%22round%22%2C%20%22lineJoin%22%3A%20%22round%22%2C%20%22opacity%22%3A%201.0%2C%20%22radius%22%3A%205%2C%20%22stroke%22%3A%20true%2C%20%22weight%22%3A%203%7D%0A%20%20%20%20%20%20%20%20%20%20%20%20%29.addTo%28map_3ae3141edd8f4491b014bec87d5e8f6c%29%3B%0A%20%20%20%20%20%20%20%20%0A%20%20%20%20%0A%20%20%20%20%20%20%20%20var%20popup_736238b2ebbc4a91847789e558f40439%20%3D%20L.popup%28%7B%22maxWidth%22%3A%20%22100%25%22%7D%29%3B%0A%0A%20%20%20%20%20%20%20%20%0A%20%20%20%20%20%20%20%20%20%20%20%20var%20html_28b7795ff7c247479f040d12732dc0e3%20%3D%20%24%28%60%3Cdiv%20id%3D%22html_28b7795ff7c247479f040d12732dc0e3%22%20style%3D%22width%3A%20100.0%25%3B%20height%3A%20100.0%25%3B%22%3ECluster%202%20High%20Park%2C%20The%20Junction%20South%3C/div%3E%60%29%5B0%5D%3B%0A%20%20%20%20%20%20%20%20%20%20%20%20popup_736238b2ebbc4a91847789e558f40439.setContent%28html_28b7795ff7c247479f040d12732dc0e3%29%3B%0A%20%20%20%20%20%20%20%20%0A%0A%20%20%20%20%20%20%20%20circle_marker_02427f44d6774c1fb52364dd48958840.bindPopup%28popup_736238b2ebbc4a91847789e558f40439%29%0A%20%20%20%20%20%20%20%20%3B%0A%0A%20%20%20%20%20%20%20%20%0A%20%20%20%20%0A%20%20%20%20%0A%20%20%20%20%20%20%20%20%20%20%20%20var%20circle_marker_409c33333a2b4224b776ad29219d3eb1%20%3D%20L.circleMarker%28%0A%20%20%20%20%20%20%20%20%20%20%20%20%20%20%20%20%5B43.696319%2C%20-79.53224240000002%5D%2C%0A%20%20%20%20%20%20%20%20%20%20%20%20%20%20%20%20%7B%22bubblingMouseEvents%22%3A%20true%2C%20%22color%22%3A%20%22%238000ff%22%2C%20%22dashArray%22%3A%20null%2C%20%22dashOffset%22%3A%20null%2C%20%22fill%22%3A%20true%2C%20%22fillColor%22%3A%20%22%238000ff%22%2C%20%22fillOpacity%22%3A%200.2%2C%20%22fillRule%22%3A%20%22evenodd%22%2C%20%22lineCap%22%3A%20%22round%22%2C%20%22lineJoin%22%3A%20%22round%22%2C%20%22opacity%22%3A%201.0%2C%20%22radius%22%3A%205%2C%20%22stroke%22%3A%20true%2C%20%22weight%22%3A%203%7D%0A%20%20%20%20%20%20%20%20%20%20%20%20%29.addTo%28map_3ae3141edd8f4491b014bec87d5e8f6c%29%3B%0A%20%20%20%20%20%20%20%20%0A%20%20%20%20%0A%20%20%20%20%20%20%20%20var%20popup_a222460ea78f4d9988f6fac7d3fc2182%20%3D%20L.popup%28%7B%22maxWidth%22%3A%20%22100%25%22%7D%29%3B%0A%0A%20%20%20%20%20%20%20%20%0A%20%20%20%20%20%20%20%20%20%20%20%20var%20html_3e44dc1ea7ab46ff9164fb7e091ebddb%20%3D%20%24%28%60%3Cdiv%20id%3D%22html_3e44dc1ea7ab46ff9164fb7e091ebddb%22%20style%3D%22width%3A%20100.0%25%3B%20height%3A%20100.0%25%3B%22%3ECluster%202%20Westmount%3C/div%3E%60%29%5B0%5D%3B%0A%20%20%20%20%20%20%20%20%20%20%20%20popup_a222460ea78f4d9988f6fac7d3fc2182.setContent%28html_3e44dc1ea7ab46ff9164fb7e091ebddb%29%3B%0A%20%20%20%20%20%20%20%20%0A%0A%20%20%20%20%20%20%20%20circle_marker_409c33333a2b4224b776ad29219d3eb1.bindPopup%28popup_a222460ea78f4d9988f6fac7d3fc2182%29%0A%20%20%20%20%20%20%20%20%3B%0A%0A%20%20%20%20%20%20%20%20%0A%20%20%20%20%0A%20%20%20%20%0A%20%20%20%20%20%20%20%20%20%20%20%20var%20circle_marker_3268f40f6ed34eadbe4cd4514bce5f5a%20%3D%20L.circleMarker%28%0A%20%20%20%20%20%20%20%20%20%20%20%20%20%20%20%20%5B43.750071500000004%2C%20-79.2958491%5D%2C%0A%20%20%20%20%20%20%20%20%20%20%20%20%20%20%20%20%7B%22bubblingMouseEvents%22%3A%20true%2C%20%22color%22%3A%20%22%238000ff%22%2C%20%22dashArray%22%3A%20null%2C%20%22dashOffset%22%3A%20null%2C%20%22fill%22%3A%20true%2C%20%22fillColor%22%3A%20%22%238000ff%22%2C%20%22fillOpacity%22%3A%200.2%2C%20%22fillRule%22%3A%20%22evenodd%22%2C%20%22lineCap%22%3A%20%22round%22%2C%20%22lineJoin%22%3A%20%22round%22%2C%20%22opacity%22%3A%201.0%2C%20%22radius%22%3A%205%2C%20%22stroke%22%3A%20true%2C%20%22weight%22%3A%203%7D%0A%20%20%20%20%20%20%20%20%20%20%20%20%29.addTo%28map_3ae3141edd8f4491b014bec87d5e8f6c%29%3B%0A%20%20%20%20%20%20%20%20%0A%20%20%20%20%0A%20%20%20%20%20%20%20%20var%20popup_f7109fc2d1c04191ba8764bcf0c0eb05%20%3D%20L.popup%28%7B%22maxWidth%22%3A%20%22100%25%22%7D%29%3B%0A%0A%20%20%20%20%20%20%20%20%0A%20%20%20%20%20%20%20%20%20%20%20%20var%20html_038b2a141ae049af8a3fb9c6401139ed%20%3D%20%24%28%60%3Cdiv%20id%3D%22html_038b2a141ae049af8a3fb9c6401139ed%22%20style%3D%22width%3A%20100.0%25%3B%20height%3A%20100.0%25%3B%22%3ECluster%202%20Wexford%2C%20Maryvale%3C/div%3E%60%29%5B0%5D%3B%0A%20%20%20%20%20%20%20%20%20%20%20%20popup_f7109fc2d1c04191ba8764bcf0c0eb05.setContent%28html_038b2a141ae049af8a3fb9c6401139ed%29%3B%0A%20%20%20%20%20%20%20%20%0A%0A%20%20%20%20%20%20%20%20circle_marker_3268f40f6ed34eadbe4cd4514bce5f5a.bindPopup%28popup_f7109fc2d1c04191ba8764bcf0c0eb05%29%0A%20%20%20%20%20%20%20%20%3B%0A%0A%20%20%20%20%20%20%20%20%0A%20%20%20%20%0A%20%20%20%20%0A%20%20%20%20%20%20%20%20%20%20%20%20var%20circle_marker_415a7324a2a9402b9fccb162b2854268%20%3D%20L.circleMarker%28%0A%20%20%20%20%20%20%20%20%20%20%20%20%20%20%20%20%5B43.7827364%2C%20-79.4422593%5D%2C%0A%20%20%20%20%20%20%20%20%20%20%20%20%20%20%20%20%7B%22bubblingMouseEvents%22%3A%20true%2C%20%22color%22%3A%20%22%238000ff%22%2C%20%22dashArray%22%3A%20null%2C%20%22dashOffset%22%3A%20null%2C%20%22fill%22%3A%20true%2C%20%22fillColor%22%3A%20%22%238000ff%22%2C%20%22fillOpacity%22%3A%200.2%2C%20%22fillRule%22%3A%20%22evenodd%22%2C%20%22lineCap%22%3A%20%22round%22%2C%20%22lineJoin%22%3A%20%22round%22%2C%20%22opacity%22%3A%201.0%2C%20%22radius%22%3A%205%2C%20%22stroke%22%3A%20true%2C%20%22weight%22%3A%203%7D%0A%20%20%20%20%20%20%20%20%20%20%20%20%29.addTo%28map_3ae3141edd8f4491b014bec87d5e8f6c%29%3B%0A%20%20%20%20%20%20%20%20%0A%20%20%20%20%0A%20%20%20%20%20%20%20%20var%20popup_a087159ed1f745a7b63fe3c606b47ebf%20%3D%20L.popup%28%7B%22maxWidth%22%3A%20%22100%25%22%7D%29%3B%0A%0A%20%20%20%20%20%20%20%20%0A%20%20%20%20%20%20%20%20%20%20%20%20var%20html_66659f449f6e42c4b2cd676d80f7bc74%20%3D%20%24%28%60%3Cdiv%20id%3D%22html_66659f449f6e42c4b2cd676d80f7bc74%22%20style%3D%22width%3A%20100.0%25%3B%20height%3A%20100.0%25%3B%22%3ECluster%202%20Willowdale%2C%20Willowdale%20West%3C/div%3E%60%29%5B0%5D%3B%0A%20%20%20%20%20%20%20%20%20%20%20%20popup_a087159ed1f745a7b63fe3c606b47ebf.setContent%28html_66659f449f6e42c4b2cd676d80f7bc74%29%3B%0A%20%20%20%20%20%20%20%20%0A%0A%20%20%20%20%20%20%20%20circle_marker_415a7324a2a9402b9fccb162b2854268.bindPopup%28popup_a087159ed1f745a7b63fe3c606b47ebf%29%0A%20%20%20%20%20%20%20%20%3B%0A%0A%20%20%20%20%20%20%20%20%0A%20%20%20%20%0A%20%20%20%20%0A%20%20%20%20%20%20%20%20%20%20%20%20var%20circle_marker_e689d89f9c5c49a5a888aa7e4a09947a%20%3D%20L.circleMarker%28%0A%20%20%20%20%20%20%20%20%20%20%20%20%20%20%20%20%5B43.7153834%2C%20-79.40567840000001%5D%2C%0A%20%20%20%20%20%20%20%20%20%20%20%20%20%20%20%20%7B%22bubblingMouseEvents%22%3A%20true%2C%20%22color%22%3A%20%22%238000ff%22%2C%20%22dashArray%22%3A%20null%2C%20%22dashOffset%22%3A%20null%2C%20%22fill%22%3A%20true%2C%20%22fillColor%22%3A%20%22%238000ff%22%2C%20%22fillOpacity%22%3A%200.2%2C%20%22fillRule%22%3A%20%22evenodd%22%2C%20%22lineCap%22%3A%20%22round%22%2C%20%22lineJoin%22%3A%20%22round%22%2C%20%22opacity%22%3A%201.0%2C%20%22radius%22%3A%205%2C%20%22stroke%22%3A%20true%2C%20%22weight%22%3A%203%7D%0A%20%20%20%20%20%20%20%20%20%20%20%20%29.addTo%28map_3ae3141edd8f4491b014bec87d5e8f6c%29%3B%0A%20%20%20%20%20%20%20%20%0A%20%20%20%20%0A%20%20%20%20%20%20%20%20var%20popup_4cedabeedbba4d139a9bb7ae2f6dc80f%20%3D%20L.popup%28%7B%22maxWidth%22%3A%20%22100%25%22%7D%29%3B%0A%0A%20%20%20%20%20%20%20%20%0A%20%20%20%20%20%20%20%20%20%20%20%20var%20html_b5f5ce919e5a4422aa1fb55b5c46ba13%20%3D%20%24%28%60%3Cdiv%20id%3D%22html_b5f5ce919e5a4422aa1fb55b5c46ba13%22%20style%3D%22width%3A%20100.0%25%3B%20height%3A%20100.0%25%3B%22%3ECluster%202%20North%20Toronto%20West%2C%20Lawrence%20Park%3C/div%3E%60%29%5B0%5D%3B%0A%20%20%20%20%20%20%20%20%20%20%20%20popup_4cedabeedbba4d139a9bb7ae2f6dc80f.setContent%28html_b5f5ce919e5a4422aa1fb55b5c46ba13%29%3B%0A%20%20%20%20%20%20%20%20%0A%0A%20%20%20%20%20%20%20%20circle_marker_e689d89f9c5c49a5a888aa7e4a09947a.bindPopup%28popup_4cedabeedbba4d139a9bb7ae2f6dc80f%29%0A%20%20%20%20%20%20%20%20%3B%0A%0A%20%20%20%20%20%20%20%20%0A%20%20%20%20%0A%20%20%20%20%0A%20%20%20%20%20%20%20%20%20%20%20%20var%20circle_marker_3d54183eab31487382db51834c6ae538%20%3D%20L.circleMarker%28%0A%20%20%20%20%20%20%20%20%20%20%20%20%20%20%20%20%5B43.6727097%2C%20-79.40567840000001%5D%2C%0A%20%20%20%20%20%20%20%20%20%20%20%20%20%20%20%20%7B%22bubblingMouseEvents%22%3A%20true%2C%20%22color%22%3A%20%22%238000ff%22%2C%20%22dashArray%22%3A%20null%2C%20%22dashOffset%22%3A%20null%2C%20%22fill%22%3A%20true%2C%20%22fillColor%22%3A%20%22%238000ff%22%2C%20%22fillOpacity%22%3A%200.2%2C%20%22fillRule%22%3A%20%22evenodd%22%2C%20%22lineCap%22%3A%20%22round%22%2C%20%22lineJoin%22%3A%20%22round%22%2C%20%22opacity%22%3A%201.0%2C%20%22radius%22%3A%205%2C%20%22stroke%22%3A%20true%2C%20%22weight%22%3A%203%7D%0A%20%20%20%20%20%20%20%20%20%20%20%20%29.addTo%28map_3ae3141edd8f4491b014bec87d5e8f6c%29%3B%0A%20%20%20%20%20%20%20%20%0A%20%20%20%20%0A%20%20%20%20%20%20%20%20var%20popup_45bbb4660b9446b681d410d2f9669379%20%3D%20L.popup%28%7B%22maxWidth%22%3A%20%22100%25%22%7D%29%3B%0A%0A%20%20%20%20%20%20%20%20%0A%20%20%20%20%20%20%20%20%20%20%20%20var%20html_c7ce97a0059947908c019b36597492ed%20%3D%20%24%28%60%3Cdiv%20id%3D%22html_c7ce97a0059947908c019b36597492ed%22%20style%3D%22width%3A%20100.0%25%3B%20height%3A%20100.0%25%3B%22%3ECluster%202%20The%20Annex%2C%20North%20Midtown%2C%20Yorkville%3C/div%3E%60%29%5B0%5D%3B%0A%20%20%20%20%20%20%20%20%20%20%20%20popup_45bbb4660b9446b681d410d2f9669379.setContent%28html_c7ce97a0059947908c019b36597492ed%29%3B%0A%20%20%20%20%20%20%20%20%0A%0A%20%20%20%20%20%20%20%20circle_marker_3d54183eab31487382db51834c6ae538.bindPopup%28popup_45bbb4660b9446b681d410d2f9669379%29%0A%20%20%20%20%20%20%20%20%3B%0A%0A%20%20%20%20%20%20%20%20%0A%20%20%20%20%0A%20%20%20%20%0A%20%20%20%20%20%20%20%20%20%20%20%20var%20circle_marker_911bcb3be99640068d48595067b80886%20%3D%20L.circleMarker%28%0A%20%20%20%20%20%20%20%20%20%20%20%20%20%20%20%20%5B43.6489597%2C%20-79.456325%5D%2C%0A%20%20%20%20%20%20%20%20%20%20%20%20%20%20%20%20%7B%22bubblingMouseEvents%22%3A%20true%2C%20%22color%22%3A%20%22%238000ff%22%2C%20%22dashArray%22%3A%20null%2C%20%22dashOffset%22%3A%20null%2C%20%22fill%22%3A%20true%2C%20%22fillColor%22%3A%20%22%238000ff%22%2C%20%22fillOpacity%22%3A%200.2%2C%20%22fillRule%22%3A%20%22evenodd%22%2C%20%22lineCap%22%3A%20%22round%22%2C%20%22lineJoin%22%3A%20%22round%22%2C%20%22opacity%22%3A%201.0%2C%20%22radius%22%3A%205%2C%20%22stroke%22%3A%20true%2C%20%22weight%22%3A%203%7D%0A%20%20%20%20%20%20%20%20%20%20%20%20%29.addTo%28map_3ae3141edd8f4491b014bec87d5e8f6c%29%3B%0A%20%20%20%20%20%20%20%20%0A%20%20%20%20%0A%20%20%20%20%20%20%20%20var%20popup_1ea3b51eb9284e068ee8baec9e3f44b1%20%3D%20L.popup%28%7B%22maxWidth%22%3A%20%22100%25%22%7D%29%3B%0A%0A%20%20%20%20%20%20%20%20%0A%20%20%20%20%20%20%20%20%20%20%20%20var%20html_8d98945b60794b13b50b40446c55ef7f%20%3D%20%24%28%60%3Cdiv%20id%3D%22html_8d98945b60794b13b50b40446c55ef7f%22%20style%3D%22width%3A%20100.0%25%3B%20height%3A%20100.0%25%3B%22%3ECluster%202%20Parkdale%2C%20Roncesvalles%3C/div%3E%60%29%5B0%5D%3B%0A%20%20%20%20%20%20%20%20%20%20%20%20popup_1ea3b51eb9284e068ee8baec9e3f44b1.setContent%28html_8d98945b60794b13b50b40446c55ef7f%29%3B%0A%20%20%20%20%20%20%20%20%0A%0A%20%20%20%20%20%20%20%20circle_marker_911bcb3be99640068d48595067b80886.bindPopup%28popup_1ea3b51eb9284e068ee8baec9e3f44b1%29%0A%20%20%20%20%20%20%20%20%3B%0A%0A%20%20%20%20%20%20%20%20%0A%20%20%20%20%0A%20%20%20%20%0A%20%20%20%20%20%20%20%20%20%20%20%20var%20circle_marker_4bd4efde2c3c4a7e926d929a55cbdd26%20%3D%20L.circleMarker%28%0A%20%20%20%20%20%20%20%20%20%20%20%20%20%20%20%20%5B43.6369656%2C%20-79.61581899999999%5D%2C%0A%20%20%20%20%20%20%20%20%20%20%20%20%20%20%20%20%7B%22bubblingMouseEvents%22%3A%20true%2C%20%22color%22%3A%20%22%238000ff%22%2C%20%22dashArray%22%3A%20null%2C%20%22dashOffset%22%3A%20null%2C%20%22fill%22%3A%20true%2C%20%22fillColor%22%3A%20%22%238000ff%22%2C%20%22fillOpacity%22%3A%200.2%2C%20%22fillRule%22%3A%20%22evenodd%22%2C%20%22lineCap%22%3A%20%22round%22%2C%20%22lineJoin%22%3A%20%22round%22%2C%20%22opacity%22%3A%201.0%2C%20%22radius%22%3A%205%2C%20%22stroke%22%3A%20true%2C%20%22weight%22%3A%203%7D%0A%20%20%20%20%20%20%20%20%20%20%20%20%29.addTo%28map_3ae3141edd8f4491b014bec87d5e8f6c%29%3B%0A%20%20%20%20%20%20%20%20%0A%20%20%20%20%0A%20%20%20%20%20%20%20%20var%20popup_7fa875aff184423cab9f03a329d4ff61%20%3D%20L.popup%28%7B%22maxWidth%22%3A%20%22100%25%22%7D%29%3B%0A%0A%20%20%20%20%20%20%20%20%0A%20%20%20%20%20%20%20%20%20%20%20%20var%20html_bed5e4f3034c4ae4ae00932c886b1e41%20%3D%20%24%28%60%3Cdiv%20id%3D%22html_bed5e4f3034c4ae4ae00932c886b1e41%22%20style%3D%22width%3A%20100.0%25%3B%20height%3A%20100.0%25%3B%22%3ECluster%202%20Canada%20Post%20Gateway%20Processing%20Centre%3C/div%3E%60%29%5B0%5D%3B%0A%20%20%20%20%20%20%20%20%20%20%20%20popup_7fa875aff184423cab9f03a329d4ff61.setContent%28html_bed5e4f3034c4ae4ae00932c886b1e41%29%3B%0A%20%20%20%20%20%20%20%20%0A%0A%20%20%20%20%20%20%20%20circle_marker_4bd4efde2c3c4a7e926d929a55cbdd26.bindPopup%28popup_7fa875aff184423cab9f03a329d4ff61%29%0A%20%20%20%20%20%20%20%20%3B%0A%0A%20%20%20%20%20%20%20%20%0A%20%20%20%20%0A%20%20%20%20%0A%20%20%20%20%20%20%20%20%20%20%20%20var%20circle_marker_0b867070fb0248348bfe80fa90344172%20%3D%20L.circleMarker%28%0A%20%20%20%20%20%20%20%20%20%20%20%20%20%20%20%20%5B43.6889054%2C%20-79.55472440000001%5D%2C%0A%20%20%20%20%20%20%20%20%20%20%20%20%20%20%20%20%7B%22bubblingMouseEvents%22%3A%20true%2C%20%22color%22%3A%20%22%238000ff%22%2C%20%22dashArray%22%3A%20null%2C%20%22dashOffset%22%3A%20null%2C%20%22fill%22%3A%20true%2C%20%22fillColor%22%3A%20%22%238000ff%22%2C%20%22fillOpacity%22%3A%200.2%2C%20%22fillRule%22%3A%20%22evenodd%22%2C%20%22lineCap%22%3A%20%22round%22%2C%20%22lineJoin%22%3A%20%22round%22%2C%20%22opacity%22%3A%201.0%2C%20%22radius%22%3A%205%2C%20%22stroke%22%3A%20true%2C%20%22weight%22%3A%203%7D%0A%20%20%20%20%20%20%20%20%20%20%20%20%29.addTo%28map_3ae3141edd8f4491b014bec87d5e8f6c%29%3B%0A%20%20%20%20%20%20%20%20%0A%20%20%20%20%0A%20%20%20%20%20%20%20%20var%20popup_c4a829ee8403442194f4bef64955f855%20%3D%20L.popup%28%7B%22maxWidth%22%3A%20%22100%25%22%7D%29%3B%0A%0A%20%20%20%20%20%20%20%20%0A%20%20%20%20%20%20%20%20%20%20%20%20var%20html_f0cd9a1364eb453abefe47ccf829f2de%20%3D%20%24%28%60%3Cdiv%20id%3D%22html_f0cd9a1364eb453abefe47ccf829f2de%22%20style%3D%22width%3A%20100.0%25%3B%20height%3A%20100.0%25%3B%22%3ECluster%202%20Kingsview%20Village%2C%20St.%20Phillips%2C%20Martin%20Grove%20Gardens%2C%20Richview%20Gardens%3C/div%3E%60%29%5B0%5D%3B%0A%20%20%20%20%20%20%20%20%20%20%20%20popup_c4a829ee8403442194f4bef64955f855.setContent%28html_f0cd9a1364eb453abefe47ccf829f2de%29%3B%0A%20%20%20%20%20%20%20%20%0A%0A%20%20%20%20%20%20%20%20circle_marker_0b867070fb0248348bfe80fa90344172.bindPopup%28popup_c4a829ee8403442194f4bef64955f855%29%0A%20%20%20%20%20%20%20%20%3B%0A%0A%20%20%20%20%20%20%20%20%0A%20%20%20%20%0A%20%20%20%20%0A%20%20%20%20%20%20%20%20%20%20%20%20var%20circle_marker_7b023897685e4b32895c50d6bd409c01%20%3D%20L.circleMarker%28%0A%20%20%20%20%20%20%20%20%20%20%20%20%20%20%20%20%5B43.7942003%2C%20-79.26202940000002%5D%2C%0A%20%20%20%20%20%20%20%20%20%20%20%20%20%20%20%20%7B%22bubblingMouseEvents%22%3A%20true%2C%20%22color%22%3A%20%22%238000ff%22%2C%20%22dashArray%22%3A%20null%2C%20%22dashOffset%22%3A%20null%2C%20%22fill%22%3A%20true%2C%20%22fillColor%22%3A%20%22%238000ff%22%2C%20%22fillOpacity%22%3A%200.2%2C%20%22fillRule%22%3A%20%22evenodd%22%2C%20%22lineCap%22%3A%20%22round%22%2C%20%22lineJoin%22%3A%20%22round%22%2C%20%22opacity%22%3A%201.0%2C%20%22radius%22%3A%205%2C%20%22stroke%22%3A%20true%2C%20%22weight%22%3A%203%7D%0A%20%20%20%20%20%20%20%20%20%20%20%20%29.addTo%28map_3ae3141edd8f4491b014bec87d5e8f6c%29%3B%0A%20%20%20%20%20%20%20%20%0A%20%20%20%20%0A%20%20%20%20%20%20%20%20var%20popup_80a15203630242c7a26346af9e42ef86%20%3D%20L.popup%28%7B%22maxWidth%22%3A%20%22100%25%22%7D%29%3B%0A%0A%20%20%20%20%20%20%20%20%0A%20%20%20%20%20%20%20%20%20%20%20%20var%20html_94e8b54b16c04e1fbec7af353341e31b%20%3D%20%24%28%60%3Cdiv%20id%3D%22html_94e8b54b16c04e1fbec7af353341e31b%22%20style%3D%22width%3A%20100.0%25%3B%20height%3A%20100.0%25%3B%22%3ECluster%202%20Agincourt%3C/div%3E%60%29%5B0%5D%3B%0A%20%20%20%20%20%20%20%20%20%20%20%20popup_80a15203630242c7a26346af9e42ef86.setContent%28html_94e8b54b16c04e1fbec7af353341e31b%29%3B%0A%20%20%20%20%20%20%20%20%0A%0A%20%20%20%20%20%20%20%20circle_marker_7b023897685e4b32895c50d6bd409c01.bindPopup%28popup_80a15203630242c7a26346af9e42ef86%29%0A%20%20%20%20%20%20%20%20%3B%0A%0A%20%20%20%20%20%20%20%20%0A%20%20%20%20%0A%20%20%20%20%0A%20%20%20%20%20%20%20%20%20%20%20%20var%20circle_marker_a1dec8abe40a4a6f9ff8de2c4e92690e%20%3D%20L.circleMarker%28%0A%20%20%20%20%20%20%20%20%20%20%20%20%20%20%20%20%5B43.7043244%2C%20-79.3887901%5D%2C%0A%20%20%20%20%20%20%20%20%20%20%20%20%20%20%20%20%7B%22bubblingMouseEvents%22%3A%20true%2C%20%22color%22%3A%20%22%238000ff%22%2C%20%22dashArray%22%3A%20null%2C%20%22dashOffset%22%3A%20null%2C%20%22fill%22%3A%20true%2C%20%22fillColor%22%3A%20%22%238000ff%22%2C%20%22fillOpacity%22%3A%200.2%2C%20%22fillRule%22%3A%20%22evenodd%22%2C%20%22lineCap%22%3A%20%22round%22%2C%20%22lineJoin%22%3A%20%22round%22%2C%20%22opacity%22%3A%201.0%2C%20%22radius%22%3A%205%2C%20%22stroke%22%3A%20true%2C%20%22weight%22%3A%203%7D%0A%20%20%20%20%20%20%20%20%20%20%20%20%29.addTo%28map_3ae3141edd8f4491b014bec87d5e8f6c%29%3B%0A%20%20%20%20%20%20%20%20%0A%20%20%20%20%0A%20%20%20%20%20%20%20%20var%20popup_ac637ad74574402189a497513d9ff17a%20%3D%20L.popup%28%7B%22maxWidth%22%3A%20%22100%25%22%7D%29%3B%0A%0A%20%20%20%20%20%20%20%20%0A%20%20%20%20%20%20%20%20%20%20%20%20var%20html_d0abfe1056704afa8791dcff15706576%20%3D%20%24%28%60%3Cdiv%20id%3D%22html_d0abfe1056704afa8791dcff15706576%22%20style%3D%22width%3A%20100.0%25%3B%20height%3A%20100.0%25%3B%22%3ECluster%202%20Davisville%3C/div%3E%60%29%5B0%5D%3B%0A%20%20%20%20%20%20%20%20%20%20%20%20popup_ac637ad74574402189a497513d9ff17a.setContent%28html_d0abfe1056704afa8791dcff15706576%29%3B%0A%20%20%20%20%20%20%20%20%0A%0A%20%20%20%20%20%20%20%20circle_marker_a1dec8abe40a4a6f9ff8de2c4e92690e.bindPopup%28popup_ac637ad74574402189a497513d9ff17a%29%0A%20%20%20%20%20%20%20%20%3B%0A%0A%20%20%20%20%20%20%20%20%0A%20%20%20%20%0A%20%20%20%20%0A%20%20%20%20%20%20%20%20%20%20%20%20var%20circle_marker_1f595f1ca3df46658ee0aa274b8738b9%20%3D%20L.circleMarker%28%0A%20%20%20%20%20%20%20%20%20%20%20%20%20%20%20%20%5B43.6626956%2C%20-79.4000493%5D%2C%0A%20%20%20%20%20%20%20%20%20%20%20%20%20%20%20%20%7B%22bubblingMouseEvents%22%3A%20true%2C%20%22color%22%3A%20%22%238000ff%22%2C%20%22dashArray%22%3A%20null%2C%20%22dashOffset%22%3A%20null%2C%20%22fill%22%3A%20true%2C%20%22fillColor%22%3A%20%22%238000ff%22%2C%20%22fillOpacity%22%3A%200.2%2C%20%22fillRule%22%3A%20%22evenodd%22%2C%20%22lineCap%22%3A%20%22round%22%2C%20%22lineJoin%22%3A%20%22round%22%2C%20%22opacity%22%3A%201.0%2C%20%22radius%22%3A%205%2C%20%22stroke%22%3A%20true%2C%20%22weight%22%3A%203%7D%0A%20%20%20%20%20%20%20%20%20%20%20%20%29.addTo%28map_3ae3141edd8f4491b014bec87d5e8f6c%29%3B%0A%20%20%20%20%20%20%20%20%0A%20%20%20%20%0A%20%20%20%20%20%20%20%20var%20popup_3658d05dc525484e9952ac3c0a23d773%20%3D%20L.popup%28%7B%22maxWidth%22%3A%20%22100%25%22%7D%29%3B%0A%0A%20%20%20%20%20%20%20%20%0A%20%20%20%20%20%20%20%20%20%20%20%20var%20html_f8b91147719e4531bbb4f9df29e5a4fd%20%3D%20%24%28%60%3Cdiv%20id%3D%22html_f8b91147719e4531bbb4f9df29e5a4fd%22%20style%3D%22width%3A%20100.0%25%3B%20height%3A%20100.0%25%3B%22%3ECluster%202%20University%20of%20Toronto%2C%20Harbord%3C/div%3E%60%29%5B0%5D%3B%0A%20%20%20%20%20%20%20%20%20%20%20%20popup_3658d05dc525484e9952ac3c0a23d773.setContent%28html_f8b91147719e4531bbb4f9df29e5a4fd%29%3B%0A%20%20%20%20%20%20%20%20%0A%0A%20%20%20%20%20%20%20%20circle_marker_1f595f1ca3df46658ee0aa274b8738b9.bindPopup%28popup_3658d05dc525484e9952ac3c0a23d773%29%0A%20%20%20%20%20%20%20%20%3B%0A%0A%20%20%20%20%20%20%20%20%0A%20%20%20%20%0A%20%20%20%20%0A%20%20%20%20%20%20%20%20%20%20%20%20var%20circle_marker_649c5327f9ae40229deb29167d427d56%20%3D%20L.circleMarker%28%0A%20%20%20%20%20%20%20%20%20%20%20%20%20%20%20%20%5B43.6515706%2C%20-79.4844499%5D%2C%0A%20%20%20%20%20%20%20%20%20%20%20%20%20%20%20%20%7B%22bubblingMouseEvents%22%3A%20true%2C%20%22color%22%3A%20%22%238000ff%22%2C%20%22dashArray%22%3A%20null%2C%20%22dashOffset%22%3A%20null%2C%20%22fill%22%3A%20true%2C%20%22fillColor%22%3A%20%22%238000ff%22%2C%20%22fillOpacity%22%3A%200.2%2C%20%22fillRule%22%3A%20%22evenodd%22%2C%20%22lineCap%22%3A%20%22round%22%2C%20%22lineJoin%22%3A%20%22round%22%2C%20%22opacity%22%3A%201.0%2C%20%22radius%22%3A%205%2C%20%22stroke%22%3A%20true%2C%20%22weight%22%3A%203%7D%0A%20%20%20%20%20%20%20%20%20%20%20%20%29.addTo%28map_3ae3141edd8f4491b014bec87d5e8f6c%29%3B%0A%20%20%20%20%20%20%20%20%0A%20%20%20%20%0A%20%20%20%20%20%20%20%20var%20popup_bb54825ec86a4e09a1605d73b7147013%20%3D%20L.popup%28%7B%22maxWidth%22%3A%20%22100%25%22%7D%29%3B%0A%0A%20%20%20%20%20%20%20%20%0A%20%20%20%20%20%20%20%20%20%20%20%20var%20html_3c895b22c189477a8a2476c8ca0e4307%20%3D%20%24%28%60%3Cdiv%20id%3D%22html_3c895b22c189477a8a2476c8ca0e4307%22%20style%3D%22width%3A%20100.0%25%3B%20height%3A%20100.0%25%3B%22%3ECluster%202%20Runnymede%2C%20Swansea%3C/div%3E%60%29%5B0%5D%3B%0A%20%20%20%20%20%20%20%20%20%20%20%20popup_bb54825ec86a4e09a1605d73b7147013.setContent%28html_3c895b22c189477a8a2476c8ca0e4307%29%3B%0A%20%20%20%20%20%20%20%20%0A%0A%20%20%20%20%20%20%20%20circle_marker_649c5327f9ae40229deb29167d427d56.bindPopup%28popup_bb54825ec86a4e09a1605d73b7147013%29%0A%20%20%20%20%20%20%20%20%3B%0A%0A%20%20%20%20%20%20%20%20%0A%20%20%20%20%0A%20%20%20%20%0A%20%20%20%20%20%20%20%20%20%20%20%20var%20circle_marker_5fde8ce8d2564bafa800b1dde4fdce46%20%3D%20L.circleMarker%28%0A%20%20%20%20%20%20%20%20%20%20%20%20%20%20%20%20%5B43.7816375%2C%20-79.3043021%5D%2C%0A%20%20%20%20%20%20%20%20%20%20%20%20%20%20%20%20%7B%22bubblingMouseEvents%22%3A%20true%2C%20%22color%22%3A%20%22%238000ff%22%2C%20%22dashArray%22%3A%20null%2C%20%22dashOffset%22%3A%20null%2C%20%22fill%22%3A%20true%2C%20%22fillColor%22%3A%20%22%238000ff%22%2C%20%22fillOpacity%22%3A%200.2%2C%20%22fillRule%22%3A%20%22evenodd%22%2C%20%22lineCap%22%3A%20%22round%22%2C%20%22lineJoin%22%3A%20%22round%22%2C%20%22opacity%22%3A%201.0%2C%20%22radius%22%3A%205%2C%20%22stroke%22%3A%20true%2C%20%22weight%22%3A%203%7D%0A%20%20%20%20%20%20%20%20%20%20%20%20%29.addTo%28map_3ae3141edd8f4491b014bec87d5e8f6c%29%3B%0A%20%20%20%20%20%20%20%20%0A%20%20%20%20%0A%20%20%20%20%20%20%20%20var%20popup_dc26f7b6e92546a1a962ba6f28e41a2c%20%3D%20L.popup%28%7B%22maxWidth%22%3A%20%22100%25%22%7D%29%3B%0A%0A%20%20%20%20%20%20%20%20%0A%20%20%20%20%20%20%20%20%20%20%20%20var%20html_2f3426ab0d0d4828aac82e0877d8af62%20%3D%20%24%28%60%3Cdiv%20id%3D%22html_2f3426ab0d0d4828aac82e0877d8af62%22%20style%3D%22width%3A%20100.0%25%3B%20height%3A%20100.0%25%3B%22%3ECluster%202%20Clarks%20Corners%2C%20Tam%20O%26%2339%3BShanter%2C%20Sullivan%3C/div%3E%60%29%5B0%5D%3B%0A%20%20%20%20%20%20%20%20%20%20%20%20popup_dc26f7b6e92546a1a962ba6f28e41a2c.setContent%28html_2f3426ab0d0d4828aac82e0877d8af62%29%3B%0A%20%20%20%20%20%20%20%20%0A%0A%20%20%20%20%20%20%20%20circle_marker_5fde8ce8d2564bafa800b1dde4fdce46.bindPopup%28popup_dc26f7b6e92546a1a962ba6f28e41a2c%29%0A%20%20%20%20%20%20%20%20%3B%0A%0A%20%20%20%20%20%20%20%20%0A%20%20%20%20%0A%20%20%20%20%0A%20%20%20%20%20%20%20%20%20%20%20%20var%20circle_marker_f695ba5bd3fb401aa4bfd33204555390%20%3D%20L.circleMarker%28%0A%20%20%20%20%20%20%20%20%20%20%20%20%20%20%20%20%5B43.6895743%2C%20-79.38315990000001%5D%2C%0A%20%20%20%20%20%20%20%20%20%20%20%20%20%20%20%20%7B%22bubblingMouseEvents%22%3A%20true%2C%20%22color%22%3A%20%22%2300b5eb%22%2C%20%22dashArray%22%3A%20null%2C%20%22dashOffset%22%3A%20null%2C%20%22fill%22%3A%20true%2C%20%22fillColor%22%3A%20%22%2300b5eb%22%2C%20%22fillOpacity%22%3A%200.2%2C%20%22fillRule%22%3A%20%22evenodd%22%2C%20%22lineCap%22%3A%20%22round%22%2C%20%22lineJoin%22%3A%20%22round%22%2C%20%22opacity%22%3A%201.0%2C%20%22radius%22%3A%205%2C%20%22stroke%22%3A%20true%2C%20%22weight%22%3A%203%7D%0A%20%20%20%20%20%20%20%20%20%20%20%20%29.addTo%28map_3ae3141edd8f4491b014bec87d5e8f6c%29%3B%0A%20%20%20%20%20%20%20%20%0A%20%20%20%20%0A%20%20%20%20%20%20%20%20var%20popup_10a6cf4136634e4aad1709008adce26e%20%3D%20L.popup%28%7B%22maxWidth%22%3A%20%22100%25%22%7D%29%3B%0A%0A%20%20%20%20%20%20%20%20%0A%20%20%20%20%20%20%20%20%20%20%20%20var%20html_350884133f084fdcbb9e34528fe030a2%20%3D%20%24%28%60%3Cdiv%20id%3D%22html_350884133f084fdcbb9e34528fe030a2%22%20style%3D%22width%3A%20100.0%25%3B%20height%3A%20100.0%25%3B%22%3ECluster%203%20Moore%20Park%2C%20Summerhill%20East%3C/div%3E%60%29%5B0%5D%3B%0A%20%20%20%20%20%20%20%20%20%20%20%20popup_10a6cf4136634e4aad1709008adce26e.setContent%28html_350884133f084fdcbb9e34528fe030a2%29%3B%0A%20%20%20%20%20%20%20%20%0A%0A%20%20%20%20%20%20%20%20circle_marker_f695ba5bd3fb401aa4bfd33204555390.bindPopup%28popup_10a6cf4136634e4aad1709008adce26e%29%0A%20%20%20%20%20%20%20%20%3B%0A%0A%20%20%20%20%20%20%20%20%0A%20%20%20%20%0A%20%20%20%20%0A%20%20%20%20%20%20%20%20%20%20%20%20var%20circle_marker_4daa397aa6774c839a1c1f77fcac36dd%20%3D%20L.circleMarker%28%0A%20%20%20%20%20%20%20%20%20%20%20%20%20%20%20%20%5B43.6532057%2C%20-79.4000493%5D%2C%0A%20%20%20%20%20%20%20%20%20%20%20%20%20%20%20%20%7B%22bubblingMouseEvents%22%3A%20true%2C%20%22color%22%3A%20%22%238000ff%22%2C%20%22dashArray%22%3A%20null%2C%20%22dashOffset%22%3A%20null%2C%20%22fill%22%3A%20true%2C%20%22fillColor%22%3A%20%22%238000ff%22%2C%20%22fillOpacity%22%3A%200.2%2C%20%22fillRule%22%3A%20%22evenodd%22%2C%20%22lineCap%22%3A%20%22round%22%2C%20%22lineJoin%22%3A%20%22round%22%2C%20%22opacity%22%3A%201.0%2C%20%22radius%22%3A%205%2C%20%22stroke%22%3A%20true%2C%20%22weight%22%3A%203%7D%0A%20%20%20%20%20%20%20%20%20%20%20%20%29.addTo%28map_3ae3141edd8f4491b014bec87d5e8f6c%29%3B%0A%20%20%20%20%20%20%20%20%0A%20%20%20%20%0A%20%20%20%20%20%20%20%20var%20popup_1555ba6bb3e945828352a400ebc9df8f%20%3D%20L.popup%28%7B%22maxWidth%22%3A%20%22100%25%22%7D%29%3B%0A%0A%20%20%20%20%20%20%20%20%0A%20%20%20%20%20%20%20%20%20%20%20%20var%20html_677e945cf86745989d3229d9ffbfc071%20%3D%20%24%28%60%3Cdiv%20id%3D%22html_677e945cf86745989d3229d9ffbfc071%22%20style%3D%22width%3A%20100.0%25%3B%20height%3A%20100.0%25%3B%22%3ECluster%202%20Kensington%20Market%2C%20Chinatown%2C%20Grange%20Park%3C/div%3E%60%29%5B0%5D%3B%0A%20%20%20%20%20%20%20%20%20%20%20%20popup_1555ba6bb3e945828352a400ebc9df8f.setContent%28html_677e945cf86745989d3229d9ffbfc071%29%3B%0A%20%20%20%20%20%20%20%20%0A%0A%20%20%20%20%20%20%20%20circle_marker_4daa397aa6774c839a1c1f77fcac36dd.bindPopup%28popup_1555ba6bb3e945828352a400ebc9df8f%29%0A%20%20%20%20%20%20%20%20%3B%0A%0A%20%20%20%20%20%20%20%20%0A%20%20%20%20%0A%20%20%20%20%0A%20%20%20%20%20%20%20%20%20%20%20%20var%20circle_marker_271a347129694bbf99620c793fc1abe1%20%3D%20L.circleMarker%28%0A%20%20%20%20%20%20%20%20%20%20%20%20%20%20%20%20%5B43.8152522%2C%20-79.2845772%5D%2C%0A%20%20%20%20%20%20%20%20%20%20%20%20%20%20%20%20%7B%22bubblingMouseEvents%22%3A%20true%2C%20%22color%22%3A%20%22%23ff0000%22%2C%20%22dashArray%22%3A%20null%2C%20%22dashOffset%22%3A%20null%2C%20%22fill%22%3A%20true%2C%20%22fillColor%22%3A%20%22%23ff0000%22%2C%20%22fillOpacity%22%3A%200.2%2C%20%22fillRule%22%3A%20%22evenodd%22%2C%20%22lineCap%22%3A%20%22round%22%2C%20%22lineJoin%22%3A%20%22round%22%2C%20%22opacity%22%3A%201.0%2C%20%22radius%22%3A%205%2C%20%22stroke%22%3A%20true%2C%20%22weight%22%3A%203%7D%0A%20%20%20%20%20%20%20%20%20%20%20%20%29.addTo%28map_3ae3141edd8f4491b014bec87d5e8f6c%29%3B%0A%20%20%20%20%20%20%20%20%0A%20%20%20%20%0A%20%20%20%20%20%20%20%20var%20popup_dfc2d6b1ffa94d5f9f3d0908d9ce3ca1%20%3D%20L.popup%28%7B%22maxWidth%22%3A%20%22100%25%22%7D%29%3B%0A%0A%20%20%20%20%20%20%20%20%0A%20%20%20%20%20%20%20%20%20%20%20%20var%20html_fb4a182ed9974c70989ff8db8ebc6b88%20%3D%20%24%28%60%3Cdiv%20id%3D%22html_fb4a182ed9974c70989ff8db8ebc6b88%22%20style%3D%22width%3A%20100.0%25%3B%20height%3A%20100.0%25%3B%22%3ECluster%201%20Milliken%2C%20Agincourt%20North%2C%20Steeles%20East%2C%20L%26%2339%3BAmoreaux%20East%3C/div%3E%60%29%5B0%5D%3B%0A%20%20%20%20%20%20%20%20%20%20%20%20popup_dfc2d6b1ffa94d5f9f3d0908d9ce3ca1.setContent%28html_fb4a182ed9974c70989ff8db8ebc6b88%29%3B%0A%20%20%20%20%20%20%20%20%0A%0A%20%20%20%20%20%20%20%20circle_marker_271a347129694bbf99620c793fc1abe1.bindPopup%28popup_dfc2d6b1ffa94d5f9f3d0908d9ce3ca1%29%0A%20%20%20%20%20%20%20%20%3B%0A%0A%20%20%20%20%20%20%20%20%0A%20%20%20%20%0A%20%20%20%20%0A%20%20%20%20%20%20%20%20%20%20%20%20var%20circle_marker_0de68dcae8314eac938effecc4fe2cd7%20%3D%20L.circleMarker%28%0A%20%20%20%20%20%20%20%20%20%20%20%20%20%20%20%20%5B43.68641229999999%2C%20-79.4000493%5D%2C%0A%20%20%20%20%20%20%20%20%20%20%20%20%20%20%20%20%7B%22bubblingMouseEvents%22%3A%20true%2C%20%22color%22%3A%20%22%238000ff%22%2C%20%22dashArray%22%3A%20null%2C%20%22dashOffset%22%3A%20null%2C%20%22fill%22%3A%20true%2C%20%22fillColor%22%3A%20%22%238000ff%22%2C%20%22fillOpacity%22%3A%200.2%2C%20%22fillRule%22%3A%20%22evenodd%22%2C%20%22lineCap%22%3A%20%22round%22%2C%20%22lineJoin%22%3A%20%22round%22%2C%20%22opacity%22%3A%201.0%2C%20%22radius%22%3A%205%2C%20%22stroke%22%3A%20true%2C%20%22weight%22%3A%203%7D%0A%20%20%20%20%20%20%20%20%20%20%20%20%29.addTo%28map_3ae3141edd8f4491b014bec87d5e8f6c%29%3B%0A%20%20%20%20%20%20%20%20%0A%20%20%20%20%0A%20%20%20%20%20%20%20%20var%20popup_c4c980288fad45e3b20f71b31d6bb31b%20%3D%20L.popup%28%7B%22maxWidth%22%3A%20%22100%25%22%7D%29%3B%0A%0A%20%20%20%20%20%20%20%20%0A%20%20%20%20%20%20%20%20%20%20%20%20var%20html_485796b95f9d4587add65fdca7c735a8%20%3D%20%24%28%60%3Cdiv%20id%3D%22html_485796b95f9d4587add65fdca7c735a8%22%20style%3D%22width%3A%20100.0%25%3B%20height%3A%20100.0%25%3B%22%3ECluster%202%20Summerhill%20West%2C%20Rathnelly%2C%20South%20Hill%2C%20Forest%20Hill%20SE%2C%20Deer%20Park%3C/div%3E%60%29%5B0%5D%3B%0A%20%20%20%20%20%20%20%20%20%20%20%20popup_c4c980288fad45e3b20f71b31d6bb31b.setContent%28html_485796b95f9d4587add65fdca7c735a8%29%3B%0A%20%20%20%20%20%20%20%20%0A%0A%20%20%20%20%20%20%20%20circle_marker_0de68dcae8314eac938effecc4fe2cd7.bindPopup%28popup_c4c980288fad45e3b20f71b31d6bb31b%29%0A%20%20%20%20%20%20%20%20%3B%0A%0A%20%20%20%20%20%20%20%20%0A%20%20%20%20%0A%20%20%20%20%0A%20%20%20%20%20%20%20%20%20%20%20%20var%20circle_marker_dc84795b32dd4e57a381e3becf375570%20%3D%20L.circleMarker%28%0A%20%20%20%20%20%20%20%20%20%20%20%20%20%20%20%20%5B43.6289467%2C%20-79.3944199%5D%2C%0A%20%20%20%20%20%20%20%20%20%20%20%20%20%20%20%20%7B%22bubblingMouseEvents%22%3A%20true%2C%20%22color%22%3A%20%22%238000ff%22%2C%20%22dashArray%22%3A%20null%2C%20%22dashOffset%22%3A%20null%2C%20%22fill%22%3A%20true%2C%20%22fillColor%22%3A%20%22%238000ff%22%2C%20%22fillOpacity%22%3A%200.2%2C%20%22fillRule%22%3A%20%22evenodd%22%2C%20%22lineCap%22%3A%20%22round%22%2C%20%22lineJoin%22%3A%20%22round%22%2C%20%22opacity%22%3A%201.0%2C%20%22radius%22%3A%205%2C%20%22stroke%22%3A%20true%2C%20%22weight%22%3A%203%7D%0A%20%20%20%20%20%20%20%20%20%20%20%20%29.addTo%28map_3ae3141edd8f4491b014bec87d5e8f6c%29%3B%0A%20%20%20%20%20%20%20%20%0A%20%20%20%20%0A%20%20%20%20%20%20%20%20var%20popup_a706bfe08e024ba0b6c8f653e621d648%20%3D%20L.popup%28%7B%22maxWidth%22%3A%20%22100%25%22%7D%29%3B%0A%0A%20%20%20%20%20%20%20%20%0A%20%20%20%20%20%20%20%20%20%20%20%20var%20html_ddf13f8596aa443fb00e489c2f90a133%20%3D%20%24%28%60%3Cdiv%20id%3D%22html_ddf13f8596aa443fb00e489c2f90a133%22%20style%3D%22width%3A%20100.0%25%3B%20height%3A%20100.0%25%3B%22%3ECluster%202%20CN%20Tower%2C%20King%20and%20Spadina%2C%20Railway%20Lands%2C%20Harbourfront%20West%2C%20Bathurst%20Quay%2C%20South%20Niagara%2C%20Island%20airport%3C/div%3E%60%29%5B0%5D%3B%0A%20%20%20%20%20%20%20%20%20%20%20%20popup_a706bfe08e024ba0b6c8f653e621d648.setContent%28html_ddf13f8596aa443fb00e489c2f90a133%29%3B%0A%20%20%20%20%20%20%20%20%0A%0A%20%20%20%20%20%20%20%20circle_marker_dc84795b32dd4e57a381e3becf375570.bindPopup%28popup_a706bfe08e024ba0b6c8f653e621d648%29%0A%20%20%20%20%20%20%20%20%3B%0A%0A%20%20%20%20%20%20%20%20%0A%20%20%20%20%0A%20%20%20%20%0A%20%20%20%20%20%20%20%20%20%20%20%20var%20circle_marker_85e2ebfc8bcb4ffa8a2bad1aef8f5993%20%3D%20L.circleMarker%28%0A%20%20%20%20%20%20%20%20%20%20%20%20%20%20%20%20%5B43.6056466%2C%20-79.50132070000001%5D%2C%0A%20%20%20%20%20%20%20%20%20%20%20%20%20%20%20%20%7B%22bubblingMouseEvents%22%3A%20true%2C%20%22color%22%3A%20%22%238000ff%22%2C%20%22dashArray%22%3A%20null%2C%20%22dashOffset%22%3A%20null%2C%20%22fill%22%3A%20true%2C%20%22fillColor%22%3A%20%22%238000ff%22%2C%20%22fillOpacity%22%3A%200.2%2C%20%22fillRule%22%3A%20%22evenodd%22%2C%20%22lineCap%22%3A%20%22round%22%2C%20%22lineJoin%22%3A%20%22round%22%2C%20%22opacity%22%3A%201.0%2C%20%22radius%22%3A%205%2C%20%22stroke%22%3A%20true%2C%20%22weight%22%3A%203%7D%0A%20%20%20%20%20%20%20%20%20%20%20%20%29.addTo%28map_3ae3141edd8f4491b014bec87d5e8f6c%29%3B%0A%20%20%20%20%20%20%20%20%0A%20%20%20%20%0A%20%20%20%20%20%20%20%20var%20popup_575cd023690c436b8e60bb3fc361cb70%20%3D%20L.popup%28%7B%22maxWidth%22%3A%20%22100%25%22%7D%29%3B%0A%0A%20%20%20%20%20%20%20%20%0A%20%20%20%20%20%20%20%20%20%20%20%20var%20html_9189682306bc4fd3bbbfe07bba7ec8b0%20%3D%20%24%28%60%3Cdiv%20id%3D%22html_9189682306bc4fd3bbbfe07bba7ec8b0%22%20style%3D%22width%3A%20100.0%25%3B%20height%3A%20100.0%25%3B%22%3ECluster%202%20New%20Toronto%2C%20Mimico%20South%2C%20Humber%20Bay%20Shores%3C/div%3E%60%29%5B0%5D%3B%0A%20%20%20%20%20%20%20%20%20%20%20%20popup_575cd023690c436b8e60bb3fc361cb70.setContent%28html_9189682306bc4fd3bbbfe07bba7ec8b0%29%3B%0A%20%20%20%20%20%20%20%20%0A%0A%20%20%20%20%20%20%20%20circle_marker_85e2ebfc8bcb4ffa8a2bad1aef8f5993.bindPopup%28popup_575cd023690c436b8e60bb3fc361cb70%29%0A%20%20%20%20%20%20%20%20%3B%0A%0A%20%20%20%20%20%20%20%20%0A%20%20%20%20%0A%20%20%20%20%0A%20%20%20%20%20%20%20%20%20%20%20%20var%20circle_marker_ceec07383b564e84b0b61daa51db9250%20%3D%20L.circleMarker%28%0A%20%20%20%20%20%20%20%20%20%20%20%20%20%20%20%20%5B43.739416399999996%2C%20-79.5884369%5D%2C%0A%20%20%20%20%20%20%20%20%20%20%20%20%20%20%20%20%7B%22bubblingMouseEvents%22%3A%20true%2C%20%22color%22%3A%20%22%238000ff%22%2C%20%22dashArray%22%3A%20null%2C%20%22dashOffset%22%3A%20null%2C%20%22fill%22%3A%20true%2C%20%22fillColor%22%3A%20%22%238000ff%22%2C%20%22fillOpacity%22%3A%200.2%2C%20%22fillRule%22%3A%20%22evenodd%22%2C%20%22lineCap%22%3A%20%22round%22%2C%20%22lineJoin%22%3A%20%22round%22%2C%20%22opacity%22%3A%201.0%2C%20%22radius%22%3A%205%2C%20%22stroke%22%3A%20true%2C%20%22weight%22%3A%203%7D%0A%20%20%20%20%20%20%20%20%20%20%20%20%29.addTo%28map_3ae3141edd8f4491b014bec87d5e8f6c%29%3B%0A%20%20%20%20%20%20%20%20%0A%20%20%20%20%0A%20%20%20%20%20%20%20%20var%20popup_6c2034b1f6e5485a935c2dddb88e614e%20%3D%20L.popup%28%7B%22maxWidth%22%3A%20%22100%25%22%7D%29%3B%0A%0A%20%20%20%20%20%20%20%20%0A%20%20%20%20%20%20%20%20%20%20%20%20var%20html_0f5a5a95ae424751bc2253297e4320e5%20%3D%20%24%28%60%3Cdiv%20id%3D%22html_0f5a5a95ae424751bc2253297e4320e5%22%20style%3D%22width%3A%20100.0%25%3B%20height%3A%20100.0%25%3B%22%3ECluster%202%20South%20Steeles%2C%20Silverstone%2C%20Humbergate%2C%20Jamestown%2C%20Mount%20Olive%2C%20Beaumond%20Heights%2C%20Thistletown%2C%20Albion%20Gardens%3C/div%3E%60%29%5B0%5D%3B%0A%20%20%20%20%20%20%20%20%20%20%20%20popup_6c2034b1f6e5485a935c2dddb88e614e.setContent%28html_0f5a5a95ae424751bc2253297e4320e5%29%3B%0A%20%20%20%20%20%20%20%20%0A%0A%20%20%20%20%20%20%20%20circle_marker_ceec07383b564e84b0b61daa51db9250.bindPopup%28popup_6c2034b1f6e5485a935c2dddb88e614e%29%0A%20%20%20%20%20%20%20%20%3B%0A%0A%20%20%20%20%20%20%20%20%0A%20%20%20%20%0A%20%20%20%20%0A%20%20%20%20%20%20%20%20%20%20%20%20var%20circle_marker_12309b0011544e338a9f8cadcb5e416a%20%3D%20L.circleMarker%28%0A%20%20%20%20%20%20%20%20%20%20%20%20%20%20%20%20%5B43.799525200000005%2C%20-79.3183887%5D%2C%0A%20%20%20%20%20%20%20%20%20%20%20%20%20%20%20%20%7B%22bubblingMouseEvents%22%3A%20true%2C%20%22color%22%3A%20%22%238000ff%22%2C%20%22dashArray%22%3A%20null%2C%20%22dashOffset%22%3A%20null%2C%20%22fill%22%3A%20true%2C%20%22fillColor%22%3A%20%22%238000ff%22%2C%20%22fillOpacity%22%3A%200.2%2C%20%22fillRule%22%3A%20%22evenodd%22%2C%20%22lineCap%22%3A%20%22round%22%2C%20%22lineJoin%22%3A%20%22round%22%2C%20%22opacity%22%3A%201.0%2C%20%22radius%22%3A%205%2C%20%22stroke%22%3A%20true%2C%20%22weight%22%3A%203%7D%0A%20%20%20%20%20%20%20%20%20%20%20%20%29.addTo%28map_3ae3141edd8f4491b014bec87d5e8f6c%29%3B%0A%20%20%20%20%20%20%20%20%0A%20%20%20%20%0A%20%20%20%20%20%20%20%20var%20popup_26b6498903e54c1a90b496a36da908e3%20%3D%20L.popup%28%7B%22maxWidth%22%3A%20%22100%25%22%7D%29%3B%0A%0A%20%20%20%20%20%20%20%20%0A%20%20%20%20%20%20%20%20%20%20%20%20var%20html_84b49cf666cd4e769bbe73e94d0020bb%20%3D%20%24%28%60%3Cdiv%20id%3D%22html_84b49cf666cd4e769bbe73e94d0020bb%22%20style%3D%22width%3A%20100.0%25%3B%20height%3A%20100.0%25%3B%22%3ECluster%202%20Steeles%20West%2C%20L%26%2339%3BAmoreaux%20West%3C/div%3E%60%29%5B0%5D%3B%0A%20%20%20%20%20%20%20%20%20%20%20%20popup_26b6498903e54c1a90b496a36da908e3.setContent%28html_84b49cf666cd4e769bbe73e94d0020bb%29%3B%0A%20%20%20%20%20%20%20%20%0A%0A%20%20%20%20%20%20%20%20circle_marker_12309b0011544e338a9f8cadcb5e416a.bindPopup%28popup_26b6498903e54c1a90b496a36da908e3%29%0A%20%20%20%20%20%20%20%20%3B%0A%0A%20%20%20%20%20%20%20%20%0A%20%20%20%20%0A%20%20%20%20%0A%20%20%20%20%20%20%20%20%20%20%20%20var%20circle_marker_e00b56cbd07b4857bbe0e60944c537e0%20%3D%20L.circleMarker%28%0A%20%20%20%20%20%20%20%20%20%20%20%20%20%20%20%20%5B43.6795626%2C%20-79.37752940000001%5D%2C%0A%20%20%20%20%20%20%20%20%20%20%20%20%20%20%20%20%7B%22bubblingMouseEvents%22%3A%20true%2C%20%22color%22%3A%20%22%23ff0000%22%2C%20%22dashArray%22%3A%20null%2C%20%22dashOffset%22%3A%20null%2C%20%22fill%22%3A%20true%2C%20%22fillColor%22%3A%20%22%23ff0000%22%2C%20%22fillOpacity%22%3A%200.2%2C%20%22fillRule%22%3A%20%22evenodd%22%2C%20%22lineCap%22%3A%20%22round%22%2C%20%22lineJoin%22%3A%20%22round%22%2C%20%22opacity%22%3A%201.0%2C%20%22radius%22%3A%205%2C%20%22stroke%22%3A%20true%2C%20%22weight%22%3A%203%7D%0A%20%20%20%20%20%20%20%20%20%20%20%20%29.addTo%28map_3ae3141edd8f4491b014bec87d5e8f6c%29%3B%0A%20%20%20%20%20%20%20%20%0A%20%20%20%20%0A%20%20%20%20%20%20%20%20var%20popup_9530d8e30d794504bc1f18bf6d2dae1c%20%3D%20L.popup%28%7B%22maxWidth%22%3A%20%22100%25%22%7D%29%3B%0A%0A%20%20%20%20%20%20%20%20%0A%20%20%20%20%20%20%20%20%20%20%20%20var%20html_0c414eb549804382891f946ee77d28a5%20%3D%20%24%28%60%3Cdiv%20id%3D%22html_0c414eb549804382891f946ee77d28a5%22%20style%3D%22width%3A%20100.0%25%3B%20height%3A%20100.0%25%3B%22%3ECluster%201%20Rosedale%3C/div%3E%60%29%5B0%5D%3B%0A%20%20%20%20%20%20%20%20%20%20%20%20popup_9530d8e30d794504bc1f18bf6d2dae1c.setContent%28html_0c414eb549804382891f946ee77d28a5%29%3B%0A%20%20%20%20%20%20%20%20%0A%0A%20%20%20%20%20%20%20%20circle_marker_e00b56cbd07b4857bbe0e60944c537e0.bindPopup%28popup_9530d8e30d794504bc1f18bf6d2dae1c%29%0A%20%20%20%20%20%20%20%20%3B%0A%0A%20%20%20%20%20%20%20%20%0A%20%20%20%20%0A%20%20%20%20%0A%20%20%20%20%20%20%20%20%20%20%20%20var%20circle_marker_b24e7446d33e40b6a8a0e534e3b3a88f%20%3D%20L.circleMarker%28%0A%20%20%20%20%20%20%20%20%20%20%20%20%20%20%20%20%5B43.6464352%2C%20-79.37484599999999%5D%2C%0A%20%20%20%20%20%20%20%20%20%20%20%20%20%20%20%20%7B%22bubblingMouseEvents%22%3A%20true%2C%20%22color%22%3A%20%22%238000ff%22%2C%20%22dashArray%22%3A%20null%2C%20%22dashOffset%22%3A%20null%2C%20%22fill%22%3A%20true%2C%20%22fillColor%22%3A%20%22%238000ff%22%2C%20%22fillOpacity%22%3A%200.2%2C%20%22fillRule%22%3A%20%22evenodd%22%2C%20%22lineCap%22%3A%20%22round%22%2C%20%22lineJoin%22%3A%20%22round%22%2C%20%22opacity%22%3A%201.0%2C%20%22radius%22%3A%205%2C%20%22stroke%22%3A%20true%2C%20%22weight%22%3A%203%7D%0A%20%20%20%20%20%20%20%20%20%20%20%20%29.addTo%28map_3ae3141edd8f4491b014bec87d5e8f6c%29%3B%0A%20%20%20%20%20%20%20%20%0A%20%20%20%20%0A%20%20%20%20%20%20%20%20var%20popup_731be3f357e94c3089f8467c9b9e9126%20%3D%20L.popup%28%7B%22maxWidth%22%3A%20%22100%25%22%7D%29%3B%0A%0A%20%20%20%20%20%20%20%20%0A%20%20%20%20%20%20%20%20%20%20%20%20var%20html_17f71824f8f04b63975afc28d3bb24d5%20%3D%20%24%28%60%3Cdiv%20id%3D%22html_17f71824f8f04b63975afc28d3bb24d5%22%20style%3D%22width%3A%20100.0%25%3B%20height%3A%20100.0%25%3B%22%3ECluster%202%20Stn%20A%20PO%20Boxes%3C/div%3E%60%29%5B0%5D%3B%0A%20%20%20%20%20%20%20%20%20%20%20%20popup_731be3f357e94c3089f8467c9b9e9126.setContent%28html_17f71824f8f04b63975afc28d3bb24d5%29%3B%0A%20%20%20%20%20%20%20%20%0A%0A%20%20%20%20%20%20%20%20circle_marker_b24e7446d33e40b6a8a0e534e3b3a88f.bindPopup%28popup_731be3f357e94c3089f8467c9b9e9126%29%0A%20%20%20%20%20%20%20%20%3B%0A%0A%20%20%20%20%20%20%20%20%0A%20%20%20%20%0A%20%20%20%20%0A%20%20%20%20%20%20%20%20%20%20%20%20var%20circle_marker_607eec4cd7bb4f729df9950d2636d551%20%3D%20L.circleMarker%28%0A%20%20%20%20%20%20%20%20%20%20%20%20%20%20%20%20%5B43.60241370000001%2C%20-79.54348409999999%5D%2C%0A%20%20%20%20%20%20%20%20%20%20%20%20%20%20%20%20%7B%22bubblingMouseEvents%22%3A%20true%2C%20%22color%22%3A%20%22%238000ff%22%2C%20%22dashArray%22%3A%20null%2C%20%22dashOffset%22%3A%20null%2C%20%22fill%22%3A%20true%2C%20%22fillColor%22%3A%20%22%238000ff%22%2C%20%22fillOpacity%22%3A%200.2%2C%20%22fillRule%22%3A%20%22evenodd%22%2C%20%22lineCap%22%3A%20%22round%22%2C%20%22lineJoin%22%3A%20%22round%22%2C%20%22opacity%22%3A%201.0%2C%20%22radius%22%3A%205%2C%20%22stroke%22%3A%20true%2C%20%22weight%22%3A%203%7D%0A%20%20%20%20%20%20%20%20%20%20%20%20%29.addTo%28map_3ae3141edd8f4491b014bec87d5e8f6c%29%3B%0A%20%20%20%20%20%20%20%20%0A%20%20%20%20%0A%20%20%20%20%20%20%20%20var%20popup_3022b78c2d824e6bb4adbca9dcf41751%20%3D%20L.popup%28%7B%22maxWidth%22%3A%20%22100%25%22%7D%29%3B%0A%0A%20%20%20%20%20%20%20%20%0A%20%20%20%20%20%20%20%20%20%20%20%20var%20html_21914c3679814327b103c326a3224b46%20%3D%20%24%28%60%3Cdiv%20id%3D%22html_21914c3679814327b103c326a3224b46%22%20style%3D%22width%3A%20100.0%25%3B%20height%3A%20100.0%25%3B%22%3ECluster%202%20Alderwood%2C%20Long%20Branch%3C/div%3E%60%29%5B0%5D%3B%0A%20%20%20%20%20%20%20%20%20%20%20%20popup_3022b78c2d824e6bb4adbca9dcf41751.setContent%28html_21914c3679814327b103c326a3224b46%29%3B%0A%20%20%20%20%20%20%20%20%0A%0A%20%20%20%20%20%20%20%20circle_marker_607eec4cd7bb4f729df9950d2636d551.bindPopup%28popup_3022b78c2d824e6bb4adbca9dcf41751%29%0A%20%20%20%20%20%20%20%20%3B%0A%0A%20%20%20%20%20%20%20%20%0A%20%20%20%20%0A%20%20%20%20%0A%20%20%20%20%20%20%20%20%20%20%20%20var%20circle_marker_5dc40a7fc89d4a5983cd7eb2636aecbf%20%3D%20L.circleMarker%28%0A%20%20%20%20%20%20%20%20%20%20%20%20%20%20%20%20%5B43.706748299999994%2C%20-79.5940544%5D%2C%0A%20%20%20%20%20%20%20%20%20%20%20%20%20%20%20%20%7B%22bubblingMouseEvents%22%3A%20true%2C%20%22color%22%3A%20%22%238000ff%22%2C%20%22dashArray%22%3A%20null%2C%20%22dashOffset%22%3A%20null%2C%20%22fill%22%3A%20true%2C%20%22fillColor%22%3A%20%22%238000ff%22%2C%20%22fillOpacity%22%3A%200.2%2C%20%22fillRule%22%3A%20%22evenodd%22%2C%20%22lineCap%22%3A%20%22round%22%2C%20%22lineJoin%22%3A%20%22round%22%2C%20%22opacity%22%3A%201.0%2C%20%22radius%22%3A%205%2C%20%22stroke%22%3A%20true%2C%20%22weight%22%3A%203%7D%0A%20%20%20%20%20%20%20%20%20%20%20%20%29.addTo%28map_3ae3141edd8f4491b014bec87d5e8f6c%29%3B%0A%20%20%20%20%20%20%20%20%0A%20%20%20%20%0A%20%20%20%20%20%20%20%20var%20popup_9b5115355cb6415889b3dfa56fa34fb0%20%3D%20L.popup%28%7B%22maxWidth%22%3A%20%22100%25%22%7D%29%3B%0A%0A%20%20%20%20%20%20%20%20%0A%20%20%20%20%20%20%20%20%20%20%20%20var%20html_3c5195c9ead64a3c991b9033b9898358%20%3D%20%24%28%60%3Cdiv%20id%3D%22html_3c5195c9ead64a3c991b9033b9898358%22%20style%3D%22width%3A%20100.0%25%3B%20height%3A%20100.0%25%3B%22%3ECluster%202%20Northwest%2C%20West%20Humber%20-%20Clairville%3C/div%3E%60%29%5B0%5D%3B%0A%20%20%20%20%20%20%20%20%20%20%20%20popup_9b5115355cb6415889b3dfa56fa34fb0.setContent%28html_3c5195c9ead64a3c991b9033b9898358%29%3B%0A%20%20%20%20%20%20%20%20%0A%0A%20%20%20%20%20%20%20%20circle_marker_5dc40a7fc89d4a5983cd7eb2636aecbf.bindPopup%28popup_9b5115355cb6415889b3dfa56fa34fb0%29%0A%20%20%20%20%20%20%20%20%3B%0A%0A%20%20%20%20%20%20%20%20%0A%20%20%20%20%0A%20%20%20%20%0A%20%20%20%20%20%20%20%20%20%20%20%20var%20circle_marker_8441083b9b7546b7b332f0976b3f1076%20%3D%20L.circleMarker%28%0A%20%20%20%20%20%20%20%20%20%20%20%20%20%20%20%20%5B43.667967%2C%20-79.3676753%5D%2C%0A%20%20%20%20%20%20%20%20%20%20%20%20%20%20%20%20%7B%22bubblingMouseEvents%22%3A%20true%2C%20%22color%22%3A%20%22%238000ff%22%2C%20%22dashArray%22%3A%20null%2C%20%22dashOffset%22%3A%20null%2C%20%22fill%22%3A%20true%2C%20%22fillColor%22%3A%20%22%238000ff%22%2C%20%22fillOpacity%22%3A%200.2%2C%20%22fillRule%22%3A%20%22evenodd%22%2C%20%22lineCap%22%3A%20%22round%22%2C%20%22lineJoin%22%3A%20%22round%22%2C%20%22opacity%22%3A%201.0%2C%20%22radius%22%3A%205%2C%20%22stroke%22%3A%20true%2C%20%22weight%22%3A%203%7D%0A%20%20%20%20%20%20%20%20%20%20%20%20%29.addTo%28map_3ae3141edd8f4491b014bec87d5e8f6c%29%3B%0A%20%20%20%20%20%20%20%20%0A%20%20%20%20%0A%20%20%20%20%20%20%20%20var%20popup_87b36d54c79b4b6cbe79d563eeef700c%20%3D%20L.popup%28%7B%22maxWidth%22%3A%20%22100%25%22%7D%29%3B%0A%0A%20%20%20%20%20%20%20%20%0A%20%20%20%20%20%20%20%20%20%20%20%20var%20html_6174692994284f3ba80a6135beca059e%20%3D%20%24%28%60%3Cdiv%20id%3D%22html_6174692994284f3ba80a6135beca059e%22%20style%3D%22width%3A%20100.0%25%3B%20height%3A%20100.0%25%3B%22%3ECluster%202%20St.%20James%20Town%2C%20Cabbagetown%3C/div%3E%60%29%5B0%5D%3B%0A%20%20%20%20%20%20%20%20%20%20%20%20popup_87b36d54c79b4b6cbe79d563eeef700c.setContent%28html_6174692994284f3ba80a6135beca059e%29%3B%0A%20%20%20%20%20%20%20%20%0A%0A%20%20%20%20%20%20%20%20circle_marker_8441083b9b7546b7b332f0976b3f1076.bindPopup%28popup_87b36d54c79b4b6cbe79d563eeef700c%29%0A%20%20%20%20%20%20%20%20%3B%0A%0A%20%20%20%20%20%20%20%20%0A%20%20%20%20%0A%20%20%20%20%0A%20%20%20%20%20%20%20%20%20%20%20%20var%20circle_marker_bfe96af85dbf440ca2798cc0aeaeb811%20%3D%20L.circleMarker%28%0A%20%20%20%20%20%20%20%20%20%20%20%20%20%20%20%20%5B43.6484292%2C%20-79.3822802%5D%2C%0A%20%20%20%20%20%20%20%20%20%20%20%20%20%20%20%20%7B%22bubblingMouseEvents%22%3A%20true%2C%20%22color%22%3A%20%22%238000ff%22%2C%20%22dashArray%22%3A%20null%2C%20%22dashOffset%22%3A%20null%2C%20%22fill%22%3A%20true%2C%20%22fillColor%22%3A%20%22%238000ff%22%2C%20%22fillOpacity%22%3A%200.2%2C%20%22fillRule%22%3A%20%22evenodd%22%2C%20%22lineCap%22%3A%20%22round%22%2C%20%22lineJoin%22%3A%20%22round%22%2C%20%22opacity%22%3A%201.0%2C%20%22radius%22%3A%205%2C%20%22stroke%22%3A%20true%2C%20%22weight%22%3A%203%7D%0A%20%20%20%20%20%20%20%20%20%20%20%20%29.addTo%28map_3ae3141edd8f4491b014bec87d5e8f6c%29%3B%0A%20%20%20%20%20%20%20%20%0A%20%20%20%20%0A%20%20%20%20%20%20%20%20var%20popup_b2a9c68ac8fd4323834a8312fb3c6185%20%3D%20L.popup%28%7B%22maxWidth%22%3A%20%22100%25%22%7D%29%3B%0A%0A%20%20%20%20%20%20%20%20%0A%20%20%20%20%20%20%20%20%20%20%20%20var%20html_db10f122a0c24cafa1e94afec508a207%20%3D%20%24%28%60%3Cdiv%20id%3D%22html_db10f122a0c24cafa1e94afec508a207%22%20style%3D%22width%3A%20100.0%25%3B%20height%3A%20100.0%25%3B%22%3ECluster%202%20First%20Canadian%20Place%2C%20Underground%20city%3C/div%3E%60%29%5B0%5D%3B%0A%20%20%20%20%20%20%20%20%20%20%20%20popup_b2a9c68ac8fd4323834a8312fb3c6185.setContent%28html_db10f122a0c24cafa1e94afec508a207%29%3B%0A%20%20%20%20%20%20%20%20%0A%0A%20%20%20%20%20%20%20%20circle_marker_bfe96af85dbf440ca2798cc0aeaeb811.bindPopup%28popup_b2a9c68ac8fd4323834a8312fb3c6185%29%0A%20%20%20%20%20%20%20%20%3B%0A%0A%20%20%20%20%20%20%20%20%0A%20%20%20%20%0A%20%20%20%20%0A%20%20%20%20%20%20%20%20%20%20%20%20var%20circle_marker_3acd308b32c341fa8c06da5896df3a15%20%3D%20L.circleMarker%28%0A%20%20%20%20%20%20%20%20%20%20%20%20%20%20%20%20%5B43.653653600000005%2C%20-79.5069436%5D%2C%0A%20%20%20%20%20%20%20%20%20%20%20%20%20%20%20%20%7B%22bubblingMouseEvents%22%3A%20true%2C%20%22color%22%3A%20%22%238000ff%22%2C%20%22dashArray%22%3A%20null%2C%20%22dashOffset%22%3A%20null%2C%20%22fill%22%3A%20true%2C%20%22fillColor%22%3A%20%22%238000ff%22%2C%20%22fillOpacity%22%3A%200.2%2C%20%22fillRule%22%3A%20%22evenodd%22%2C%20%22lineCap%22%3A%20%22round%22%2C%20%22lineJoin%22%3A%20%22round%22%2C%20%22opacity%22%3A%201.0%2C%20%22radius%22%3A%205%2C%20%22stroke%22%3A%20true%2C%20%22weight%22%3A%203%7D%0A%20%20%20%20%20%20%20%20%20%20%20%20%29.addTo%28map_3ae3141edd8f4491b014bec87d5e8f6c%29%3B%0A%20%20%20%20%20%20%20%20%0A%20%20%20%20%0A%20%20%20%20%20%20%20%20var%20popup_292ba9e12581486db93e4d73e0ef0ef4%20%3D%20L.popup%28%7B%22maxWidth%22%3A%20%22100%25%22%7D%29%3B%0A%0A%20%20%20%20%20%20%20%20%0A%20%20%20%20%20%20%20%20%20%20%20%20var%20html_9911ad7b8975436787d94684d1e27e06%20%3D%20%24%28%60%3Cdiv%20id%3D%22html_9911ad7b8975436787d94684d1e27e06%22%20style%3D%22width%3A%20100.0%25%3B%20height%3A%20100.0%25%3B%22%3ECluster%202%20The%20Kingsway%2C%20Montgomery%20Road%2C%20Old%20Mill%20North%3C/div%3E%60%29%5B0%5D%3B%0A%20%20%20%20%20%20%20%20%20%20%20%20popup_292ba9e12581486db93e4d73e0ef0ef4.setContent%28html_9911ad7b8975436787d94684d1e27e06%29%3B%0A%20%20%20%20%20%20%20%20%0A%0A%20%20%20%20%20%20%20%20circle_marker_3acd308b32c341fa8c06da5896df3a15.bindPopup%28popup_292ba9e12581486db93e4d73e0ef0ef4%29%0A%20%20%20%20%20%20%20%20%3B%0A%0A%20%20%20%20%20%20%20%20%0A%20%20%20%20%0A%20%20%20%20%0A%20%20%20%20%20%20%20%20%20%20%20%20var%20circle_marker_27347bda001c4506a1b6a4cef4d7bbf0%20%3D%20L.circleMarker%28%0A%20%20%20%20%20%20%20%20%20%20%20%20%20%20%20%20%5B43.6658599%2C%20-79.38315990000001%5D%2C%0A%20%20%20%20%20%20%20%20%20%20%20%20%20%20%20%20%7B%22bubblingMouseEvents%22%3A%20true%2C%20%22color%22%3A%20%22%238000ff%22%2C%20%22dashArray%22%3A%20null%2C%20%22dashOffset%22%3A%20null%2C%20%22fill%22%3A%20true%2C%20%22fillColor%22%3A%20%22%238000ff%22%2C%20%22fillOpacity%22%3A%200.2%2C%20%22fillRule%22%3A%20%22evenodd%22%2C%20%22lineCap%22%3A%20%22round%22%2C%20%22lineJoin%22%3A%20%22round%22%2C%20%22opacity%22%3A%201.0%2C%20%22radius%22%3A%205%2C%20%22stroke%22%3A%20true%2C%20%22weight%22%3A%203%7D%0A%20%20%20%20%20%20%20%20%20%20%20%20%29.addTo%28map_3ae3141edd8f4491b014bec87d5e8f6c%29%3B%0A%20%20%20%20%20%20%20%20%0A%20%20%20%20%0A%20%20%20%20%20%20%20%20var%20popup_836a809b9053406d85afb4be2a53ecf4%20%3D%20L.popup%28%7B%22maxWidth%22%3A%20%22100%25%22%7D%29%3B%0A%0A%20%20%20%20%20%20%20%20%0A%20%20%20%20%20%20%20%20%20%20%20%20var%20html_016c9c81933c44e18f54c129b5421e43%20%3D%20%24%28%60%3Cdiv%20id%3D%22html_016c9c81933c44e18f54c129b5421e43%22%20style%3D%22width%3A%20100.0%25%3B%20height%3A%20100.0%25%3B%22%3ECluster%202%20Church%20and%20Wellesley%3C/div%3E%60%29%5B0%5D%3B%0A%20%20%20%20%20%20%20%20%20%20%20%20popup_836a809b9053406d85afb4be2a53ecf4.setContent%28html_016c9c81933c44e18f54c129b5421e43%29%3B%0A%20%20%20%20%20%20%20%20%0A%0A%20%20%20%20%20%20%20%20circle_marker_27347bda001c4506a1b6a4cef4d7bbf0.bindPopup%28popup_836a809b9053406d85afb4be2a53ecf4%29%0A%20%20%20%20%20%20%20%20%3B%0A%0A%20%20%20%20%20%20%20%20%0A%20%20%20%20%0A%20%20%20%20%0A%20%20%20%20%20%20%20%20%20%20%20%20var%20circle_marker_fe7900aaef0a499fbd5e02eb2e0d701a%20%3D%20L.circleMarker%28%0A%20%20%20%20%20%20%20%20%20%20%20%20%20%20%20%20%5B43.6627439%2C%20-79.321558%5D%2C%0A%20%20%20%20%20%20%20%20%20%20%20%20%20%20%20%20%7B%22bubblingMouseEvents%22%3A%20true%2C%20%22color%22%3A%20%22%238000ff%22%2C%20%22dashArray%22%3A%20null%2C%20%22dashOffset%22%3A%20null%2C%20%22fill%22%3A%20true%2C%20%22fillColor%22%3A%20%22%238000ff%22%2C%20%22fillOpacity%22%3A%200.2%2C%20%22fillRule%22%3A%20%22evenodd%22%2C%20%22lineCap%22%3A%20%22round%22%2C%20%22lineJoin%22%3A%20%22round%22%2C%20%22opacity%22%3A%201.0%2C%20%22radius%22%3A%205%2C%20%22stroke%22%3A%20true%2C%20%22weight%22%3A%203%7D%0A%20%20%20%20%20%20%20%20%20%20%20%20%29.addTo%28map_3ae3141edd8f4491b014bec87d5e8f6c%29%3B%0A%20%20%20%20%20%20%20%20%0A%20%20%20%20%0A%20%20%20%20%20%20%20%20var%20popup_32ccfbfa57b84a5088a363f13b3c778b%20%3D%20L.popup%28%7B%22maxWidth%22%3A%20%22100%25%22%7D%29%3B%0A%0A%20%20%20%20%20%20%20%20%0A%20%20%20%20%20%20%20%20%20%20%20%20var%20html_d9b02bc07c8c4ae995629834185ef2d1%20%3D%20%24%28%60%3Cdiv%20id%3D%22html_d9b02bc07c8c4ae995629834185ef2d1%22%20style%3D%22width%3A%20100.0%25%3B%20height%3A%20100.0%25%3B%22%3ECluster%202%20Business%20reply%20mail%20Processing%20Centre%2C%20South%20Central%20Letter%20Processing%20Plant%20Toronto%3C/div%3E%60%29%5B0%5D%3B%0A%20%20%20%20%20%20%20%20%20%20%20%20popup_32ccfbfa57b84a5088a363f13b3c778b.setContent%28html_d9b02bc07c8c4ae995629834185ef2d1%29%3B%0A%20%20%20%20%20%20%20%20%0A%0A%20%20%20%20%20%20%20%20circle_marker_fe7900aaef0a499fbd5e02eb2e0d701a.bindPopup%28popup_32ccfbfa57b84a5088a363f13b3c778b%29%0A%20%20%20%20%20%20%20%20%3B%0A%0A%20%20%20%20%20%20%20%20%0A%20%20%20%20%0A%20%20%20%20%0A%20%20%20%20%20%20%20%20%20%20%20%20var%20circle_marker_7dcd923781e144b1ac82b1117d08ed73%20%3D%20L.circleMarker%28%0A%20%20%20%20%20%20%20%20%20%20%20%20%20%20%20%20%5B43.6362579%2C%20-79.49850909999999%5D%2C%0A%20%20%20%20%20%20%20%20%20%20%20%20%20%20%20%20%7B%22bubblingMouseEvents%22%3A%20true%2C%20%22color%22%3A%20%22%238000ff%22%2C%20%22dashArray%22%3A%20null%2C%20%22dashOffset%22%3A%20null%2C%20%22fill%22%3A%20true%2C%20%22fillColor%22%3A%20%22%238000ff%22%2C%20%22fillOpacity%22%3A%200.2%2C%20%22fillRule%22%3A%20%22evenodd%22%2C%20%22lineCap%22%3A%20%22round%22%2C%20%22lineJoin%22%3A%20%22round%22%2C%20%22opacity%22%3A%201.0%2C%20%22radius%22%3A%205%2C%20%22stroke%22%3A%20true%2C%20%22weight%22%3A%203%7D%0A%20%20%20%20%20%20%20%20%20%20%20%20%29.addTo%28map_3ae3141edd8f4491b014bec87d5e8f6c%29%3B%0A%20%20%20%20%20%20%20%20%0A%20%20%20%20%0A%20%20%20%20%20%20%20%20var%20popup_7f69aa0365b04b1180b2e4e9730065fe%20%3D%20L.popup%28%7B%22maxWidth%22%3A%20%22100%25%22%7D%29%3B%0A%0A%20%20%20%20%20%20%20%20%0A%20%20%20%20%20%20%20%20%20%20%20%20var%20html_9f4d4c256c4647eaa9e7279597a538a0%20%3D%20%24%28%60%3Cdiv%20id%3D%22html_9f4d4c256c4647eaa9e7279597a538a0%22%20style%3D%22width%3A%20100.0%25%3B%20height%3A%20100.0%25%3B%22%3ECluster%202%20Old%20Mill%20South%2C%20King%26%2339%3Bs%20Mill%20Park%2C%20Sunnylea%2C%20Humber%20Bay%2C%20Mimico%20NE%2C%20The%20Queensway%20East%2C%20Royal%20York%20South%20East%2C%20Kingsway%20Park%20South%20East%3C/div%3E%60%29%5B0%5D%3B%0A%20%20%20%20%20%20%20%20%20%20%20%20popup_7f69aa0365b04b1180b2e4e9730065fe.setContent%28html_9f4d4c256c4647eaa9e7279597a538a0%29%3B%0A%20%20%20%20%20%20%20%20%0A%0A%20%20%20%20%20%20%20%20circle_marker_7dcd923781e144b1ac82b1117d08ed73.bindPopup%28popup_7f69aa0365b04b1180b2e4e9730065fe%29%0A%20%20%20%20%20%20%20%20%3B%0A%0A%20%20%20%20%20%20%20%20%0A%20%20%20%20%0A%20%20%20%20%0A%20%20%20%20%20%20%20%20%20%20%20%20var%20circle_marker_14f96b1834ba438ba2f28c88347b6690%20%3D%20L.circleMarker%28%0A%20%20%20%20%20%20%20%20%20%20%20%20%20%20%20%20%5B43.6288408%2C%20-79.52099940000001%5D%2C%0A%20%20%20%20%20%20%20%20%20%20%20%20%20%20%20%20%7B%22bubblingMouseEvents%22%3A%20true%2C%20%22color%22%3A%20%22%238000ff%22%2C%20%22dashArray%22%3A%20null%2C%20%22dashOffset%22%3A%20null%2C%20%22fill%22%3A%20true%2C%20%22fillColor%22%3A%20%22%238000ff%22%2C%20%22fillOpacity%22%3A%200.2%2C%20%22fillRule%22%3A%20%22evenodd%22%2C%20%22lineCap%22%3A%20%22round%22%2C%20%22lineJoin%22%3A%20%22round%22%2C%20%22opacity%22%3A%201.0%2C%20%22radius%22%3A%205%2C%20%22stroke%22%3A%20true%2C%20%22weight%22%3A%203%7D%0A%20%20%20%20%20%20%20%20%20%20%20%20%29.addTo%28map_3ae3141edd8f4491b014bec87d5e8f6c%29%3B%0A%20%20%20%20%20%20%20%20%0A%20%20%20%20%0A%20%20%20%20%20%20%20%20var%20popup_603c0eadfe1c4e17bb5c555484937579%20%3D%20L.popup%28%7B%22maxWidth%22%3A%20%22100%25%22%7D%29%3B%0A%0A%20%20%20%20%20%20%20%20%0A%20%20%20%20%20%20%20%20%20%20%20%20var%20html_99166d4df4a74bf1a2c5139dd9c556cf%20%3D%20%24%28%60%3Cdiv%20id%3D%22html_99166d4df4a74bf1a2c5139dd9c556cf%22%20style%3D%22width%3A%20100.0%25%3B%20height%3A%20100.0%25%3B%22%3ECluster%202%20Mimico%20NW%2C%20The%20Queensway%20West%2C%20South%20of%20Bloor%2C%20Kingsway%20Park%20South%20West%2C%20Royal%20York%20South%20West%3C/div%3E%60%29%5B0%5D%3B%0A%20%20%20%20%20%20%20%20%20%20%20%20popup_603c0eadfe1c4e17bb5c555484937579.setContent%28html_99166d4df4a74bf1a2c5139dd9c556cf%29%3B%0A%20%20%20%20%20%20%20%20%0A%0A%20%20%20%20%20%20%20%20circle_marker_14f96b1834ba438ba2f28c88347b6690.bindPopup%28popup_603c0eadfe1c4e17bb5c555484937579%29%0A%20%20%20%20%20%20%20%20%3B%0A%0A%20%20%20%20%20%20%20%20%0A%20%20%20%20%0A%3C/script%3E onload=\"this.contentDocument.open();this.contentDocument.write(    decodeURIComponent(this.getAttribute('data-html')));this.contentDocument.close();\" allowfullscreen webkitallowfullscreen mozallowfullscreen></iframe></div></div>"
      ],
      "text/plain": [
       "<folium.folium.Map at 0x1f8f89acdc0>"
      ]
     },
     "execution_count": 54,
     "metadata": {},
     "output_type": "execute_result"
    }
   ],
   "source": [
    "map_clusters = folium.Map(location=[latitude, longitude], zoom_start=11)\n",
    "\n",
    "# set color scheme for the clusters\n",
    "x = np.arange(k_num_clusters)\n",
    "ys = [i + x + (i*x)**2 for i in range(k_num_clusters)]\n",
    "colors_array = cm.rainbow(np.linspace(0, 1, len(ys)))\n",
    "rainbow = [colors.rgb2hex(i) for i in colors_array]\n",
    "\n",
    "# add markers to the map\n",
    "markers_colors = []\n",
    "for lat, lon, poi, cluster in zip(toronto_merged_nonan['Latitude'], toronto_merged_nonan['Longitude'], toronto_merged_nonan['Neighbourhood'], toronto_merged_nonan['Cluster Labels']):\n",
    "    label = folium.Popup('Cluster ' + str(int(cluster) +1) + '\\n' + str(poi) , parse_html=True)\n",
    "    folium.CircleMarker(\n",
    "        [lat, lon],\n",
    "        radius=5,\n",
    "        popup=label,\n",
    "        color=rainbow[int(cluster-1)],\n",
    "        fill=True,\n",
    "        fill_color=rainbow[int(cluster-1)]\n",
    "        ).add_to(map_clusters)\n",
    "        \n",
    "map_clusters"
   ]
  },
  {
   "cell_type": "markdown",
   "metadata": {
    "colab_type": "text",
    "id": "YYxLDsnTnixy"
   },
   "source": [
    "Let's verify each of our clusters\n",
    "\n",
    "Cluster 1"
   ]
  },
  {
   "cell_type": "code",
   "execution_count": 55,
   "metadata": {
    "colab": {
     "base_uri": "https://localhost:8080/",
     "height": 623
    },
    "colab_type": "code",
    "executionInfo": {
     "elapsed": 3490,
     "status": "ok",
     "timestamp": 1597498954938,
     "user": {
      "displayName": "Thomas George Thomas",
      "photoUrl": "https://lh3.googleusercontent.com/a-/AOh14GhRjmtno5yCmJOUjYiFNGHi_xP5YZBJ1ZpWGKsZ=s64",
      "userId": "09561174857978505545"
     },
     "user_tz": -330
    },
    "id": "9cPDyS3Tm8Lb",
    "outputId": "fad08da8-2be8-4c50-f01c-a862872510bf"
   },
   "outputs": [
    {
     "data": {
      "text/html": [
       "<div>\n",
       "<style scoped>\n",
       "    .dataframe tbody tr th:only-of-type {\n",
       "        vertical-align: middle;\n",
       "    }\n",
       "\n",
       "    .dataframe tbody tr th {\n",
       "        vertical-align: top;\n",
       "    }\n",
       "\n",
       "    .dataframe thead th {\n",
       "        text-align: right;\n",
       "    }\n",
       "</style>\n",
       "<table border=\"1\" class=\"dataframe\">\n",
       "  <thead>\n",
       "    <tr style=\"text-align: right;\">\n",
       "      <th></th>\n",
       "      <th>Borough</th>\n",
       "      <th>Cluster Labels</th>\n",
       "      <th>1st Most Common Venue</th>\n",
       "      <th>2nd Most Common Venue</th>\n",
       "      <th>3rd Most Common Venue</th>\n",
       "      <th>4th Most Common Venue</th>\n",
       "      <th>5th Most Common Venue</th>\n",
       "      <th>6th Most Common Venue</th>\n",
       "      <th>7th Most Common Venue</th>\n",
       "      <th>8th Most Common Venue</th>\n",
       "      <th>9th Most Common Venue</th>\n",
       "      <th>10th Most Common Venue</th>\n",
       "    </tr>\n",
       "  </thead>\n",
       "  <tbody>\n",
       "    <tr>\n",
       "      <th>0</th>\n",
       "      <td>North York</td>\n",
       "      <td>0.0</td>\n",
       "      <td>Park</td>\n",
       "      <td>Food &amp; Drink Shop</td>\n",
       "      <td>Yoga Studio</td>\n",
       "      <td>Deli / Bodega</td>\n",
       "      <td>Electronics Store</td>\n",
       "      <td>Eastern European Restaurant</td>\n",
       "      <td>Drugstore</td>\n",
       "      <td>Donut Shop</td>\n",
       "      <td>Dog Run</td>\n",
       "      <td>Distribution Center</td>\n",
       "    </tr>\n",
       "    <tr>\n",
       "      <th>21</th>\n",
       "      <td>York</td>\n",
       "      <td>0.0</td>\n",
       "      <td>Park</td>\n",
       "      <td>Bar</td>\n",
       "      <td>Women's Store</td>\n",
       "      <td>Golf Course</td>\n",
       "      <td>Deli / Bodega</td>\n",
       "      <td>Electronics Store</td>\n",
       "      <td>Eastern European Restaurant</td>\n",
       "      <td>Drugstore</td>\n",
       "      <td>Donut Shop</td>\n",
       "      <td>Dog Run</td>\n",
       "    </tr>\n",
       "    <tr>\n",
       "      <th>32</th>\n",
       "      <td>Scarborough</td>\n",
       "      <td>0.0</td>\n",
       "      <td>Playground</td>\n",
       "      <td>Yoga Studio</td>\n",
       "      <td>Dance Studio</td>\n",
       "      <td>Electronics Store</td>\n",
       "      <td>Eastern European Restaurant</td>\n",
       "      <td>Drugstore</td>\n",
       "      <td>Donut Shop</td>\n",
       "      <td>Dog Run</td>\n",
       "      <td>Distribution Center</td>\n",
       "      <td>Discount Store</td>\n",
       "    </tr>\n",
       "    <tr>\n",
       "      <th>35</th>\n",
       "      <td>East York</td>\n",
       "      <td>0.0</td>\n",
       "      <td>Park</td>\n",
       "      <td>Convenience Store</td>\n",
       "      <td>Intersection</td>\n",
       "      <td>Yoga Studio</td>\n",
       "      <td>Department Store</td>\n",
       "      <td>Electronics Store</td>\n",
       "      <td>Eastern European Restaurant</td>\n",
       "      <td>Drugstore</td>\n",
       "      <td>Donut Shop</td>\n",
       "      <td>Dog Run</td>\n",
       "    </tr>\n",
       "    <tr>\n",
       "      <th>45</th>\n",
       "      <td>North York</td>\n",
       "      <td>0.0</td>\n",
       "      <td>Park</td>\n",
       "      <td>Yoga Studio</td>\n",
       "      <td>Deli / Bodega</td>\n",
       "      <td>Electronics Store</td>\n",
       "      <td>Eastern European Restaurant</td>\n",
       "      <td>Drugstore</td>\n",
       "      <td>Donut Shop</td>\n",
       "      <td>Dog Run</td>\n",
       "      <td>Distribution Center</td>\n",
       "      <td>Discount Store</td>\n",
       "    </tr>\n",
       "    <tr>\n",
       "      <th>64</th>\n",
       "      <td>York</td>\n",
       "      <td>0.0</td>\n",
       "      <td>Park</td>\n",
       "      <td>Convenience Store</td>\n",
       "      <td>Jewelry Store</td>\n",
       "      <td>Yoga Studio</td>\n",
       "      <td>Department Store</td>\n",
       "      <td>Electronics Store</td>\n",
       "      <td>Eastern European Restaurant</td>\n",
       "      <td>Drugstore</td>\n",
       "      <td>Donut Shop</td>\n",
       "      <td>Dog Run</td>\n",
       "    </tr>\n",
       "    <tr>\n",
       "      <th>66</th>\n",
       "      <td>North York</td>\n",
       "      <td>0.0</td>\n",
       "      <td>Park</td>\n",
       "      <td>Electronics Store</td>\n",
       "      <td>Convenience Store</td>\n",
       "      <td>Yoga Studio</td>\n",
       "      <td>Deli / Bodega</td>\n",
       "      <td>Eastern European Restaurant</td>\n",
       "      <td>Drugstore</td>\n",
       "      <td>Donut Shop</td>\n",
       "      <td>Dog Run</td>\n",
       "      <td>Distribution Center</td>\n",
       "    </tr>\n",
       "    <tr>\n",
       "      <th>85</th>\n",
       "      <td>Scarborough</td>\n",
       "      <td>0.0</td>\n",
       "      <td>Park</td>\n",
       "      <td>Playground</td>\n",
       "      <td>Intersection</td>\n",
       "      <td>Dance Studio</td>\n",
       "      <td>Eastern European Restaurant</td>\n",
       "      <td>Drugstore</td>\n",
       "      <td>Donut Shop</td>\n",
       "      <td>Dog Run</td>\n",
       "      <td>Distribution Center</td>\n",
       "      <td>Discount Store</td>\n",
       "    </tr>\n",
       "    <tr>\n",
       "      <th>91</th>\n",
       "      <td>Downtown Toronto</td>\n",
       "      <td>0.0</td>\n",
       "      <td>Park</td>\n",
       "      <td>Playground</td>\n",
       "      <td>Trail</td>\n",
       "      <td>Curling Ice</td>\n",
       "      <td>Eastern European Restaurant</td>\n",
       "      <td>Drugstore</td>\n",
       "      <td>Donut Shop</td>\n",
       "      <td>Dog Run</td>\n",
       "      <td>Distribution Center</td>\n",
       "      <td>Discount Store</td>\n",
       "    </tr>\n",
       "  </tbody>\n",
       "</table>\n",
       "</div>"
      ],
      "text/plain": [
       "             Borough  Cluster Labels 1st Most Common Venue  \\\n",
       "0         North York             0.0                  Park   \n",
       "21              York             0.0                  Park   \n",
       "32       Scarborough             0.0            Playground   \n",
       "35         East York             0.0                  Park   \n",
       "45        North York             0.0                  Park   \n",
       "64              York             0.0                  Park   \n",
       "66        North York             0.0                  Park   \n",
       "85       Scarborough             0.0                  Park   \n",
       "91  Downtown Toronto             0.0                  Park   \n",
       "\n",
       "   2nd Most Common Venue 3rd Most Common Venue 4th Most Common Venue  \\\n",
       "0      Food & Drink Shop           Yoga Studio         Deli / Bodega   \n",
       "21                   Bar         Women's Store           Golf Course   \n",
       "32           Yoga Studio          Dance Studio     Electronics Store   \n",
       "35     Convenience Store          Intersection           Yoga Studio   \n",
       "45           Yoga Studio         Deli / Bodega     Electronics Store   \n",
       "64     Convenience Store         Jewelry Store           Yoga Studio   \n",
       "66     Electronics Store     Convenience Store           Yoga Studio   \n",
       "85            Playground          Intersection          Dance Studio   \n",
       "91            Playground                 Trail           Curling Ice   \n",
       "\n",
       "          5th Most Common Venue        6th Most Common Venue  \\\n",
       "0             Electronics Store  Eastern European Restaurant   \n",
       "21                Deli / Bodega            Electronics Store   \n",
       "32  Eastern European Restaurant                    Drugstore   \n",
       "35             Department Store            Electronics Store   \n",
       "45  Eastern European Restaurant                    Drugstore   \n",
       "64             Department Store            Electronics Store   \n",
       "66                Deli / Bodega  Eastern European Restaurant   \n",
       "85  Eastern European Restaurant                    Drugstore   \n",
       "91  Eastern European Restaurant                    Drugstore   \n",
       "\n",
       "          7th Most Common Venue 8th Most Common Venue 9th Most Common Venue  \\\n",
       "0                     Drugstore            Donut Shop               Dog Run   \n",
       "21  Eastern European Restaurant             Drugstore            Donut Shop   \n",
       "32                   Donut Shop               Dog Run   Distribution Center   \n",
       "35  Eastern European Restaurant             Drugstore            Donut Shop   \n",
       "45                   Donut Shop               Dog Run   Distribution Center   \n",
       "64  Eastern European Restaurant             Drugstore            Donut Shop   \n",
       "66                    Drugstore            Donut Shop               Dog Run   \n",
       "85                   Donut Shop               Dog Run   Distribution Center   \n",
       "91                   Donut Shop               Dog Run   Distribution Center   \n",
       "\n",
       "   10th Most Common Venue  \n",
       "0     Distribution Center  \n",
       "21                Dog Run  \n",
       "32         Discount Store  \n",
       "35                Dog Run  \n",
       "45         Discount Store  \n",
       "64                Dog Run  \n",
       "66    Distribution Center  \n",
       "85         Discount Store  \n",
       "91         Discount Store  "
      ]
     },
     "execution_count": 55,
     "metadata": {},
     "output_type": "execute_result"
    }
   ],
   "source": [
    "toronto_merged_nonan.loc[toronto_merged_nonan['Cluster Labels'] == 0, toronto_merged_nonan.columns[[1] + list(range(5, toronto_merged_nonan.shape[1]))]]"
   ]
  },
  {
   "cell_type": "markdown",
   "metadata": {
    "colab_type": "text",
    "id": "BaX56fJNobro"
   },
   "source": [
    "Cluster 2"
   ]
  },
  {
   "cell_type": "code",
   "execution_count": 56,
   "metadata": {
    "colab": {
     "base_uri": "https://localhost:8080/",
     "height": 405
    },
    "colab_type": "code",
    "executionInfo": {
     "elapsed": 3476,
     "status": "ok",
     "timestamp": 1597498954942,
     "user": {
      "displayName": "Thomas George Thomas",
      "photoUrl": "https://lh3.googleusercontent.com/a-/AOh14GhRjmtno5yCmJOUjYiFNGHi_xP5YZBJ1ZpWGKsZ=s64",
      "userId": "09561174857978505545"
     },
     "user_tz": -330
    },
    "id": "edT5MG36no8-",
    "outputId": "548c961d-9d4f-4b4b-9279-9cefd8bf7da2"
   },
   "outputs": [
    {
     "data": {
      "text/html": [
       "<div>\n",
       "<style scoped>\n",
       "    .dataframe tbody tr th:only-of-type {\n",
       "        vertical-align: middle;\n",
       "    }\n",
       "\n",
       "    .dataframe tbody tr th {\n",
       "        vertical-align: top;\n",
       "    }\n",
       "\n",
       "    .dataframe thead th {\n",
       "        text-align: right;\n",
       "    }\n",
       "</style>\n",
       "<table border=\"1\" class=\"dataframe\">\n",
       "  <thead>\n",
       "    <tr style=\"text-align: right;\">\n",
       "      <th></th>\n",
       "      <th>Borough</th>\n",
       "      <th>Cluster Labels</th>\n",
       "      <th>1st Most Common Venue</th>\n",
       "      <th>2nd Most Common Venue</th>\n",
       "      <th>3rd Most Common Venue</th>\n",
       "      <th>4th Most Common Venue</th>\n",
       "      <th>5th Most Common Venue</th>\n",
       "      <th>6th Most Common Venue</th>\n",
       "      <th>7th Most Common Venue</th>\n",
       "      <th>8th Most Common Venue</th>\n",
       "      <th>9th Most Common Venue</th>\n",
       "      <th>10th Most Common Venue</th>\n",
       "    </tr>\n",
       "  </thead>\n",
       "  <tbody>\n",
       "    <tr>\n",
       "      <th>1</th>\n",
       "      <td>North York</td>\n",
       "      <td>1.0</td>\n",
       "      <td>Pizza Place</td>\n",
       "      <td>Coffee Shop</td>\n",
       "      <td>Hockey Arena</td>\n",
       "      <td>Portuguese Restaurant</td>\n",
       "      <td>Yoga Studio</td>\n",
       "      <td>Discount Store</td>\n",
       "      <td>Department Store</td>\n",
       "      <td>Dessert Shop</td>\n",
       "      <td>Dim Sum Restaurant</td>\n",
       "      <td>Diner</td>\n",
       "    </tr>\n",
       "    <tr>\n",
       "      <th>2</th>\n",
       "      <td>Downtown Toronto</td>\n",
       "      <td>1.0</td>\n",
       "      <td>Coffee Shop</td>\n",
       "      <td>Park</td>\n",
       "      <td>Bakery</td>\n",
       "      <td>Breakfast Spot</td>\n",
       "      <td>Café</td>\n",
       "      <td>Theater</td>\n",
       "      <td>Restaurant</td>\n",
       "      <td>Pub</td>\n",
       "      <td>Chocolate Shop</td>\n",
       "      <td>Yoga Studio</td>\n",
       "    </tr>\n",
       "    <tr>\n",
       "      <th>3</th>\n",
       "      <td>North York</td>\n",
       "      <td>1.0</td>\n",
       "      <td>Clothing Store</td>\n",
       "      <td>Furniture / Home Store</td>\n",
       "      <td>Accessories Store</td>\n",
       "      <td>Vietnamese Restaurant</td>\n",
       "      <td>Coffee Shop</td>\n",
       "      <td>Miscellaneous Shop</td>\n",
       "      <td>Boutique</td>\n",
       "      <td>Event Space</td>\n",
       "      <td>Donut Shop</td>\n",
       "      <td>Department Store</td>\n",
       "    </tr>\n",
       "    <tr>\n",
       "      <th>4</th>\n",
       "      <td>Downtown Toronto</td>\n",
       "      <td>1.0</td>\n",
       "      <td>Coffee Shop</td>\n",
       "      <td>Sushi Restaurant</td>\n",
       "      <td>Yoga Studio</td>\n",
       "      <td>Bar</td>\n",
       "      <td>Beer Bar</td>\n",
       "      <td>Smoothie Shop</td>\n",
       "      <td>Sandwich Place</td>\n",
       "      <td>Burger Joint</td>\n",
       "      <td>Burrito Place</td>\n",
       "      <td>Café</td>\n",
       "    </tr>\n",
       "    <tr>\n",
       "      <th>7</th>\n",
       "      <td>North York</td>\n",
       "      <td>1.0</td>\n",
       "      <td>Gym</td>\n",
       "      <td>Beer Store</td>\n",
       "      <td>Japanese Restaurant</td>\n",
       "      <td>Restaurant</td>\n",
       "      <td>Coffee Shop</td>\n",
       "      <td>Clothing Store</td>\n",
       "      <td>Café</td>\n",
       "      <td>Dim Sum Restaurant</td>\n",
       "      <td>Discount Store</td>\n",
       "      <td>Chinese Restaurant</td>\n",
       "    </tr>\n",
       "    <tr>\n",
       "      <th>...</th>\n",
       "      <td>...</td>\n",
       "      <td>...</td>\n",
       "      <td>...</td>\n",
       "      <td>...</td>\n",
       "      <td>...</td>\n",
       "      <td>...</td>\n",
       "      <td>...</td>\n",
       "      <td>...</td>\n",
       "      <td>...</td>\n",
       "      <td>...</td>\n",
       "      <td>...</td>\n",
       "      <td>...</td>\n",
       "    </tr>\n",
       "    <tr>\n",
       "      <th>98</th>\n",
       "      <td>Etobicoke</td>\n",
       "      <td>1.0</td>\n",
       "      <td>Smoke Shop</td>\n",
       "      <td>River</td>\n",
       "      <td>Yoga Studio</td>\n",
       "      <td>Deli / Bodega</td>\n",
       "      <td>Eastern European Restaurant</td>\n",
       "      <td>Drugstore</td>\n",
       "      <td>Donut Shop</td>\n",
       "      <td>Dog Run</td>\n",
       "      <td>Distribution Center</td>\n",
       "      <td>Discount Store</td>\n",
       "    </tr>\n",
       "    <tr>\n",
       "      <th>99</th>\n",
       "      <td>Downtown Toronto</td>\n",
       "      <td>1.0</td>\n",
       "      <td>Sushi Restaurant</td>\n",
       "      <td>Salon / Barbershop</td>\n",
       "      <td>Japanese Restaurant</td>\n",
       "      <td>Ethiopian Restaurant</td>\n",
       "      <td>Pub</td>\n",
       "      <td>Escape Room</td>\n",
       "      <td>Indian Restaurant</td>\n",
       "      <td>Ice Cream Shop</td>\n",
       "      <td>Café</td>\n",
       "      <td>Dessert Shop</td>\n",
       "    </tr>\n",
       "    <tr>\n",
       "      <th>100</th>\n",
       "      <td>East Toronto</td>\n",
       "      <td>1.0</td>\n",
       "      <td>Yoga Studio</td>\n",
       "      <td>Auto Workshop</td>\n",
       "      <td>Park</td>\n",
       "      <td>Comic Shop</td>\n",
       "      <td>Pizza Place</td>\n",
       "      <td>Restaurant</td>\n",
       "      <td>Burrito Place</td>\n",
       "      <td>Brewery</td>\n",
       "      <td>Skate Park</td>\n",
       "      <td>Farmers Market</td>\n",
       "    </tr>\n",
       "    <tr>\n",
       "      <th>101</th>\n",
       "      <td>Etobicoke</td>\n",
       "      <td>1.0</td>\n",
       "      <td>Deli / Bodega</td>\n",
       "      <td>Baseball Field</td>\n",
       "      <td>Department Store</td>\n",
       "      <td>Escape Room</td>\n",
       "      <td>Electronics Store</td>\n",
       "      <td>Eastern European Restaurant</td>\n",
       "      <td>Drugstore</td>\n",
       "      <td>Donut Shop</td>\n",
       "      <td>Dog Run</td>\n",
       "      <td>Distribution Center</td>\n",
       "    </tr>\n",
       "    <tr>\n",
       "      <th>102</th>\n",
       "      <td>Etobicoke</td>\n",
       "      <td>1.0</td>\n",
       "      <td>Grocery Store</td>\n",
       "      <td>Supplement Shop</td>\n",
       "      <td>Sandwich Place</td>\n",
       "      <td>Kids Store</td>\n",
       "      <td>Fast Food Restaurant</td>\n",
       "      <td>Discount Store</td>\n",
       "      <td>Burger Joint</td>\n",
       "      <td>Burrito Place</td>\n",
       "      <td>Bakery</td>\n",
       "      <td>Tanning Salon</td>\n",
       "    </tr>\n",
       "  </tbody>\n",
       "</table>\n",
       "<p>88 rows × 12 columns</p>\n",
       "</div>"
      ],
      "text/plain": [
       "              Borough  Cluster Labels 1st Most Common Venue  \\\n",
       "1          North York             1.0           Pizza Place   \n",
       "2    Downtown Toronto             1.0           Coffee Shop   \n",
       "3          North York             1.0        Clothing Store   \n",
       "4    Downtown Toronto             1.0           Coffee Shop   \n",
       "7          North York             1.0                   Gym   \n",
       "..                ...             ...                   ...   \n",
       "98          Etobicoke             1.0            Smoke Shop   \n",
       "99   Downtown Toronto             1.0      Sushi Restaurant   \n",
       "100      East Toronto             1.0           Yoga Studio   \n",
       "101         Etobicoke             1.0         Deli / Bodega   \n",
       "102         Etobicoke             1.0         Grocery Store   \n",
       "\n",
       "      2nd Most Common Venue 3rd Most Common Venue  4th Most Common Venue  \\\n",
       "1               Coffee Shop          Hockey Arena  Portuguese Restaurant   \n",
       "2                      Park                Bakery         Breakfast Spot   \n",
       "3    Furniture / Home Store     Accessories Store  Vietnamese Restaurant   \n",
       "4          Sushi Restaurant           Yoga Studio                    Bar   \n",
       "7                Beer Store   Japanese Restaurant             Restaurant   \n",
       "..                      ...                   ...                    ...   \n",
       "98                    River           Yoga Studio          Deli / Bodega   \n",
       "99       Salon / Barbershop   Japanese Restaurant   Ethiopian Restaurant   \n",
       "100           Auto Workshop                  Park             Comic Shop   \n",
       "101          Baseball Field      Department Store            Escape Room   \n",
       "102         Supplement Shop        Sandwich Place             Kids Store   \n",
       "\n",
       "           5th Most Common Venue        6th Most Common Venue  \\\n",
       "1                    Yoga Studio               Discount Store   \n",
       "2                           Café                      Theater   \n",
       "3                    Coffee Shop           Miscellaneous Shop   \n",
       "4                       Beer Bar                Smoothie Shop   \n",
       "7                    Coffee Shop               Clothing Store   \n",
       "..                           ...                          ...   \n",
       "98   Eastern European Restaurant                    Drugstore   \n",
       "99                           Pub                  Escape Room   \n",
       "100                  Pizza Place                   Restaurant   \n",
       "101            Electronics Store  Eastern European Restaurant   \n",
       "102         Fast Food Restaurant               Discount Store   \n",
       "\n",
       "    7th Most Common Venue 8th Most Common Venue 9th Most Common Venue  \\\n",
       "1        Department Store          Dessert Shop    Dim Sum Restaurant   \n",
       "2              Restaurant                   Pub        Chocolate Shop   \n",
       "3                Boutique           Event Space            Donut Shop   \n",
       "4          Sandwich Place          Burger Joint         Burrito Place   \n",
       "7                    Café    Dim Sum Restaurant        Discount Store   \n",
       "..                    ...                   ...                   ...   \n",
       "98             Donut Shop               Dog Run   Distribution Center   \n",
       "99      Indian Restaurant        Ice Cream Shop                  Café   \n",
       "100         Burrito Place               Brewery            Skate Park   \n",
       "101             Drugstore            Donut Shop               Dog Run   \n",
       "102          Burger Joint         Burrito Place                Bakery   \n",
       "\n",
       "    10th Most Common Venue  \n",
       "1                    Diner  \n",
       "2              Yoga Studio  \n",
       "3         Department Store  \n",
       "4                     Café  \n",
       "7       Chinese Restaurant  \n",
       "..                     ...  \n",
       "98          Discount Store  \n",
       "99            Dessert Shop  \n",
       "100         Farmers Market  \n",
       "101    Distribution Center  \n",
       "102          Tanning Salon  \n",
       "\n",
       "[88 rows x 12 columns]"
      ]
     },
     "execution_count": 56,
     "metadata": {},
     "output_type": "execute_result"
    }
   ],
   "source": [
    "toronto_merged_nonan.loc[toronto_merged_nonan['Cluster Labels'] == 1, toronto_merged_nonan.columns[[1] + list(range(5, toronto_merged_nonan.shape[1]))]]"
   ]
  },
  {
   "cell_type": "markdown",
   "metadata": {
    "colab_type": "text",
    "id": "IMz4-VLUodmR"
   },
   "source": [
    "Cluster 3"
   ]
  },
  {
   "cell_type": "code",
   "execution_count": 57,
   "metadata": {
    "colab": {
     "base_uri": "https://localhost:8080/",
     "height": 552
    },
    "colab_type": "code",
    "executionInfo": {
     "elapsed": 3459,
     "status": "ok",
     "timestamp": 1597498954944,
     "user": {
      "displayName": "Thomas George Thomas",
      "photoUrl": "https://lh3.googleusercontent.com/a-/AOh14GhRjmtno5yCmJOUjYiFNGHi_xP5YZBJ1ZpWGKsZ=s64",
      "userId": "09561174857978505545"
     },
     "user_tz": -330
    },
    "id": "5h0CRKProHPF",
    "outputId": "b69c1a14-a08a-46f7-c2d1-7b30956e5cc2"
   },
   "outputs": [
    {
     "data": {
      "text/html": [
       "<div>\n",
       "<style scoped>\n",
       "    .dataframe tbody tr th:only-of-type {\n",
       "        vertical-align: middle;\n",
       "    }\n",
       "\n",
       "    .dataframe tbody tr th {\n",
       "        vertical-align: top;\n",
       "    }\n",
       "\n",
       "    .dataframe thead th {\n",
       "        text-align: right;\n",
       "    }\n",
       "</style>\n",
       "<table border=\"1\" class=\"dataframe\">\n",
       "  <thead>\n",
       "    <tr style=\"text-align: right;\">\n",
       "      <th></th>\n",
       "      <th>Borough</th>\n",
       "      <th>Cluster Labels</th>\n",
       "      <th>1st Most Common Venue</th>\n",
       "      <th>2nd Most Common Venue</th>\n",
       "      <th>3rd Most Common Venue</th>\n",
       "      <th>4th Most Common Venue</th>\n",
       "      <th>5th Most Common Venue</th>\n",
       "      <th>6th Most Common Venue</th>\n",
       "      <th>7th Most Common Venue</th>\n",
       "      <th>8th Most Common Venue</th>\n",
       "      <th>9th Most Common Venue</th>\n",
       "      <th>10th Most Common Venue</th>\n",
       "    </tr>\n",
       "  </thead>\n",
       "  <tbody>\n",
       "    <tr>\n",
       "      <th>83</th>\n",
       "      <td>Central Toronto</td>\n",
       "      <td>2.0</td>\n",
       "      <td>Tennis Court</td>\n",
       "      <td>Restaurant</td>\n",
       "      <td>Ethiopian Restaurant</td>\n",
       "      <td>Electronics Store</td>\n",
       "      <td>Eastern European Restaurant</td>\n",
       "      <td>Drugstore</td>\n",
       "      <td>Donut Shop</td>\n",
       "      <td>Dog Run</td>\n",
       "      <td>Distribution Center</td>\n",
       "      <td>Discount Store</td>\n",
       "    </tr>\n",
       "  </tbody>\n",
       "</table>\n",
       "</div>"
      ],
      "text/plain": [
       "            Borough  Cluster Labels 1st Most Common Venue  \\\n",
       "83  Central Toronto             2.0          Tennis Court   \n",
       "\n",
       "   2nd Most Common Venue 3rd Most Common Venue 4th Most Common Venue  \\\n",
       "83            Restaurant  Ethiopian Restaurant     Electronics Store   \n",
       "\n",
       "          5th Most Common Venue 6th Most Common Venue 7th Most Common Venue  \\\n",
       "83  Eastern European Restaurant             Drugstore            Donut Shop   \n",
       "\n",
       "   8th Most Common Venue 9th Most Common Venue 10th Most Common Venue  \n",
       "83               Dog Run   Distribution Center         Discount Store  "
      ]
     },
     "execution_count": 57,
     "metadata": {},
     "output_type": "execute_result"
    }
   ],
   "source": [
    "toronto_merged_nonan.loc[toronto_merged_nonan['Cluster Labels'] == 2, toronto_merged_nonan.columns[[1] + list(range(5, toronto_merged_nonan.shape[1]))]]"
   ]
  },
  {
   "cell_type": "markdown",
   "metadata": {
    "colab_type": "text",
    "id": "kf6OOohdof3D"
   },
   "source": [
    "Cluster 4"
   ]
  },
  {
   "cell_type": "code",
   "execution_count": 58,
   "metadata": {
    "colab": {
     "base_uri": "https://localhost:8080/",
     "height": 213
    },
    "colab_type": "code",
    "executionInfo": {
     "elapsed": 3441,
     "status": "ok",
     "timestamp": 1597498954945,
     "user": {
      "displayName": "Thomas George Thomas",
      "photoUrl": "https://lh3.googleusercontent.com/a-/AOh14GhRjmtno5yCmJOUjYiFNGHi_xP5YZBJ1ZpWGKsZ=s64",
      "userId": "09561174857978505545"
     },
     "user_tz": -330
    },
    "id": "wyousc8YoLVS",
    "outputId": "cba7f1a2-8668-4f43-fde2-1e17c6236a25"
   },
   "outputs": [
    {
     "data": {
      "text/html": [
       "<div>\n",
       "<style scoped>\n",
       "    .dataframe tbody tr th:only-of-type {\n",
       "        vertical-align: middle;\n",
       "    }\n",
       "\n",
       "    .dataframe tbody tr th {\n",
       "        vertical-align: top;\n",
       "    }\n",
       "\n",
       "    .dataframe thead th {\n",
       "        text-align: right;\n",
       "    }\n",
       "</style>\n",
       "<table border=\"1\" class=\"dataframe\">\n",
       "  <thead>\n",
       "    <tr style=\"text-align: right;\">\n",
       "      <th></th>\n",
       "      <th>Borough</th>\n",
       "      <th>Cluster Labels</th>\n",
       "      <th>1st Most Common Venue</th>\n",
       "      <th>2nd Most Common Venue</th>\n",
       "      <th>3rd Most Common Venue</th>\n",
       "      <th>4th Most Common Venue</th>\n",
       "      <th>5th Most Common Venue</th>\n",
       "      <th>6th Most Common Venue</th>\n",
       "      <th>7th Most Common Venue</th>\n",
       "      <th>8th Most Common Venue</th>\n",
       "      <th>9th Most Common Venue</th>\n",
       "      <th>10th Most Common Venue</th>\n",
       "    </tr>\n",
       "  </thead>\n",
       "  <tbody>\n",
       "    <tr>\n",
       "      <th>6</th>\n",
       "      <td>Scarborough</td>\n",
       "      <td>3.0</td>\n",
       "      <td>Fast Food Restaurant</td>\n",
       "      <td>Yoga Studio</td>\n",
       "      <td>Department Store</td>\n",
       "      <td>Escape Room</td>\n",
       "      <td>Electronics Store</td>\n",
       "      <td>Eastern European Restaurant</td>\n",
       "      <td>Drugstore</td>\n",
       "      <td>Donut Shop</td>\n",
       "      <td>Dog Run</td>\n",
       "      <td>Distribution Center</td>\n",
       "    </tr>\n",
       "  </tbody>\n",
       "</table>\n",
       "</div>"
      ],
      "text/plain": [
       "       Borough  Cluster Labels 1st Most Common Venue 2nd Most Common Venue  \\\n",
       "6  Scarborough             3.0  Fast Food Restaurant           Yoga Studio   \n",
       "\n",
       "  3rd Most Common Venue 4th Most Common Venue 5th Most Common Venue  \\\n",
       "6      Department Store           Escape Room     Electronics Store   \n",
       "\n",
       "         6th Most Common Venue 7th Most Common Venue 8th Most Common Venue  \\\n",
       "6  Eastern European Restaurant             Drugstore            Donut Shop   \n",
       "\n",
       "  9th Most Common Venue 10th Most Common Venue  \n",
       "6               Dog Run    Distribution Center  "
      ]
     },
     "execution_count": 58,
     "metadata": {},
     "output_type": "execute_result"
    }
   ],
   "source": [
    "toronto_merged_nonan.loc[toronto_merged_nonan['Cluster Labels'] == 3, toronto_merged_nonan.columns[[1] + list(range(5, toronto_merged_nonan.shape[1]))]]"
   ]
  },
  {
   "cell_type": "markdown",
   "metadata": {
    "colab_type": "text",
    "id": "EWa4EO03ohOu"
   },
   "source": [
    "Cluster 5"
   ]
  },
  {
   "cell_type": "code",
   "execution_count": 59,
   "metadata": {
    "colab": {
     "base_uri": "https://localhost:8080/",
     "height": 148
    },
    "colab_type": "code",
    "executionInfo": {
     "elapsed": 3434,
     "status": "ok",
     "timestamp": 1597498954954,
     "user": {
      "displayName": "Thomas George Thomas",
      "photoUrl": "https://lh3.googleusercontent.com/a-/AOh14GhRjmtno5yCmJOUjYiFNGHi_xP5YZBJ1ZpWGKsZ=s64",
      "userId": "09561174857978505545"
     },
     "user_tz": -330
    },
    "id": "QODsaVbKoP5V",
    "outputId": "86cd9f8d-5af8-41de-db69-12ea208bdaf2"
   },
   "outputs": [
    {
     "data": {
      "text/html": [
       "<div>\n",
       "<style scoped>\n",
       "    .dataframe tbody tr th:only-of-type {\n",
       "        vertical-align: middle;\n",
       "    }\n",
       "\n",
       "    .dataframe tbody tr th {\n",
       "        vertical-align: top;\n",
       "    }\n",
       "\n",
       "    .dataframe thead th {\n",
       "        text-align: right;\n",
       "    }\n",
       "</style>\n",
       "<table border=\"1\" class=\"dataframe\">\n",
       "  <thead>\n",
       "    <tr style=\"text-align: right;\">\n",
       "      <th></th>\n",
       "      <th>Borough</th>\n",
       "      <th>Cluster Labels</th>\n",
       "      <th>1st Most Common Venue</th>\n",
       "      <th>2nd Most Common Venue</th>\n",
       "      <th>3rd Most Common Venue</th>\n",
       "      <th>4th Most Common Venue</th>\n",
       "      <th>5th Most Common Venue</th>\n",
       "      <th>6th Most Common Venue</th>\n",
       "      <th>7th Most Common Venue</th>\n",
       "      <th>8th Most Common Venue</th>\n",
       "      <th>9th Most Common Venue</th>\n",
       "      <th>10th Most Common Venue</th>\n",
       "    </tr>\n",
       "  </thead>\n",
       "  <tbody>\n",
       "    <tr>\n",
       "      <th>11</th>\n",
       "      <td>Etobicoke</td>\n",
       "      <td>4.0</td>\n",
       "      <td>Bakery</td>\n",
       "      <td>Yoga Studio</td>\n",
       "      <td>Department Store</td>\n",
       "      <td>Escape Room</td>\n",
       "      <td>Electronics Store</td>\n",
       "      <td>Eastern European Restaurant</td>\n",
       "      <td>Drugstore</td>\n",
       "      <td>Donut Shop</td>\n",
       "      <td>Dog Run</td>\n",
       "      <td>Distribution Center</td>\n",
       "    </tr>\n",
       "  </tbody>\n",
       "</table>\n",
       "</div>"
      ],
      "text/plain": [
       "      Borough  Cluster Labels 1st Most Common Venue 2nd Most Common Venue  \\\n",
       "11  Etobicoke             4.0                Bakery           Yoga Studio   \n",
       "\n",
       "   3rd Most Common Venue 4th Most Common Venue 5th Most Common Venue  \\\n",
       "11      Department Store           Escape Room     Electronics Store   \n",
       "\n",
       "          6th Most Common Venue 7th Most Common Venue 8th Most Common Venue  \\\n",
       "11  Eastern European Restaurant             Drugstore            Donut Shop   \n",
       "\n",
       "   9th Most Common Venue 10th Most Common Venue  \n",
       "11               Dog Run    Distribution Center  "
      ]
     },
     "execution_count": 59,
     "metadata": {},
     "output_type": "execute_result"
    }
   ],
   "source": [
    "toronto_merged_nonan.loc[toronto_merged_nonan['Cluster Labels'] == 4, toronto_merged_nonan.columns[[1] + list(range(5, toronto_merged_nonan.shape[1]))]]"
   ]
  },
  {
   "cell_type": "markdown",
   "metadata": {
    "colab_type": "text",
    "id": "kvcdaN0poiqu"
   },
   "source": [
    "We have successfully cluster Toronto neighbourhood based on venue categories!"
   ]
  }
 ],
 "metadata": {
  "colab": {
   "authorship_tag": "ABX9TyPdAUb3um3slFVIiL8/17K0",
   "collapsed_sections": [],
   "name": "Applied_Capstone_Week_3_Assignment.ipynb",
   "provenance": []
  },
  "kernelspec": {
   "display_name": "Python 3",
   "language": "python",
   "name": "python3"
  },
  "language_info": {
   "codemirror_mode": {
    "name": "ipython",
    "version": 3
   },
   "file_extension": ".py",
   "mimetype": "text/x-python",
   "name": "python",
   "nbconvert_exporter": "python",
   "pygments_lexer": "ipython3",
   "version": "3.8.5"
  }
 },
 "nbformat": 4,
 "nbformat_minor": 1
}
